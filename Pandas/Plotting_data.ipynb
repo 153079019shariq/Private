{
 "cells": [
  {
   "cell_type": "code",
   "execution_count": 3,
   "metadata": {},
   "outputs": [],
   "source": [
    "import pandas as pd\n",
    "import plotly.graph_objs as go\n"
   ]
  },
  {
   "cell_type": "markdown",
   "metadata": {},
   "source": [
    "\n",
    "Red: RGB(255, 0, 0) <br>\n",
    "Green: RGB(0, 255, 0) <br>\n",
    "Blue: RGB(0, 0, 255) <br>\n",
    "Cyan: RGB(0, 255, 255) <br>\n",
    "Magenta: RGB(255, 0, 255)<br>\n",
    "Yellow: RGB(255, 255, 0)<br>\n",
    "Black: RGB(0, 0, 0)<br>\n",
    "White: RGB(255, 255, 255)<br>\n",
    "Orange: RGB(255, 165, 0)<br>\n",
    "Purple: RGB(128, 0, 128)<br>\n",
    "Pink: RGB(255, 192, 203)<br>\n",
    "Brown: RGB(165, 42, 42)<br>\n",
    "Gray: RGB(128, 128, 128)<br>\n",
    "Teal: RGB(0, 128, 128)<br>\n",
    "Olive: RGB(128, 128, 0)<br>\n",
    "\n",
    "**We also add opacity making it rgba in plotly**\n",
    "\n",
    "In rgba,  \"a\" value ranges between 0 to 1"
   ]
  },
  {
   "cell_type": "markdown",
   "metadata": {},
   "source": []
  },
  {
   "cell_type": "markdown",
   "metadata": {},
   "source": [
    "### Scatter plot plotly\n",
    " In plotly, to plot Line plot we use **Scatter plot** and mode='markers'"
   ]
  },
  {
   "cell_type": "code",
   "execution_count": 42,
   "metadata": {},
   "outputs": [
    {
     "data": {
      "application/vnd.plotly.v1+json": {
       "config": {
        "plotlyServerURL": "https://plot.ly"
       },
       "data": [
        {
         "marker": {
          "color": "rgba(255,0,0,0.5)"
         },
         "mode": "markers",
         "name": "Scatter Plot",
         "type": "scatter",
         "x": [
          1,
          2,
          3,
          4,
          5,
          6,
          7,
          8,
          9,
          10
         ],
         "y": [
          0.4034168006961564,
          0.8144412081481522,
          0.22968868827886169,
          0.4979134940141886,
          0.5942325932844519,
          0.6266039741219465,
          0.49272863545318835,
          0.8527476852118697,
          0.0655689905205954,
          0.26041924240334813
         ]
        }
       ],
       "layout": {
        "template": {
         "data": {
          "bar": [
           {
            "error_x": {
             "color": "#2a3f5f"
            },
            "error_y": {
             "color": "#2a3f5f"
            },
            "marker": {
             "line": {
              "color": "#E5ECF6",
              "width": 0.5
             },
             "pattern": {
              "fillmode": "overlay",
              "size": 10,
              "solidity": 0.2
             }
            },
            "type": "bar"
           }
          ],
          "barpolar": [
           {
            "marker": {
             "line": {
              "color": "#E5ECF6",
              "width": 0.5
             },
             "pattern": {
              "fillmode": "overlay",
              "size": 10,
              "solidity": 0.2
             }
            },
            "type": "barpolar"
           }
          ],
          "carpet": [
           {
            "aaxis": {
             "endlinecolor": "#2a3f5f",
             "gridcolor": "white",
             "linecolor": "white",
             "minorgridcolor": "white",
             "startlinecolor": "#2a3f5f"
            },
            "baxis": {
             "endlinecolor": "#2a3f5f",
             "gridcolor": "white",
             "linecolor": "white",
             "minorgridcolor": "white",
             "startlinecolor": "#2a3f5f"
            },
            "type": "carpet"
           }
          ],
          "choropleth": [
           {
            "colorbar": {
             "outlinewidth": 0,
             "ticks": ""
            },
            "type": "choropleth"
           }
          ],
          "contour": [
           {
            "colorbar": {
             "outlinewidth": 0,
             "ticks": ""
            },
            "colorscale": [
             [
              0,
              "#0d0887"
             ],
             [
              0.1111111111111111,
              "#46039f"
             ],
             [
              0.2222222222222222,
              "#7201a8"
             ],
             [
              0.3333333333333333,
              "#9c179e"
             ],
             [
              0.4444444444444444,
              "#bd3786"
             ],
             [
              0.5555555555555556,
              "#d8576b"
             ],
             [
              0.6666666666666666,
              "#ed7953"
             ],
             [
              0.7777777777777778,
              "#fb9f3a"
             ],
             [
              0.8888888888888888,
              "#fdca26"
             ],
             [
              1,
              "#f0f921"
             ]
            ],
            "type": "contour"
           }
          ],
          "contourcarpet": [
           {
            "colorbar": {
             "outlinewidth": 0,
             "ticks": ""
            },
            "type": "contourcarpet"
           }
          ],
          "heatmap": [
           {
            "colorbar": {
             "outlinewidth": 0,
             "ticks": ""
            },
            "colorscale": [
             [
              0,
              "#0d0887"
             ],
             [
              0.1111111111111111,
              "#46039f"
             ],
             [
              0.2222222222222222,
              "#7201a8"
             ],
             [
              0.3333333333333333,
              "#9c179e"
             ],
             [
              0.4444444444444444,
              "#bd3786"
             ],
             [
              0.5555555555555556,
              "#d8576b"
             ],
             [
              0.6666666666666666,
              "#ed7953"
             ],
             [
              0.7777777777777778,
              "#fb9f3a"
             ],
             [
              0.8888888888888888,
              "#fdca26"
             ],
             [
              1,
              "#f0f921"
             ]
            ],
            "type": "heatmap"
           }
          ],
          "heatmapgl": [
           {
            "colorbar": {
             "outlinewidth": 0,
             "ticks": ""
            },
            "colorscale": [
             [
              0,
              "#0d0887"
             ],
             [
              0.1111111111111111,
              "#46039f"
             ],
             [
              0.2222222222222222,
              "#7201a8"
             ],
             [
              0.3333333333333333,
              "#9c179e"
             ],
             [
              0.4444444444444444,
              "#bd3786"
             ],
             [
              0.5555555555555556,
              "#d8576b"
             ],
             [
              0.6666666666666666,
              "#ed7953"
             ],
             [
              0.7777777777777778,
              "#fb9f3a"
             ],
             [
              0.8888888888888888,
              "#fdca26"
             ],
             [
              1,
              "#f0f921"
             ]
            ],
            "type": "heatmapgl"
           }
          ],
          "histogram": [
           {
            "marker": {
             "pattern": {
              "fillmode": "overlay",
              "size": 10,
              "solidity": 0.2
             }
            },
            "type": "histogram"
           }
          ],
          "histogram2d": [
           {
            "colorbar": {
             "outlinewidth": 0,
             "ticks": ""
            },
            "colorscale": [
             [
              0,
              "#0d0887"
             ],
             [
              0.1111111111111111,
              "#46039f"
             ],
             [
              0.2222222222222222,
              "#7201a8"
             ],
             [
              0.3333333333333333,
              "#9c179e"
             ],
             [
              0.4444444444444444,
              "#bd3786"
             ],
             [
              0.5555555555555556,
              "#d8576b"
             ],
             [
              0.6666666666666666,
              "#ed7953"
             ],
             [
              0.7777777777777778,
              "#fb9f3a"
             ],
             [
              0.8888888888888888,
              "#fdca26"
             ],
             [
              1,
              "#f0f921"
             ]
            ],
            "type": "histogram2d"
           }
          ],
          "histogram2dcontour": [
           {
            "colorbar": {
             "outlinewidth": 0,
             "ticks": ""
            },
            "colorscale": [
             [
              0,
              "#0d0887"
             ],
             [
              0.1111111111111111,
              "#46039f"
             ],
             [
              0.2222222222222222,
              "#7201a8"
             ],
             [
              0.3333333333333333,
              "#9c179e"
             ],
             [
              0.4444444444444444,
              "#bd3786"
             ],
             [
              0.5555555555555556,
              "#d8576b"
             ],
             [
              0.6666666666666666,
              "#ed7953"
             ],
             [
              0.7777777777777778,
              "#fb9f3a"
             ],
             [
              0.8888888888888888,
              "#fdca26"
             ],
             [
              1,
              "#f0f921"
             ]
            ],
            "type": "histogram2dcontour"
           }
          ],
          "mesh3d": [
           {
            "colorbar": {
             "outlinewidth": 0,
             "ticks": ""
            },
            "type": "mesh3d"
           }
          ],
          "parcoords": [
           {
            "line": {
             "colorbar": {
              "outlinewidth": 0,
              "ticks": ""
             }
            },
            "type": "parcoords"
           }
          ],
          "pie": [
           {
            "automargin": true,
            "type": "pie"
           }
          ],
          "scatter": [
           {
            "fillpattern": {
             "fillmode": "overlay",
             "size": 10,
             "solidity": 0.2
            },
            "type": "scatter"
           }
          ],
          "scatter3d": [
           {
            "line": {
             "colorbar": {
              "outlinewidth": 0,
              "ticks": ""
             }
            },
            "marker": {
             "colorbar": {
              "outlinewidth": 0,
              "ticks": ""
             }
            },
            "type": "scatter3d"
           }
          ],
          "scattercarpet": [
           {
            "marker": {
             "colorbar": {
              "outlinewidth": 0,
              "ticks": ""
             }
            },
            "type": "scattercarpet"
           }
          ],
          "scattergeo": [
           {
            "marker": {
             "colorbar": {
              "outlinewidth": 0,
              "ticks": ""
             }
            },
            "type": "scattergeo"
           }
          ],
          "scattergl": [
           {
            "marker": {
             "colorbar": {
              "outlinewidth": 0,
              "ticks": ""
             }
            },
            "type": "scattergl"
           }
          ],
          "scattermapbox": [
           {
            "marker": {
             "colorbar": {
              "outlinewidth": 0,
              "ticks": ""
             }
            },
            "type": "scattermapbox"
           }
          ],
          "scatterpolar": [
           {
            "marker": {
             "colorbar": {
              "outlinewidth": 0,
              "ticks": ""
             }
            },
            "type": "scatterpolar"
           }
          ],
          "scatterpolargl": [
           {
            "marker": {
             "colorbar": {
              "outlinewidth": 0,
              "ticks": ""
             }
            },
            "type": "scatterpolargl"
           }
          ],
          "scatterternary": [
           {
            "marker": {
             "colorbar": {
              "outlinewidth": 0,
              "ticks": ""
             }
            },
            "type": "scatterternary"
           }
          ],
          "surface": [
           {
            "colorbar": {
             "outlinewidth": 0,
             "ticks": ""
            },
            "colorscale": [
             [
              0,
              "#0d0887"
             ],
             [
              0.1111111111111111,
              "#46039f"
             ],
             [
              0.2222222222222222,
              "#7201a8"
             ],
             [
              0.3333333333333333,
              "#9c179e"
             ],
             [
              0.4444444444444444,
              "#bd3786"
             ],
             [
              0.5555555555555556,
              "#d8576b"
             ],
             [
              0.6666666666666666,
              "#ed7953"
             ],
             [
              0.7777777777777778,
              "#fb9f3a"
             ],
             [
              0.8888888888888888,
              "#fdca26"
             ],
             [
              1,
              "#f0f921"
             ]
            ],
            "type": "surface"
           }
          ],
          "table": [
           {
            "cells": {
             "fill": {
              "color": "#EBF0F8"
             },
             "line": {
              "color": "white"
             }
            },
            "header": {
             "fill": {
              "color": "#C8D4E3"
             },
             "line": {
              "color": "white"
             }
            },
            "type": "table"
           }
          ]
         },
         "layout": {
          "annotationdefaults": {
           "arrowcolor": "#2a3f5f",
           "arrowhead": 0,
           "arrowwidth": 1
          },
          "autotypenumbers": "strict",
          "coloraxis": {
           "colorbar": {
            "outlinewidth": 0,
            "ticks": ""
           }
          },
          "colorscale": {
           "diverging": [
            [
             0,
             "#8e0152"
            ],
            [
             0.1,
             "#c51b7d"
            ],
            [
             0.2,
             "#de77ae"
            ],
            [
             0.3,
             "#f1b6da"
            ],
            [
             0.4,
             "#fde0ef"
            ],
            [
             0.5,
             "#f7f7f7"
            ],
            [
             0.6,
             "#e6f5d0"
            ],
            [
             0.7,
             "#b8e186"
            ],
            [
             0.8,
             "#7fbc41"
            ],
            [
             0.9,
             "#4d9221"
            ],
            [
             1,
             "#276419"
            ]
           ],
           "sequential": [
            [
             0,
             "#0d0887"
            ],
            [
             0.1111111111111111,
             "#46039f"
            ],
            [
             0.2222222222222222,
             "#7201a8"
            ],
            [
             0.3333333333333333,
             "#9c179e"
            ],
            [
             0.4444444444444444,
             "#bd3786"
            ],
            [
             0.5555555555555556,
             "#d8576b"
            ],
            [
             0.6666666666666666,
             "#ed7953"
            ],
            [
             0.7777777777777778,
             "#fb9f3a"
            ],
            [
             0.8888888888888888,
             "#fdca26"
            ],
            [
             1,
             "#f0f921"
            ]
           ],
           "sequentialminus": [
            [
             0,
             "#0d0887"
            ],
            [
             0.1111111111111111,
             "#46039f"
            ],
            [
             0.2222222222222222,
             "#7201a8"
            ],
            [
             0.3333333333333333,
             "#9c179e"
            ],
            [
             0.4444444444444444,
             "#bd3786"
            ],
            [
             0.5555555555555556,
             "#d8576b"
            ],
            [
             0.6666666666666666,
             "#ed7953"
            ],
            [
             0.7777777777777778,
             "#fb9f3a"
            ],
            [
             0.8888888888888888,
             "#fdca26"
            ],
            [
             1,
             "#f0f921"
            ]
           ]
          },
          "colorway": [
           "#636efa",
           "#EF553B",
           "#00cc96",
           "#ab63fa",
           "#FFA15A",
           "#19d3f3",
           "#FF6692",
           "#B6E880",
           "#FF97FF",
           "#FECB52"
          ],
          "font": {
           "color": "#2a3f5f"
          },
          "geo": {
           "bgcolor": "white",
           "lakecolor": "white",
           "landcolor": "#E5ECF6",
           "showlakes": true,
           "showland": true,
           "subunitcolor": "white"
          },
          "hoverlabel": {
           "align": "left"
          },
          "hovermode": "closest",
          "mapbox": {
           "style": "light"
          },
          "paper_bgcolor": "white",
          "plot_bgcolor": "#E5ECF6",
          "polar": {
           "angularaxis": {
            "gridcolor": "white",
            "linecolor": "white",
            "ticks": ""
           },
           "bgcolor": "#E5ECF6",
           "radialaxis": {
            "gridcolor": "white",
            "linecolor": "white",
            "ticks": ""
           }
          },
          "scene": {
           "xaxis": {
            "backgroundcolor": "#E5ECF6",
            "gridcolor": "white",
            "gridwidth": 2,
            "linecolor": "white",
            "showbackground": true,
            "ticks": "",
            "zerolinecolor": "white"
           },
           "yaxis": {
            "backgroundcolor": "#E5ECF6",
            "gridcolor": "white",
            "gridwidth": 2,
            "linecolor": "white",
            "showbackground": true,
            "ticks": "",
            "zerolinecolor": "white"
           },
           "zaxis": {
            "backgroundcolor": "#E5ECF6",
            "gridcolor": "white",
            "gridwidth": 2,
            "linecolor": "white",
            "showbackground": true,
            "ticks": "",
            "zerolinecolor": "white"
           }
          },
          "shapedefaults": {
           "line": {
            "color": "#2a3f5f"
           }
          },
          "ternary": {
           "aaxis": {
            "gridcolor": "white",
            "linecolor": "white",
            "ticks": ""
           },
           "baxis": {
            "gridcolor": "white",
            "linecolor": "white",
            "ticks": ""
           },
           "bgcolor": "#E5ECF6",
           "caxis": {
            "gridcolor": "white",
            "linecolor": "white",
            "ticks": ""
           }
          },
          "title": {
           "x": 0.05
          },
          "xaxis": {
           "automargin": true,
           "gridcolor": "white",
           "linecolor": "white",
           "ticks": "",
           "title": {
            "standoff": 15
           },
           "zerolinecolor": "white",
           "zerolinewidth": 2
          },
          "yaxis": {
           "automargin": true,
           "gridcolor": "white",
           "linecolor": "white",
           "ticks": "",
           "title": {
            "standoff": 15
           },
           "zerolinecolor": "white",
           "zerolinewidth": 2
          }
         }
        },
        "title": {
         "text": "Line Plot Example"
        },
        "xaxis": {
         "title": {
          "text": "X-axis Label"
         }
        },
        "yaxis": {
         "title": {
          "text": "Y-axis Label"
         }
        }
       }
      }
     },
     "metadata": {},
     "output_type": "display_data"
    }
   ],
   "source": [
    "x = [1, 2, 3, 4, 5,6,7,8,9,10]\n",
    "y =  np.random.rand(len(x)) #[10, 11, 12, 13, 14]\n",
    "\n",
    "# Create a Scatter trace\n",
    "trace = go.Scatter(x=x, y=y, mode='markers', name='Scatter Plot', marker=dict(color=\"rgba(255,0,0,0.5)\"),)\n",
    "\n",
    "# Create a layout (optional)\n",
    "layout = go.Layout(\n",
    "    title='Line Plot Example',\n",
    "    xaxis=dict(title='X-axis Label'),\n",
    "    yaxis=dict(title='Y-axis Label')\n",
    ")\n",
    "\n",
    "# Create a Figure\n",
    "fig = go.Figure(data=[trace], layout=layout)\n",
    "fig.show()"
   ]
  },
  {
   "cell_type": "markdown",
   "metadata": {},
   "source": [
    "### Line plot plotly\n",
    " In plotly, to plot Line plot we use **Scatter plot** and mode='lines'"
   ]
  },
  {
   "cell_type": "code",
   "execution_count": 43,
   "metadata": {},
   "outputs": [
    {
     "data": {
      "application/vnd.plotly.v1+json": {
       "config": {
        "plotlyServerURL": "https://plot.ly"
       },
       "data": [
        {
         "marker": {
          "color": "rgba(255,0,0,0.5)"
         },
         "mode": "lines",
         "name": "Scatter Plot",
         "type": "scatter",
         "x": [
          1,
          2,
          3,
          4,
          5,
          6,
          7,
          8,
          9,
          10
         ],
         "y": [
          0.9883037328697962,
          0.21788816420322177,
          0.3213750617556316,
          0.3145635652650759,
          0.8537410248930088,
          0.16687569942263003,
          0.6788355046177275,
          0.5386983198750575,
          0.7375480585586103,
          0.9463093868820316
         ]
        }
       ],
       "layout": {
        "template": {
         "data": {
          "bar": [
           {
            "error_x": {
             "color": "#2a3f5f"
            },
            "error_y": {
             "color": "#2a3f5f"
            },
            "marker": {
             "line": {
              "color": "#E5ECF6",
              "width": 0.5
             },
             "pattern": {
              "fillmode": "overlay",
              "size": 10,
              "solidity": 0.2
             }
            },
            "type": "bar"
           }
          ],
          "barpolar": [
           {
            "marker": {
             "line": {
              "color": "#E5ECF6",
              "width": 0.5
             },
             "pattern": {
              "fillmode": "overlay",
              "size": 10,
              "solidity": 0.2
             }
            },
            "type": "barpolar"
           }
          ],
          "carpet": [
           {
            "aaxis": {
             "endlinecolor": "#2a3f5f",
             "gridcolor": "white",
             "linecolor": "white",
             "minorgridcolor": "white",
             "startlinecolor": "#2a3f5f"
            },
            "baxis": {
             "endlinecolor": "#2a3f5f",
             "gridcolor": "white",
             "linecolor": "white",
             "minorgridcolor": "white",
             "startlinecolor": "#2a3f5f"
            },
            "type": "carpet"
           }
          ],
          "choropleth": [
           {
            "colorbar": {
             "outlinewidth": 0,
             "ticks": ""
            },
            "type": "choropleth"
           }
          ],
          "contour": [
           {
            "colorbar": {
             "outlinewidth": 0,
             "ticks": ""
            },
            "colorscale": [
             [
              0,
              "#0d0887"
             ],
             [
              0.1111111111111111,
              "#46039f"
             ],
             [
              0.2222222222222222,
              "#7201a8"
             ],
             [
              0.3333333333333333,
              "#9c179e"
             ],
             [
              0.4444444444444444,
              "#bd3786"
             ],
             [
              0.5555555555555556,
              "#d8576b"
             ],
             [
              0.6666666666666666,
              "#ed7953"
             ],
             [
              0.7777777777777778,
              "#fb9f3a"
             ],
             [
              0.8888888888888888,
              "#fdca26"
             ],
             [
              1,
              "#f0f921"
             ]
            ],
            "type": "contour"
           }
          ],
          "contourcarpet": [
           {
            "colorbar": {
             "outlinewidth": 0,
             "ticks": ""
            },
            "type": "contourcarpet"
           }
          ],
          "heatmap": [
           {
            "colorbar": {
             "outlinewidth": 0,
             "ticks": ""
            },
            "colorscale": [
             [
              0,
              "#0d0887"
             ],
             [
              0.1111111111111111,
              "#46039f"
             ],
             [
              0.2222222222222222,
              "#7201a8"
             ],
             [
              0.3333333333333333,
              "#9c179e"
             ],
             [
              0.4444444444444444,
              "#bd3786"
             ],
             [
              0.5555555555555556,
              "#d8576b"
             ],
             [
              0.6666666666666666,
              "#ed7953"
             ],
             [
              0.7777777777777778,
              "#fb9f3a"
             ],
             [
              0.8888888888888888,
              "#fdca26"
             ],
             [
              1,
              "#f0f921"
             ]
            ],
            "type": "heatmap"
           }
          ],
          "heatmapgl": [
           {
            "colorbar": {
             "outlinewidth": 0,
             "ticks": ""
            },
            "colorscale": [
             [
              0,
              "#0d0887"
             ],
             [
              0.1111111111111111,
              "#46039f"
             ],
             [
              0.2222222222222222,
              "#7201a8"
             ],
             [
              0.3333333333333333,
              "#9c179e"
             ],
             [
              0.4444444444444444,
              "#bd3786"
             ],
             [
              0.5555555555555556,
              "#d8576b"
             ],
             [
              0.6666666666666666,
              "#ed7953"
             ],
             [
              0.7777777777777778,
              "#fb9f3a"
             ],
             [
              0.8888888888888888,
              "#fdca26"
             ],
             [
              1,
              "#f0f921"
             ]
            ],
            "type": "heatmapgl"
           }
          ],
          "histogram": [
           {
            "marker": {
             "pattern": {
              "fillmode": "overlay",
              "size": 10,
              "solidity": 0.2
             }
            },
            "type": "histogram"
           }
          ],
          "histogram2d": [
           {
            "colorbar": {
             "outlinewidth": 0,
             "ticks": ""
            },
            "colorscale": [
             [
              0,
              "#0d0887"
             ],
             [
              0.1111111111111111,
              "#46039f"
             ],
             [
              0.2222222222222222,
              "#7201a8"
             ],
             [
              0.3333333333333333,
              "#9c179e"
             ],
             [
              0.4444444444444444,
              "#bd3786"
             ],
             [
              0.5555555555555556,
              "#d8576b"
             ],
             [
              0.6666666666666666,
              "#ed7953"
             ],
             [
              0.7777777777777778,
              "#fb9f3a"
             ],
             [
              0.8888888888888888,
              "#fdca26"
             ],
             [
              1,
              "#f0f921"
             ]
            ],
            "type": "histogram2d"
           }
          ],
          "histogram2dcontour": [
           {
            "colorbar": {
             "outlinewidth": 0,
             "ticks": ""
            },
            "colorscale": [
             [
              0,
              "#0d0887"
             ],
             [
              0.1111111111111111,
              "#46039f"
             ],
             [
              0.2222222222222222,
              "#7201a8"
             ],
             [
              0.3333333333333333,
              "#9c179e"
             ],
             [
              0.4444444444444444,
              "#bd3786"
             ],
             [
              0.5555555555555556,
              "#d8576b"
             ],
             [
              0.6666666666666666,
              "#ed7953"
             ],
             [
              0.7777777777777778,
              "#fb9f3a"
             ],
             [
              0.8888888888888888,
              "#fdca26"
             ],
             [
              1,
              "#f0f921"
             ]
            ],
            "type": "histogram2dcontour"
           }
          ],
          "mesh3d": [
           {
            "colorbar": {
             "outlinewidth": 0,
             "ticks": ""
            },
            "type": "mesh3d"
           }
          ],
          "parcoords": [
           {
            "line": {
             "colorbar": {
              "outlinewidth": 0,
              "ticks": ""
             }
            },
            "type": "parcoords"
           }
          ],
          "pie": [
           {
            "automargin": true,
            "type": "pie"
           }
          ],
          "scatter": [
           {
            "fillpattern": {
             "fillmode": "overlay",
             "size": 10,
             "solidity": 0.2
            },
            "type": "scatter"
           }
          ],
          "scatter3d": [
           {
            "line": {
             "colorbar": {
              "outlinewidth": 0,
              "ticks": ""
             }
            },
            "marker": {
             "colorbar": {
              "outlinewidth": 0,
              "ticks": ""
             }
            },
            "type": "scatter3d"
           }
          ],
          "scattercarpet": [
           {
            "marker": {
             "colorbar": {
              "outlinewidth": 0,
              "ticks": ""
             }
            },
            "type": "scattercarpet"
           }
          ],
          "scattergeo": [
           {
            "marker": {
             "colorbar": {
              "outlinewidth": 0,
              "ticks": ""
             }
            },
            "type": "scattergeo"
           }
          ],
          "scattergl": [
           {
            "marker": {
             "colorbar": {
              "outlinewidth": 0,
              "ticks": ""
             }
            },
            "type": "scattergl"
           }
          ],
          "scattermapbox": [
           {
            "marker": {
             "colorbar": {
              "outlinewidth": 0,
              "ticks": ""
             }
            },
            "type": "scattermapbox"
           }
          ],
          "scatterpolar": [
           {
            "marker": {
             "colorbar": {
              "outlinewidth": 0,
              "ticks": ""
             }
            },
            "type": "scatterpolar"
           }
          ],
          "scatterpolargl": [
           {
            "marker": {
             "colorbar": {
              "outlinewidth": 0,
              "ticks": ""
             }
            },
            "type": "scatterpolargl"
           }
          ],
          "scatterternary": [
           {
            "marker": {
             "colorbar": {
              "outlinewidth": 0,
              "ticks": ""
             }
            },
            "type": "scatterternary"
           }
          ],
          "surface": [
           {
            "colorbar": {
             "outlinewidth": 0,
             "ticks": ""
            },
            "colorscale": [
             [
              0,
              "#0d0887"
             ],
             [
              0.1111111111111111,
              "#46039f"
             ],
             [
              0.2222222222222222,
              "#7201a8"
             ],
             [
              0.3333333333333333,
              "#9c179e"
             ],
             [
              0.4444444444444444,
              "#bd3786"
             ],
             [
              0.5555555555555556,
              "#d8576b"
             ],
             [
              0.6666666666666666,
              "#ed7953"
             ],
             [
              0.7777777777777778,
              "#fb9f3a"
             ],
             [
              0.8888888888888888,
              "#fdca26"
             ],
             [
              1,
              "#f0f921"
             ]
            ],
            "type": "surface"
           }
          ],
          "table": [
           {
            "cells": {
             "fill": {
              "color": "#EBF0F8"
             },
             "line": {
              "color": "white"
             }
            },
            "header": {
             "fill": {
              "color": "#C8D4E3"
             },
             "line": {
              "color": "white"
             }
            },
            "type": "table"
           }
          ]
         },
         "layout": {
          "annotationdefaults": {
           "arrowcolor": "#2a3f5f",
           "arrowhead": 0,
           "arrowwidth": 1
          },
          "autotypenumbers": "strict",
          "coloraxis": {
           "colorbar": {
            "outlinewidth": 0,
            "ticks": ""
           }
          },
          "colorscale": {
           "diverging": [
            [
             0,
             "#8e0152"
            ],
            [
             0.1,
             "#c51b7d"
            ],
            [
             0.2,
             "#de77ae"
            ],
            [
             0.3,
             "#f1b6da"
            ],
            [
             0.4,
             "#fde0ef"
            ],
            [
             0.5,
             "#f7f7f7"
            ],
            [
             0.6,
             "#e6f5d0"
            ],
            [
             0.7,
             "#b8e186"
            ],
            [
             0.8,
             "#7fbc41"
            ],
            [
             0.9,
             "#4d9221"
            ],
            [
             1,
             "#276419"
            ]
           ],
           "sequential": [
            [
             0,
             "#0d0887"
            ],
            [
             0.1111111111111111,
             "#46039f"
            ],
            [
             0.2222222222222222,
             "#7201a8"
            ],
            [
             0.3333333333333333,
             "#9c179e"
            ],
            [
             0.4444444444444444,
             "#bd3786"
            ],
            [
             0.5555555555555556,
             "#d8576b"
            ],
            [
             0.6666666666666666,
             "#ed7953"
            ],
            [
             0.7777777777777778,
             "#fb9f3a"
            ],
            [
             0.8888888888888888,
             "#fdca26"
            ],
            [
             1,
             "#f0f921"
            ]
           ],
           "sequentialminus": [
            [
             0,
             "#0d0887"
            ],
            [
             0.1111111111111111,
             "#46039f"
            ],
            [
             0.2222222222222222,
             "#7201a8"
            ],
            [
             0.3333333333333333,
             "#9c179e"
            ],
            [
             0.4444444444444444,
             "#bd3786"
            ],
            [
             0.5555555555555556,
             "#d8576b"
            ],
            [
             0.6666666666666666,
             "#ed7953"
            ],
            [
             0.7777777777777778,
             "#fb9f3a"
            ],
            [
             0.8888888888888888,
             "#fdca26"
            ],
            [
             1,
             "#f0f921"
            ]
           ]
          },
          "colorway": [
           "#636efa",
           "#EF553B",
           "#00cc96",
           "#ab63fa",
           "#FFA15A",
           "#19d3f3",
           "#FF6692",
           "#B6E880",
           "#FF97FF",
           "#FECB52"
          ],
          "font": {
           "color": "#2a3f5f"
          },
          "geo": {
           "bgcolor": "white",
           "lakecolor": "white",
           "landcolor": "#E5ECF6",
           "showlakes": true,
           "showland": true,
           "subunitcolor": "white"
          },
          "hoverlabel": {
           "align": "left"
          },
          "hovermode": "closest",
          "mapbox": {
           "style": "light"
          },
          "paper_bgcolor": "white",
          "plot_bgcolor": "#E5ECF6",
          "polar": {
           "angularaxis": {
            "gridcolor": "white",
            "linecolor": "white",
            "ticks": ""
           },
           "bgcolor": "#E5ECF6",
           "radialaxis": {
            "gridcolor": "white",
            "linecolor": "white",
            "ticks": ""
           }
          },
          "scene": {
           "xaxis": {
            "backgroundcolor": "#E5ECF6",
            "gridcolor": "white",
            "gridwidth": 2,
            "linecolor": "white",
            "showbackground": true,
            "ticks": "",
            "zerolinecolor": "white"
           },
           "yaxis": {
            "backgroundcolor": "#E5ECF6",
            "gridcolor": "white",
            "gridwidth": 2,
            "linecolor": "white",
            "showbackground": true,
            "ticks": "",
            "zerolinecolor": "white"
           },
           "zaxis": {
            "backgroundcolor": "#E5ECF6",
            "gridcolor": "white",
            "gridwidth": 2,
            "linecolor": "white",
            "showbackground": true,
            "ticks": "",
            "zerolinecolor": "white"
           }
          },
          "shapedefaults": {
           "line": {
            "color": "#2a3f5f"
           }
          },
          "ternary": {
           "aaxis": {
            "gridcolor": "white",
            "linecolor": "white",
            "ticks": ""
           },
           "baxis": {
            "gridcolor": "white",
            "linecolor": "white",
            "ticks": ""
           },
           "bgcolor": "#E5ECF6",
           "caxis": {
            "gridcolor": "white",
            "linecolor": "white",
            "ticks": ""
           }
          },
          "title": {
           "x": 0.05
          },
          "xaxis": {
           "automargin": true,
           "gridcolor": "white",
           "linecolor": "white",
           "ticks": "",
           "title": {
            "standoff": 15
           },
           "zerolinecolor": "white",
           "zerolinewidth": 2
          },
          "yaxis": {
           "automargin": true,
           "gridcolor": "white",
           "linecolor": "white",
           "ticks": "",
           "title": {
            "standoff": 15
           },
           "zerolinecolor": "white",
           "zerolinewidth": 2
          }
         }
        },
        "title": {
         "text": "Line Plot Example"
        },
        "xaxis": {
         "title": {
          "text": "X-axis Label"
         }
        },
        "yaxis": {
         "title": {
          "text": "Y-axis Label"
         }
        }
       }
      }
     },
     "metadata": {},
     "output_type": "display_data"
    }
   ],
   "source": [
    "x = [1, 2, 3, 4, 5,6,7,8,9,10]\n",
    "y =  np.random.rand(len(x)) #[10, 11, 12, 13, 14]\n",
    "\n",
    "# Create a Scatter trace\n",
    "trace = go.Scatter(x=x, y=y, mode='lines', name='Scatter Plot', marker=dict(color=\"rgba(255,0,0,0.5)\"),)\n",
    "\n",
    "# Create a layout (optional)\n",
    "layout = go.Layout(\n",
    "    title='Line Plot Example',\n",
    "    xaxis=dict(title='X-axis Label'),\n",
    "    yaxis=dict(title='Y-axis Label')\n",
    ")\n",
    "\n",
    "# Create a Figure\n",
    "fig = go.Figure(data=[trace], layout=layout)\n",
    "fig.show()"
   ]
  },
  {
   "cell_type": "markdown",
   "metadata": {},
   "source": [
    "### Bar plot "
   ]
  },
  {
   "cell_type": "code",
   "execution_count": 8,
   "metadata": {},
   "outputs": [
    {
     "data": {
      "application/vnd.plotly.v1+json": {
       "config": {
        "plotlyServerURL": "https://plot.ly"
       },
       "data": [
        {
         "type": "bar",
         "x": [
          "A",
          "B",
          "C",
          "D"
         ],
         "y": [
          10,
          15,
          7,
          12
         ]
        }
       ],
       "layout": {
        "template": {
         "data": {
          "bar": [
           {
            "error_x": {
             "color": "#2a3f5f"
            },
            "error_y": {
             "color": "#2a3f5f"
            },
            "marker": {
             "line": {
              "color": "#E5ECF6",
              "width": 0.5
             },
             "pattern": {
              "fillmode": "overlay",
              "size": 10,
              "solidity": 0.2
             }
            },
            "type": "bar"
           }
          ],
          "barpolar": [
           {
            "marker": {
             "line": {
              "color": "#E5ECF6",
              "width": 0.5
             },
             "pattern": {
              "fillmode": "overlay",
              "size": 10,
              "solidity": 0.2
             }
            },
            "type": "barpolar"
           }
          ],
          "carpet": [
           {
            "aaxis": {
             "endlinecolor": "#2a3f5f",
             "gridcolor": "white",
             "linecolor": "white",
             "minorgridcolor": "white",
             "startlinecolor": "#2a3f5f"
            },
            "baxis": {
             "endlinecolor": "#2a3f5f",
             "gridcolor": "white",
             "linecolor": "white",
             "minorgridcolor": "white",
             "startlinecolor": "#2a3f5f"
            },
            "type": "carpet"
           }
          ],
          "choropleth": [
           {
            "colorbar": {
             "outlinewidth": 0,
             "ticks": ""
            },
            "type": "choropleth"
           }
          ],
          "contour": [
           {
            "colorbar": {
             "outlinewidth": 0,
             "ticks": ""
            },
            "colorscale": [
             [
              0,
              "#0d0887"
             ],
             [
              0.1111111111111111,
              "#46039f"
             ],
             [
              0.2222222222222222,
              "#7201a8"
             ],
             [
              0.3333333333333333,
              "#9c179e"
             ],
             [
              0.4444444444444444,
              "#bd3786"
             ],
             [
              0.5555555555555556,
              "#d8576b"
             ],
             [
              0.6666666666666666,
              "#ed7953"
             ],
             [
              0.7777777777777778,
              "#fb9f3a"
             ],
             [
              0.8888888888888888,
              "#fdca26"
             ],
             [
              1,
              "#f0f921"
             ]
            ],
            "type": "contour"
           }
          ],
          "contourcarpet": [
           {
            "colorbar": {
             "outlinewidth": 0,
             "ticks": ""
            },
            "type": "contourcarpet"
           }
          ],
          "heatmap": [
           {
            "colorbar": {
             "outlinewidth": 0,
             "ticks": ""
            },
            "colorscale": [
             [
              0,
              "#0d0887"
             ],
             [
              0.1111111111111111,
              "#46039f"
             ],
             [
              0.2222222222222222,
              "#7201a8"
             ],
             [
              0.3333333333333333,
              "#9c179e"
             ],
             [
              0.4444444444444444,
              "#bd3786"
             ],
             [
              0.5555555555555556,
              "#d8576b"
             ],
             [
              0.6666666666666666,
              "#ed7953"
             ],
             [
              0.7777777777777778,
              "#fb9f3a"
             ],
             [
              0.8888888888888888,
              "#fdca26"
             ],
             [
              1,
              "#f0f921"
             ]
            ],
            "type": "heatmap"
           }
          ],
          "heatmapgl": [
           {
            "colorbar": {
             "outlinewidth": 0,
             "ticks": ""
            },
            "colorscale": [
             [
              0,
              "#0d0887"
             ],
             [
              0.1111111111111111,
              "#46039f"
             ],
             [
              0.2222222222222222,
              "#7201a8"
             ],
             [
              0.3333333333333333,
              "#9c179e"
             ],
             [
              0.4444444444444444,
              "#bd3786"
             ],
             [
              0.5555555555555556,
              "#d8576b"
             ],
             [
              0.6666666666666666,
              "#ed7953"
             ],
             [
              0.7777777777777778,
              "#fb9f3a"
             ],
             [
              0.8888888888888888,
              "#fdca26"
             ],
             [
              1,
              "#f0f921"
             ]
            ],
            "type": "heatmapgl"
           }
          ],
          "histogram": [
           {
            "marker": {
             "pattern": {
              "fillmode": "overlay",
              "size": 10,
              "solidity": 0.2
             }
            },
            "type": "histogram"
           }
          ],
          "histogram2d": [
           {
            "colorbar": {
             "outlinewidth": 0,
             "ticks": ""
            },
            "colorscale": [
             [
              0,
              "#0d0887"
             ],
             [
              0.1111111111111111,
              "#46039f"
             ],
             [
              0.2222222222222222,
              "#7201a8"
             ],
             [
              0.3333333333333333,
              "#9c179e"
             ],
             [
              0.4444444444444444,
              "#bd3786"
             ],
             [
              0.5555555555555556,
              "#d8576b"
             ],
             [
              0.6666666666666666,
              "#ed7953"
             ],
             [
              0.7777777777777778,
              "#fb9f3a"
             ],
             [
              0.8888888888888888,
              "#fdca26"
             ],
             [
              1,
              "#f0f921"
             ]
            ],
            "type": "histogram2d"
           }
          ],
          "histogram2dcontour": [
           {
            "colorbar": {
             "outlinewidth": 0,
             "ticks": ""
            },
            "colorscale": [
             [
              0,
              "#0d0887"
             ],
             [
              0.1111111111111111,
              "#46039f"
             ],
             [
              0.2222222222222222,
              "#7201a8"
             ],
             [
              0.3333333333333333,
              "#9c179e"
             ],
             [
              0.4444444444444444,
              "#bd3786"
             ],
             [
              0.5555555555555556,
              "#d8576b"
             ],
             [
              0.6666666666666666,
              "#ed7953"
             ],
             [
              0.7777777777777778,
              "#fb9f3a"
             ],
             [
              0.8888888888888888,
              "#fdca26"
             ],
             [
              1,
              "#f0f921"
             ]
            ],
            "type": "histogram2dcontour"
           }
          ],
          "mesh3d": [
           {
            "colorbar": {
             "outlinewidth": 0,
             "ticks": ""
            },
            "type": "mesh3d"
           }
          ],
          "parcoords": [
           {
            "line": {
             "colorbar": {
              "outlinewidth": 0,
              "ticks": ""
             }
            },
            "type": "parcoords"
           }
          ],
          "pie": [
           {
            "automargin": true,
            "type": "pie"
           }
          ],
          "scatter": [
           {
            "fillpattern": {
             "fillmode": "overlay",
             "size": 10,
             "solidity": 0.2
            },
            "type": "scatter"
           }
          ],
          "scatter3d": [
           {
            "line": {
             "colorbar": {
              "outlinewidth": 0,
              "ticks": ""
             }
            },
            "marker": {
             "colorbar": {
              "outlinewidth": 0,
              "ticks": ""
             }
            },
            "type": "scatter3d"
           }
          ],
          "scattercarpet": [
           {
            "marker": {
             "colorbar": {
              "outlinewidth": 0,
              "ticks": ""
             }
            },
            "type": "scattercarpet"
           }
          ],
          "scattergeo": [
           {
            "marker": {
             "colorbar": {
              "outlinewidth": 0,
              "ticks": ""
             }
            },
            "type": "scattergeo"
           }
          ],
          "scattergl": [
           {
            "marker": {
             "colorbar": {
              "outlinewidth": 0,
              "ticks": ""
             }
            },
            "type": "scattergl"
           }
          ],
          "scattermapbox": [
           {
            "marker": {
             "colorbar": {
              "outlinewidth": 0,
              "ticks": ""
             }
            },
            "type": "scattermapbox"
           }
          ],
          "scatterpolar": [
           {
            "marker": {
             "colorbar": {
              "outlinewidth": 0,
              "ticks": ""
             }
            },
            "type": "scatterpolar"
           }
          ],
          "scatterpolargl": [
           {
            "marker": {
             "colorbar": {
              "outlinewidth": 0,
              "ticks": ""
             }
            },
            "type": "scatterpolargl"
           }
          ],
          "scatterternary": [
           {
            "marker": {
             "colorbar": {
              "outlinewidth": 0,
              "ticks": ""
             }
            },
            "type": "scatterternary"
           }
          ],
          "surface": [
           {
            "colorbar": {
             "outlinewidth": 0,
             "ticks": ""
            },
            "colorscale": [
             [
              0,
              "#0d0887"
             ],
             [
              0.1111111111111111,
              "#46039f"
             ],
             [
              0.2222222222222222,
              "#7201a8"
             ],
             [
              0.3333333333333333,
              "#9c179e"
             ],
             [
              0.4444444444444444,
              "#bd3786"
             ],
             [
              0.5555555555555556,
              "#d8576b"
             ],
             [
              0.6666666666666666,
              "#ed7953"
             ],
             [
              0.7777777777777778,
              "#fb9f3a"
             ],
             [
              0.8888888888888888,
              "#fdca26"
             ],
             [
              1,
              "#f0f921"
             ]
            ],
            "type": "surface"
           }
          ],
          "table": [
           {
            "cells": {
             "fill": {
              "color": "#EBF0F8"
             },
             "line": {
              "color": "white"
             }
            },
            "header": {
             "fill": {
              "color": "#C8D4E3"
             },
             "line": {
              "color": "white"
             }
            },
            "type": "table"
           }
          ]
         },
         "layout": {
          "annotationdefaults": {
           "arrowcolor": "#2a3f5f",
           "arrowhead": 0,
           "arrowwidth": 1
          },
          "autotypenumbers": "strict",
          "coloraxis": {
           "colorbar": {
            "outlinewidth": 0,
            "ticks": ""
           }
          },
          "colorscale": {
           "diverging": [
            [
             0,
             "#8e0152"
            ],
            [
             0.1,
             "#c51b7d"
            ],
            [
             0.2,
             "#de77ae"
            ],
            [
             0.3,
             "#f1b6da"
            ],
            [
             0.4,
             "#fde0ef"
            ],
            [
             0.5,
             "#f7f7f7"
            ],
            [
             0.6,
             "#e6f5d0"
            ],
            [
             0.7,
             "#b8e186"
            ],
            [
             0.8,
             "#7fbc41"
            ],
            [
             0.9,
             "#4d9221"
            ],
            [
             1,
             "#276419"
            ]
           ],
           "sequential": [
            [
             0,
             "#0d0887"
            ],
            [
             0.1111111111111111,
             "#46039f"
            ],
            [
             0.2222222222222222,
             "#7201a8"
            ],
            [
             0.3333333333333333,
             "#9c179e"
            ],
            [
             0.4444444444444444,
             "#bd3786"
            ],
            [
             0.5555555555555556,
             "#d8576b"
            ],
            [
             0.6666666666666666,
             "#ed7953"
            ],
            [
             0.7777777777777778,
             "#fb9f3a"
            ],
            [
             0.8888888888888888,
             "#fdca26"
            ],
            [
             1,
             "#f0f921"
            ]
           ],
           "sequentialminus": [
            [
             0,
             "#0d0887"
            ],
            [
             0.1111111111111111,
             "#46039f"
            ],
            [
             0.2222222222222222,
             "#7201a8"
            ],
            [
             0.3333333333333333,
             "#9c179e"
            ],
            [
             0.4444444444444444,
             "#bd3786"
            ],
            [
             0.5555555555555556,
             "#d8576b"
            ],
            [
             0.6666666666666666,
             "#ed7953"
            ],
            [
             0.7777777777777778,
             "#fb9f3a"
            ],
            [
             0.8888888888888888,
             "#fdca26"
            ],
            [
             1,
             "#f0f921"
            ]
           ]
          },
          "colorway": [
           "#636efa",
           "#EF553B",
           "#00cc96",
           "#ab63fa",
           "#FFA15A",
           "#19d3f3",
           "#FF6692",
           "#B6E880",
           "#FF97FF",
           "#FECB52"
          ],
          "font": {
           "color": "#2a3f5f"
          },
          "geo": {
           "bgcolor": "white",
           "lakecolor": "white",
           "landcolor": "#E5ECF6",
           "showlakes": true,
           "showland": true,
           "subunitcolor": "white"
          },
          "hoverlabel": {
           "align": "left"
          },
          "hovermode": "closest",
          "mapbox": {
           "style": "light"
          },
          "paper_bgcolor": "white",
          "plot_bgcolor": "#E5ECF6",
          "polar": {
           "angularaxis": {
            "gridcolor": "white",
            "linecolor": "white",
            "ticks": ""
           },
           "bgcolor": "#E5ECF6",
           "radialaxis": {
            "gridcolor": "white",
            "linecolor": "white",
            "ticks": ""
           }
          },
          "scene": {
           "xaxis": {
            "backgroundcolor": "#E5ECF6",
            "gridcolor": "white",
            "gridwidth": 2,
            "linecolor": "white",
            "showbackground": true,
            "ticks": "",
            "zerolinecolor": "white"
           },
           "yaxis": {
            "backgroundcolor": "#E5ECF6",
            "gridcolor": "white",
            "gridwidth": 2,
            "linecolor": "white",
            "showbackground": true,
            "ticks": "",
            "zerolinecolor": "white"
           },
           "zaxis": {
            "backgroundcolor": "#E5ECF6",
            "gridcolor": "white",
            "gridwidth": 2,
            "linecolor": "white",
            "showbackground": true,
            "ticks": "",
            "zerolinecolor": "white"
           }
          },
          "shapedefaults": {
           "line": {
            "color": "#2a3f5f"
           }
          },
          "ternary": {
           "aaxis": {
            "gridcolor": "white",
            "linecolor": "white",
            "ticks": ""
           },
           "baxis": {
            "gridcolor": "white",
            "linecolor": "white",
            "ticks": ""
           },
           "bgcolor": "#E5ECF6",
           "caxis": {
            "gridcolor": "white",
            "linecolor": "white",
            "ticks": ""
           }
          },
          "title": {
           "x": 0.05
          },
          "xaxis": {
           "automargin": true,
           "gridcolor": "white",
           "linecolor": "white",
           "ticks": "",
           "title": {
            "standoff": 15
           },
           "zerolinecolor": "white",
           "zerolinewidth": 2
          },
          "yaxis": {
           "automargin": true,
           "gridcolor": "white",
           "linecolor": "white",
           "ticks": "",
           "title": {
            "standoff": 15
           },
           "zerolinecolor": "white",
           "zerolinewidth": 2
          }
         }
        },
        "title": {
         "text": "Bar Plot Example"
        },
        "xaxis": {
         "title": {
          "text": "Category"
         }
        },
        "yaxis": {
         "title": {
          "text": "Values"
         }
        }
       }
      }
     },
     "metadata": {},
     "output_type": "display_data"
    }
   ],
   "source": [
    "import plotly.graph_objects as go\n",
    "\n",
    "# Sample data\n",
    "categories = ['A', 'B', 'C', 'D']\n",
    "values = [10, 15, 7, 12]\n",
    "\n",
    "# Create the bar plot using go.Bar\n",
    "fig = go.Figure(data=go.Bar(x=categories, y=values))\n",
    "\n",
    "# Customize the layout (optional)\n",
    "fig.update_layout(title='Bar Plot Example', xaxis_title='Category', yaxis_title='Values')\n",
    "\n",
    "# Show the plot\n",
    "fig.show()"
   ]
  },
  {
   "cell_type": "markdown",
   "metadata": {},
   "source": [
    "### Horizontal bar plot \n",
    "Compared to vertical bar chart we perform the following\n",
    "1. Change orientation = 'h'\n",
    "2. Revert the items in the x and y "
   ]
  },
  {
   "cell_type": "code",
   "execution_count": 21,
   "metadata": {},
   "outputs": [
    {
     "data": {
      "application/vnd.plotly.v1+json": {
       "config": {
        "plotlyServerURL": "https://plot.ly"
       },
       "data": [
        {
         "orientation": "h",
         "type": "bar",
         "x": [
          10,
          15,
          7,
          12
         ],
         "y": [
          "A",
          "B",
          "C",
          "D"
         ]
        }
       ],
       "layout": {
        "height": 600,
        "template": {
         "data": {
          "bar": [
           {
            "error_x": {
             "color": "#2a3f5f"
            },
            "error_y": {
             "color": "#2a3f5f"
            },
            "marker": {
             "line": {
              "color": "#E5ECF6",
              "width": 0.5
             },
             "pattern": {
              "fillmode": "overlay",
              "size": 10,
              "solidity": 0.2
             }
            },
            "type": "bar"
           }
          ],
          "barpolar": [
           {
            "marker": {
             "line": {
              "color": "#E5ECF6",
              "width": 0.5
             },
             "pattern": {
              "fillmode": "overlay",
              "size": 10,
              "solidity": 0.2
             }
            },
            "type": "barpolar"
           }
          ],
          "carpet": [
           {
            "aaxis": {
             "endlinecolor": "#2a3f5f",
             "gridcolor": "white",
             "linecolor": "white",
             "minorgridcolor": "white",
             "startlinecolor": "#2a3f5f"
            },
            "baxis": {
             "endlinecolor": "#2a3f5f",
             "gridcolor": "white",
             "linecolor": "white",
             "minorgridcolor": "white",
             "startlinecolor": "#2a3f5f"
            },
            "type": "carpet"
           }
          ],
          "choropleth": [
           {
            "colorbar": {
             "outlinewidth": 0,
             "ticks": ""
            },
            "type": "choropleth"
           }
          ],
          "contour": [
           {
            "colorbar": {
             "outlinewidth": 0,
             "ticks": ""
            },
            "colorscale": [
             [
              0,
              "#0d0887"
             ],
             [
              0.1111111111111111,
              "#46039f"
             ],
             [
              0.2222222222222222,
              "#7201a8"
             ],
             [
              0.3333333333333333,
              "#9c179e"
             ],
             [
              0.4444444444444444,
              "#bd3786"
             ],
             [
              0.5555555555555556,
              "#d8576b"
             ],
             [
              0.6666666666666666,
              "#ed7953"
             ],
             [
              0.7777777777777778,
              "#fb9f3a"
             ],
             [
              0.8888888888888888,
              "#fdca26"
             ],
             [
              1,
              "#f0f921"
             ]
            ],
            "type": "contour"
           }
          ],
          "contourcarpet": [
           {
            "colorbar": {
             "outlinewidth": 0,
             "ticks": ""
            },
            "type": "contourcarpet"
           }
          ],
          "heatmap": [
           {
            "colorbar": {
             "outlinewidth": 0,
             "ticks": ""
            },
            "colorscale": [
             [
              0,
              "#0d0887"
             ],
             [
              0.1111111111111111,
              "#46039f"
             ],
             [
              0.2222222222222222,
              "#7201a8"
             ],
             [
              0.3333333333333333,
              "#9c179e"
             ],
             [
              0.4444444444444444,
              "#bd3786"
             ],
             [
              0.5555555555555556,
              "#d8576b"
             ],
             [
              0.6666666666666666,
              "#ed7953"
             ],
             [
              0.7777777777777778,
              "#fb9f3a"
             ],
             [
              0.8888888888888888,
              "#fdca26"
             ],
             [
              1,
              "#f0f921"
             ]
            ],
            "type": "heatmap"
           }
          ],
          "heatmapgl": [
           {
            "colorbar": {
             "outlinewidth": 0,
             "ticks": ""
            },
            "colorscale": [
             [
              0,
              "#0d0887"
             ],
             [
              0.1111111111111111,
              "#46039f"
             ],
             [
              0.2222222222222222,
              "#7201a8"
             ],
             [
              0.3333333333333333,
              "#9c179e"
             ],
             [
              0.4444444444444444,
              "#bd3786"
             ],
             [
              0.5555555555555556,
              "#d8576b"
             ],
             [
              0.6666666666666666,
              "#ed7953"
             ],
             [
              0.7777777777777778,
              "#fb9f3a"
             ],
             [
              0.8888888888888888,
              "#fdca26"
             ],
             [
              1,
              "#f0f921"
             ]
            ],
            "type": "heatmapgl"
           }
          ],
          "histogram": [
           {
            "marker": {
             "pattern": {
              "fillmode": "overlay",
              "size": 10,
              "solidity": 0.2
             }
            },
            "type": "histogram"
           }
          ],
          "histogram2d": [
           {
            "colorbar": {
             "outlinewidth": 0,
             "ticks": ""
            },
            "colorscale": [
             [
              0,
              "#0d0887"
             ],
             [
              0.1111111111111111,
              "#46039f"
             ],
             [
              0.2222222222222222,
              "#7201a8"
             ],
             [
              0.3333333333333333,
              "#9c179e"
             ],
             [
              0.4444444444444444,
              "#bd3786"
             ],
             [
              0.5555555555555556,
              "#d8576b"
             ],
             [
              0.6666666666666666,
              "#ed7953"
             ],
             [
              0.7777777777777778,
              "#fb9f3a"
             ],
             [
              0.8888888888888888,
              "#fdca26"
             ],
             [
              1,
              "#f0f921"
             ]
            ],
            "type": "histogram2d"
           }
          ],
          "histogram2dcontour": [
           {
            "colorbar": {
             "outlinewidth": 0,
             "ticks": ""
            },
            "colorscale": [
             [
              0,
              "#0d0887"
             ],
             [
              0.1111111111111111,
              "#46039f"
             ],
             [
              0.2222222222222222,
              "#7201a8"
             ],
             [
              0.3333333333333333,
              "#9c179e"
             ],
             [
              0.4444444444444444,
              "#bd3786"
             ],
             [
              0.5555555555555556,
              "#d8576b"
             ],
             [
              0.6666666666666666,
              "#ed7953"
             ],
             [
              0.7777777777777778,
              "#fb9f3a"
             ],
             [
              0.8888888888888888,
              "#fdca26"
             ],
             [
              1,
              "#f0f921"
             ]
            ],
            "type": "histogram2dcontour"
           }
          ],
          "mesh3d": [
           {
            "colorbar": {
             "outlinewidth": 0,
             "ticks": ""
            },
            "type": "mesh3d"
           }
          ],
          "parcoords": [
           {
            "line": {
             "colorbar": {
              "outlinewidth": 0,
              "ticks": ""
             }
            },
            "type": "parcoords"
           }
          ],
          "pie": [
           {
            "automargin": true,
            "type": "pie"
           }
          ],
          "scatter": [
           {
            "fillpattern": {
             "fillmode": "overlay",
             "size": 10,
             "solidity": 0.2
            },
            "type": "scatter"
           }
          ],
          "scatter3d": [
           {
            "line": {
             "colorbar": {
              "outlinewidth": 0,
              "ticks": ""
             }
            },
            "marker": {
             "colorbar": {
              "outlinewidth": 0,
              "ticks": ""
             }
            },
            "type": "scatter3d"
           }
          ],
          "scattercarpet": [
           {
            "marker": {
             "colorbar": {
              "outlinewidth": 0,
              "ticks": ""
             }
            },
            "type": "scattercarpet"
           }
          ],
          "scattergeo": [
           {
            "marker": {
             "colorbar": {
              "outlinewidth": 0,
              "ticks": ""
             }
            },
            "type": "scattergeo"
           }
          ],
          "scattergl": [
           {
            "marker": {
             "colorbar": {
              "outlinewidth": 0,
              "ticks": ""
             }
            },
            "type": "scattergl"
           }
          ],
          "scattermapbox": [
           {
            "marker": {
             "colorbar": {
              "outlinewidth": 0,
              "ticks": ""
             }
            },
            "type": "scattermapbox"
           }
          ],
          "scatterpolar": [
           {
            "marker": {
             "colorbar": {
              "outlinewidth": 0,
              "ticks": ""
             }
            },
            "type": "scatterpolar"
           }
          ],
          "scatterpolargl": [
           {
            "marker": {
             "colorbar": {
              "outlinewidth": 0,
              "ticks": ""
             }
            },
            "type": "scatterpolargl"
           }
          ],
          "scatterternary": [
           {
            "marker": {
             "colorbar": {
              "outlinewidth": 0,
              "ticks": ""
             }
            },
            "type": "scatterternary"
           }
          ],
          "surface": [
           {
            "colorbar": {
             "outlinewidth": 0,
             "ticks": ""
            },
            "colorscale": [
             [
              0,
              "#0d0887"
             ],
             [
              0.1111111111111111,
              "#46039f"
             ],
             [
              0.2222222222222222,
              "#7201a8"
             ],
             [
              0.3333333333333333,
              "#9c179e"
             ],
             [
              0.4444444444444444,
              "#bd3786"
             ],
             [
              0.5555555555555556,
              "#d8576b"
             ],
             [
              0.6666666666666666,
              "#ed7953"
             ],
             [
              0.7777777777777778,
              "#fb9f3a"
             ],
             [
              0.8888888888888888,
              "#fdca26"
             ],
             [
              1,
              "#f0f921"
             ]
            ],
            "type": "surface"
           }
          ],
          "table": [
           {
            "cells": {
             "fill": {
              "color": "#EBF0F8"
             },
             "line": {
              "color": "white"
             }
            },
            "header": {
             "fill": {
              "color": "#C8D4E3"
             },
             "line": {
              "color": "white"
             }
            },
            "type": "table"
           }
          ]
         },
         "layout": {
          "annotationdefaults": {
           "arrowcolor": "#2a3f5f",
           "arrowhead": 0,
           "arrowwidth": 1
          },
          "autotypenumbers": "strict",
          "coloraxis": {
           "colorbar": {
            "outlinewidth": 0,
            "ticks": ""
           }
          },
          "colorscale": {
           "diverging": [
            [
             0,
             "#8e0152"
            ],
            [
             0.1,
             "#c51b7d"
            ],
            [
             0.2,
             "#de77ae"
            ],
            [
             0.3,
             "#f1b6da"
            ],
            [
             0.4,
             "#fde0ef"
            ],
            [
             0.5,
             "#f7f7f7"
            ],
            [
             0.6,
             "#e6f5d0"
            ],
            [
             0.7,
             "#b8e186"
            ],
            [
             0.8,
             "#7fbc41"
            ],
            [
             0.9,
             "#4d9221"
            ],
            [
             1,
             "#276419"
            ]
           ],
           "sequential": [
            [
             0,
             "#0d0887"
            ],
            [
             0.1111111111111111,
             "#46039f"
            ],
            [
             0.2222222222222222,
             "#7201a8"
            ],
            [
             0.3333333333333333,
             "#9c179e"
            ],
            [
             0.4444444444444444,
             "#bd3786"
            ],
            [
             0.5555555555555556,
             "#d8576b"
            ],
            [
             0.6666666666666666,
             "#ed7953"
            ],
            [
             0.7777777777777778,
             "#fb9f3a"
            ],
            [
             0.8888888888888888,
             "#fdca26"
            ],
            [
             1,
             "#f0f921"
            ]
           ],
           "sequentialminus": [
            [
             0,
             "#0d0887"
            ],
            [
             0.1111111111111111,
             "#46039f"
            ],
            [
             0.2222222222222222,
             "#7201a8"
            ],
            [
             0.3333333333333333,
             "#9c179e"
            ],
            [
             0.4444444444444444,
             "#bd3786"
            ],
            [
             0.5555555555555556,
             "#d8576b"
            ],
            [
             0.6666666666666666,
             "#ed7953"
            ],
            [
             0.7777777777777778,
             "#fb9f3a"
            ],
            [
             0.8888888888888888,
             "#fdca26"
            ],
            [
             1,
             "#f0f921"
            ]
           ]
          },
          "colorway": [
           "#636efa",
           "#EF553B",
           "#00cc96",
           "#ab63fa",
           "#FFA15A",
           "#19d3f3",
           "#FF6692",
           "#B6E880",
           "#FF97FF",
           "#FECB52"
          ],
          "font": {
           "color": "#2a3f5f"
          },
          "geo": {
           "bgcolor": "white",
           "lakecolor": "white",
           "landcolor": "#E5ECF6",
           "showlakes": true,
           "showland": true,
           "subunitcolor": "white"
          },
          "hoverlabel": {
           "align": "left"
          },
          "hovermode": "closest",
          "mapbox": {
           "style": "light"
          },
          "paper_bgcolor": "white",
          "plot_bgcolor": "#E5ECF6",
          "polar": {
           "angularaxis": {
            "gridcolor": "white",
            "linecolor": "white",
            "ticks": ""
           },
           "bgcolor": "#E5ECF6",
           "radialaxis": {
            "gridcolor": "white",
            "linecolor": "white",
            "ticks": ""
           }
          },
          "scene": {
           "xaxis": {
            "backgroundcolor": "#E5ECF6",
            "gridcolor": "white",
            "gridwidth": 2,
            "linecolor": "white",
            "showbackground": true,
            "ticks": "",
            "zerolinecolor": "white"
           },
           "yaxis": {
            "backgroundcolor": "#E5ECF6",
            "gridcolor": "white",
            "gridwidth": 2,
            "linecolor": "white",
            "showbackground": true,
            "ticks": "",
            "zerolinecolor": "white"
           },
           "zaxis": {
            "backgroundcolor": "#E5ECF6",
            "gridcolor": "white",
            "gridwidth": 2,
            "linecolor": "white",
            "showbackground": true,
            "ticks": "",
            "zerolinecolor": "white"
           }
          },
          "shapedefaults": {
           "line": {
            "color": "#2a3f5f"
           }
          },
          "ternary": {
           "aaxis": {
            "gridcolor": "white",
            "linecolor": "white",
            "ticks": ""
           },
           "baxis": {
            "gridcolor": "white",
            "linecolor": "white",
            "ticks": ""
           },
           "bgcolor": "#E5ECF6",
           "caxis": {
            "gridcolor": "white",
            "linecolor": "white",
            "ticks": ""
           }
          },
          "title": {
           "x": 0.05
          },
          "xaxis": {
           "automargin": true,
           "gridcolor": "white",
           "linecolor": "white",
           "ticks": "",
           "title": {
            "standoff": 15
           },
           "zerolinecolor": "white",
           "zerolinewidth": 2
          },
          "yaxis": {
           "automargin": true,
           "gridcolor": "white",
           "linecolor": "white",
           "ticks": "",
           "title": {
            "standoff": 15
           },
           "zerolinecolor": "white",
           "zerolinewidth": 2
          }
         }
        },
        "title": {
         "text": "Bar Plot Example"
        },
        "width": 600,
        "xaxis": {
         "title": {
          "text": "Category"
         }
        },
        "yaxis": {
         "title": {
          "text": "Values"
         }
        }
       }
      }
     },
     "metadata": {},
     "output_type": "display_data"
    }
   ],
   "source": [
    "# Sample data\n",
    "categories = ['A', 'B', 'C', 'D']\n",
    "values = [10, 15, 7, 12]\n",
    "\n",
    "# Create the bar plot using go.Bar\n",
    "fig = go.Figure(data=go.Bar(x=values, y=categories, orientation = 'h'))\n",
    "\n",
    "# Customize the layout (optional)\n",
    "fig.update_layout(title='Bar Plot Example', xaxis_title='Category', yaxis_title='Values')\n",
    "\n",
    "fig['layout'].update(height=600, width=600)\n",
    "# Show the plot\n",
    "fig.show()"
   ]
  },
  {
   "cell_type": "markdown",
   "metadata": {},
   "source": [
    "### Dodged bar chat\n",
    "   Set the barmode = \"group\" for Dodged bar chat"
   ]
  },
  {
   "cell_type": "code",
   "execution_count": 40,
   "metadata": {},
   "outputs": [
    {
     "data": {
      "application/vnd.plotly.v1+json": {
       "config": {
        "plotlyServerURL": "https://plot.ly"
       },
       "data": [
        {
         "name": "Category 1",
         "type": "bar",
         "x": [
          "A",
          "B",
          "C",
          "D"
         ],
         "y": [
          10,
          15,
          7,
          12
         ]
        },
        {
         "name": "Category 2",
         "type": "bar",
         "x": [
          "A",
          "B",
          "C",
          "D"
         ],
         "y": [
          8,
          12,
          6,
          9
         ]
        }
       ],
       "layout": {
        "barmode": "group",
        "template": {
         "data": {
          "bar": [
           {
            "error_x": {
             "color": "#2a3f5f"
            },
            "error_y": {
             "color": "#2a3f5f"
            },
            "marker": {
             "line": {
              "color": "#E5ECF6",
              "width": 0.5
             },
             "pattern": {
              "fillmode": "overlay",
              "size": 10,
              "solidity": 0.2
             }
            },
            "type": "bar"
           }
          ],
          "barpolar": [
           {
            "marker": {
             "line": {
              "color": "#E5ECF6",
              "width": 0.5
             },
             "pattern": {
              "fillmode": "overlay",
              "size": 10,
              "solidity": 0.2
             }
            },
            "type": "barpolar"
           }
          ],
          "carpet": [
           {
            "aaxis": {
             "endlinecolor": "#2a3f5f",
             "gridcolor": "white",
             "linecolor": "white",
             "minorgridcolor": "white",
             "startlinecolor": "#2a3f5f"
            },
            "baxis": {
             "endlinecolor": "#2a3f5f",
             "gridcolor": "white",
             "linecolor": "white",
             "minorgridcolor": "white",
             "startlinecolor": "#2a3f5f"
            },
            "type": "carpet"
           }
          ],
          "choropleth": [
           {
            "colorbar": {
             "outlinewidth": 0,
             "ticks": ""
            },
            "type": "choropleth"
           }
          ],
          "contour": [
           {
            "colorbar": {
             "outlinewidth": 0,
             "ticks": ""
            },
            "colorscale": [
             [
              0,
              "#0d0887"
             ],
             [
              0.1111111111111111,
              "#46039f"
             ],
             [
              0.2222222222222222,
              "#7201a8"
             ],
             [
              0.3333333333333333,
              "#9c179e"
             ],
             [
              0.4444444444444444,
              "#bd3786"
             ],
             [
              0.5555555555555556,
              "#d8576b"
             ],
             [
              0.6666666666666666,
              "#ed7953"
             ],
             [
              0.7777777777777778,
              "#fb9f3a"
             ],
             [
              0.8888888888888888,
              "#fdca26"
             ],
             [
              1,
              "#f0f921"
             ]
            ],
            "type": "contour"
           }
          ],
          "contourcarpet": [
           {
            "colorbar": {
             "outlinewidth": 0,
             "ticks": ""
            },
            "type": "contourcarpet"
           }
          ],
          "heatmap": [
           {
            "colorbar": {
             "outlinewidth": 0,
             "ticks": ""
            },
            "colorscale": [
             [
              0,
              "#0d0887"
             ],
             [
              0.1111111111111111,
              "#46039f"
             ],
             [
              0.2222222222222222,
              "#7201a8"
             ],
             [
              0.3333333333333333,
              "#9c179e"
             ],
             [
              0.4444444444444444,
              "#bd3786"
             ],
             [
              0.5555555555555556,
              "#d8576b"
             ],
             [
              0.6666666666666666,
              "#ed7953"
             ],
             [
              0.7777777777777778,
              "#fb9f3a"
             ],
             [
              0.8888888888888888,
              "#fdca26"
             ],
             [
              1,
              "#f0f921"
             ]
            ],
            "type": "heatmap"
           }
          ],
          "heatmapgl": [
           {
            "colorbar": {
             "outlinewidth": 0,
             "ticks": ""
            },
            "colorscale": [
             [
              0,
              "#0d0887"
             ],
             [
              0.1111111111111111,
              "#46039f"
             ],
             [
              0.2222222222222222,
              "#7201a8"
             ],
             [
              0.3333333333333333,
              "#9c179e"
             ],
             [
              0.4444444444444444,
              "#bd3786"
             ],
             [
              0.5555555555555556,
              "#d8576b"
             ],
             [
              0.6666666666666666,
              "#ed7953"
             ],
             [
              0.7777777777777778,
              "#fb9f3a"
             ],
             [
              0.8888888888888888,
              "#fdca26"
             ],
             [
              1,
              "#f0f921"
             ]
            ],
            "type": "heatmapgl"
           }
          ],
          "histogram": [
           {
            "marker": {
             "pattern": {
              "fillmode": "overlay",
              "size": 10,
              "solidity": 0.2
             }
            },
            "type": "histogram"
           }
          ],
          "histogram2d": [
           {
            "colorbar": {
             "outlinewidth": 0,
             "ticks": ""
            },
            "colorscale": [
             [
              0,
              "#0d0887"
             ],
             [
              0.1111111111111111,
              "#46039f"
             ],
             [
              0.2222222222222222,
              "#7201a8"
             ],
             [
              0.3333333333333333,
              "#9c179e"
             ],
             [
              0.4444444444444444,
              "#bd3786"
             ],
             [
              0.5555555555555556,
              "#d8576b"
             ],
             [
              0.6666666666666666,
              "#ed7953"
             ],
             [
              0.7777777777777778,
              "#fb9f3a"
             ],
             [
              0.8888888888888888,
              "#fdca26"
             ],
             [
              1,
              "#f0f921"
             ]
            ],
            "type": "histogram2d"
           }
          ],
          "histogram2dcontour": [
           {
            "colorbar": {
             "outlinewidth": 0,
             "ticks": ""
            },
            "colorscale": [
             [
              0,
              "#0d0887"
             ],
             [
              0.1111111111111111,
              "#46039f"
             ],
             [
              0.2222222222222222,
              "#7201a8"
             ],
             [
              0.3333333333333333,
              "#9c179e"
             ],
             [
              0.4444444444444444,
              "#bd3786"
             ],
             [
              0.5555555555555556,
              "#d8576b"
             ],
             [
              0.6666666666666666,
              "#ed7953"
             ],
             [
              0.7777777777777778,
              "#fb9f3a"
             ],
             [
              0.8888888888888888,
              "#fdca26"
             ],
             [
              1,
              "#f0f921"
             ]
            ],
            "type": "histogram2dcontour"
           }
          ],
          "mesh3d": [
           {
            "colorbar": {
             "outlinewidth": 0,
             "ticks": ""
            },
            "type": "mesh3d"
           }
          ],
          "parcoords": [
           {
            "line": {
             "colorbar": {
              "outlinewidth": 0,
              "ticks": ""
             }
            },
            "type": "parcoords"
           }
          ],
          "pie": [
           {
            "automargin": true,
            "type": "pie"
           }
          ],
          "scatter": [
           {
            "fillpattern": {
             "fillmode": "overlay",
             "size": 10,
             "solidity": 0.2
            },
            "type": "scatter"
           }
          ],
          "scatter3d": [
           {
            "line": {
             "colorbar": {
              "outlinewidth": 0,
              "ticks": ""
             }
            },
            "marker": {
             "colorbar": {
              "outlinewidth": 0,
              "ticks": ""
             }
            },
            "type": "scatter3d"
           }
          ],
          "scattercarpet": [
           {
            "marker": {
             "colorbar": {
              "outlinewidth": 0,
              "ticks": ""
             }
            },
            "type": "scattercarpet"
           }
          ],
          "scattergeo": [
           {
            "marker": {
             "colorbar": {
              "outlinewidth": 0,
              "ticks": ""
             }
            },
            "type": "scattergeo"
           }
          ],
          "scattergl": [
           {
            "marker": {
             "colorbar": {
              "outlinewidth": 0,
              "ticks": ""
             }
            },
            "type": "scattergl"
           }
          ],
          "scattermapbox": [
           {
            "marker": {
             "colorbar": {
              "outlinewidth": 0,
              "ticks": ""
             }
            },
            "type": "scattermapbox"
           }
          ],
          "scatterpolar": [
           {
            "marker": {
             "colorbar": {
              "outlinewidth": 0,
              "ticks": ""
             }
            },
            "type": "scatterpolar"
           }
          ],
          "scatterpolargl": [
           {
            "marker": {
             "colorbar": {
              "outlinewidth": 0,
              "ticks": ""
             }
            },
            "type": "scatterpolargl"
           }
          ],
          "scatterternary": [
           {
            "marker": {
             "colorbar": {
              "outlinewidth": 0,
              "ticks": ""
             }
            },
            "type": "scatterternary"
           }
          ],
          "surface": [
           {
            "colorbar": {
             "outlinewidth": 0,
             "ticks": ""
            },
            "colorscale": [
             [
              0,
              "#0d0887"
             ],
             [
              0.1111111111111111,
              "#46039f"
             ],
             [
              0.2222222222222222,
              "#7201a8"
             ],
             [
              0.3333333333333333,
              "#9c179e"
             ],
             [
              0.4444444444444444,
              "#bd3786"
             ],
             [
              0.5555555555555556,
              "#d8576b"
             ],
             [
              0.6666666666666666,
              "#ed7953"
             ],
             [
              0.7777777777777778,
              "#fb9f3a"
             ],
             [
              0.8888888888888888,
              "#fdca26"
             ],
             [
              1,
              "#f0f921"
             ]
            ],
            "type": "surface"
           }
          ],
          "table": [
           {
            "cells": {
             "fill": {
              "color": "#EBF0F8"
             },
             "line": {
              "color": "white"
             }
            },
            "header": {
             "fill": {
              "color": "#C8D4E3"
             },
             "line": {
              "color": "white"
             }
            },
            "type": "table"
           }
          ]
         },
         "layout": {
          "annotationdefaults": {
           "arrowcolor": "#2a3f5f",
           "arrowhead": 0,
           "arrowwidth": 1
          },
          "autotypenumbers": "strict",
          "coloraxis": {
           "colorbar": {
            "outlinewidth": 0,
            "ticks": ""
           }
          },
          "colorscale": {
           "diverging": [
            [
             0,
             "#8e0152"
            ],
            [
             0.1,
             "#c51b7d"
            ],
            [
             0.2,
             "#de77ae"
            ],
            [
             0.3,
             "#f1b6da"
            ],
            [
             0.4,
             "#fde0ef"
            ],
            [
             0.5,
             "#f7f7f7"
            ],
            [
             0.6,
             "#e6f5d0"
            ],
            [
             0.7,
             "#b8e186"
            ],
            [
             0.8,
             "#7fbc41"
            ],
            [
             0.9,
             "#4d9221"
            ],
            [
             1,
             "#276419"
            ]
           ],
           "sequential": [
            [
             0,
             "#0d0887"
            ],
            [
             0.1111111111111111,
             "#46039f"
            ],
            [
             0.2222222222222222,
             "#7201a8"
            ],
            [
             0.3333333333333333,
             "#9c179e"
            ],
            [
             0.4444444444444444,
             "#bd3786"
            ],
            [
             0.5555555555555556,
             "#d8576b"
            ],
            [
             0.6666666666666666,
             "#ed7953"
            ],
            [
             0.7777777777777778,
             "#fb9f3a"
            ],
            [
             0.8888888888888888,
             "#fdca26"
            ],
            [
             1,
             "#f0f921"
            ]
           ],
           "sequentialminus": [
            [
             0,
             "#0d0887"
            ],
            [
             0.1111111111111111,
             "#46039f"
            ],
            [
             0.2222222222222222,
             "#7201a8"
            ],
            [
             0.3333333333333333,
             "#9c179e"
            ],
            [
             0.4444444444444444,
             "#bd3786"
            ],
            [
             0.5555555555555556,
             "#d8576b"
            ],
            [
             0.6666666666666666,
             "#ed7953"
            ],
            [
             0.7777777777777778,
             "#fb9f3a"
            ],
            [
             0.8888888888888888,
             "#fdca26"
            ],
            [
             1,
             "#f0f921"
            ]
           ]
          },
          "colorway": [
           "#636efa",
           "#EF553B",
           "#00cc96",
           "#ab63fa",
           "#FFA15A",
           "#19d3f3",
           "#FF6692",
           "#B6E880",
           "#FF97FF",
           "#FECB52"
          ],
          "font": {
           "color": "#2a3f5f"
          },
          "geo": {
           "bgcolor": "white",
           "lakecolor": "white",
           "landcolor": "#E5ECF6",
           "showlakes": true,
           "showland": true,
           "subunitcolor": "white"
          },
          "hoverlabel": {
           "align": "left"
          },
          "hovermode": "closest",
          "mapbox": {
           "style": "light"
          },
          "paper_bgcolor": "white",
          "plot_bgcolor": "#E5ECF6",
          "polar": {
           "angularaxis": {
            "gridcolor": "white",
            "linecolor": "white",
            "ticks": ""
           },
           "bgcolor": "#E5ECF6",
           "radialaxis": {
            "gridcolor": "white",
            "linecolor": "white",
            "ticks": ""
           }
          },
          "scene": {
           "xaxis": {
            "backgroundcolor": "#E5ECF6",
            "gridcolor": "white",
            "gridwidth": 2,
            "linecolor": "white",
            "showbackground": true,
            "ticks": "",
            "zerolinecolor": "white"
           },
           "yaxis": {
            "backgroundcolor": "#E5ECF6",
            "gridcolor": "white",
            "gridwidth": 2,
            "linecolor": "white",
            "showbackground": true,
            "ticks": "",
            "zerolinecolor": "white"
           },
           "zaxis": {
            "backgroundcolor": "#E5ECF6",
            "gridcolor": "white",
            "gridwidth": 2,
            "linecolor": "white",
            "showbackground": true,
            "ticks": "",
            "zerolinecolor": "white"
           }
          },
          "shapedefaults": {
           "line": {
            "color": "#2a3f5f"
           }
          },
          "ternary": {
           "aaxis": {
            "gridcolor": "white",
            "linecolor": "white",
            "ticks": ""
           },
           "baxis": {
            "gridcolor": "white",
            "linecolor": "white",
            "ticks": ""
           },
           "bgcolor": "#E5ECF6",
           "caxis": {
            "gridcolor": "white",
            "linecolor": "white",
            "ticks": ""
           }
          },
          "title": {
           "x": 0.05
          },
          "xaxis": {
           "automargin": true,
           "gridcolor": "white",
           "linecolor": "white",
           "ticks": "",
           "title": {
            "standoff": 15
           },
           "zerolinecolor": "white",
           "zerolinewidth": 2
          },
          "yaxis": {
           "automargin": true,
           "gridcolor": "white",
           "linecolor": "white",
           "ticks": "",
           "title": {
            "standoff": 15
           },
           "zerolinecolor": "white",
           "zerolinewidth": 2
          }
         }
        },
        "title": {
         "text": "Dodged Bar Plot Example"
        },
        "xaxis": {
         "title": {
          "text": "Category"
         }
        },
        "yaxis": {
         "title": {
          "text": "Values"
         }
        }
       }
      }
     },
     "metadata": {},
     "output_type": "display_data"
    }
   ],
   "source": [
    "categories = ['A', 'B', 'C', 'D']\n",
    "values1 = [10, 15, 7, 12]\n",
    "values2 = [8, 12, 6, 9]\n",
    "\n",
    "# Create the dodged bar plot using go.Bar\n",
    "fig = go.Figure()\n",
    "\n",
    "# Add the first set of bars\n",
    "fig.add_trace(go.Bar(x=categories, y=values1, name='Category 1'))\n",
    "\n",
    "# Add the second set of bars, adjusting the x-coordinate\n",
    "fig.add_trace(go.Bar(x=categories, y=values2, name='Category 2'))\n",
    "\n",
    "# Customize the layout (optional)\n",
    "fig.update_layout(\n",
    "    barmode='group',  # Set the barmode to 'group' for dodged bars\n",
    "    title='Dodged Bar Plot Example',\n",
    "    xaxis_title='Category',\n",
    "    yaxis_title='Values'\n",
    ")\n",
    "\n",
    "fig.show()\n"
   ]
  },
  {
   "cell_type": "markdown",
   "metadata": {},
   "source": [
    "### Stacked bard plot\n",
    "Set the barmode = \"relative\" for Stack bar chat"
   ]
  },
  {
   "cell_type": "code",
   "execution_count": 42,
   "metadata": {},
   "outputs": [
    {
     "data": {
      "application/vnd.plotly.v1+json": {
       "config": {
        "plotlyServerURL": "https://plot.ly"
       },
       "data": [
        {
         "name": "Category 1",
         "type": "bar",
         "x": [
          "A",
          "B",
          "C",
          "D"
         ],
         "y": [
          10,
          15,
          7,
          12
         ]
        },
        {
         "base": [
          10,
          15,
          7,
          12
         ],
         "name": "Category 2",
         "type": "bar",
         "x": [
          "A",
          "B",
          "C",
          "D"
         ],
         "y": [
          8,
          12,
          6,
          9
         ]
        }
       ],
       "layout": {
        "barmode": "relative",
        "template": {
         "data": {
          "bar": [
           {
            "error_x": {
             "color": "#2a3f5f"
            },
            "error_y": {
             "color": "#2a3f5f"
            },
            "marker": {
             "line": {
              "color": "#E5ECF6",
              "width": 0.5
             },
             "pattern": {
              "fillmode": "overlay",
              "size": 10,
              "solidity": 0.2
             }
            },
            "type": "bar"
           }
          ],
          "barpolar": [
           {
            "marker": {
             "line": {
              "color": "#E5ECF6",
              "width": 0.5
             },
             "pattern": {
              "fillmode": "overlay",
              "size": 10,
              "solidity": 0.2
             }
            },
            "type": "barpolar"
           }
          ],
          "carpet": [
           {
            "aaxis": {
             "endlinecolor": "#2a3f5f",
             "gridcolor": "white",
             "linecolor": "white",
             "minorgridcolor": "white",
             "startlinecolor": "#2a3f5f"
            },
            "baxis": {
             "endlinecolor": "#2a3f5f",
             "gridcolor": "white",
             "linecolor": "white",
             "minorgridcolor": "white",
             "startlinecolor": "#2a3f5f"
            },
            "type": "carpet"
           }
          ],
          "choropleth": [
           {
            "colorbar": {
             "outlinewidth": 0,
             "ticks": ""
            },
            "type": "choropleth"
           }
          ],
          "contour": [
           {
            "colorbar": {
             "outlinewidth": 0,
             "ticks": ""
            },
            "colorscale": [
             [
              0,
              "#0d0887"
             ],
             [
              0.1111111111111111,
              "#46039f"
             ],
             [
              0.2222222222222222,
              "#7201a8"
             ],
             [
              0.3333333333333333,
              "#9c179e"
             ],
             [
              0.4444444444444444,
              "#bd3786"
             ],
             [
              0.5555555555555556,
              "#d8576b"
             ],
             [
              0.6666666666666666,
              "#ed7953"
             ],
             [
              0.7777777777777778,
              "#fb9f3a"
             ],
             [
              0.8888888888888888,
              "#fdca26"
             ],
             [
              1,
              "#f0f921"
             ]
            ],
            "type": "contour"
           }
          ],
          "contourcarpet": [
           {
            "colorbar": {
             "outlinewidth": 0,
             "ticks": ""
            },
            "type": "contourcarpet"
           }
          ],
          "heatmap": [
           {
            "colorbar": {
             "outlinewidth": 0,
             "ticks": ""
            },
            "colorscale": [
             [
              0,
              "#0d0887"
             ],
             [
              0.1111111111111111,
              "#46039f"
             ],
             [
              0.2222222222222222,
              "#7201a8"
             ],
             [
              0.3333333333333333,
              "#9c179e"
             ],
             [
              0.4444444444444444,
              "#bd3786"
             ],
             [
              0.5555555555555556,
              "#d8576b"
             ],
             [
              0.6666666666666666,
              "#ed7953"
             ],
             [
              0.7777777777777778,
              "#fb9f3a"
             ],
             [
              0.8888888888888888,
              "#fdca26"
             ],
             [
              1,
              "#f0f921"
             ]
            ],
            "type": "heatmap"
           }
          ],
          "heatmapgl": [
           {
            "colorbar": {
             "outlinewidth": 0,
             "ticks": ""
            },
            "colorscale": [
             [
              0,
              "#0d0887"
             ],
             [
              0.1111111111111111,
              "#46039f"
             ],
             [
              0.2222222222222222,
              "#7201a8"
             ],
             [
              0.3333333333333333,
              "#9c179e"
             ],
             [
              0.4444444444444444,
              "#bd3786"
             ],
             [
              0.5555555555555556,
              "#d8576b"
             ],
             [
              0.6666666666666666,
              "#ed7953"
             ],
             [
              0.7777777777777778,
              "#fb9f3a"
             ],
             [
              0.8888888888888888,
              "#fdca26"
             ],
             [
              1,
              "#f0f921"
             ]
            ],
            "type": "heatmapgl"
           }
          ],
          "histogram": [
           {
            "marker": {
             "pattern": {
              "fillmode": "overlay",
              "size": 10,
              "solidity": 0.2
             }
            },
            "type": "histogram"
           }
          ],
          "histogram2d": [
           {
            "colorbar": {
             "outlinewidth": 0,
             "ticks": ""
            },
            "colorscale": [
             [
              0,
              "#0d0887"
             ],
             [
              0.1111111111111111,
              "#46039f"
             ],
             [
              0.2222222222222222,
              "#7201a8"
             ],
             [
              0.3333333333333333,
              "#9c179e"
             ],
             [
              0.4444444444444444,
              "#bd3786"
             ],
             [
              0.5555555555555556,
              "#d8576b"
             ],
             [
              0.6666666666666666,
              "#ed7953"
             ],
             [
              0.7777777777777778,
              "#fb9f3a"
             ],
             [
              0.8888888888888888,
              "#fdca26"
             ],
             [
              1,
              "#f0f921"
             ]
            ],
            "type": "histogram2d"
           }
          ],
          "histogram2dcontour": [
           {
            "colorbar": {
             "outlinewidth": 0,
             "ticks": ""
            },
            "colorscale": [
             [
              0,
              "#0d0887"
             ],
             [
              0.1111111111111111,
              "#46039f"
             ],
             [
              0.2222222222222222,
              "#7201a8"
             ],
             [
              0.3333333333333333,
              "#9c179e"
             ],
             [
              0.4444444444444444,
              "#bd3786"
             ],
             [
              0.5555555555555556,
              "#d8576b"
             ],
             [
              0.6666666666666666,
              "#ed7953"
             ],
             [
              0.7777777777777778,
              "#fb9f3a"
             ],
             [
              0.8888888888888888,
              "#fdca26"
             ],
             [
              1,
              "#f0f921"
             ]
            ],
            "type": "histogram2dcontour"
           }
          ],
          "mesh3d": [
           {
            "colorbar": {
             "outlinewidth": 0,
             "ticks": ""
            },
            "type": "mesh3d"
           }
          ],
          "parcoords": [
           {
            "line": {
             "colorbar": {
              "outlinewidth": 0,
              "ticks": ""
             }
            },
            "type": "parcoords"
           }
          ],
          "pie": [
           {
            "automargin": true,
            "type": "pie"
           }
          ],
          "scatter": [
           {
            "fillpattern": {
             "fillmode": "overlay",
             "size": 10,
             "solidity": 0.2
            },
            "type": "scatter"
           }
          ],
          "scatter3d": [
           {
            "line": {
             "colorbar": {
              "outlinewidth": 0,
              "ticks": ""
             }
            },
            "marker": {
             "colorbar": {
              "outlinewidth": 0,
              "ticks": ""
             }
            },
            "type": "scatter3d"
           }
          ],
          "scattercarpet": [
           {
            "marker": {
             "colorbar": {
              "outlinewidth": 0,
              "ticks": ""
             }
            },
            "type": "scattercarpet"
           }
          ],
          "scattergeo": [
           {
            "marker": {
             "colorbar": {
              "outlinewidth": 0,
              "ticks": ""
             }
            },
            "type": "scattergeo"
           }
          ],
          "scattergl": [
           {
            "marker": {
             "colorbar": {
              "outlinewidth": 0,
              "ticks": ""
             }
            },
            "type": "scattergl"
           }
          ],
          "scattermapbox": [
           {
            "marker": {
             "colorbar": {
              "outlinewidth": 0,
              "ticks": ""
             }
            },
            "type": "scattermapbox"
           }
          ],
          "scatterpolar": [
           {
            "marker": {
             "colorbar": {
              "outlinewidth": 0,
              "ticks": ""
             }
            },
            "type": "scatterpolar"
           }
          ],
          "scatterpolargl": [
           {
            "marker": {
             "colorbar": {
              "outlinewidth": 0,
              "ticks": ""
             }
            },
            "type": "scatterpolargl"
           }
          ],
          "scatterternary": [
           {
            "marker": {
             "colorbar": {
              "outlinewidth": 0,
              "ticks": ""
             }
            },
            "type": "scatterternary"
           }
          ],
          "surface": [
           {
            "colorbar": {
             "outlinewidth": 0,
             "ticks": ""
            },
            "colorscale": [
             [
              0,
              "#0d0887"
             ],
             [
              0.1111111111111111,
              "#46039f"
             ],
             [
              0.2222222222222222,
              "#7201a8"
             ],
             [
              0.3333333333333333,
              "#9c179e"
             ],
             [
              0.4444444444444444,
              "#bd3786"
             ],
             [
              0.5555555555555556,
              "#d8576b"
             ],
             [
              0.6666666666666666,
              "#ed7953"
             ],
             [
              0.7777777777777778,
              "#fb9f3a"
             ],
             [
              0.8888888888888888,
              "#fdca26"
             ],
             [
              1,
              "#f0f921"
             ]
            ],
            "type": "surface"
           }
          ],
          "table": [
           {
            "cells": {
             "fill": {
              "color": "#EBF0F8"
             },
             "line": {
              "color": "white"
             }
            },
            "header": {
             "fill": {
              "color": "#C8D4E3"
             },
             "line": {
              "color": "white"
             }
            },
            "type": "table"
           }
          ]
         },
         "layout": {
          "annotationdefaults": {
           "arrowcolor": "#2a3f5f",
           "arrowhead": 0,
           "arrowwidth": 1
          },
          "autotypenumbers": "strict",
          "coloraxis": {
           "colorbar": {
            "outlinewidth": 0,
            "ticks": ""
           }
          },
          "colorscale": {
           "diverging": [
            [
             0,
             "#8e0152"
            ],
            [
             0.1,
             "#c51b7d"
            ],
            [
             0.2,
             "#de77ae"
            ],
            [
             0.3,
             "#f1b6da"
            ],
            [
             0.4,
             "#fde0ef"
            ],
            [
             0.5,
             "#f7f7f7"
            ],
            [
             0.6,
             "#e6f5d0"
            ],
            [
             0.7,
             "#b8e186"
            ],
            [
             0.8,
             "#7fbc41"
            ],
            [
             0.9,
             "#4d9221"
            ],
            [
             1,
             "#276419"
            ]
           ],
           "sequential": [
            [
             0,
             "#0d0887"
            ],
            [
             0.1111111111111111,
             "#46039f"
            ],
            [
             0.2222222222222222,
             "#7201a8"
            ],
            [
             0.3333333333333333,
             "#9c179e"
            ],
            [
             0.4444444444444444,
             "#bd3786"
            ],
            [
             0.5555555555555556,
             "#d8576b"
            ],
            [
             0.6666666666666666,
             "#ed7953"
            ],
            [
             0.7777777777777778,
             "#fb9f3a"
            ],
            [
             0.8888888888888888,
             "#fdca26"
            ],
            [
             1,
             "#f0f921"
            ]
           ],
           "sequentialminus": [
            [
             0,
             "#0d0887"
            ],
            [
             0.1111111111111111,
             "#46039f"
            ],
            [
             0.2222222222222222,
             "#7201a8"
            ],
            [
             0.3333333333333333,
             "#9c179e"
            ],
            [
             0.4444444444444444,
             "#bd3786"
            ],
            [
             0.5555555555555556,
             "#d8576b"
            ],
            [
             0.6666666666666666,
             "#ed7953"
            ],
            [
             0.7777777777777778,
             "#fb9f3a"
            ],
            [
             0.8888888888888888,
             "#fdca26"
            ],
            [
             1,
             "#f0f921"
            ]
           ]
          },
          "colorway": [
           "#636efa",
           "#EF553B",
           "#00cc96",
           "#ab63fa",
           "#FFA15A",
           "#19d3f3",
           "#FF6692",
           "#B6E880",
           "#FF97FF",
           "#FECB52"
          ],
          "font": {
           "color": "#2a3f5f"
          },
          "geo": {
           "bgcolor": "white",
           "lakecolor": "white",
           "landcolor": "#E5ECF6",
           "showlakes": true,
           "showland": true,
           "subunitcolor": "white"
          },
          "hoverlabel": {
           "align": "left"
          },
          "hovermode": "closest",
          "mapbox": {
           "style": "light"
          },
          "paper_bgcolor": "white",
          "plot_bgcolor": "#E5ECF6",
          "polar": {
           "angularaxis": {
            "gridcolor": "white",
            "linecolor": "white",
            "ticks": ""
           },
           "bgcolor": "#E5ECF6",
           "radialaxis": {
            "gridcolor": "white",
            "linecolor": "white",
            "ticks": ""
           }
          },
          "scene": {
           "xaxis": {
            "backgroundcolor": "#E5ECF6",
            "gridcolor": "white",
            "gridwidth": 2,
            "linecolor": "white",
            "showbackground": true,
            "ticks": "",
            "zerolinecolor": "white"
           },
           "yaxis": {
            "backgroundcolor": "#E5ECF6",
            "gridcolor": "white",
            "gridwidth": 2,
            "linecolor": "white",
            "showbackground": true,
            "ticks": "",
            "zerolinecolor": "white"
           },
           "zaxis": {
            "backgroundcolor": "#E5ECF6",
            "gridcolor": "white",
            "gridwidth": 2,
            "linecolor": "white",
            "showbackground": true,
            "ticks": "",
            "zerolinecolor": "white"
           }
          },
          "shapedefaults": {
           "line": {
            "color": "#2a3f5f"
           }
          },
          "ternary": {
           "aaxis": {
            "gridcolor": "white",
            "linecolor": "white",
            "ticks": ""
           },
           "baxis": {
            "gridcolor": "white",
            "linecolor": "white",
            "ticks": ""
           },
           "bgcolor": "#E5ECF6",
           "caxis": {
            "gridcolor": "white",
            "linecolor": "white",
            "ticks": ""
           }
          },
          "title": {
           "x": 0.05
          },
          "xaxis": {
           "automargin": true,
           "gridcolor": "white",
           "linecolor": "white",
           "ticks": "",
           "title": {
            "standoff": 15
           },
           "zerolinecolor": "white",
           "zerolinewidth": 2
          },
          "yaxis": {
           "automargin": true,
           "gridcolor": "white",
           "linecolor": "white",
           "ticks": "",
           "title": {
            "standoff": 15
           },
           "zerolinecolor": "white",
           "zerolinewidth": 2
          }
         }
        },
        "title": {
         "text": "Stacked Bar Plot Example"
        },
        "xaxis": {
         "title": {
          "text": "Category"
         }
        },
        "yaxis": {
         "title": {
          "text": "Values"
         }
        }
       }
      }
     },
     "metadata": {},
     "output_type": "display_data"
    }
   ],
   "source": [
    "# Sample data for two categories\n",
    "categories = ['A', 'B', 'C', 'D']\n",
    "values1 = [10, 15, 7, 12]\n",
    "values2 = [8, 12, 6, 9]\n",
    "\n",
    "# Create the stacked bar plot using go.Bar\n",
    "fig = go.Figure()\n",
    "\n",
    "# Add the first set of bars\n",
    "fig.add_trace(go.Bar(x=categories, y=values1, name='Category 1'))\n",
    "\n",
    "# Add the second set of bars, with 'base' set to values1 for stacking\n",
    "fig.add_trace(go.Bar(x=categories, y=values2, name='Category 2', base=values1))\n",
    "\n",
    "# Customize the layout (optional)\n",
    "fig.update_layout(\n",
    "    barmode='relative',  # Set the barmode to 'relative' for stacked bars\n",
    "    title='Stacked Bar Plot Example',\n",
    "    xaxis_title='Category',\n",
    "    yaxis_title='Values'\n",
    ")\n",
    "\n",
    "# Show the plot\n",
    "fig.show()"
   ]
  },
  {
   "cell_type": "markdown",
   "metadata": {},
   "source": [
    "### Bivariate bar plot "
   ]
  },
  {
   "cell_type": "code",
   "execution_count": 30,
   "metadata": {},
   "outputs": [
    {
     "data": {
      "text/plain": [
       "smoker\n",
       "No     151\n",
       "Yes     93\n",
       "Name: count, dtype: int64"
      ]
     },
     "execution_count": 30,
     "metadata": {},
     "output_type": "execute_result"
    }
   ],
   "source": [
    "df[\"smoker\"].value_counts()"
   ]
  },
  {
   "cell_type": "code",
   "execution_count": 44,
   "metadata": {},
   "outputs": [
    {
     "data": {
      "text/html": [
       "<div>\n",
       "<style scoped>\n",
       "    .dataframe tbody tr th:only-of-type {\n",
       "        vertical-align: middle;\n",
       "    }\n",
       "\n",
       "    .dataframe tbody tr th {\n",
       "        vertical-align: top;\n",
       "    }\n",
       "\n",
       "    .dataframe thead th {\n",
       "        text-align: right;\n",
       "    }\n",
       "</style>\n",
       "<table border=\"1\" class=\"dataframe\">\n",
       "  <thead>\n",
       "    <tr style=\"text-align: right;\">\n",
       "      <th></th>\n",
       "      <th>sex</th>\n",
       "      <th>total_bill</th>\n",
       "    </tr>\n",
       "  </thead>\n",
       "  <tbody>\n",
       "    <tr>\n",
       "      <th>0</th>\n",
       "      <td>Female</td>\n",
       "      <td>977.68</td>\n",
       "    </tr>\n",
       "    <tr>\n",
       "      <th>1</th>\n",
       "      <td>Male</td>\n",
       "      <td>1919.75</td>\n",
       "    </tr>\n",
       "  </tbody>\n",
       "</table>\n",
       "</div>"
      ],
      "text/plain": [
       "      sex  total_bill\n",
       "0  Female      977.68\n",
       "1    Male     1919.75"
      ]
     },
     "metadata": {},
     "output_type": "display_data"
    },
    {
     "data": {
      "application/vnd.plotly.v1+json": {
       "config": {
        "plotlyServerURL": "https://plot.ly"
       },
       "data": [
        {
         "type": "bar",
         "x": [
          "Female",
          "Male"
         ],
         "y": [
          977.6800000000001,
          1919.75
         ]
        },
        {
         "type": "bar",
         "x": [
          "Female",
          "Male"
         ],
         "y": [
          593.27,
          1337.07
         ]
        }
       ],
       "layout": {
        "template": {
         "data": {
          "bar": [
           {
            "error_x": {
             "color": "#2a3f5f"
            },
            "error_y": {
             "color": "#2a3f5f"
            },
            "marker": {
             "line": {
              "color": "#E5ECF6",
              "width": 0.5
             },
             "pattern": {
              "fillmode": "overlay",
              "size": 10,
              "solidity": 0.2
             }
            },
            "type": "bar"
           }
          ],
          "barpolar": [
           {
            "marker": {
             "line": {
              "color": "#E5ECF6",
              "width": 0.5
             },
             "pattern": {
              "fillmode": "overlay",
              "size": 10,
              "solidity": 0.2
             }
            },
            "type": "barpolar"
           }
          ],
          "carpet": [
           {
            "aaxis": {
             "endlinecolor": "#2a3f5f",
             "gridcolor": "white",
             "linecolor": "white",
             "minorgridcolor": "white",
             "startlinecolor": "#2a3f5f"
            },
            "baxis": {
             "endlinecolor": "#2a3f5f",
             "gridcolor": "white",
             "linecolor": "white",
             "minorgridcolor": "white",
             "startlinecolor": "#2a3f5f"
            },
            "type": "carpet"
           }
          ],
          "choropleth": [
           {
            "colorbar": {
             "outlinewidth": 0,
             "ticks": ""
            },
            "type": "choropleth"
           }
          ],
          "contour": [
           {
            "colorbar": {
             "outlinewidth": 0,
             "ticks": ""
            },
            "colorscale": [
             [
              0,
              "#0d0887"
             ],
             [
              0.1111111111111111,
              "#46039f"
             ],
             [
              0.2222222222222222,
              "#7201a8"
             ],
             [
              0.3333333333333333,
              "#9c179e"
             ],
             [
              0.4444444444444444,
              "#bd3786"
             ],
             [
              0.5555555555555556,
              "#d8576b"
             ],
             [
              0.6666666666666666,
              "#ed7953"
             ],
             [
              0.7777777777777778,
              "#fb9f3a"
             ],
             [
              0.8888888888888888,
              "#fdca26"
             ],
             [
              1,
              "#f0f921"
             ]
            ],
            "type": "contour"
           }
          ],
          "contourcarpet": [
           {
            "colorbar": {
             "outlinewidth": 0,
             "ticks": ""
            },
            "type": "contourcarpet"
           }
          ],
          "heatmap": [
           {
            "colorbar": {
             "outlinewidth": 0,
             "ticks": ""
            },
            "colorscale": [
             [
              0,
              "#0d0887"
             ],
             [
              0.1111111111111111,
              "#46039f"
             ],
             [
              0.2222222222222222,
              "#7201a8"
             ],
             [
              0.3333333333333333,
              "#9c179e"
             ],
             [
              0.4444444444444444,
              "#bd3786"
             ],
             [
              0.5555555555555556,
              "#d8576b"
             ],
             [
              0.6666666666666666,
              "#ed7953"
             ],
             [
              0.7777777777777778,
              "#fb9f3a"
             ],
             [
              0.8888888888888888,
              "#fdca26"
             ],
             [
              1,
              "#f0f921"
             ]
            ],
            "type": "heatmap"
           }
          ],
          "heatmapgl": [
           {
            "colorbar": {
             "outlinewidth": 0,
             "ticks": ""
            },
            "colorscale": [
             [
              0,
              "#0d0887"
             ],
             [
              0.1111111111111111,
              "#46039f"
             ],
             [
              0.2222222222222222,
              "#7201a8"
             ],
             [
              0.3333333333333333,
              "#9c179e"
             ],
             [
              0.4444444444444444,
              "#bd3786"
             ],
             [
              0.5555555555555556,
              "#d8576b"
             ],
             [
              0.6666666666666666,
              "#ed7953"
             ],
             [
              0.7777777777777778,
              "#fb9f3a"
             ],
             [
              0.8888888888888888,
              "#fdca26"
             ],
             [
              1,
              "#f0f921"
             ]
            ],
            "type": "heatmapgl"
           }
          ],
          "histogram": [
           {
            "marker": {
             "pattern": {
              "fillmode": "overlay",
              "size": 10,
              "solidity": 0.2
             }
            },
            "type": "histogram"
           }
          ],
          "histogram2d": [
           {
            "colorbar": {
             "outlinewidth": 0,
             "ticks": ""
            },
            "colorscale": [
             [
              0,
              "#0d0887"
             ],
             [
              0.1111111111111111,
              "#46039f"
             ],
             [
              0.2222222222222222,
              "#7201a8"
             ],
             [
              0.3333333333333333,
              "#9c179e"
             ],
             [
              0.4444444444444444,
              "#bd3786"
             ],
             [
              0.5555555555555556,
              "#d8576b"
             ],
             [
              0.6666666666666666,
              "#ed7953"
             ],
             [
              0.7777777777777778,
              "#fb9f3a"
             ],
             [
              0.8888888888888888,
              "#fdca26"
             ],
             [
              1,
              "#f0f921"
             ]
            ],
            "type": "histogram2d"
           }
          ],
          "histogram2dcontour": [
           {
            "colorbar": {
             "outlinewidth": 0,
             "ticks": ""
            },
            "colorscale": [
             [
              0,
              "#0d0887"
             ],
             [
              0.1111111111111111,
              "#46039f"
             ],
             [
              0.2222222222222222,
              "#7201a8"
             ],
             [
              0.3333333333333333,
              "#9c179e"
             ],
             [
              0.4444444444444444,
              "#bd3786"
             ],
             [
              0.5555555555555556,
              "#d8576b"
             ],
             [
              0.6666666666666666,
              "#ed7953"
             ],
             [
              0.7777777777777778,
              "#fb9f3a"
             ],
             [
              0.8888888888888888,
              "#fdca26"
             ],
             [
              1,
              "#f0f921"
             ]
            ],
            "type": "histogram2dcontour"
           }
          ],
          "mesh3d": [
           {
            "colorbar": {
             "outlinewidth": 0,
             "ticks": ""
            },
            "type": "mesh3d"
           }
          ],
          "parcoords": [
           {
            "line": {
             "colorbar": {
              "outlinewidth": 0,
              "ticks": ""
             }
            },
            "type": "parcoords"
           }
          ],
          "pie": [
           {
            "automargin": true,
            "type": "pie"
           }
          ],
          "scatter": [
           {
            "fillpattern": {
             "fillmode": "overlay",
             "size": 10,
             "solidity": 0.2
            },
            "type": "scatter"
           }
          ],
          "scatter3d": [
           {
            "line": {
             "colorbar": {
              "outlinewidth": 0,
              "ticks": ""
             }
            },
            "marker": {
             "colorbar": {
              "outlinewidth": 0,
              "ticks": ""
             }
            },
            "type": "scatter3d"
           }
          ],
          "scattercarpet": [
           {
            "marker": {
             "colorbar": {
              "outlinewidth": 0,
              "ticks": ""
             }
            },
            "type": "scattercarpet"
           }
          ],
          "scattergeo": [
           {
            "marker": {
             "colorbar": {
              "outlinewidth": 0,
              "ticks": ""
             }
            },
            "type": "scattergeo"
           }
          ],
          "scattergl": [
           {
            "marker": {
             "colorbar": {
              "outlinewidth": 0,
              "ticks": ""
             }
            },
            "type": "scattergl"
           }
          ],
          "scattermapbox": [
           {
            "marker": {
             "colorbar": {
              "outlinewidth": 0,
              "ticks": ""
             }
            },
            "type": "scattermapbox"
           }
          ],
          "scatterpolar": [
           {
            "marker": {
             "colorbar": {
              "outlinewidth": 0,
              "ticks": ""
             }
            },
            "type": "scatterpolar"
           }
          ],
          "scatterpolargl": [
           {
            "marker": {
             "colorbar": {
              "outlinewidth": 0,
              "ticks": ""
             }
            },
            "type": "scatterpolargl"
           }
          ],
          "scatterternary": [
           {
            "marker": {
             "colorbar": {
              "outlinewidth": 0,
              "ticks": ""
             }
            },
            "type": "scatterternary"
           }
          ],
          "surface": [
           {
            "colorbar": {
             "outlinewidth": 0,
             "ticks": ""
            },
            "colorscale": [
             [
              0,
              "#0d0887"
             ],
             [
              0.1111111111111111,
              "#46039f"
             ],
             [
              0.2222222222222222,
              "#7201a8"
             ],
             [
              0.3333333333333333,
              "#9c179e"
             ],
             [
              0.4444444444444444,
              "#bd3786"
             ],
             [
              0.5555555555555556,
              "#d8576b"
             ],
             [
              0.6666666666666666,
              "#ed7953"
             ],
             [
              0.7777777777777778,
              "#fb9f3a"
             ],
             [
              0.8888888888888888,
              "#fdca26"
             ],
             [
              1,
              "#f0f921"
             ]
            ],
            "type": "surface"
           }
          ],
          "table": [
           {
            "cells": {
             "fill": {
              "color": "#EBF0F8"
             },
             "line": {
              "color": "white"
             }
            },
            "header": {
             "fill": {
              "color": "#C8D4E3"
             },
             "line": {
              "color": "white"
             }
            },
            "type": "table"
           }
          ]
         },
         "layout": {
          "annotationdefaults": {
           "arrowcolor": "#2a3f5f",
           "arrowhead": 0,
           "arrowwidth": 1
          },
          "autotypenumbers": "strict",
          "coloraxis": {
           "colorbar": {
            "outlinewidth": 0,
            "ticks": ""
           }
          },
          "colorscale": {
           "diverging": [
            [
             0,
             "#8e0152"
            ],
            [
             0.1,
             "#c51b7d"
            ],
            [
             0.2,
             "#de77ae"
            ],
            [
             0.3,
             "#f1b6da"
            ],
            [
             0.4,
             "#fde0ef"
            ],
            [
             0.5,
             "#f7f7f7"
            ],
            [
             0.6,
             "#e6f5d0"
            ],
            [
             0.7,
             "#b8e186"
            ],
            [
             0.8,
             "#7fbc41"
            ],
            [
             0.9,
             "#4d9221"
            ],
            [
             1,
             "#276419"
            ]
           ],
           "sequential": [
            [
             0,
             "#0d0887"
            ],
            [
             0.1111111111111111,
             "#46039f"
            ],
            [
             0.2222222222222222,
             "#7201a8"
            ],
            [
             0.3333333333333333,
             "#9c179e"
            ],
            [
             0.4444444444444444,
             "#bd3786"
            ],
            [
             0.5555555555555556,
             "#d8576b"
            ],
            [
             0.6666666666666666,
             "#ed7953"
            ],
            [
             0.7777777777777778,
             "#fb9f3a"
            ],
            [
             0.8888888888888888,
             "#fdca26"
            ],
            [
             1,
             "#f0f921"
            ]
           ],
           "sequentialminus": [
            [
             0,
             "#0d0887"
            ],
            [
             0.1111111111111111,
             "#46039f"
            ],
            [
             0.2222222222222222,
             "#7201a8"
            ],
            [
             0.3333333333333333,
             "#9c179e"
            ],
            [
             0.4444444444444444,
             "#bd3786"
            ],
            [
             0.5555555555555556,
             "#d8576b"
            ],
            [
             0.6666666666666666,
             "#ed7953"
            ],
            [
             0.7777777777777778,
             "#fb9f3a"
            ],
            [
             0.8888888888888888,
             "#fdca26"
            ],
            [
             1,
             "#f0f921"
            ]
           ]
          },
          "colorway": [
           "#636efa",
           "#EF553B",
           "#00cc96",
           "#ab63fa",
           "#FFA15A",
           "#19d3f3",
           "#FF6692",
           "#B6E880",
           "#FF97FF",
           "#FECB52"
          ],
          "font": {
           "color": "#2a3f5f"
          },
          "geo": {
           "bgcolor": "white",
           "lakecolor": "white",
           "landcolor": "#E5ECF6",
           "showlakes": true,
           "showland": true,
           "subunitcolor": "white"
          },
          "hoverlabel": {
           "align": "left"
          },
          "hovermode": "closest",
          "mapbox": {
           "style": "light"
          },
          "paper_bgcolor": "white",
          "plot_bgcolor": "#E5ECF6",
          "polar": {
           "angularaxis": {
            "gridcolor": "white",
            "linecolor": "white",
            "ticks": ""
           },
           "bgcolor": "#E5ECF6",
           "radialaxis": {
            "gridcolor": "white",
            "linecolor": "white",
            "ticks": ""
           }
          },
          "scene": {
           "xaxis": {
            "backgroundcolor": "#E5ECF6",
            "gridcolor": "white",
            "gridwidth": 2,
            "linecolor": "white",
            "showbackground": true,
            "ticks": "",
            "zerolinecolor": "white"
           },
           "yaxis": {
            "backgroundcolor": "#E5ECF6",
            "gridcolor": "white",
            "gridwidth": 2,
            "linecolor": "white",
            "showbackground": true,
            "ticks": "",
            "zerolinecolor": "white"
           },
           "zaxis": {
            "backgroundcolor": "#E5ECF6",
            "gridcolor": "white",
            "gridwidth": 2,
            "linecolor": "white",
            "showbackground": true,
            "ticks": "",
            "zerolinecolor": "white"
           }
          },
          "shapedefaults": {
           "line": {
            "color": "#2a3f5f"
           }
          },
          "ternary": {
           "aaxis": {
            "gridcolor": "white",
            "linecolor": "white",
            "ticks": ""
           },
           "baxis": {
            "gridcolor": "white",
            "linecolor": "white",
            "ticks": ""
           },
           "bgcolor": "#E5ECF6",
           "caxis": {
            "gridcolor": "white",
            "linecolor": "white",
            "ticks": ""
           }
          },
          "title": {
           "x": 0.05
          },
          "xaxis": {
           "automargin": true,
           "gridcolor": "white",
           "linecolor": "white",
           "ticks": "",
           "title": {
            "standoff": 15
           },
           "zerolinecolor": "white",
           "zerolinewidth": 2
          },
          "yaxis": {
           "automargin": true,
           "gridcolor": "white",
           "linecolor": "white",
           "ticks": "",
           "title": {
            "standoff": 15
           },
           "zerolinecolor": "white",
           "zerolinewidth": 2
          }
         }
        },
        "title": {
         "text": " Bar plot bivariate  Example"
        },
        "xaxis": {
         "title": {
          "text": "X-axis Label"
         }
        },
        "yaxis": {
         "title": {
          "text": "Y-axis Label"
         }
        }
       }
      }
     },
     "metadata": {},
     "output_type": "display_data"
    },
    {
     "data": {
      "application/vnd.plotly.v1+json": {
       "config": {
        "plotlyServerURL": "https://plot.ly"
       },
       "data": [
        {
         "alignmentgroup": "True",
         "hovertemplate": "smoker=No<br>sex=%{x}<br>total_bill=%{y}<extra></extra>",
         "legendgroup": "No",
         "marker": {
          "color": "#636efa",
          "pattern": {
           "shape": ""
          }
         },
         "name": "No",
         "offsetgroup": "No",
         "orientation": "v",
         "showlegend": true,
         "textposition": "auto",
         "type": "bar",
         "x": [
          "Female",
          "Male",
          "Male",
          "Male",
          "Female",
          "Male",
          "Male",
          "Male",
          "Male",
          "Male",
          "Male",
          "Female",
          "Male",
          "Male",
          "Female",
          "Male",
          "Female",
          "Male",
          "Female",
          "Male",
          "Male",
          "Female",
          "Female",
          "Male",
          "Male",
          "Male",
          "Male",
          "Male",
          "Male",
          "Female",
          "Male",
          "Male",
          "Female",
          "Female",
          "Male",
          "Male",
          "Male",
          "Female",
          "Male",
          "Male",
          "Male",
          "Male",
          "Male",
          "Male",
          "Male",
          "Male",
          "Male",
          "Male",
          "Male",
          "Male",
          "Male",
          "Female",
          "Female",
          "Male",
          "Male",
          "Male",
          "Female",
          "Male",
          "Male",
          "Male",
          "Female",
          "Male",
          "Male",
          "Female",
          "Female",
          "Male",
          "Male",
          "Male",
          "Male",
          "Male",
          "Female",
          "Male",
          "Female",
          "Male",
          "Male",
          "Male",
          "Male",
          "Male",
          "Female",
          "Male",
          "Female",
          "Male",
          "Male",
          "Female",
          "Male",
          "Male",
          "Female",
          "Female",
          "Male",
          "Female",
          "Female",
          "Female",
          "Male",
          "Female",
          "Male",
          "Male",
          "Female",
          "Female",
          "Male",
          "Female",
          "Female",
          "Male",
          "Male",
          "Female",
          "Female",
          "Female",
          "Female",
          "Female",
          "Female",
          "Female",
          "Female",
          "Female",
          "Male",
          "Male",
          "Female",
          "Female",
          "Female",
          "Female",
          "Female",
          "Male",
          "Male",
          "Male",
          "Male",
          "Male",
          "Male",
          "Male",
          "Female",
          "Male",
          "Female",
          "Female",
          "Male",
          "Male",
          "Male",
          "Female",
          "Male",
          "Male",
          "Male",
          "Male",
          "Male",
          "Male",
          "Male",
          "Female",
          "Male",
          "Male",
          "Male",
          "Male",
          "Male",
          "Female",
          "Male",
          "Male",
          "Female"
         ],
         "xaxis": "x",
         "y": [
          16.99,
          10.34,
          21.01,
          23.68,
          24.59,
          25.29,
          8.77,
          26.88,
          15.04,
          14.78,
          10.27,
          35.26,
          15.42,
          18.43,
          14.83,
          21.58,
          10.33,
          16.29,
          16.97,
          20.65,
          17.92,
          20.29,
          15.77,
          39.42,
          19.82,
          17.81,
          13.37,
          12.69,
          21.7,
          19.65,
          9.55,
          18.35,
          15.06,
          20.69,
          17.78,
          24.06,
          16.31,
          16.93,
          18.69,
          31.27,
          16.04,
          17.46,
          13.94,
          9.68,
          30.4,
          18.29,
          22.23,
          32.4,
          28.55,
          18.04,
          12.54,
          10.29,
          34.81,
          9.94,
          25.56,
          19.49,
          26.41,
          48.27,
          17.59,
          20.08,
          16.45,
          20.23,
          12.02,
          17.07,
          14.73,
          10.51,
          27.2,
          22.76,
          17.29,
          16.66,
          10.07,
          15.98,
          34.83,
          13.03,
          18.28,
          24.71,
          21.16,
          22.49,
          22.75,
          12.46,
          20.92,
          18.24,
          14,
          7.25,
          38.07,
          23.95,
          25.71,
          17.31,
          29.93,
          10.65,
          12.43,
          24.08,
          11.69,
          13.42,
          14.26,
          15.95,
          12.48,
          29.8,
          8.52,
          14.52,
          11.38,
          22.82,
          19.08,
          20.27,
          11.17,
          12.26,
          18.26,
          8.51,
          10.33,
          14.15,
          13.16,
          17.47,
          34.3,
          41.19,
          27.05,
          16.43,
          8.35,
          18.64,
          11.87,
          9.78,
          7.51,
          14.07,
          13.13,
          17.26,
          24.55,
          19.77,
          29.85,
          48.17,
          25,
          13.39,
          16.49,
          21.5,
          12.66,
          16.21,
          13.81,
          24.52,
          20.76,
          31.71,
          20.69,
          7.56,
          48.33,
          15.98,
          20.45,
          13.28,
          11.61,
          10.77,
          10.07,
          35.83,
          29.03,
          17.82,
          18.78
         ],
         "yaxis": "y"
        },
        {
         "alignmentgroup": "True",
         "hovertemplate": "smoker=Yes<br>sex=%{x}<br>total_bill=%{y}<extra></extra>",
         "legendgroup": "Yes",
         "marker": {
          "color": "#EF553B",
          "pattern": {
           "shape": ""
          }
         },
         "name": "Yes",
         "offsetgroup": "Yes",
         "orientation": "v",
         "showlegend": true,
         "textposition": "auto",
         "type": "bar",
         "x": [
          "Male",
          "Male",
          "Male",
          "Male",
          "Male",
          "Male",
          "Female",
          "Male",
          "Female",
          "Female",
          "Male",
          "Male",
          "Male",
          "Male",
          "Female",
          "Female",
          "Male",
          "Male",
          "Male",
          "Male",
          "Female",
          "Female",
          "Female",
          "Female",
          "Male",
          "Male",
          "Male",
          "Female",
          "Male",
          "Female",
          "Female",
          "Female",
          "Male",
          "Male",
          "Male",
          "Male",
          "Male",
          "Male",
          "Male",
          "Male",
          "Female",
          "Male",
          "Male",
          "Male",
          "Male",
          "Male",
          "Male",
          "Female",
          "Male",
          "Female",
          "Male",
          "Male",
          "Female",
          "Male",
          "Male",
          "Male",
          "Male",
          "Female",
          "Female",
          "Male",
          "Male",
          "Female",
          "Female",
          "Female",
          "Male",
          "Female",
          "Male",
          "Male",
          "Male",
          "Female",
          "Male",
          "Male",
          "Female",
          "Female",
          "Female",
          "Male",
          "Male",
          "Male",
          "Female",
          "Male",
          "Female",
          "Male",
          "Male",
          "Female",
          "Female",
          "Female",
          "Male",
          "Male",
          "Male",
          "Male",
          "Male",
          "Female",
          "Male"
         ],
         "xaxis": "x",
         "y": [
          38.01,
          11.24,
          20.29,
          13.81,
          11.02,
          18.29,
          3.07,
          15.01,
          26.86,
          25.28,
          17.92,
          19.44,
          32.68,
          28.97,
          5.75,
          16.32,
          40.17,
          27.28,
          12.03,
          21.01,
          11.35,
          15.38,
          44.3,
          22.42,
          15.36,
          20.49,
          25.21,
          14.31,
          16,
          17.51,
          10.59,
          10.63,
          50.81,
          15.81,
          7.25,
          31.85,
          16.82,
          32.9,
          17.89,
          14.48,
          9.6,
          34.63,
          34.65,
          23.33,
          45.35,
          23.17,
          40.55,
          20.9,
          30.46,
          18.15,
          23.1,
          15.69,
          19.81,
          28.44,
          15.48,
          16.58,
          10.34,
          43.11,
          13,
          13.51,
          18.71,
          12.74,
          13,
          16.4,
          20.53,
          16.47,
          26.59,
          38.73,
          24.27,
          12.76,
          30.06,
          25.89,
          13.27,
          28.17,
          12.9,
          28.15,
          11.59,
          7.74,
          30.14,
          12.16,
          13.42,
          8.58,
          13.42,
          16.27,
          10.09,
          22.12,
          24.01,
          15.69,
          15.53,
          12.6,
          32.83,
          27.18,
          22.67
         ],
         "yaxis": "y"
        }
       ],
       "layout": {
        "barmode": "group",
        "legend": {
         "title": {
          "text": "smoker"
         },
         "tracegroupgap": 0
        },
        "margin": {
         "t": 60
        },
        "template": {
         "data": {
          "bar": [
           {
            "error_x": {
             "color": "#2a3f5f"
            },
            "error_y": {
             "color": "#2a3f5f"
            },
            "marker": {
             "line": {
              "color": "#E5ECF6",
              "width": 0.5
             },
             "pattern": {
              "fillmode": "overlay",
              "size": 10,
              "solidity": 0.2
             }
            },
            "type": "bar"
           }
          ],
          "barpolar": [
           {
            "marker": {
             "line": {
              "color": "#E5ECF6",
              "width": 0.5
             },
             "pattern": {
              "fillmode": "overlay",
              "size": 10,
              "solidity": 0.2
             }
            },
            "type": "barpolar"
           }
          ],
          "carpet": [
           {
            "aaxis": {
             "endlinecolor": "#2a3f5f",
             "gridcolor": "white",
             "linecolor": "white",
             "minorgridcolor": "white",
             "startlinecolor": "#2a3f5f"
            },
            "baxis": {
             "endlinecolor": "#2a3f5f",
             "gridcolor": "white",
             "linecolor": "white",
             "minorgridcolor": "white",
             "startlinecolor": "#2a3f5f"
            },
            "type": "carpet"
           }
          ],
          "choropleth": [
           {
            "colorbar": {
             "outlinewidth": 0,
             "ticks": ""
            },
            "type": "choropleth"
           }
          ],
          "contour": [
           {
            "colorbar": {
             "outlinewidth": 0,
             "ticks": ""
            },
            "colorscale": [
             [
              0,
              "#0d0887"
             ],
             [
              0.1111111111111111,
              "#46039f"
             ],
             [
              0.2222222222222222,
              "#7201a8"
             ],
             [
              0.3333333333333333,
              "#9c179e"
             ],
             [
              0.4444444444444444,
              "#bd3786"
             ],
             [
              0.5555555555555556,
              "#d8576b"
             ],
             [
              0.6666666666666666,
              "#ed7953"
             ],
             [
              0.7777777777777778,
              "#fb9f3a"
             ],
             [
              0.8888888888888888,
              "#fdca26"
             ],
             [
              1,
              "#f0f921"
             ]
            ],
            "type": "contour"
           }
          ],
          "contourcarpet": [
           {
            "colorbar": {
             "outlinewidth": 0,
             "ticks": ""
            },
            "type": "contourcarpet"
           }
          ],
          "heatmap": [
           {
            "colorbar": {
             "outlinewidth": 0,
             "ticks": ""
            },
            "colorscale": [
             [
              0,
              "#0d0887"
             ],
             [
              0.1111111111111111,
              "#46039f"
             ],
             [
              0.2222222222222222,
              "#7201a8"
             ],
             [
              0.3333333333333333,
              "#9c179e"
             ],
             [
              0.4444444444444444,
              "#bd3786"
             ],
             [
              0.5555555555555556,
              "#d8576b"
             ],
             [
              0.6666666666666666,
              "#ed7953"
             ],
             [
              0.7777777777777778,
              "#fb9f3a"
             ],
             [
              0.8888888888888888,
              "#fdca26"
             ],
             [
              1,
              "#f0f921"
             ]
            ],
            "type": "heatmap"
           }
          ],
          "heatmapgl": [
           {
            "colorbar": {
             "outlinewidth": 0,
             "ticks": ""
            },
            "colorscale": [
             [
              0,
              "#0d0887"
             ],
             [
              0.1111111111111111,
              "#46039f"
             ],
             [
              0.2222222222222222,
              "#7201a8"
             ],
             [
              0.3333333333333333,
              "#9c179e"
             ],
             [
              0.4444444444444444,
              "#bd3786"
             ],
             [
              0.5555555555555556,
              "#d8576b"
             ],
             [
              0.6666666666666666,
              "#ed7953"
             ],
             [
              0.7777777777777778,
              "#fb9f3a"
             ],
             [
              0.8888888888888888,
              "#fdca26"
             ],
             [
              1,
              "#f0f921"
             ]
            ],
            "type": "heatmapgl"
           }
          ],
          "histogram": [
           {
            "marker": {
             "pattern": {
              "fillmode": "overlay",
              "size": 10,
              "solidity": 0.2
             }
            },
            "type": "histogram"
           }
          ],
          "histogram2d": [
           {
            "colorbar": {
             "outlinewidth": 0,
             "ticks": ""
            },
            "colorscale": [
             [
              0,
              "#0d0887"
             ],
             [
              0.1111111111111111,
              "#46039f"
             ],
             [
              0.2222222222222222,
              "#7201a8"
             ],
             [
              0.3333333333333333,
              "#9c179e"
             ],
             [
              0.4444444444444444,
              "#bd3786"
             ],
             [
              0.5555555555555556,
              "#d8576b"
             ],
             [
              0.6666666666666666,
              "#ed7953"
             ],
             [
              0.7777777777777778,
              "#fb9f3a"
             ],
             [
              0.8888888888888888,
              "#fdca26"
             ],
             [
              1,
              "#f0f921"
             ]
            ],
            "type": "histogram2d"
           }
          ],
          "histogram2dcontour": [
           {
            "colorbar": {
             "outlinewidth": 0,
             "ticks": ""
            },
            "colorscale": [
             [
              0,
              "#0d0887"
             ],
             [
              0.1111111111111111,
              "#46039f"
             ],
             [
              0.2222222222222222,
              "#7201a8"
             ],
             [
              0.3333333333333333,
              "#9c179e"
             ],
             [
              0.4444444444444444,
              "#bd3786"
             ],
             [
              0.5555555555555556,
              "#d8576b"
             ],
             [
              0.6666666666666666,
              "#ed7953"
             ],
             [
              0.7777777777777778,
              "#fb9f3a"
             ],
             [
              0.8888888888888888,
              "#fdca26"
             ],
             [
              1,
              "#f0f921"
             ]
            ],
            "type": "histogram2dcontour"
           }
          ],
          "mesh3d": [
           {
            "colorbar": {
             "outlinewidth": 0,
             "ticks": ""
            },
            "type": "mesh3d"
           }
          ],
          "parcoords": [
           {
            "line": {
             "colorbar": {
              "outlinewidth": 0,
              "ticks": ""
             }
            },
            "type": "parcoords"
           }
          ],
          "pie": [
           {
            "automargin": true,
            "type": "pie"
           }
          ],
          "scatter": [
           {
            "fillpattern": {
             "fillmode": "overlay",
             "size": 10,
             "solidity": 0.2
            },
            "type": "scatter"
           }
          ],
          "scatter3d": [
           {
            "line": {
             "colorbar": {
              "outlinewidth": 0,
              "ticks": ""
             }
            },
            "marker": {
             "colorbar": {
              "outlinewidth": 0,
              "ticks": ""
             }
            },
            "type": "scatter3d"
           }
          ],
          "scattercarpet": [
           {
            "marker": {
             "colorbar": {
              "outlinewidth": 0,
              "ticks": ""
             }
            },
            "type": "scattercarpet"
           }
          ],
          "scattergeo": [
           {
            "marker": {
             "colorbar": {
              "outlinewidth": 0,
              "ticks": ""
             }
            },
            "type": "scattergeo"
           }
          ],
          "scattergl": [
           {
            "marker": {
             "colorbar": {
              "outlinewidth": 0,
              "ticks": ""
             }
            },
            "type": "scattergl"
           }
          ],
          "scattermapbox": [
           {
            "marker": {
             "colorbar": {
              "outlinewidth": 0,
              "ticks": ""
             }
            },
            "type": "scattermapbox"
           }
          ],
          "scatterpolar": [
           {
            "marker": {
             "colorbar": {
              "outlinewidth": 0,
              "ticks": ""
             }
            },
            "type": "scatterpolar"
           }
          ],
          "scatterpolargl": [
           {
            "marker": {
             "colorbar": {
              "outlinewidth": 0,
              "ticks": ""
             }
            },
            "type": "scatterpolargl"
           }
          ],
          "scatterternary": [
           {
            "marker": {
             "colorbar": {
              "outlinewidth": 0,
              "ticks": ""
             }
            },
            "type": "scatterternary"
           }
          ],
          "surface": [
           {
            "colorbar": {
             "outlinewidth": 0,
             "ticks": ""
            },
            "colorscale": [
             [
              0,
              "#0d0887"
             ],
             [
              0.1111111111111111,
              "#46039f"
             ],
             [
              0.2222222222222222,
              "#7201a8"
             ],
             [
              0.3333333333333333,
              "#9c179e"
             ],
             [
              0.4444444444444444,
              "#bd3786"
             ],
             [
              0.5555555555555556,
              "#d8576b"
             ],
             [
              0.6666666666666666,
              "#ed7953"
             ],
             [
              0.7777777777777778,
              "#fb9f3a"
             ],
             [
              0.8888888888888888,
              "#fdca26"
             ],
             [
              1,
              "#f0f921"
             ]
            ],
            "type": "surface"
           }
          ],
          "table": [
           {
            "cells": {
             "fill": {
              "color": "#EBF0F8"
             },
             "line": {
              "color": "white"
             }
            },
            "header": {
             "fill": {
              "color": "#C8D4E3"
             },
             "line": {
              "color": "white"
             }
            },
            "type": "table"
           }
          ]
         },
         "layout": {
          "annotationdefaults": {
           "arrowcolor": "#2a3f5f",
           "arrowhead": 0,
           "arrowwidth": 1
          },
          "autotypenumbers": "strict",
          "coloraxis": {
           "colorbar": {
            "outlinewidth": 0,
            "ticks": ""
           }
          },
          "colorscale": {
           "diverging": [
            [
             0,
             "#8e0152"
            ],
            [
             0.1,
             "#c51b7d"
            ],
            [
             0.2,
             "#de77ae"
            ],
            [
             0.3,
             "#f1b6da"
            ],
            [
             0.4,
             "#fde0ef"
            ],
            [
             0.5,
             "#f7f7f7"
            ],
            [
             0.6,
             "#e6f5d0"
            ],
            [
             0.7,
             "#b8e186"
            ],
            [
             0.8,
             "#7fbc41"
            ],
            [
             0.9,
             "#4d9221"
            ],
            [
             1,
             "#276419"
            ]
           ],
           "sequential": [
            [
             0,
             "#0d0887"
            ],
            [
             0.1111111111111111,
             "#46039f"
            ],
            [
             0.2222222222222222,
             "#7201a8"
            ],
            [
             0.3333333333333333,
             "#9c179e"
            ],
            [
             0.4444444444444444,
             "#bd3786"
            ],
            [
             0.5555555555555556,
             "#d8576b"
            ],
            [
             0.6666666666666666,
             "#ed7953"
            ],
            [
             0.7777777777777778,
             "#fb9f3a"
            ],
            [
             0.8888888888888888,
             "#fdca26"
            ],
            [
             1,
             "#f0f921"
            ]
           ],
           "sequentialminus": [
            [
             0,
             "#0d0887"
            ],
            [
             0.1111111111111111,
             "#46039f"
            ],
            [
             0.2222222222222222,
             "#7201a8"
            ],
            [
             0.3333333333333333,
             "#9c179e"
            ],
            [
             0.4444444444444444,
             "#bd3786"
            ],
            [
             0.5555555555555556,
             "#d8576b"
            ],
            [
             0.6666666666666666,
             "#ed7953"
            ],
            [
             0.7777777777777778,
             "#fb9f3a"
            ],
            [
             0.8888888888888888,
             "#fdca26"
            ],
            [
             1,
             "#f0f921"
            ]
           ]
          },
          "colorway": [
           "#636efa",
           "#EF553B",
           "#00cc96",
           "#ab63fa",
           "#FFA15A",
           "#19d3f3",
           "#FF6692",
           "#B6E880",
           "#FF97FF",
           "#FECB52"
          ],
          "font": {
           "color": "#2a3f5f"
          },
          "geo": {
           "bgcolor": "white",
           "lakecolor": "white",
           "landcolor": "#E5ECF6",
           "showlakes": true,
           "showland": true,
           "subunitcolor": "white"
          },
          "hoverlabel": {
           "align": "left"
          },
          "hovermode": "closest",
          "mapbox": {
           "style": "light"
          },
          "paper_bgcolor": "white",
          "plot_bgcolor": "#E5ECF6",
          "polar": {
           "angularaxis": {
            "gridcolor": "white",
            "linecolor": "white",
            "ticks": ""
           },
           "bgcolor": "#E5ECF6",
           "radialaxis": {
            "gridcolor": "white",
            "linecolor": "white",
            "ticks": ""
           }
          },
          "scene": {
           "xaxis": {
            "backgroundcolor": "#E5ECF6",
            "gridcolor": "white",
            "gridwidth": 2,
            "linecolor": "white",
            "showbackground": true,
            "ticks": "",
            "zerolinecolor": "white"
           },
           "yaxis": {
            "backgroundcolor": "#E5ECF6",
            "gridcolor": "white",
            "gridwidth": 2,
            "linecolor": "white",
            "showbackground": true,
            "ticks": "",
            "zerolinecolor": "white"
           },
           "zaxis": {
            "backgroundcolor": "#E5ECF6",
            "gridcolor": "white",
            "gridwidth": 2,
            "linecolor": "white",
            "showbackground": true,
            "ticks": "",
            "zerolinecolor": "white"
           }
          },
          "shapedefaults": {
           "line": {
            "color": "#2a3f5f"
           }
          },
          "ternary": {
           "aaxis": {
            "gridcolor": "white",
            "linecolor": "white",
            "ticks": ""
           },
           "baxis": {
            "gridcolor": "white",
            "linecolor": "white",
            "ticks": ""
           },
           "bgcolor": "#E5ECF6",
           "caxis": {
            "gridcolor": "white",
            "linecolor": "white",
            "ticks": ""
           }
          },
          "title": {
           "x": 0.05
          },
          "xaxis": {
           "automargin": true,
           "gridcolor": "white",
           "linecolor": "white",
           "ticks": "",
           "title": {
            "standoff": 15
           },
           "zerolinecolor": "white",
           "zerolinewidth": 2
          },
          "yaxis": {
           "automargin": true,
           "gridcolor": "white",
           "linecolor": "white",
           "ticks": "",
           "title": {
            "standoff": 15
           },
           "zerolinecolor": "white",
           "zerolinewidth": 2
          }
         }
        },
        "xaxis": {
         "anchor": "y",
         "domain": [
          0,
          1
         ],
         "title": {
          "text": "sex"
         }
        },
        "yaxis": {
         "anchor": "x",
         "domain": [
          0,
          1
         ],
         "title": {
          "text": "total_bill"
         }
        }
       }
      }
     },
     "metadata": {},
     "output_type": "display_data"
    },
    {
     "data": {
      "application/vnd.plotly.v1+json": {
       "config": {
        "plotlyServerURL": "https://plot.ly"
       },
       "data": [
        {
         "alignmentgroup": "True",
         "bingroup": "x",
         "histfunc": "sum",
         "hovertemplate": "smoker=No<br>sex=%{x}<br>sum of total_bill=%{y}<extra></extra>",
         "legendgroup": "No",
         "marker": {
          "color": "#636efa",
          "pattern": {
           "shape": ""
          }
         },
         "name": "No",
         "offsetgroup": "No",
         "orientation": "v",
         "showlegend": true,
         "type": "histogram",
         "x": [
          "Female",
          "Male",
          "Male",
          "Male",
          "Female",
          "Male",
          "Male",
          "Male",
          "Male",
          "Male",
          "Male",
          "Female",
          "Male",
          "Male",
          "Female",
          "Male",
          "Female",
          "Male",
          "Female",
          "Male",
          "Male",
          "Female",
          "Female",
          "Male",
          "Male",
          "Male",
          "Male",
          "Male",
          "Male",
          "Female",
          "Male",
          "Male",
          "Female",
          "Female",
          "Male",
          "Male",
          "Male",
          "Female",
          "Male",
          "Male",
          "Male",
          "Male",
          "Male",
          "Male",
          "Male",
          "Male",
          "Male",
          "Male",
          "Male",
          "Male",
          "Male",
          "Female",
          "Female",
          "Male",
          "Male",
          "Male",
          "Female",
          "Male",
          "Male",
          "Male",
          "Female",
          "Male",
          "Male",
          "Female",
          "Female",
          "Male",
          "Male",
          "Male",
          "Male",
          "Male",
          "Female",
          "Male",
          "Female",
          "Male",
          "Male",
          "Male",
          "Male",
          "Male",
          "Female",
          "Male",
          "Female",
          "Male",
          "Male",
          "Female",
          "Male",
          "Male",
          "Female",
          "Female",
          "Male",
          "Female",
          "Female",
          "Female",
          "Male",
          "Female",
          "Male",
          "Male",
          "Female",
          "Female",
          "Male",
          "Female",
          "Female",
          "Male",
          "Male",
          "Female",
          "Female",
          "Female",
          "Female",
          "Female",
          "Female",
          "Female",
          "Female",
          "Female",
          "Male",
          "Male",
          "Female",
          "Female",
          "Female",
          "Female",
          "Female",
          "Male",
          "Male",
          "Male",
          "Male",
          "Male",
          "Male",
          "Male",
          "Female",
          "Male",
          "Female",
          "Female",
          "Male",
          "Male",
          "Male",
          "Female",
          "Male",
          "Male",
          "Male",
          "Male",
          "Male",
          "Male",
          "Male",
          "Female",
          "Male",
          "Male",
          "Male",
          "Male",
          "Male",
          "Female",
          "Male",
          "Male",
          "Female"
         ],
         "xaxis": "x",
         "y": [
          16.99,
          10.34,
          21.01,
          23.68,
          24.59,
          25.29,
          8.77,
          26.88,
          15.04,
          14.78,
          10.27,
          35.26,
          15.42,
          18.43,
          14.83,
          21.58,
          10.33,
          16.29,
          16.97,
          20.65,
          17.92,
          20.29,
          15.77,
          39.42,
          19.82,
          17.81,
          13.37,
          12.69,
          21.7,
          19.65,
          9.55,
          18.35,
          15.06,
          20.69,
          17.78,
          24.06,
          16.31,
          16.93,
          18.69,
          31.27,
          16.04,
          17.46,
          13.94,
          9.68,
          30.4,
          18.29,
          22.23,
          32.4,
          28.55,
          18.04,
          12.54,
          10.29,
          34.81,
          9.94,
          25.56,
          19.49,
          26.41,
          48.27,
          17.59,
          20.08,
          16.45,
          20.23,
          12.02,
          17.07,
          14.73,
          10.51,
          27.2,
          22.76,
          17.29,
          16.66,
          10.07,
          15.98,
          34.83,
          13.03,
          18.28,
          24.71,
          21.16,
          22.49,
          22.75,
          12.46,
          20.92,
          18.24,
          14,
          7.25,
          38.07,
          23.95,
          25.71,
          17.31,
          29.93,
          10.65,
          12.43,
          24.08,
          11.69,
          13.42,
          14.26,
          15.95,
          12.48,
          29.8,
          8.52,
          14.52,
          11.38,
          22.82,
          19.08,
          20.27,
          11.17,
          12.26,
          18.26,
          8.51,
          10.33,
          14.15,
          13.16,
          17.47,
          34.3,
          41.19,
          27.05,
          16.43,
          8.35,
          18.64,
          11.87,
          9.78,
          7.51,
          14.07,
          13.13,
          17.26,
          24.55,
          19.77,
          29.85,
          48.17,
          25,
          13.39,
          16.49,
          21.5,
          12.66,
          16.21,
          13.81,
          24.52,
          20.76,
          31.71,
          20.69,
          7.56,
          48.33,
          15.98,
          20.45,
          13.28,
          11.61,
          10.77,
          10.07,
          35.83,
          29.03,
          17.82,
          18.78
         ],
         "yaxis": "y"
        },
        {
         "alignmentgroup": "True",
         "bingroup": "x",
         "histfunc": "sum",
         "hovertemplate": "smoker=Yes<br>sex=%{x}<br>sum of total_bill=%{y}<extra></extra>",
         "legendgroup": "Yes",
         "marker": {
          "color": "#EF553B",
          "pattern": {
           "shape": ""
          }
         },
         "name": "Yes",
         "offsetgroup": "Yes",
         "orientation": "v",
         "showlegend": true,
         "type": "histogram",
         "x": [
          "Male",
          "Male",
          "Male",
          "Male",
          "Male",
          "Male",
          "Female",
          "Male",
          "Female",
          "Female",
          "Male",
          "Male",
          "Male",
          "Male",
          "Female",
          "Female",
          "Male",
          "Male",
          "Male",
          "Male",
          "Female",
          "Female",
          "Female",
          "Female",
          "Male",
          "Male",
          "Male",
          "Female",
          "Male",
          "Female",
          "Female",
          "Female",
          "Male",
          "Male",
          "Male",
          "Male",
          "Male",
          "Male",
          "Male",
          "Male",
          "Female",
          "Male",
          "Male",
          "Male",
          "Male",
          "Male",
          "Male",
          "Female",
          "Male",
          "Female",
          "Male",
          "Male",
          "Female",
          "Male",
          "Male",
          "Male",
          "Male",
          "Female",
          "Female",
          "Male",
          "Male",
          "Female",
          "Female",
          "Female",
          "Male",
          "Female",
          "Male",
          "Male",
          "Male",
          "Female",
          "Male",
          "Male",
          "Female",
          "Female",
          "Female",
          "Male",
          "Male",
          "Male",
          "Female",
          "Male",
          "Female",
          "Male",
          "Male",
          "Female",
          "Female",
          "Female",
          "Male",
          "Male",
          "Male",
          "Male",
          "Male",
          "Female",
          "Male"
         ],
         "xaxis": "x",
         "y": [
          38.01,
          11.24,
          20.29,
          13.81,
          11.02,
          18.29,
          3.07,
          15.01,
          26.86,
          25.28,
          17.92,
          19.44,
          32.68,
          28.97,
          5.75,
          16.32,
          40.17,
          27.28,
          12.03,
          21.01,
          11.35,
          15.38,
          44.3,
          22.42,
          15.36,
          20.49,
          25.21,
          14.31,
          16,
          17.51,
          10.59,
          10.63,
          50.81,
          15.81,
          7.25,
          31.85,
          16.82,
          32.9,
          17.89,
          14.48,
          9.6,
          34.63,
          34.65,
          23.33,
          45.35,
          23.17,
          40.55,
          20.9,
          30.46,
          18.15,
          23.1,
          15.69,
          19.81,
          28.44,
          15.48,
          16.58,
          10.34,
          43.11,
          13,
          13.51,
          18.71,
          12.74,
          13,
          16.4,
          20.53,
          16.47,
          26.59,
          38.73,
          24.27,
          12.76,
          30.06,
          25.89,
          13.27,
          28.17,
          12.9,
          28.15,
          11.59,
          7.74,
          30.14,
          12.16,
          13.42,
          8.58,
          13.42,
          16.27,
          10.09,
          22.12,
          24.01,
          15.69,
          15.53,
          12.6,
          32.83,
          27.18,
          22.67
         ],
         "yaxis": "y"
        }
       ],
       "layout": {
        "barmode": "group",
        "legend": {
         "title": {
          "text": "smoker"
         },
         "tracegroupgap": 0
        },
        "margin": {
         "t": 60
        },
        "template": {
         "data": {
          "bar": [
           {
            "error_x": {
             "color": "#2a3f5f"
            },
            "error_y": {
             "color": "#2a3f5f"
            },
            "marker": {
             "line": {
              "color": "#E5ECF6",
              "width": 0.5
             },
             "pattern": {
              "fillmode": "overlay",
              "size": 10,
              "solidity": 0.2
             }
            },
            "type": "bar"
           }
          ],
          "barpolar": [
           {
            "marker": {
             "line": {
              "color": "#E5ECF6",
              "width": 0.5
             },
             "pattern": {
              "fillmode": "overlay",
              "size": 10,
              "solidity": 0.2
             }
            },
            "type": "barpolar"
           }
          ],
          "carpet": [
           {
            "aaxis": {
             "endlinecolor": "#2a3f5f",
             "gridcolor": "white",
             "linecolor": "white",
             "minorgridcolor": "white",
             "startlinecolor": "#2a3f5f"
            },
            "baxis": {
             "endlinecolor": "#2a3f5f",
             "gridcolor": "white",
             "linecolor": "white",
             "minorgridcolor": "white",
             "startlinecolor": "#2a3f5f"
            },
            "type": "carpet"
           }
          ],
          "choropleth": [
           {
            "colorbar": {
             "outlinewidth": 0,
             "ticks": ""
            },
            "type": "choropleth"
           }
          ],
          "contour": [
           {
            "colorbar": {
             "outlinewidth": 0,
             "ticks": ""
            },
            "colorscale": [
             [
              0,
              "#0d0887"
             ],
             [
              0.1111111111111111,
              "#46039f"
             ],
             [
              0.2222222222222222,
              "#7201a8"
             ],
             [
              0.3333333333333333,
              "#9c179e"
             ],
             [
              0.4444444444444444,
              "#bd3786"
             ],
             [
              0.5555555555555556,
              "#d8576b"
             ],
             [
              0.6666666666666666,
              "#ed7953"
             ],
             [
              0.7777777777777778,
              "#fb9f3a"
             ],
             [
              0.8888888888888888,
              "#fdca26"
             ],
             [
              1,
              "#f0f921"
             ]
            ],
            "type": "contour"
           }
          ],
          "contourcarpet": [
           {
            "colorbar": {
             "outlinewidth": 0,
             "ticks": ""
            },
            "type": "contourcarpet"
           }
          ],
          "heatmap": [
           {
            "colorbar": {
             "outlinewidth": 0,
             "ticks": ""
            },
            "colorscale": [
             [
              0,
              "#0d0887"
             ],
             [
              0.1111111111111111,
              "#46039f"
             ],
             [
              0.2222222222222222,
              "#7201a8"
             ],
             [
              0.3333333333333333,
              "#9c179e"
             ],
             [
              0.4444444444444444,
              "#bd3786"
             ],
             [
              0.5555555555555556,
              "#d8576b"
             ],
             [
              0.6666666666666666,
              "#ed7953"
             ],
             [
              0.7777777777777778,
              "#fb9f3a"
             ],
             [
              0.8888888888888888,
              "#fdca26"
             ],
             [
              1,
              "#f0f921"
             ]
            ],
            "type": "heatmap"
           }
          ],
          "heatmapgl": [
           {
            "colorbar": {
             "outlinewidth": 0,
             "ticks": ""
            },
            "colorscale": [
             [
              0,
              "#0d0887"
             ],
             [
              0.1111111111111111,
              "#46039f"
             ],
             [
              0.2222222222222222,
              "#7201a8"
             ],
             [
              0.3333333333333333,
              "#9c179e"
             ],
             [
              0.4444444444444444,
              "#bd3786"
             ],
             [
              0.5555555555555556,
              "#d8576b"
             ],
             [
              0.6666666666666666,
              "#ed7953"
             ],
             [
              0.7777777777777778,
              "#fb9f3a"
             ],
             [
              0.8888888888888888,
              "#fdca26"
             ],
             [
              1,
              "#f0f921"
             ]
            ],
            "type": "heatmapgl"
           }
          ],
          "histogram": [
           {
            "marker": {
             "pattern": {
              "fillmode": "overlay",
              "size": 10,
              "solidity": 0.2
             }
            },
            "type": "histogram"
           }
          ],
          "histogram2d": [
           {
            "colorbar": {
             "outlinewidth": 0,
             "ticks": ""
            },
            "colorscale": [
             [
              0,
              "#0d0887"
             ],
             [
              0.1111111111111111,
              "#46039f"
             ],
             [
              0.2222222222222222,
              "#7201a8"
             ],
             [
              0.3333333333333333,
              "#9c179e"
             ],
             [
              0.4444444444444444,
              "#bd3786"
             ],
             [
              0.5555555555555556,
              "#d8576b"
             ],
             [
              0.6666666666666666,
              "#ed7953"
             ],
             [
              0.7777777777777778,
              "#fb9f3a"
             ],
             [
              0.8888888888888888,
              "#fdca26"
             ],
             [
              1,
              "#f0f921"
             ]
            ],
            "type": "histogram2d"
           }
          ],
          "histogram2dcontour": [
           {
            "colorbar": {
             "outlinewidth": 0,
             "ticks": ""
            },
            "colorscale": [
             [
              0,
              "#0d0887"
             ],
             [
              0.1111111111111111,
              "#46039f"
             ],
             [
              0.2222222222222222,
              "#7201a8"
             ],
             [
              0.3333333333333333,
              "#9c179e"
             ],
             [
              0.4444444444444444,
              "#bd3786"
             ],
             [
              0.5555555555555556,
              "#d8576b"
             ],
             [
              0.6666666666666666,
              "#ed7953"
             ],
             [
              0.7777777777777778,
              "#fb9f3a"
             ],
             [
              0.8888888888888888,
              "#fdca26"
             ],
             [
              1,
              "#f0f921"
             ]
            ],
            "type": "histogram2dcontour"
           }
          ],
          "mesh3d": [
           {
            "colorbar": {
             "outlinewidth": 0,
             "ticks": ""
            },
            "type": "mesh3d"
           }
          ],
          "parcoords": [
           {
            "line": {
             "colorbar": {
              "outlinewidth": 0,
              "ticks": ""
             }
            },
            "type": "parcoords"
           }
          ],
          "pie": [
           {
            "automargin": true,
            "type": "pie"
           }
          ],
          "scatter": [
           {
            "fillpattern": {
             "fillmode": "overlay",
             "size": 10,
             "solidity": 0.2
            },
            "type": "scatter"
           }
          ],
          "scatter3d": [
           {
            "line": {
             "colorbar": {
              "outlinewidth": 0,
              "ticks": ""
             }
            },
            "marker": {
             "colorbar": {
              "outlinewidth": 0,
              "ticks": ""
             }
            },
            "type": "scatter3d"
           }
          ],
          "scattercarpet": [
           {
            "marker": {
             "colorbar": {
              "outlinewidth": 0,
              "ticks": ""
             }
            },
            "type": "scattercarpet"
           }
          ],
          "scattergeo": [
           {
            "marker": {
             "colorbar": {
              "outlinewidth": 0,
              "ticks": ""
             }
            },
            "type": "scattergeo"
           }
          ],
          "scattergl": [
           {
            "marker": {
             "colorbar": {
              "outlinewidth": 0,
              "ticks": ""
             }
            },
            "type": "scattergl"
           }
          ],
          "scattermapbox": [
           {
            "marker": {
             "colorbar": {
              "outlinewidth": 0,
              "ticks": ""
             }
            },
            "type": "scattermapbox"
           }
          ],
          "scatterpolar": [
           {
            "marker": {
             "colorbar": {
              "outlinewidth": 0,
              "ticks": ""
             }
            },
            "type": "scatterpolar"
           }
          ],
          "scatterpolargl": [
           {
            "marker": {
             "colorbar": {
              "outlinewidth": 0,
              "ticks": ""
             }
            },
            "type": "scatterpolargl"
           }
          ],
          "scatterternary": [
           {
            "marker": {
             "colorbar": {
              "outlinewidth": 0,
              "ticks": ""
             }
            },
            "type": "scatterternary"
           }
          ],
          "surface": [
           {
            "colorbar": {
             "outlinewidth": 0,
             "ticks": ""
            },
            "colorscale": [
             [
              0,
              "#0d0887"
             ],
             [
              0.1111111111111111,
              "#46039f"
             ],
             [
              0.2222222222222222,
              "#7201a8"
             ],
             [
              0.3333333333333333,
              "#9c179e"
             ],
             [
              0.4444444444444444,
              "#bd3786"
             ],
             [
              0.5555555555555556,
              "#d8576b"
             ],
             [
              0.6666666666666666,
              "#ed7953"
             ],
             [
              0.7777777777777778,
              "#fb9f3a"
             ],
             [
              0.8888888888888888,
              "#fdca26"
             ],
             [
              1,
              "#f0f921"
             ]
            ],
            "type": "surface"
           }
          ],
          "table": [
           {
            "cells": {
             "fill": {
              "color": "#EBF0F8"
             },
             "line": {
              "color": "white"
             }
            },
            "header": {
             "fill": {
              "color": "#C8D4E3"
             },
             "line": {
              "color": "white"
             }
            },
            "type": "table"
           }
          ]
         },
         "layout": {
          "annotationdefaults": {
           "arrowcolor": "#2a3f5f",
           "arrowhead": 0,
           "arrowwidth": 1
          },
          "autotypenumbers": "strict",
          "coloraxis": {
           "colorbar": {
            "outlinewidth": 0,
            "ticks": ""
           }
          },
          "colorscale": {
           "diverging": [
            [
             0,
             "#8e0152"
            ],
            [
             0.1,
             "#c51b7d"
            ],
            [
             0.2,
             "#de77ae"
            ],
            [
             0.3,
             "#f1b6da"
            ],
            [
             0.4,
             "#fde0ef"
            ],
            [
             0.5,
             "#f7f7f7"
            ],
            [
             0.6,
             "#e6f5d0"
            ],
            [
             0.7,
             "#b8e186"
            ],
            [
             0.8,
             "#7fbc41"
            ],
            [
             0.9,
             "#4d9221"
            ],
            [
             1,
             "#276419"
            ]
           ],
           "sequential": [
            [
             0,
             "#0d0887"
            ],
            [
             0.1111111111111111,
             "#46039f"
            ],
            [
             0.2222222222222222,
             "#7201a8"
            ],
            [
             0.3333333333333333,
             "#9c179e"
            ],
            [
             0.4444444444444444,
             "#bd3786"
            ],
            [
             0.5555555555555556,
             "#d8576b"
            ],
            [
             0.6666666666666666,
             "#ed7953"
            ],
            [
             0.7777777777777778,
             "#fb9f3a"
            ],
            [
             0.8888888888888888,
             "#fdca26"
            ],
            [
             1,
             "#f0f921"
            ]
           ],
           "sequentialminus": [
            [
             0,
             "#0d0887"
            ],
            [
             0.1111111111111111,
             "#46039f"
            ],
            [
             0.2222222222222222,
             "#7201a8"
            ],
            [
             0.3333333333333333,
             "#9c179e"
            ],
            [
             0.4444444444444444,
             "#bd3786"
            ],
            [
             0.5555555555555556,
             "#d8576b"
            ],
            [
             0.6666666666666666,
             "#ed7953"
            ],
            [
             0.7777777777777778,
             "#fb9f3a"
            ],
            [
             0.8888888888888888,
             "#fdca26"
            ],
            [
             1,
             "#f0f921"
            ]
           ]
          },
          "colorway": [
           "#636efa",
           "#EF553B",
           "#00cc96",
           "#ab63fa",
           "#FFA15A",
           "#19d3f3",
           "#FF6692",
           "#B6E880",
           "#FF97FF",
           "#FECB52"
          ],
          "font": {
           "color": "#2a3f5f"
          },
          "geo": {
           "bgcolor": "white",
           "lakecolor": "white",
           "landcolor": "#E5ECF6",
           "showlakes": true,
           "showland": true,
           "subunitcolor": "white"
          },
          "hoverlabel": {
           "align": "left"
          },
          "hovermode": "closest",
          "mapbox": {
           "style": "light"
          },
          "paper_bgcolor": "white",
          "plot_bgcolor": "#E5ECF6",
          "polar": {
           "angularaxis": {
            "gridcolor": "white",
            "linecolor": "white",
            "ticks": ""
           },
           "bgcolor": "#E5ECF6",
           "radialaxis": {
            "gridcolor": "white",
            "linecolor": "white",
            "ticks": ""
           }
          },
          "scene": {
           "xaxis": {
            "backgroundcolor": "#E5ECF6",
            "gridcolor": "white",
            "gridwidth": 2,
            "linecolor": "white",
            "showbackground": true,
            "ticks": "",
            "zerolinecolor": "white"
           },
           "yaxis": {
            "backgroundcolor": "#E5ECF6",
            "gridcolor": "white",
            "gridwidth": 2,
            "linecolor": "white",
            "showbackground": true,
            "ticks": "",
            "zerolinecolor": "white"
           },
           "zaxis": {
            "backgroundcolor": "#E5ECF6",
            "gridcolor": "white",
            "gridwidth": 2,
            "linecolor": "white",
            "showbackground": true,
            "ticks": "",
            "zerolinecolor": "white"
           }
          },
          "shapedefaults": {
           "line": {
            "color": "#2a3f5f"
           }
          },
          "ternary": {
           "aaxis": {
            "gridcolor": "white",
            "linecolor": "white",
            "ticks": ""
           },
           "baxis": {
            "gridcolor": "white",
            "linecolor": "white",
            "ticks": ""
           },
           "bgcolor": "#E5ECF6",
           "caxis": {
            "gridcolor": "white",
            "linecolor": "white",
            "ticks": ""
           }
          },
          "title": {
           "x": 0.05
          },
          "xaxis": {
           "automargin": true,
           "gridcolor": "white",
           "linecolor": "white",
           "ticks": "",
           "title": {
            "standoff": 15
           },
           "zerolinecolor": "white",
           "zerolinewidth": 2
          },
          "yaxis": {
           "automargin": true,
           "gridcolor": "white",
           "linecolor": "white",
           "ticks": "",
           "title": {
            "standoff": 15
           },
           "zerolinecolor": "white",
           "zerolinewidth": 2
          }
         }
        },
        "xaxis": {
         "anchor": "y",
         "domain": [
          0,
          1
         ],
         "title": {
          "text": "sex"
         }
        },
        "yaxis": {
         "anchor": "x",
         "domain": [
          0,
          1
         ],
         "title": {
          "text": "sum of total_bill"
         }
        }
       }
      }
     },
     "metadata": {},
     "output_type": "display_data"
    },
    {
     "data": {
      "application/vnd.plotly.v1+json": {
       "config": {
        "plotlyServerURL": "https://plot.ly"
       },
       "data": [
        {
         "alignmentgroup": "True",
         "hovertemplate": "smoker=No<br>sex=%{x}<br>total_bill=%{y}<extra></extra>",
         "legendgroup": "No",
         "marker": {
          "color": "#636efa"
         },
         "name": "No",
         "notched": false,
         "offsetgroup": "No",
         "orientation": "v",
         "showlegend": true,
         "type": "box",
         "x": [
          "Female",
          "Male",
          "Male",
          "Male",
          "Female",
          "Male",
          "Male",
          "Male",
          "Male",
          "Male",
          "Male",
          "Female",
          "Male",
          "Male",
          "Female",
          "Male",
          "Female",
          "Male",
          "Female",
          "Male",
          "Male",
          "Female",
          "Female",
          "Male",
          "Male",
          "Male",
          "Male",
          "Male",
          "Male",
          "Female",
          "Male",
          "Male",
          "Female",
          "Female",
          "Male",
          "Male",
          "Male",
          "Female",
          "Male",
          "Male",
          "Male",
          "Male",
          "Male",
          "Male",
          "Male",
          "Male",
          "Male",
          "Male",
          "Male",
          "Male",
          "Male",
          "Female",
          "Female",
          "Male",
          "Male",
          "Male",
          "Female",
          "Male",
          "Male",
          "Male",
          "Female",
          "Male",
          "Male",
          "Female",
          "Female",
          "Male",
          "Male",
          "Male",
          "Male",
          "Male",
          "Female",
          "Male",
          "Female",
          "Male",
          "Male",
          "Male",
          "Male",
          "Male",
          "Female",
          "Male",
          "Female",
          "Male",
          "Male",
          "Female",
          "Male",
          "Male",
          "Female",
          "Female",
          "Male",
          "Female",
          "Female",
          "Female",
          "Male",
          "Female",
          "Male",
          "Male",
          "Female",
          "Female",
          "Male",
          "Female",
          "Female",
          "Male",
          "Male",
          "Female",
          "Female",
          "Female",
          "Female",
          "Female",
          "Female",
          "Female",
          "Female",
          "Female",
          "Male",
          "Male",
          "Female",
          "Female",
          "Female",
          "Female",
          "Female",
          "Male",
          "Male",
          "Male",
          "Male",
          "Male",
          "Male",
          "Male",
          "Female",
          "Male",
          "Female",
          "Female",
          "Male",
          "Male",
          "Male",
          "Female",
          "Male",
          "Male",
          "Male",
          "Male",
          "Male",
          "Male",
          "Male",
          "Female",
          "Male",
          "Male",
          "Male",
          "Male",
          "Male",
          "Female",
          "Male",
          "Male",
          "Female"
         ],
         "x0": " ",
         "xaxis": "x",
         "y": [
          16.99,
          10.34,
          21.01,
          23.68,
          24.59,
          25.29,
          8.77,
          26.88,
          15.04,
          14.78,
          10.27,
          35.26,
          15.42,
          18.43,
          14.83,
          21.58,
          10.33,
          16.29,
          16.97,
          20.65,
          17.92,
          20.29,
          15.77,
          39.42,
          19.82,
          17.81,
          13.37,
          12.69,
          21.7,
          19.65,
          9.55,
          18.35,
          15.06,
          20.69,
          17.78,
          24.06,
          16.31,
          16.93,
          18.69,
          31.27,
          16.04,
          17.46,
          13.94,
          9.68,
          30.4,
          18.29,
          22.23,
          32.4,
          28.55,
          18.04,
          12.54,
          10.29,
          34.81,
          9.94,
          25.56,
          19.49,
          26.41,
          48.27,
          17.59,
          20.08,
          16.45,
          20.23,
          12.02,
          17.07,
          14.73,
          10.51,
          27.2,
          22.76,
          17.29,
          16.66,
          10.07,
          15.98,
          34.83,
          13.03,
          18.28,
          24.71,
          21.16,
          22.49,
          22.75,
          12.46,
          20.92,
          18.24,
          14,
          7.25,
          38.07,
          23.95,
          25.71,
          17.31,
          29.93,
          10.65,
          12.43,
          24.08,
          11.69,
          13.42,
          14.26,
          15.95,
          12.48,
          29.8,
          8.52,
          14.52,
          11.38,
          22.82,
          19.08,
          20.27,
          11.17,
          12.26,
          18.26,
          8.51,
          10.33,
          14.15,
          13.16,
          17.47,
          34.3,
          41.19,
          27.05,
          16.43,
          8.35,
          18.64,
          11.87,
          9.78,
          7.51,
          14.07,
          13.13,
          17.26,
          24.55,
          19.77,
          29.85,
          48.17,
          25,
          13.39,
          16.49,
          21.5,
          12.66,
          16.21,
          13.81,
          24.52,
          20.76,
          31.71,
          20.69,
          7.56,
          48.33,
          15.98,
          20.45,
          13.28,
          11.61,
          10.77,
          10.07,
          35.83,
          29.03,
          17.82,
          18.78
         ],
         "y0": " ",
         "yaxis": "y"
        },
        {
         "alignmentgroup": "True",
         "hovertemplate": "smoker=Yes<br>sex=%{x}<br>total_bill=%{y}<extra></extra>",
         "legendgroup": "Yes",
         "marker": {
          "color": "#EF553B"
         },
         "name": "Yes",
         "notched": false,
         "offsetgroup": "Yes",
         "orientation": "v",
         "showlegend": true,
         "type": "box",
         "x": [
          "Male",
          "Male",
          "Male",
          "Male",
          "Male",
          "Male",
          "Female",
          "Male",
          "Female",
          "Female",
          "Male",
          "Male",
          "Male",
          "Male",
          "Female",
          "Female",
          "Male",
          "Male",
          "Male",
          "Male",
          "Female",
          "Female",
          "Female",
          "Female",
          "Male",
          "Male",
          "Male",
          "Female",
          "Male",
          "Female",
          "Female",
          "Female",
          "Male",
          "Male",
          "Male",
          "Male",
          "Male",
          "Male",
          "Male",
          "Male",
          "Female",
          "Male",
          "Male",
          "Male",
          "Male",
          "Male",
          "Male",
          "Female",
          "Male",
          "Female",
          "Male",
          "Male",
          "Female",
          "Male",
          "Male",
          "Male",
          "Male",
          "Female",
          "Female",
          "Male",
          "Male",
          "Female",
          "Female",
          "Female",
          "Male",
          "Female",
          "Male",
          "Male",
          "Male",
          "Female",
          "Male",
          "Male",
          "Female",
          "Female",
          "Female",
          "Male",
          "Male",
          "Male",
          "Female",
          "Male",
          "Female",
          "Male",
          "Male",
          "Female",
          "Female",
          "Female",
          "Male",
          "Male",
          "Male",
          "Male",
          "Male",
          "Female",
          "Male"
         ],
         "x0": " ",
         "xaxis": "x",
         "y": [
          38.01,
          11.24,
          20.29,
          13.81,
          11.02,
          18.29,
          3.07,
          15.01,
          26.86,
          25.28,
          17.92,
          19.44,
          32.68,
          28.97,
          5.75,
          16.32,
          40.17,
          27.28,
          12.03,
          21.01,
          11.35,
          15.38,
          44.3,
          22.42,
          15.36,
          20.49,
          25.21,
          14.31,
          16,
          17.51,
          10.59,
          10.63,
          50.81,
          15.81,
          7.25,
          31.85,
          16.82,
          32.9,
          17.89,
          14.48,
          9.6,
          34.63,
          34.65,
          23.33,
          45.35,
          23.17,
          40.55,
          20.9,
          30.46,
          18.15,
          23.1,
          15.69,
          19.81,
          28.44,
          15.48,
          16.58,
          10.34,
          43.11,
          13,
          13.51,
          18.71,
          12.74,
          13,
          16.4,
          20.53,
          16.47,
          26.59,
          38.73,
          24.27,
          12.76,
          30.06,
          25.89,
          13.27,
          28.17,
          12.9,
          28.15,
          11.59,
          7.74,
          30.14,
          12.16,
          13.42,
          8.58,
          13.42,
          16.27,
          10.09,
          22.12,
          24.01,
          15.69,
          15.53,
          12.6,
          32.83,
          27.18,
          22.67
         ],
         "y0": " ",
         "yaxis": "y"
        }
       ],
       "layout": {
        "boxmode": "group",
        "legend": {
         "title": {
          "text": "smoker"
         },
         "tracegroupgap": 0
        },
        "margin": {
         "t": 60
        },
        "template": {
         "data": {
          "bar": [
           {
            "error_x": {
             "color": "#2a3f5f"
            },
            "error_y": {
             "color": "#2a3f5f"
            },
            "marker": {
             "line": {
              "color": "#E5ECF6",
              "width": 0.5
             },
             "pattern": {
              "fillmode": "overlay",
              "size": 10,
              "solidity": 0.2
             }
            },
            "type": "bar"
           }
          ],
          "barpolar": [
           {
            "marker": {
             "line": {
              "color": "#E5ECF6",
              "width": 0.5
             },
             "pattern": {
              "fillmode": "overlay",
              "size": 10,
              "solidity": 0.2
             }
            },
            "type": "barpolar"
           }
          ],
          "carpet": [
           {
            "aaxis": {
             "endlinecolor": "#2a3f5f",
             "gridcolor": "white",
             "linecolor": "white",
             "minorgridcolor": "white",
             "startlinecolor": "#2a3f5f"
            },
            "baxis": {
             "endlinecolor": "#2a3f5f",
             "gridcolor": "white",
             "linecolor": "white",
             "minorgridcolor": "white",
             "startlinecolor": "#2a3f5f"
            },
            "type": "carpet"
           }
          ],
          "choropleth": [
           {
            "colorbar": {
             "outlinewidth": 0,
             "ticks": ""
            },
            "type": "choropleth"
           }
          ],
          "contour": [
           {
            "colorbar": {
             "outlinewidth": 0,
             "ticks": ""
            },
            "colorscale": [
             [
              0,
              "#0d0887"
             ],
             [
              0.1111111111111111,
              "#46039f"
             ],
             [
              0.2222222222222222,
              "#7201a8"
             ],
             [
              0.3333333333333333,
              "#9c179e"
             ],
             [
              0.4444444444444444,
              "#bd3786"
             ],
             [
              0.5555555555555556,
              "#d8576b"
             ],
             [
              0.6666666666666666,
              "#ed7953"
             ],
             [
              0.7777777777777778,
              "#fb9f3a"
             ],
             [
              0.8888888888888888,
              "#fdca26"
             ],
             [
              1,
              "#f0f921"
             ]
            ],
            "type": "contour"
           }
          ],
          "contourcarpet": [
           {
            "colorbar": {
             "outlinewidth": 0,
             "ticks": ""
            },
            "type": "contourcarpet"
           }
          ],
          "heatmap": [
           {
            "colorbar": {
             "outlinewidth": 0,
             "ticks": ""
            },
            "colorscale": [
             [
              0,
              "#0d0887"
             ],
             [
              0.1111111111111111,
              "#46039f"
             ],
             [
              0.2222222222222222,
              "#7201a8"
             ],
             [
              0.3333333333333333,
              "#9c179e"
             ],
             [
              0.4444444444444444,
              "#bd3786"
             ],
             [
              0.5555555555555556,
              "#d8576b"
             ],
             [
              0.6666666666666666,
              "#ed7953"
             ],
             [
              0.7777777777777778,
              "#fb9f3a"
             ],
             [
              0.8888888888888888,
              "#fdca26"
             ],
             [
              1,
              "#f0f921"
             ]
            ],
            "type": "heatmap"
           }
          ],
          "heatmapgl": [
           {
            "colorbar": {
             "outlinewidth": 0,
             "ticks": ""
            },
            "colorscale": [
             [
              0,
              "#0d0887"
             ],
             [
              0.1111111111111111,
              "#46039f"
             ],
             [
              0.2222222222222222,
              "#7201a8"
             ],
             [
              0.3333333333333333,
              "#9c179e"
             ],
             [
              0.4444444444444444,
              "#bd3786"
             ],
             [
              0.5555555555555556,
              "#d8576b"
             ],
             [
              0.6666666666666666,
              "#ed7953"
             ],
             [
              0.7777777777777778,
              "#fb9f3a"
             ],
             [
              0.8888888888888888,
              "#fdca26"
             ],
             [
              1,
              "#f0f921"
             ]
            ],
            "type": "heatmapgl"
           }
          ],
          "histogram": [
           {
            "marker": {
             "pattern": {
              "fillmode": "overlay",
              "size": 10,
              "solidity": 0.2
             }
            },
            "type": "histogram"
           }
          ],
          "histogram2d": [
           {
            "colorbar": {
             "outlinewidth": 0,
             "ticks": ""
            },
            "colorscale": [
             [
              0,
              "#0d0887"
             ],
             [
              0.1111111111111111,
              "#46039f"
             ],
             [
              0.2222222222222222,
              "#7201a8"
             ],
             [
              0.3333333333333333,
              "#9c179e"
             ],
             [
              0.4444444444444444,
              "#bd3786"
             ],
             [
              0.5555555555555556,
              "#d8576b"
             ],
             [
              0.6666666666666666,
              "#ed7953"
             ],
             [
              0.7777777777777778,
              "#fb9f3a"
             ],
             [
              0.8888888888888888,
              "#fdca26"
             ],
             [
              1,
              "#f0f921"
             ]
            ],
            "type": "histogram2d"
           }
          ],
          "histogram2dcontour": [
           {
            "colorbar": {
             "outlinewidth": 0,
             "ticks": ""
            },
            "colorscale": [
             [
              0,
              "#0d0887"
             ],
             [
              0.1111111111111111,
              "#46039f"
             ],
             [
              0.2222222222222222,
              "#7201a8"
             ],
             [
              0.3333333333333333,
              "#9c179e"
             ],
             [
              0.4444444444444444,
              "#bd3786"
             ],
             [
              0.5555555555555556,
              "#d8576b"
             ],
             [
              0.6666666666666666,
              "#ed7953"
             ],
             [
              0.7777777777777778,
              "#fb9f3a"
             ],
             [
              0.8888888888888888,
              "#fdca26"
             ],
             [
              1,
              "#f0f921"
             ]
            ],
            "type": "histogram2dcontour"
           }
          ],
          "mesh3d": [
           {
            "colorbar": {
             "outlinewidth": 0,
             "ticks": ""
            },
            "type": "mesh3d"
           }
          ],
          "parcoords": [
           {
            "line": {
             "colorbar": {
              "outlinewidth": 0,
              "ticks": ""
             }
            },
            "type": "parcoords"
           }
          ],
          "pie": [
           {
            "automargin": true,
            "type": "pie"
           }
          ],
          "scatter": [
           {
            "fillpattern": {
             "fillmode": "overlay",
             "size": 10,
             "solidity": 0.2
            },
            "type": "scatter"
           }
          ],
          "scatter3d": [
           {
            "line": {
             "colorbar": {
              "outlinewidth": 0,
              "ticks": ""
             }
            },
            "marker": {
             "colorbar": {
              "outlinewidth": 0,
              "ticks": ""
             }
            },
            "type": "scatter3d"
           }
          ],
          "scattercarpet": [
           {
            "marker": {
             "colorbar": {
              "outlinewidth": 0,
              "ticks": ""
             }
            },
            "type": "scattercarpet"
           }
          ],
          "scattergeo": [
           {
            "marker": {
             "colorbar": {
              "outlinewidth": 0,
              "ticks": ""
             }
            },
            "type": "scattergeo"
           }
          ],
          "scattergl": [
           {
            "marker": {
             "colorbar": {
              "outlinewidth": 0,
              "ticks": ""
             }
            },
            "type": "scattergl"
           }
          ],
          "scattermapbox": [
           {
            "marker": {
             "colorbar": {
              "outlinewidth": 0,
              "ticks": ""
             }
            },
            "type": "scattermapbox"
           }
          ],
          "scatterpolar": [
           {
            "marker": {
             "colorbar": {
              "outlinewidth": 0,
              "ticks": ""
             }
            },
            "type": "scatterpolar"
           }
          ],
          "scatterpolargl": [
           {
            "marker": {
             "colorbar": {
              "outlinewidth": 0,
              "ticks": ""
             }
            },
            "type": "scatterpolargl"
           }
          ],
          "scatterternary": [
           {
            "marker": {
             "colorbar": {
              "outlinewidth": 0,
              "ticks": ""
             }
            },
            "type": "scatterternary"
           }
          ],
          "surface": [
           {
            "colorbar": {
             "outlinewidth": 0,
             "ticks": ""
            },
            "colorscale": [
             [
              0,
              "#0d0887"
             ],
             [
              0.1111111111111111,
              "#46039f"
             ],
             [
              0.2222222222222222,
              "#7201a8"
             ],
             [
              0.3333333333333333,
              "#9c179e"
             ],
             [
              0.4444444444444444,
              "#bd3786"
             ],
             [
              0.5555555555555556,
              "#d8576b"
             ],
             [
              0.6666666666666666,
              "#ed7953"
             ],
             [
              0.7777777777777778,
              "#fb9f3a"
             ],
             [
              0.8888888888888888,
              "#fdca26"
             ],
             [
              1,
              "#f0f921"
             ]
            ],
            "type": "surface"
           }
          ],
          "table": [
           {
            "cells": {
             "fill": {
              "color": "#EBF0F8"
             },
             "line": {
              "color": "white"
             }
            },
            "header": {
             "fill": {
              "color": "#C8D4E3"
             },
             "line": {
              "color": "white"
             }
            },
            "type": "table"
           }
          ]
         },
         "layout": {
          "annotationdefaults": {
           "arrowcolor": "#2a3f5f",
           "arrowhead": 0,
           "arrowwidth": 1
          },
          "autotypenumbers": "strict",
          "coloraxis": {
           "colorbar": {
            "outlinewidth": 0,
            "ticks": ""
           }
          },
          "colorscale": {
           "diverging": [
            [
             0,
             "#8e0152"
            ],
            [
             0.1,
             "#c51b7d"
            ],
            [
             0.2,
             "#de77ae"
            ],
            [
             0.3,
             "#f1b6da"
            ],
            [
             0.4,
             "#fde0ef"
            ],
            [
             0.5,
             "#f7f7f7"
            ],
            [
             0.6,
             "#e6f5d0"
            ],
            [
             0.7,
             "#b8e186"
            ],
            [
             0.8,
             "#7fbc41"
            ],
            [
             0.9,
             "#4d9221"
            ],
            [
             1,
             "#276419"
            ]
           ],
           "sequential": [
            [
             0,
             "#0d0887"
            ],
            [
             0.1111111111111111,
             "#46039f"
            ],
            [
             0.2222222222222222,
             "#7201a8"
            ],
            [
             0.3333333333333333,
             "#9c179e"
            ],
            [
             0.4444444444444444,
             "#bd3786"
            ],
            [
             0.5555555555555556,
             "#d8576b"
            ],
            [
             0.6666666666666666,
             "#ed7953"
            ],
            [
             0.7777777777777778,
             "#fb9f3a"
            ],
            [
             0.8888888888888888,
             "#fdca26"
            ],
            [
             1,
             "#f0f921"
            ]
           ],
           "sequentialminus": [
            [
             0,
             "#0d0887"
            ],
            [
             0.1111111111111111,
             "#46039f"
            ],
            [
             0.2222222222222222,
             "#7201a8"
            ],
            [
             0.3333333333333333,
             "#9c179e"
            ],
            [
             0.4444444444444444,
             "#bd3786"
            ],
            [
             0.5555555555555556,
             "#d8576b"
            ],
            [
             0.6666666666666666,
             "#ed7953"
            ],
            [
             0.7777777777777778,
             "#fb9f3a"
            ],
            [
             0.8888888888888888,
             "#fdca26"
            ],
            [
             1,
             "#f0f921"
            ]
           ]
          },
          "colorway": [
           "#636efa",
           "#EF553B",
           "#00cc96",
           "#ab63fa",
           "#FFA15A",
           "#19d3f3",
           "#FF6692",
           "#B6E880",
           "#FF97FF",
           "#FECB52"
          ],
          "font": {
           "color": "#2a3f5f"
          },
          "geo": {
           "bgcolor": "white",
           "lakecolor": "white",
           "landcolor": "#E5ECF6",
           "showlakes": true,
           "showland": true,
           "subunitcolor": "white"
          },
          "hoverlabel": {
           "align": "left"
          },
          "hovermode": "closest",
          "mapbox": {
           "style": "light"
          },
          "paper_bgcolor": "white",
          "plot_bgcolor": "#E5ECF6",
          "polar": {
           "angularaxis": {
            "gridcolor": "white",
            "linecolor": "white",
            "ticks": ""
           },
           "bgcolor": "#E5ECF6",
           "radialaxis": {
            "gridcolor": "white",
            "linecolor": "white",
            "ticks": ""
           }
          },
          "scene": {
           "xaxis": {
            "backgroundcolor": "#E5ECF6",
            "gridcolor": "white",
            "gridwidth": 2,
            "linecolor": "white",
            "showbackground": true,
            "ticks": "",
            "zerolinecolor": "white"
           },
           "yaxis": {
            "backgroundcolor": "#E5ECF6",
            "gridcolor": "white",
            "gridwidth": 2,
            "linecolor": "white",
            "showbackground": true,
            "ticks": "",
            "zerolinecolor": "white"
           },
           "zaxis": {
            "backgroundcolor": "#E5ECF6",
            "gridcolor": "white",
            "gridwidth": 2,
            "linecolor": "white",
            "showbackground": true,
            "ticks": "",
            "zerolinecolor": "white"
           }
          },
          "shapedefaults": {
           "line": {
            "color": "#2a3f5f"
           }
          },
          "ternary": {
           "aaxis": {
            "gridcolor": "white",
            "linecolor": "white",
            "ticks": ""
           },
           "baxis": {
            "gridcolor": "white",
            "linecolor": "white",
            "ticks": ""
           },
           "bgcolor": "#E5ECF6",
           "caxis": {
            "gridcolor": "white",
            "linecolor": "white",
            "ticks": ""
           }
          },
          "title": {
           "x": 0.05
          },
          "xaxis": {
           "automargin": true,
           "gridcolor": "white",
           "linecolor": "white",
           "ticks": "",
           "title": {
            "standoff": 15
           },
           "zerolinecolor": "white",
           "zerolinewidth": 2
          },
          "yaxis": {
           "automargin": true,
           "gridcolor": "white",
           "linecolor": "white",
           "ticks": "",
           "title": {
            "standoff": 15
           },
           "zerolinecolor": "white",
           "zerolinewidth": 2
          }
         }
        },
        "xaxis": {
         "anchor": "y",
         "domain": [
          0,
          1
         ],
         "title": {
          "text": "sex"
         }
        },
        "yaxis": {
         "anchor": "x",
         "domain": [
          0,
          1
         ],
         "title": {
          "text": "total_bill"
         }
        }
       }
      }
     },
     "metadata": {},
     "output_type": "display_data"
    }
   ],
   "source": [
    "import plotly.express as px\n",
    "df = px.data.tips()\n",
    "\n",
    "#Plotting using go (Unviarite kind used for bivariate analysis) \n",
    "df2 = df.loc[df[\"smoker\"]==\"No\"].groupby(\"sex\").agg({\"total_bill\":sum}).reset_index()\n",
    "df4 = df.loc[df[\"smoker\"]==\"Yes\"].groupby(\"sex\").agg({\"total_bill\":sum}).reset_index()\n",
    "display(df2)\n",
    "trace1 = go.Bar(x=df2[\"sex\"], y=df2[\"total_bill\"])\n",
    "trace2 = go.Bar(x=df4[\"sex\"], y=df4[\"total_bill\"])\n",
    "layout = go.Layout(\n",
    "    title=' Bar plot bivariate  Example',\n",
    "    xaxis=dict(title='X-axis Label'),\n",
    "    yaxis=dict(title='Y-axis Label')\n",
    ")\n",
    "fig = go.Figure(data=[trace1,trace2], layout=layout)\n",
    "fig.show()\n",
    "\n",
    "\n",
    "###Plotting directly bar chart using plotly.express\n",
    "fig = px.bar(df, x=\"sex\", y=\"total_bill\",\n",
    "             color='smoker', barmode='group',\n",
    "             )\n",
    "fig.show()\n",
    "\n",
    "fig = px.histogram(df, x=\"sex\", y=\"total_bill\", color=\"smoker\",barmode='group')\n",
    "fig.update_traces() # or \"inclusive\", or \"linear\" by default\n",
    "fig.show()\n",
    "\n",
    "fig = px.box(df, x=\"sex\", y=\"total_bill\", color=\"smoker\")\n",
    "fig.update_traces() # or \"inclusive\", or \"linear\" by default\n",
    "fig.show()\n"
   ]
  },
  {
   "cell_type": "code",
   "execution_count": 17,
   "metadata": {},
   "outputs": [
    {
     "data": {
      "application/vnd.plotly.v1+json": {
       "config": {
        "plotlyServerURL": "https://plot.ly"
       },
       "data": [
        {
         "labels": [
          "Category 1",
          "Category 2",
          "Category 3",
          "Category 4"
         ],
         "type": "pie",
         "values": [
          125,
          30,
          15,
          30
         ]
        }
       ],
       "layout": {
        "template": {
         "data": {
          "bar": [
           {
            "error_x": {
             "color": "#2a3f5f"
            },
            "error_y": {
             "color": "#2a3f5f"
            },
            "marker": {
             "line": {
              "color": "#E5ECF6",
              "width": 0.5
             },
             "pattern": {
              "fillmode": "overlay",
              "size": 10,
              "solidity": 0.2
             }
            },
            "type": "bar"
           }
          ],
          "barpolar": [
           {
            "marker": {
             "line": {
              "color": "#E5ECF6",
              "width": 0.5
             },
             "pattern": {
              "fillmode": "overlay",
              "size": 10,
              "solidity": 0.2
             }
            },
            "type": "barpolar"
           }
          ],
          "carpet": [
           {
            "aaxis": {
             "endlinecolor": "#2a3f5f",
             "gridcolor": "white",
             "linecolor": "white",
             "minorgridcolor": "white",
             "startlinecolor": "#2a3f5f"
            },
            "baxis": {
             "endlinecolor": "#2a3f5f",
             "gridcolor": "white",
             "linecolor": "white",
             "minorgridcolor": "white",
             "startlinecolor": "#2a3f5f"
            },
            "type": "carpet"
           }
          ],
          "choropleth": [
           {
            "colorbar": {
             "outlinewidth": 0,
             "ticks": ""
            },
            "type": "choropleth"
           }
          ],
          "contour": [
           {
            "colorbar": {
             "outlinewidth": 0,
             "ticks": ""
            },
            "colorscale": [
             [
              0,
              "#0d0887"
             ],
             [
              0.1111111111111111,
              "#46039f"
             ],
             [
              0.2222222222222222,
              "#7201a8"
             ],
             [
              0.3333333333333333,
              "#9c179e"
             ],
             [
              0.4444444444444444,
              "#bd3786"
             ],
             [
              0.5555555555555556,
              "#d8576b"
             ],
             [
              0.6666666666666666,
              "#ed7953"
             ],
             [
              0.7777777777777778,
              "#fb9f3a"
             ],
             [
              0.8888888888888888,
              "#fdca26"
             ],
             [
              1,
              "#f0f921"
             ]
            ],
            "type": "contour"
           }
          ],
          "contourcarpet": [
           {
            "colorbar": {
             "outlinewidth": 0,
             "ticks": ""
            },
            "type": "contourcarpet"
           }
          ],
          "heatmap": [
           {
            "colorbar": {
             "outlinewidth": 0,
             "ticks": ""
            },
            "colorscale": [
             [
              0,
              "#0d0887"
             ],
             [
              0.1111111111111111,
              "#46039f"
             ],
             [
              0.2222222222222222,
              "#7201a8"
             ],
             [
              0.3333333333333333,
              "#9c179e"
             ],
             [
              0.4444444444444444,
              "#bd3786"
             ],
             [
              0.5555555555555556,
              "#d8576b"
             ],
             [
              0.6666666666666666,
              "#ed7953"
             ],
             [
              0.7777777777777778,
              "#fb9f3a"
             ],
             [
              0.8888888888888888,
              "#fdca26"
             ],
             [
              1,
              "#f0f921"
             ]
            ],
            "type": "heatmap"
           }
          ],
          "heatmapgl": [
           {
            "colorbar": {
             "outlinewidth": 0,
             "ticks": ""
            },
            "colorscale": [
             [
              0,
              "#0d0887"
             ],
             [
              0.1111111111111111,
              "#46039f"
             ],
             [
              0.2222222222222222,
              "#7201a8"
             ],
             [
              0.3333333333333333,
              "#9c179e"
             ],
             [
              0.4444444444444444,
              "#bd3786"
             ],
             [
              0.5555555555555556,
              "#d8576b"
             ],
             [
              0.6666666666666666,
              "#ed7953"
             ],
             [
              0.7777777777777778,
              "#fb9f3a"
             ],
             [
              0.8888888888888888,
              "#fdca26"
             ],
             [
              1,
              "#f0f921"
             ]
            ],
            "type": "heatmapgl"
           }
          ],
          "histogram": [
           {
            "marker": {
             "pattern": {
              "fillmode": "overlay",
              "size": 10,
              "solidity": 0.2
             }
            },
            "type": "histogram"
           }
          ],
          "histogram2d": [
           {
            "colorbar": {
             "outlinewidth": 0,
             "ticks": ""
            },
            "colorscale": [
             [
              0,
              "#0d0887"
             ],
             [
              0.1111111111111111,
              "#46039f"
             ],
             [
              0.2222222222222222,
              "#7201a8"
             ],
             [
              0.3333333333333333,
              "#9c179e"
             ],
             [
              0.4444444444444444,
              "#bd3786"
             ],
             [
              0.5555555555555556,
              "#d8576b"
             ],
             [
              0.6666666666666666,
              "#ed7953"
             ],
             [
              0.7777777777777778,
              "#fb9f3a"
             ],
             [
              0.8888888888888888,
              "#fdca26"
             ],
             [
              1,
              "#f0f921"
             ]
            ],
            "type": "histogram2d"
           }
          ],
          "histogram2dcontour": [
           {
            "colorbar": {
             "outlinewidth": 0,
             "ticks": ""
            },
            "colorscale": [
             [
              0,
              "#0d0887"
             ],
             [
              0.1111111111111111,
              "#46039f"
             ],
             [
              0.2222222222222222,
              "#7201a8"
             ],
             [
              0.3333333333333333,
              "#9c179e"
             ],
             [
              0.4444444444444444,
              "#bd3786"
             ],
             [
              0.5555555555555556,
              "#d8576b"
             ],
             [
              0.6666666666666666,
              "#ed7953"
             ],
             [
              0.7777777777777778,
              "#fb9f3a"
             ],
             [
              0.8888888888888888,
              "#fdca26"
             ],
             [
              1,
              "#f0f921"
             ]
            ],
            "type": "histogram2dcontour"
           }
          ],
          "mesh3d": [
           {
            "colorbar": {
             "outlinewidth": 0,
             "ticks": ""
            },
            "type": "mesh3d"
           }
          ],
          "parcoords": [
           {
            "line": {
             "colorbar": {
              "outlinewidth": 0,
              "ticks": ""
             }
            },
            "type": "parcoords"
           }
          ],
          "pie": [
           {
            "automargin": true,
            "type": "pie"
           }
          ],
          "scatter": [
           {
            "fillpattern": {
             "fillmode": "overlay",
             "size": 10,
             "solidity": 0.2
            },
            "type": "scatter"
           }
          ],
          "scatter3d": [
           {
            "line": {
             "colorbar": {
              "outlinewidth": 0,
              "ticks": ""
             }
            },
            "marker": {
             "colorbar": {
              "outlinewidth": 0,
              "ticks": ""
             }
            },
            "type": "scatter3d"
           }
          ],
          "scattercarpet": [
           {
            "marker": {
             "colorbar": {
              "outlinewidth": 0,
              "ticks": ""
             }
            },
            "type": "scattercarpet"
           }
          ],
          "scattergeo": [
           {
            "marker": {
             "colorbar": {
              "outlinewidth": 0,
              "ticks": ""
             }
            },
            "type": "scattergeo"
           }
          ],
          "scattergl": [
           {
            "marker": {
             "colorbar": {
              "outlinewidth": 0,
              "ticks": ""
             }
            },
            "type": "scattergl"
           }
          ],
          "scattermapbox": [
           {
            "marker": {
             "colorbar": {
              "outlinewidth": 0,
              "ticks": ""
             }
            },
            "type": "scattermapbox"
           }
          ],
          "scatterpolar": [
           {
            "marker": {
             "colorbar": {
              "outlinewidth": 0,
              "ticks": ""
             }
            },
            "type": "scatterpolar"
           }
          ],
          "scatterpolargl": [
           {
            "marker": {
             "colorbar": {
              "outlinewidth": 0,
              "ticks": ""
             }
            },
            "type": "scatterpolargl"
           }
          ],
          "scatterternary": [
           {
            "marker": {
             "colorbar": {
              "outlinewidth": 0,
              "ticks": ""
             }
            },
            "type": "scatterternary"
           }
          ],
          "surface": [
           {
            "colorbar": {
             "outlinewidth": 0,
             "ticks": ""
            },
            "colorscale": [
             [
              0,
              "#0d0887"
             ],
             [
              0.1111111111111111,
              "#46039f"
             ],
             [
              0.2222222222222222,
              "#7201a8"
             ],
             [
              0.3333333333333333,
              "#9c179e"
             ],
             [
              0.4444444444444444,
              "#bd3786"
             ],
             [
              0.5555555555555556,
              "#d8576b"
             ],
             [
              0.6666666666666666,
              "#ed7953"
             ],
             [
              0.7777777777777778,
              "#fb9f3a"
             ],
             [
              0.8888888888888888,
              "#fdca26"
             ],
             [
              1,
              "#f0f921"
             ]
            ],
            "type": "surface"
           }
          ],
          "table": [
           {
            "cells": {
             "fill": {
              "color": "#EBF0F8"
             },
             "line": {
              "color": "white"
             }
            },
            "header": {
             "fill": {
              "color": "#C8D4E3"
             },
             "line": {
              "color": "white"
             }
            },
            "type": "table"
           }
          ]
         },
         "layout": {
          "annotationdefaults": {
           "arrowcolor": "#2a3f5f",
           "arrowhead": 0,
           "arrowwidth": 1
          },
          "autotypenumbers": "strict",
          "coloraxis": {
           "colorbar": {
            "outlinewidth": 0,
            "ticks": ""
           }
          },
          "colorscale": {
           "diverging": [
            [
             0,
             "#8e0152"
            ],
            [
             0.1,
             "#c51b7d"
            ],
            [
             0.2,
             "#de77ae"
            ],
            [
             0.3,
             "#f1b6da"
            ],
            [
             0.4,
             "#fde0ef"
            ],
            [
             0.5,
             "#f7f7f7"
            ],
            [
             0.6,
             "#e6f5d0"
            ],
            [
             0.7,
             "#b8e186"
            ],
            [
             0.8,
             "#7fbc41"
            ],
            [
             0.9,
             "#4d9221"
            ],
            [
             1,
             "#276419"
            ]
           ],
           "sequential": [
            [
             0,
             "#0d0887"
            ],
            [
             0.1111111111111111,
             "#46039f"
            ],
            [
             0.2222222222222222,
             "#7201a8"
            ],
            [
             0.3333333333333333,
             "#9c179e"
            ],
            [
             0.4444444444444444,
             "#bd3786"
            ],
            [
             0.5555555555555556,
             "#d8576b"
            ],
            [
             0.6666666666666666,
             "#ed7953"
            ],
            [
             0.7777777777777778,
             "#fb9f3a"
            ],
            [
             0.8888888888888888,
             "#fdca26"
            ],
            [
             1,
             "#f0f921"
            ]
           ],
           "sequentialminus": [
            [
             0,
             "#0d0887"
            ],
            [
             0.1111111111111111,
             "#46039f"
            ],
            [
             0.2222222222222222,
             "#7201a8"
            ],
            [
             0.3333333333333333,
             "#9c179e"
            ],
            [
             0.4444444444444444,
             "#bd3786"
            ],
            [
             0.5555555555555556,
             "#d8576b"
            ],
            [
             0.6666666666666666,
             "#ed7953"
            ],
            [
             0.7777777777777778,
             "#fb9f3a"
            ],
            [
             0.8888888888888888,
             "#fdca26"
            ],
            [
             1,
             "#f0f921"
            ]
           ]
          },
          "colorway": [
           "#636efa",
           "#EF553B",
           "#00cc96",
           "#ab63fa",
           "#FFA15A",
           "#19d3f3",
           "#FF6692",
           "#B6E880",
           "#FF97FF",
           "#FECB52"
          ],
          "font": {
           "color": "#2a3f5f"
          },
          "geo": {
           "bgcolor": "white",
           "lakecolor": "white",
           "landcolor": "#E5ECF6",
           "showlakes": true,
           "showland": true,
           "subunitcolor": "white"
          },
          "hoverlabel": {
           "align": "left"
          },
          "hovermode": "closest",
          "mapbox": {
           "style": "light"
          },
          "paper_bgcolor": "white",
          "plot_bgcolor": "#E5ECF6",
          "polar": {
           "angularaxis": {
            "gridcolor": "white",
            "linecolor": "white",
            "ticks": ""
           },
           "bgcolor": "#E5ECF6",
           "radialaxis": {
            "gridcolor": "white",
            "linecolor": "white",
            "ticks": ""
           }
          },
          "scene": {
           "xaxis": {
            "backgroundcolor": "#E5ECF6",
            "gridcolor": "white",
            "gridwidth": 2,
            "linecolor": "white",
            "showbackground": true,
            "ticks": "",
            "zerolinecolor": "white"
           },
           "yaxis": {
            "backgroundcolor": "#E5ECF6",
            "gridcolor": "white",
            "gridwidth": 2,
            "linecolor": "white",
            "showbackground": true,
            "ticks": "",
            "zerolinecolor": "white"
           },
           "zaxis": {
            "backgroundcolor": "#E5ECF6",
            "gridcolor": "white",
            "gridwidth": 2,
            "linecolor": "white",
            "showbackground": true,
            "ticks": "",
            "zerolinecolor": "white"
           }
          },
          "shapedefaults": {
           "line": {
            "color": "#2a3f5f"
           }
          },
          "ternary": {
           "aaxis": {
            "gridcolor": "white",
            "linecolor": "white",
            "ticks": ""
           },
           "baxis": {
            "gridcolor": "white",
            "linecolor": "white",
            "ticks": ""
           },
           "bgcolor": "#E5ECF6",
           "caxis": {
            "gridcolor": "white",
            "linecolor": "white",
            "ticks": ""
           }
          },
          "title": {
           "x": 0.05
          },
          "xaxis": {
           "automargin": true,
           "gridcolor": "white",
           "linecolor": "white",
           "ticks": "",
           "title": {
            "standoff": 15
           },
           "zerolinecolor": "white",
           "zerolinewidth": 2
          },
          "yaxis": {
           "automargin": true,
           "gridcolor": "white",
           "linecolor": "white",
           "ticks": "",
           "title": {
            "standoff": 15
           },
           "zerolinecolor": "white",
           "zerolinewidth": 2
          }
         }
        },
        "title": {
         "text": "Line Plot Example"
        },
        "xaxis": {
         "title": {
          "text": "X-axis Label"
         }
        },
        "yaxis": {
         "title": {
          "text": "Y-axis Label"
         }
        }
       }
      }
     },
     "metadata": {},
     "output_type": "display_data"
    }
   ],
   "source": [
    "import plotly.graph_objects as go\n",
    "\n",
    "# Sample data\n",
    "labels = ['Category 1', 'Category 2', 'Category 3', 'Category 4']\n",
    "values = [125, 30, 15, 30]\n",
    "\n",
    "# Create the pie plot using go.Pie\n",
    "trace = go.Pie(labels=labels, values=values)\n",
    "\n",
    "# Create a layout (optional)\n",
    "layout = go.Layout(\n",
    "    title='Line Plot Example',\n",
    "    xaxis=dict(title='X-axis Label'),\n",
    "    yaxis=dict(title='Y-axis Label'))\n",
    "\n",
    "# Create a Figure\n",
    "fig = go.Figure(data=[trace], layout=layout)\n",
    "\n",
    "# Show the plot\n",
    "fig.show()"
   ]
  },
  {
   "cell_type": "markdown",
   "metadata": {},
   "source": [
    "### Subplot in plotly"
   ]
  },
  {
   "cell_type": "code",
   "execution_count": 34,
   "metadata": {},
   "outputs": [
    {
     "data": {
      "application/vnd.plotly.v1+json": {
       "config": {
        "plotlyServerURL": "https://plot.ly"
       },
       "data": [
        {
         "type": "scatter",
         "x": [
          1,
          2,
          3,
          4
         ],
         "xaxis": "x",
         "y": [
          10,
          15,
          7,
          12
         ],
         "yaxis": "y"
        },
        {
         "type": "bar",
         "x": [
          1,
          2,
          3,
          4
         ],
         "xaxis": "x2",
         "y": [
          8,
          12,
          6,
          9
         ],
         "yaxis": "y2"
        },
        {
         "type": "bar",
         "x": [
          1,
          2,
          3,
          4
         ],
         "xaxis": "x3",
         "y": [
          5,
          9,
          14,
          6
         ],
         "yaxis": "y3"
        }
       ],
       "layout": {
        "annotations": [
         {
          "font": {
           "size": 16
          },
          "showarrow": false,
          "text": "Subplot 1",
          "x": 0.14444444444444446,
          "xanchor": "center",
          "xref": "paper",
          "y": 1,
          "yanchor": "bottom",
          "yref": "paper"
         },
         {
          "font": {
           "size": 16
          },
          "showarrow": false,
          "text": "Subplot 2",
          "x": 0.5,
          "xanchor": "center",
          "xref": "paper",
          "y": 1,
          "yanchor": "bottom",
          "yref": "paper"
         },
         {
          "font": {
           "size": 16
          },
          "showarrow": false,
          "text": "Subplot 3",
          "x": 0.8555555555555556,
          "xanchor": "center",
          "xref": "paper",
          "y": 1,
          "yanchor": "bottom",
          "yref": "paper"
         }
        ],
        "showlegend": false,
        "template": {
         "data": {
          "bar": [
           {
            "error_x": {
             "color": "#2a3f5f"
            },
            "error_y": {
             "color": "#2a3f5f"
            },
            "marker": {
             "line": {
              "color": "#E5ECF6",
              "width": 0.5
             },
             "pattern": {
              "fillmode": "overlay",
              "size": 10,
              "solidity": 0.2
             }
            },
            "type": "bar"
           }
          ],
          "barpolar": [
           {
            "marker": {
             "line": {
              "color": "#E5ECF6",
              "width": 0.5
             },
             "pattern": {
              "fillmode": "overlay",
              "size": 10,
              "solidity": 0.2
             }
            },
            "type": "barpolar"
           }
          ],
          "carpet": [
           {
            "aaxis": {
             "endlinecolor": "#2a3f5f",
             "gridcolor": "white",
             "linecolor": "white",
             "minorgridcolor": "white",
             "startlinecolor": "#2a3f5f"
            },
            "baxis": {
             "endlinecolor": "#2a3f5f",
             "gridcolor": "white",
             "linecolor": "white",
             "minorgridcolor": "white",
             "startlinecolor": "#2a3f5f"
            },
            "type": "carpet"
           }
          ],
          "choropleth": [
           {
            "colorbar": {
             "outlinewidth": 0,
             "ticks": ""
            },
            "type": "choropleth"
           }
          ],
          "contour": [
           {
            "colorbar": {
             "outlinewidth": 0,
             "ticks": ""
            },
            "colorscale": [
             [
              0,
              "#0d0887"
             ],
             [
              0.1111111111111111,
              "#46039f"
             ],
             [
              0.2222222222222222,
              "#7201a8"
             ],
             [
              0.3333333333333333,
              "#9c179e"
             ],
             [
              0.4444444444444444,
              "#bd3786"
             ],
             [
              0.5555555555555556,
              "#d8576b"
             ],
             [
              0.6666666666666666,
              "#ed7953"
             ],
             [
              0.7777777777777778,
              "#fb9f3a"
             ],
             [
              0.8888888888888888,
              "#fdca26"
             ],
             [
              1,
              "#f0f921"
             ]
            ],
            "type": "contour"
           }
          ],
          "contourcarpet": [
           {
            "colorbar": {
             "outlinewidth": 0,
             "ticks": ""
            },
            "type": "contourcarpet"
           }
          ],
          "heatmap": [
           {
            "colorbar": {
             "outlinewidth": 0,
             "ticks": ""
            },
            "colorscale": [
             [
              0,
              "#0d0887"
             ],
             [
              0.1111111111111111,
              "#46039f"
             ],
             [
              0.2222222222222222,
              "#7201a8"
             ],
             [
              0.3333333333333333,
              "#9c179e"
             ],
             [
              0.4444444444444444,
              "#bd3786"
             ],
             [
              0.5555555555555556,
              "#d8576b"
             ],
             [
              0.6666666666666666,
              "#ed7953"
             ],
             [
              0.7777777777777778,
              "#fb9f3a"
             ],
             [
              0.8888888888888888,
              "#fdca26"
             ],
             [
              1,
              "#f0f921"
             ]
            ],
            "type": "heatmap"
           }
          ],
          "heatmapgl": [
           {
            "colorbar": {
             "outlinewidth": 0,
             "ticks": ""
            },
            "colorscale": [
             [
              0,
              "#0d0887"
             ],
             [
              0.1111111111111111,
              "#46039f"
             ],
             [
              0.2222222222222222,
              "#7201a8"
             ],
             [
              0.3333333333333333,
              "#9c179e"
             ],
             [
              0.4444444444444444,
              "#bd3786"
             ],
             [
              0.5555555555555556,
              "#d8576b"
             ],
             [
              0.6666666666666666,
              "#ed7953"
             ],
             [
              0.7777777777777778,
              "#fb9f3a"
             ],
             [
              0.8888888888888888,
              "#fdca26"
             ],
             [
              1,
              "#f0f921"
             ]
            ],
            "type": "heatmapgl"
           }
          ],
          "histogram": [
           {
            "marker": {
             "pattern": {
              "fillmode": "overlay",
              "size": 10,
              "solidity": 0.2
             }
            },
            "type": "histogram"
           }
          ],
          "histogram2d": [
           {
            "colorbar": {
             "outlinewidth": 0,
             "ticks": ""
            },
            "colorscale": [
             [
              0,
              "#0d0887"
             ],
             [
              0.1111111111111111,
              "#46039f"
             ],
             [
              0.2222222222222222,
              "#7201a8"
             ],
             [
              0.3333333333333333,
              "#9c179e"
             ],
             [
              0.4444444444444444,
              "#bd3786"
             ],
             [
              0.5555555555555556,
              "#d8576b"
             ],
             [
              0.6666666666666666,
              "#ed7953"
             ],
             [
              0.7777777777777778,
              "#fb9f3a"
             ],
             [
              0.8888888888888888,
              "#fdca26"
             ],
             [
              1,
              "#f0f921"
             ]
            ],
            "type": "histogram2d"
           }
          ],
          "histogram2dcontour": [
           {
            "colorbar": {
             "outlinewidth": 0,
             "ticks": ""
            },
            "colorscale": [
             [
              0,
              "#0d0887"
             ],
             [
              0.1111111111111111,
              "#46039f"
             ],
             [
              0.2222222222222222,
              "#7201a8"
             ],
             [
              0.3333333333333333,
              "#9c179e"
             ],
             [
              0.4444444444444444,
              "#bd3786"
             ],
             [
              0.5555555555555556,
              "#d8576b"
             ],
             [
              0.6666666666666666,
              "#ed7953"
             ],
             [
              0.7777777777777778,
              "#fb9f3a"
             ],
             [
              0.8888888888888888,
              "#fdca26"
             ],
             [
              1,
              "#f0f921"
             ]
            ],
            "type": "histogram2dcontour"
           }
          ],
          "mesh3d": [
           {
            "colorbar": {
             "outlinewidth": 0,
             "ticks": ""
            },
            "type": "mesh3d"
           }
          ],
          "parcoords": [
           {
            "line": {
             "colorbar": {
              "outlinewidth": 0,
              "ticks": ""
             }
            },
            "type": "parcoords"
           }
          ],
          "pie": [
           {
            "automargin": true,
            "type": "pie"
           }
          ],
          "scatter": [
           {
            "fillpattern": {
             "fillmode": "overlay",
             "size": 10,
             "solidity": 0.2
            },
            "type": "scatter"
           }
          ],
          "scatter3d": [
           {
            "line": {
             "colorbar": {
              "outlinewidth": 0,
              "ticks": ""
             }
            },
            "marker": {
             "colorbar": {
              "outlinewidth": 0,
              "ticks": ""
             }
            },
            "type": "scatter3d"
           }
          ],
          "scattercarpet": [
           {
            "marker": {
             "colorbar": {
              "outlinewidth": 0,
              "ticks": ""
             }
            },
            "type": "scattercarpet"
           }
          ],
          "scattergeo": [
           {
            "marker": {
             "colorbar": {
              "outlinewidth": 0,
              "ticks": ""
             }
            },
            "type": "scattergeo"
           }
          ],
          "scattergl": [
           {
            "marker": {
             "colorbar": {
              "outlinewidth": 0,
              "ticks": ""
             }
            },
            "type": "scattergl"
           }
          ],
          "scattermapbox": [
           {
            "marker": {
             "colorbar": {
              "outlinewidth": 0,
              "ticks": ""
             }
            },
            "type": "scattermapbox"
           }
          ],
          "scatterpolar": [
           {
            "marker": {
             "colorbar": {
              "outlinewidth": 0,
              "ticks": ""
             }
            },
            "type": "scatterpolar"
           }
          ],
          "scatterpolargl": [
           {
            "marker": {
             "colorbar": {
              "outlinewidth": 0,
              "ticks": ""
             }
            },
            "type": "scatterpolargl"
           }
          ],
          "scatterternary": [
           {
            "marker": {
             "colorbar": {
              "outlinewidth": 0,
              "ticks": ""
             }
            },
            "type": "scatterternary"
           }
          ],
          "surface": [
           {
            "colorbar": {
             "outlinewidth": 0,
             "ticks": ""
            },
            "colorscale": [
             [
              0,
              "#0d0887"
             ],
             [
              0.1111111111111111,
              "#46039f"
             ],
             [
              0.2222222222222222,
              "#7201a8"
             ],
             [
              0.3333333333333333,
              "#9c179e"
             ],
             [
              0.4444444444444444,
              "#bd3786"
             ],
             [
              0.5555555555555556,
              "#d8576b"
             ],
             [
              0.6666666666666666,
              "#ed7953"
             ],
             [
              0.7777777777777778,
              "#fb9f3a"
             ],
             [
              0.8888888888888888,
              "#fdca26"
             ],
             [
              1,
              "#f0f921"
             ]
            ],
            "type": "surface"
           }
          ],
          "table": [
           {
            "cells": {
             "fill": {
              "color": "#EBF0F8"
             },
             "line": {
              "color": "white"
             }
            },
            "header": {
             "fill": {
              "color": "#C8D4E3"
             },
             "line": {
              "color": "white"
             }
            },
            "type": "table"
           }
          ]
         },
         "layout": {
          "annotationdefaults": {
           "arrowcolor": "#2a3f5f",
           "arrowhead": 0,
           "arrowwidth": 1
          },
          "autotypenumbers": "strict",
          "coloraxis": {
           "colorbar": {
            "outlinewidth": 0,
            "ticks": ""
           }
          },
          "colorscale": {
           "diverging": [
            [
             0,
             "#8e0152"
            ],
            [
             0.1,
             "#c51b7d"
            ],
            [
             0.2,
             "#de77ae"
            ],
            [
             0.3,
             "#f1b6da"
            ],
            [
             0.4,
             "#fde0ef"
            ],
            [
             0.5,
             "#f7f7f7"
            ],
            [
             0.6,
             "#e6f5d0"
            ],
            [
             0.7,
             "#b8e186"
            ],
            [
             0.8,
             "#7fbc41"
            ],
            [
             0.9,
             "#4d9221"
            ],
            [
             1,
             "#276419"
            ]
           ],
           "sequential": [
            [
             0,
             "#0d0887"
            ],
            [
             0.1111111111111111,
             "#46039f"
            ],
            [
             0.2222222222222222,
             "#7201a8"
            ],
            [
             0.3333333333333333,
             "#9c179e"
            ],
            [
             0.4444444444444444,
             "#bd3786"
            ],
            [
             0.5555555555555556,
             "#d8576b"
            ],
            [
             0.6666666666666666,
             "#ed7953"
            ],
            [
             0.7777777777777778,
             "#fb9f3a"
            ],
            [
             0.8888888888888888,
             "#fdca26"
            ],
            [
             1,
             "#f0f921"
            ]
           ],
           "sequentialminus": [
            [
             0,
             "#0d0887"
            ],
            [
             0.1111111111111111,
             "#46039f"
            ],
            [
             0.2222222222222222,
             "#7201a8"
            ],
            [
             0.3333333333333333,
             "#9c179e"
            ],
            [
             0.4444444444444444,
             "#bd3786"
            ],
            [
             0.5555555555555556,
             "#d8576b"
            ],
            [
             0.6666666666666666,
             "#ed7953"
            ],
            [
             0.7777777777777778,
             "#fb9f3a"
            ],
            [
             0.8888888888888888,
             "#fdca26"
            ],
            [
             1,
             "#f0f921"
            ]
           ]
          },
          "colorway": [
           "#636efa",
           "#EF553B",
           "#00cc96",
           "#ab63fa",
           "#FFA15A",
           "#19d3f3",
           "#FF6692",
           "#B6E880",
           "#FF97FF",
           "#FECB52"
          ],
          "font": {
           "color": "#2a3f5f"
          },
          "geo": {
           "bgcolor": "white",
           "lakecolor": "white",
           "landcolor": "#E5ECF6",
           "showlakes": true,
           "showland": true,
           "subunitcolor": "white"
          },
          "hoverlabel": {
           "align": "left"
          },
          "hovermode": "closest",
          "mapbox": {
           "style": "light"
          },
          "paper_bgcolor": "white",
          "plot_bgcolor": "#E5ECF6",
          "polar": {
           "angularaxis": {
            "gridcolor": "white",
            "linecolor": "white",
            "ticks": ""
           },
           "bgcolor": "#E5ECF6",
           "radialaxis": {
            "gridcolor": "white",
            "linecolor": "white",
            "ticks": ""
           }
          },
          "scene": {
           "xaxis": {
            "backgroundcolor": "#E5ECF6",
            "gridcolor": "white",
            "gridwidth": 2,
            "linecolor": "white",
            "showbackground": true,
            "ticks": "",
            "zerolinecolor": "white"
           },
           "yaxis": {
            "backgroundcolor": "#E5ECF6",
            "gridcolor": "white",
            "gridwidth": 2,
            "linecolor": "white",
            "showbackground": true,
            "ticks": "",
            "zerolinecolor": "white"
           },
           "zaxis": {
            "backgroundcolor": "#E5ECF6",
            "gridcolor": "white",
            "gridwidth": 2,
            "linecolor": "white",
            "showbackground": true,
            "ticks": "",
            "zerolinecolor": "white"
           }
          },
          "shapedefaults": {
           "line": {
            "color": "#2a3f5f"
           }
          },
          "ternary": {
           "aaxis": {
            "gridcolor": "white",
            "linecolor": "white",
            "ticks": ""
           },
           "baxis": {
            "gridcolor": "white",
            "linecolor": "white",
            "ticks": ""
           },
           "bgcolor": "#E5ECF6",
           "caxis": {
            "gridcolor": "white",
            "linecolor": "white",
            "ticks": ""
           }
          },
          "title": {
           "x": 0.05
          },
          "xaxis": {
           "automargin": true,
           "gridcolor": "white",
           "linecolor": "white",
           "ticks": "",
           "title": {
            "standoff": 15
           },
           "zerolinecolor": "white",
           "zerolinewidth": 2
          },
          "yaxis": {
           "automargin": true,
           "gridcolor": "white",
           "linecolor": "white",
           "ticks": "",
           "title": {
            "standoff": 15
           },
           "zerolinecolor": "white",
           "zerolinewidth": 2
          }
         }
        },
        "title": {
         "text": "Subplots Example - Scatter, Bar, Bar"
        },
        "xaxis": {
         "anchor": "y",
         "domain": [
          0,
          0.2888888888888889
         ]
        },
        "xaxis2": {
         "anchor": "y2",
         "domain": [
          0.35555555555555557,
          0.6444444444444445
         ]
        },
        "xaxis3": {
         "anchor": "y3",
         "domain": [
          0.7111111111111111,
          1
         ]
        },
        "yaxis": {
         "anchor": "x",
         "domain": [
          0,
          1
         ]
        },
        "yaxis2": {
         "anchor": "x2",
         "domain": [
          0,
          1
         ],
         "matches": "y",
         "showticklabels": false
        },
        "yaxis3": {
         "anchor": "x3",
         "domain": [
          0,
          1
         ],
         "matches": "y",
         "showticklabels": false
        }
       }
      }
     },
     "metadata": {},
     "output_type": "display_data"
    }
   ],
   "source": [
    "import plotly.graph_objects as go\n",
    "from plotly.subplots import make_subplots\n",
    "\n",
    "# Sample data for subplots\n",
    "x = [1, 2, 3, 4]\n",
    "y1 = [10, 15, 7, 12]\n",
    "y2 = [8, 12, 6, 9]\n",
    "y3 = [5, 9, 14, 6]\n",
    "\n",
    "# Create subplots\n",
    "fig = make_subplots(rows=1, cols=3, shared_yaxes=True, subplot_titles=['Subplot 1', 'Subplot 2', 'Subplot 3'])\n",
    "\n",
    "# Add the first subplot\n",
    "trace1 = go.Scatter(x=x, y=y1)\n",
    "\n",
    "trace2 = go.Bar(x=x, y=y2)\n",
    "trace3 = go.Bar(x=x, y=y3)\n",
    "\n",
    "fig.add_trace(trace1, row=1, col=1)\n",
    "fig.add_trace(trace2, row=1, col=2)\n",
    "fig.add_trace(trace3, row=1, col=3)\n",
    "# Customize the layout (optional)\n",
    "fig.update_layout(title='Subplots Example - Scatter, Bar, Bar', showlegend=False)\n",
    "\n",
    "\n",
    "\n",
    "# Show the subplots\n",
    "fig.show()"
   ]
  },
  {
   "cell_type": "code",
   "execution_count": 33,
   "metadata": {},
   "outputs": [
    {
     "data": {
      "application/vnd.plotly.v1+json": {
       "config": {
        "plotlyServerURL": "https://plot.ly"
       },
       "data": [
        {
         "type": "scatter",
         "x": [
          1,
          2,
          3,
          4
         ],
         "xaxis": "x",
         "y": [
          10,
          15,
          7,
          12
         ],
         "yaxis": "y"
        },
        {
         "type": "bar",
         "x": [
          1,
          2,
          3,
          4
         ],
         "xaxis": "x2",
         "y": [
          8,
          12,
          6,
          9
         ],
         "yaxis": "y2"
        },
        {
         "type": "histogram",
         "x": [
          0.3673840090044943,
          -0.6995319600501313,
          0.8528355227286631,
          2.4123134969417515,
          -0.7264683175031568,
          -0.8518340700150958,
          -1.6191278774194178,
          -1.4899983724313133,
          0.028309459059563665,
          0.2597235705467609,
          -1.5508879697205962,
          0.8149079493295855,
          1.6776319787280254,
          -0.1415977623754123,
          -0.3465265901178768,
          -2.656387559279514,
          2.0286884868421016,
          -0.8006529771143408,
          0.27169150141371123,
          -0.7006579863031566,
          -0.20273652236858597,
          0.7863258766179355,
          0.3207570572849035,
          -0.6530969063817129,
          -1.1148382500599299,
          -0.07688744657335052,
          -1.308363611074868,
          0.821863510201097,
          0.17223274592451518,
          -2.2178315430104076,
          -0.6852870654909768,
          -1.1810306703537221,
          -0.19092776168115008,
          0.979927264788282,
          0.44636830801194566,
          -0.7376594707987939,
          -2.1716997460253316,
          -0.010034097360315528,
          0.7000952164832678,
          -0.7387933415665237,
          0.9106723742019666,
          -2.257707927511799,
          0.9384293139520148,
          -0.667057549506148,
          -0.8075973974165999,
          -1.1717273363448366,
          -2.0133093244428286,
          -0.18920176793202617,
          0.5222985938410183,
          -0.4852665949428478,
          1.4543677007271167,
          -0.9397430127780106,
          -0.1929392127405016,
          0.869433578720645,
          -0.19138722311312353,
          0.1710844646801996,
          0.5161859511994451,
          0.9504092324703866,
          -0.34005733105206754,
          -1.325388017478951,
          -0.8164235904713038,
          1.5994226597967558,
          -0.29114864876482444,
          -0.6100723066856925,
          -0.26732173013022886,
          0.6350594419878315,
          -0.7727847624679118,
          -2.077252639180893,
          -0.6191284637422383,
          1.1346283595068214,
          -2.637904892371258,
          -0.024940353781666647,
          1.0104274272228146,
          0.3068451228935712,
          -0.12598617694884415,
          1.2662496454036445,
          0.8548215229887082,
          0.033540729154949926,
          -1.0380582159707339,
          -0.08398231223351907,
          -0.19724306450401868,
          1.3104579040837498,
          -0.45337090457846513,
          0.39859515519076394,
          0.068338053225067,
          -0.9762824232610412,
          1.9256977739131667,
          -1.0238459643802047,
          1.084326476221996,
          -1.6479381562328934,
          -1.6011383636142815,
          -0.9164230640337665,
          -0.6422141853628457,
          -0.9226103010030932,
          -0.5972947356596668,
          -0.2275750293297858,
          -1.217171437484915,
          -0.7438637512671674,
          -0.3311472491118725,
          -0.9332517784185547
         ],
         "xaxis": "x3",
         "yaxis": "y3"
        }
       ],
       "layout": {
        "annotations": [
         {
          "font": {
           "size": 16
          },
          "showarrow": false,
          "text": "Subplot 1",
          "x": 0.14444444444444446,
          "xanchor": "center",
          "xref": "paper",
          "y": 1,
          "yanchor": "bottom",
          "yref": "paper"
         },
         {
          "font": {
           "size": 16
          },
          "showarrow": false,
          "text": "Subplot 2",
          "x": 0.5,
          "xanchor": "center",
          "xref": "paper",
          "y": 1,
          "yanchor": "bottom",
          "yref": "paper"
         },
         {
          "font": {
           "size": 16
          },
          "showarrow": false,
          "text": "Subplot 3",
          "x": 0.8555555555555556,
          "xanchor": "center",
          "xref": "paper",
          "y": 1,
          "yanchor": "bottom",
          "yref": "paper"
         }
        ],
        "showlegend": false,
        "template": {
         "data": {
          "bar": [
           {
            "error_x": {
             "color": "#2a3f5f"
            },
            "error_y": {
             "color": "#2a3f5f"
            },
            "marker": {
             "line": {
              "color": "#E5ECF6",
              "width": 0.5
             },
             "pattern": {
              "fillmode": "overlay",
              "size": 10,
              "solidity": 0.2
             }
            },
            "type": "bar"
           }
          ],
          "barpolar": [
           {
            "marker": {
             "line": {
              "color": "#E5ECF6",
              "width": 0.5
             },
             "pattern": {
              "fillmode": "overlay",
              "size": 10,
              "solidity": 0.2
             }
            },
            "type": "barpolar"
           }
          ],
          "carpet": [
           {
            "aaxis": {
             "endlinecolor": "#2a3f5f",
             "gridcolor": "white",
             "linecolor": "white",
             "minorgridcolor": "white",
             "startlinecolor": "#2a3f5f"
            },
            "baxis": {
             "endlinecolor": "#2a3f5f",
             "gridcolor": "white",
             "linecolor": "white",
             "minorgridcolor": "white",
             "startlinecolor": "#2a3f5f"
            },
            "type": "carpet"
           }
          ],
          "choropleth": [
           {
            "colorbar": {
             "outlinewidth": 0,
             "ticks": ""
            },
            "type": "choropleth"
           }
          ],
          "contour": [
           {
            "colorbar": {
             "outlinewidth": 0,
             "ticks": ""
            },
            "colorscale": [
             [
              0,
              "#0d0887"
             ],
             [
              0.1111111111111111,
              "#46039f"
             ],
             [
              0.2222222222222222,
              "#7201a8"
             ],
             [
              0.3333333333333333,
              "#9c179e"
             ],
             [
              0.4444444444444444,
              "#bd3786"
             ],
             [
              0.5555555555555556,
              "#d8576b"
             ],
             [
              0.6666666666666666,
              "#ed7953"
             ],
             [
              0.7777777777777778,
              "#fb9f3a"
             ],
             [
              0.8888888888888888,
              "#fdca26"
             ],
             [
              1,
              "#f0f921"
             ]
            ],
            "type": "contour"
           }
          ],
          "contourcarpet": [
           {
            "colorbar": {
             "outlinewidth": 0,
             "ticks": ""
            },
            "type": "contourcarpet"
           }
          ],
          "heatmap": [
           {
            "colorbar": {
             "outlinewidth": 0,
             "ticks": ""
            },
            "colorscale": [
             [
              0,
              "#0d0887"
             ],
             [
              0.1111111111111111,
              "#46039f"
             ],
             [
              0.2222222222222222,
              "#7201a8"
             ],
             [
              0.3333333333333333,
              "#9c179e"
             ],
             [
              0.4444444444444444,
              "#bd3786"
             ],
             [
              0.5555555555555556,
              "#d8576b"
             ],
             [
              0.6666666666666666,
              "#ed7953"
             ],
             [
              0.7777777777777778,
              "#fb9f3a"
             ],
             [
              0.8888888888888888,
              "#fdca26"
             ],
             [
              1,
              "#f0f921"
             ]
            ],
            "type": "heatmap"
           }
          ],
          "heatmapgl": [
           {
            "colorbar": {
             "outlinewidth": 0,
             "ticks": ""
            },
            "colorscale": [
             [
              0,
              "#0d0887"
             ],
             [
              0.1111111111111111,
              "#46039f"
             ],
             [
              0.2222222222222222,
              "#7201a8"
             ],
             [
              0.3333333333333333,
              "#9c179e"
             ],
             [
              0.4444444444444444,
              "#bd3786"
             ],
             [
              0.5555555555555556,
              "#d8576b"
             ],
             [
              0.6666666666666666,
              "#ed7953"
             ],
             [
              0.7777777777777778,
              "#fb9f3a"
             ],
             [
              0.8888888888888888,
              "#fdca26"
             ],
             [
              1,
              "#f0f921"
             ]
            ],
            "type": "heatmapgl"
           }
          ],
          "histogram": [
           {
            "marker": {
             "pattern": {
              "fillmode": "overlay",
              "size": 10,
              "solidity": 0.2
             }
            },
            "type": "histogram"
           }
          ],
          "histogram2d": [
           {
            "colorbar": {
             "outlinewidth": 0,
             "ticks": ""
            },
            "colorscale": [
             [
              0,
              "#0d0887"
             ],
             [
              0.1111111111111111,
              "#46039f"
             ],
             [
              0.2222222222222222,
              "#7201a8"
             ],
             [
              0.3333333333333333,
              "#9c179e"
             ],
             [
              0.4444444444444444,
              "#bd3786"
             ],
             [
              0.5555555555555556,
              "#d8576b"
             ],
             [
              0.6666666666666666,
              "#ed7953"
             ],
             [
              0.7777777777777778,
              "#fb9f3a"
             ],
             [
              0.8888888888888888,
              "#fdca26"
             ],
             [
              1,
              "#f0f921"
             ]
            ],
            "type": "histogram2d"
           }
          ],
          "histogram2dcontour": [
           {
            "colorbar": {
             "outlinewidth": 0,
             "ticks": ""
            },
            "colorscale": [
             [
              0,
              "#0d0887"
             ],
             [
              0.1111111111111111,
              "#46039f"
             ],
             [
              0.2222222222222222,
              "#7201a8"
             ],
             [
              0.3333333333333333,
              "#9c179e"
             ],
             [
              0.4444444444444444,
              "#bd3786"
             ],
             [
              0.5555555555555556,
              "#d8576b"
             ],
             [
              0.6666666666666666,
              "#ed7953"
             ],
             [
              0.7777777777777778,
              "#fb9f3a"
             ],
             [
              0.8888888888888888,
              "#fdca26"
             ],
             [
              1,
              "#f0f921"
             ]
            ],
            "type": "histogram2dcontour"
           }
          ],
          "mesh3d": [
           {
            "colorbar": {
             "outlinewidth": 0,
             "ticks": ""
            },
            "type": "mesh3d"
           }
          ],
          "parcoords": [
           {
            "line": {
             "colorbar": {
              "outlinewidth": 0,
              "ticks": ""
             }
            },
            "type": "parcoords"
           }
          ],
          "pie": [
           {
            "automargin": true,
            "type": "pie"
           }
          ],
          "scatter": [
           {
            "fillpattern": {
             "fillmode": "overlay",
             "size": 10,
             "solidity": 0.2
            },
            "type": "scatter"
           }
          ],
          "scatter3d": [
           {
            "line": {
             "colorbar": {
              "outlinewidth": 0,
              "ticks": ""
             }
            },
            "marker": {
             "colorbar": {
              "outlinewidth": 0,
              "ticks": ""
             }
            },
            "type": "scatter3d"
           }
          ],
          "scattercarpet": [
           {
            "marker": {
             "colorbar": {
              "outlinewidth": 0,
              "ticks": ""
             }
            },
            "type": "scattercarpet"
           }
          ],
          "scattergeo": [
           {
            "marker": {
             "colorbar": {
              "outlinewidth": 0,
              "ticks": ""
             }
            },
            "type": "scattergeo"
           }
          ],
          "scattergl": [
           {
            "marker": {
             "colorbar": {
              "outlinewidth": 0,
              "ticks": ""
             }
            },
            "type": "scattergl"
           }
          ],
          "scattermapbox": [
           {
            "marker": {
             "colorbar": {
              "outlinewidth": 0,
              "ticks": ""
             }
            },
            "type": "scattermapbox"
           }
          ],
          "scatterpolar": [
           {
            "marker": {
             "colorbar": {
              "outlinewidth": 0,
              "ticks": ""
             }
            },
            "type": "scatterpolar"
           }
          ],
          "scatterpolargl": [
           {
            "marker": {
             "colorbar": {
              "outlinewidth": 0,
              "ticks": ""
             }
            },
            "type": "scatterpolargl"
           }
          ],
          "scatterternary": [
           {
            "marker": {
             "colorbar": {
              "outlinewidth": 0,
              "ticks": ""
             }
            },
            "type": "scatterternary"
           }
          ],
          "surface": [
           {
            "colorbar": {
             "outlinewidth": 0,
             "ticks": ""
            },
            "colorscale": [
             [
              0,
              "#0d0887"
             ],
             [
              0.1111111111111111,
              "#46039f"
             ],
             [
              0.2222222222222222,
              "#7201a8"
             ],
             [
              0.3333333333333333,
              "#9c179e"
             ],
             [
              0.4444444444444444,
              "#bd3786"
             ],
             [
              0.5555555555555556,
              "#d8576b"
             ],
             [
              0.6666666666666666,
              "#ed7953"
             ],
             [
              0.7777777777777778,
              "#fb9f3a"
             ],
             [
              0.8888888888888888,
              "#fdca26"
             ],
             [
              1,
              "#f0f921"
             ]
            ],
            "type": "surface"
           }
          ],
          "table": [
           {
            "cells": {
             "fill": {
              "color": "#EBF0F8"
             },
             "line": {
              "color": "white"
             }
            },
            "header": {
             "fill": {
              "color": "#C8D4E3"
             },
             "line": {
              "color": "white"
             }
            },
            "type": "table"
           }
          ]
         },
         "layout": {
          "annotationdefaults": {
           "arrowcolor": "#2a3f5f",
           "arrowhead": 0,
           "arrowwidth": 1
          },
          "autotypenumbers": "strict",
          "coloraxis": {
           "colorbar": {
            "outlinewidth": 0,
            "ticks": ""
           }
          },
          "colorscale": {
           "diverging": [
            [
             0,
             "#8e0152"
            ],
            [
             0.1,
             "#c51b7d"
            ],
            [
             0.2,
             "#de77ae"
            ],
            [
             0.3,
             "#f1b6da"
            ],
            [
             0.4,
             "#fde0ef"
            ],
            [
             0.5,
             "#f7f7f7"
            ],
            [
             0.6,
             "#e6f5d0"
            ],
            [
             0.7,
             "#b8e186"
            ],
            [
             0.8,
             "#7fbc41"
            ],
            [
             0.9,
             "#4d9221"
            ],
            [
             1,
             "#276419"
            ]
           ],
           "sequential": [
            [
             0,
             "#0d0887"
            ],
            [
             0.1111111111111111,
             "#46039f"
            ],
            [
             0.2222222222222222,
             "#7201a8"
            ],
            [
             0.3333333333333333,
             "#9c179e"
            ],
            [
             0.4444444444444444,
             "#bd3786"
            ],
            [
             0.5555555555555556,
             "#d8576b"
            ],
            [
             0.6666666666666666,
             "#ed7953"
            ],
            [
             0.7777777777777778,
             "#fb9f3a"
            ],
            [
             0.8888888888888888,
             "#fdca26"
            ],
            [
             1,
             "#f0f921"
            ]
           ],
           "sequentialminus": [
            [
             0,
             "#0d0887"
            ],
            [
             0.1111111111111111,
             "#46039f"
            ],
            [
             0.2222222222222222,
             "#7201a8"
            ],
            [
             0.3333333333333333,
             "#9c179e"
            ],
            [
             0.4444444444444444,
             "#bd3786"
            ],
            [
             0.5555555555555556,
             "#d8576b"
            ],
            [
             0.6666666666666666,
             "#ed7953"
            ],
            [
             0.7777777777777778,
             "#fb9f3a"
            ],
            [
             0.8888888888888888,
             "#fdca26"
            ],
            [
             1,
             "#f0f921"
            ]
           ]
          },
          "colorway": [
           "#636efa",
           "#EF553B",
           "#00cc96",
           "#ab63fa",
           "#FFA15A",
           "#19d3f3",
           "#FF6692",
           "#B6E880",
           "#FF97FF",
           "#FECB52"
          ],
          "font": {
           "color": "#2a3f5f"
          },
          "geo": {
           "bgcolor": "white",
           "lakecolor": "white",
           "landcolor": "#E5ECF6",
           "showlakes": true,
           "showland": true,
           "subunitcolor": "white"
          },
          "hoverlabel": {
           "align": "left"
          },
          "hovermode": "closest",
          "mapbox": {
           "style": "light"
          },
          "paper_bgcolor": "white",
          "plot_bgcolor": "#E5ECF6",
          "polar": {
           "angularaxis": {
            "gridcolor": "white",
            "linecolor": "white",
            "ticks": ""
           },
           "bgcolor": "#E5ECF6",
           "radialaxis": {
            "gridcolor": "white",
            "linecolor": "white",
            "ticks": ""
           }
          },
          "scene": {
           "xaxis": {
            "backgroundcolor": "#E5ECF6",
            "gridcolor": "white",
            "gridwidth": 2,
            "linecolor": "white",
            "showbackground": true,
            "ticks": "",
            "zerolinecolor": "white"
           },
           "yaxis": {
            "backgroundcolor": "#E5ECF6",
            "gridcolor": "white",
            "gridwidth": 2,
            "linecolor": "white",
            "showbackground": true,
            "ticks": "",
            "zerolinecolor": "white"
           },
           "zaxis": {
            "backgroundcolor": "#E5ECF6",
            "gridcolor": "white",
            "gridwidth": 2,
            "linecolor": "white",
            "showbackground": true,
            "ticks": "",
            "zerolinecolor": "white"
           }
          },
          "shapedefaults": {
           "line": {
            "color": "#2a3f5f"
           }
          },
          "ternary": {
           "aaxis": {
            "gridcolor": "white",
            "linecolor": "white",
            "ticks": ""
           },
           "baxis": {
            "gridcolor": "white",
            "linecolor": "white",
            "ticks": ""
           },
           "bgcolor": "#E5ECF6",
           "caxis": {
            "gridcolor": "white",
            "linecolor": "white",
            "ticks": ""
           }
          },
          "title": {
           "x": 0.05
          },
          "xaxis": {
           "automargin": true,
           "gridcolor": "white",
           "linecolor": "white",
           "ticks": "",
           "title": {
            "standoff": 15
           },
           "zerolinecolor": "white",
           "zerolinewidth": 2
          },
          "yaxis": {
           "automargin": true,
           "gridcolor": "white",
           "linecolor": "white",
           "ticks": "",
           "title": {
            "standoff": 15
           },
           "zerolinecolor": "white",
           "zerolinewidth": 2
          }
         }
        },
        "title": {
         "text": "Subplots Example - Scetter, Bar, Histogoram"
        },
        "xaxis": {
         "anchor": "y",
         "domain": [
          0,
          0.2888888888888889
         ]
        },
        "xaxis2": {
         "anchor": "y2",
         "domain": [
          0.35555555555555557,
          0.6444444444444445
         ]
        },
        "xaxis3": {
         "anchor": "y3",
         "domain": [
          0.7111111111111111,
          1
         ]
        },
        "yaxis": {
         "anchor": "x",
         "domain": [
          0,
          1
         ]
        },
        "yaxis2": {
         "anchor": "x2",
         "domain": [
          0,
          1
         ],
         "matches": "y",
         "showticklabels": false
        },
        "yaxis3": {
         "anchor": "x3",
         "domain": [
          0,
          1
         ],
         "matches": "y",
         "showticklabels": false
        }
       }
      }
     },
     "metadata": {},
     "output_type": "display_data"
    }
   ],
   "source": [
    "import plotly.graph_objects as go\n",
    "from plotly.subplots import make_subplots\n",
    "\n",
    "# Sample data for subplots\n",
    "x = [1, 2, 3, 4]\n",
    "y1 = [10, 15, 7, 12]\n",
    "y2 = [8, 12, 6, 9]\n",
    "y3 = np.random.randn(100)\n",
    "\n",
    "\n",
    "# Create subplots\n",
    "fig = make_subplots(rows=1, cols=3, shared_yaxes=True, subplot_titles=['Subplot 1', 'Subplot 2', 'Subplot 3'])\n",
    "\n",
    "# Add the first subplot\n",
    "trace1 = go.Scatter(x=x, y=y1)\n",
    "\n",
    "trace2 = go.Bar(x=x, y=y2)\n",
    "trace3 = go.Histogram(x=y3)\n",
    "\n",
    "fig.add_trace(trace1, row=1, col=1)\n",
    "fig.add_trace(trace2, row=1, col=2)\n",
    "fig.add_trace(trace3, row=1, col=3)\n",
    "# Customize the layout (optional)\n",
    "fig.update_layout(title='Subplots Example - Scetter, Bar, Histogoram', showlegend=False)\n",
    "\n",
    "\n",
    "\n",
    "# Show the subplots\n",
    "fig.show()"
   ]
  },
  {
   "cell_type": "markdown",
   "metadata": {},
   "source": [
    "### Histogram plot \n"
   ]
  },
  {
   "cell_type": "code",
   "execution_count": 61,
   "metadata": {},
   "outputs": [
    {
     "data": {
      "application/vnd.plotly.v1+json": {
       "config": {
        "plotlyServerURL": "https://plot.ly"
       },
       "data": [
        {
         "name": "Histogram",
         "nbinsx": 20,
         "type": "histogram",
         "x": [
          0.169619911965358,
          0.2888481087590329,
          0.6628026431026298,
          -1.9492393394808867,
          0.09765026734024815,
          -0.7607858805444646,
          -2.8999077100237174,
          -0.7155655437916296,
          1.132666132352277,
          -0.11111991419022356,
          0.5649508023231489,
          1.4069346761758086,
          -0.34708245490015865,
          -1.0980916590708494,
          -0.28296500446342293,
          -0.4946750269663994,
          1.2988067306167845,
          0.796120493058138,
          2.692537910455691,
          -0.005494280767618497,
          1.4295293590652114,
          1.5003431414305355,
          0.011437834310689263,
          0.7311949785330144,
          -0.33596125115249825,
          -0.4409433079545635,
          2.8577013641203806,
          -0.7936191090085114,
          -0.28056711358534697,
          0.7481988108559274,
          -1.1090410379593745,
          -0.5732347580907888,
          2.854425492306895,
          -0.9475320185884151,
          2.016425612379852,
          -0.1443206392253811,
          -0.037219702252934736,
          -0.2664440139982496,
          -0.3626395249630938,
          -0.608539690454657,
          0.03745035771324198,
          -0.30773224511928177,
          0.5923980298244828,
          0.3493015096067396,
          -0.5421340588313903,
          1.5502773288593477,
          2.2903472977833665,
          -0.38285587133134247,
          -0.7857117889510267,
          0.576145709659725,
          0.29520900986041276,
          -2.0816997562428705,
          -0.7848991134625816,
          2.6454817969528563,
          -0.21697695211813442,
          0.5637312055679577,
          -0.02646812306356445,
          -0.43864487202491736,
          -0.8099009353808747,
          -0.7777740915139721,
          0.1998459081284677,
          -1.8738946058374009,
          0.3851779486041012,
          -1.35634499511117,
          -1.933125720724293,
          0.5949554677387058,
          0.03774478674235868,
          -0.1276247720708384,
          0.7004257524353503,
          0.7370502866003891,
          1.5162070719424807,
          1.4176928157040953,
          -0.35893728567792366,
          -1.2457244726927654,
          0.21634502922712875,
          0.2974766565602144,
          0.6261868561324097,
          0.7856275404945542,
          0.09036988409305403,
          0.3129574115711972,
          -0.2947197577936281,
          2.356845666860719,
          -2.340087624503735,
          -0.3178954189051889,
          1.374850507991567,
          0.00520363313352796,
          -0.594095857523993,
          0.5140598582165695,
          -0.1396752425633505,
          -1.903626286856108,
          0.5058040712340012,
          -0.04028469611096131,
          0.7742297095562427,
          0.2563644940350744,
          -0.8244321103879493,
          -1.606444823536983,
          0.8156578901462571,
          1.4163905661424927,
          -0.0485813786275046,
          1.1531591958504395,
          2.574479244018321,
          -0.2705491204063706,
          0.7562639416279143,
          -0.8524304721330771,
          -0.058462191160885066,
          0.5430418484644641,
          -1.7848031467042704,
          -0.4473852485220474,
          1.5560715970201597,
          0.3872093084676494,
          -0.6232700289989243,
          0.33695489579722465,
          0.39075185917178556,
          -0.6345974620741401,
          0.7486925800823999,
          0.3416066800303573,
          0.5163842033177859,
          -0.021459518348029415,
          -0.2855844566324199,
          -0.9045246081894284,
          0.7845342612287433,
          0.9215003087049739,
          -1.8899866643888963,
          -0.07111845912236722,
          -1.1876271368532263,
          1.0062002661299692,
          -0.9570393663785803,
          -0.6163483864219302,
          0.9647854113915224,
          -1.7089454680431093,
          0.6530741393830762,
          -0.07187071874223894,
          -1.8514393956182484,
          -0.2237158126833984,
          -0.4259795544032631,
          0.7090557903587194,
          0.5207706234101708,
          -0.8114238689540229,
          1.422433380454283,
          1.0583359522951394,
          -1.6870111403032626,
          0.04767453795605057,
          -2.0421313044369818,
          -0.7670410941247964,
          -0.7789744952517746,
          -0.8973465871088959,
          -0.04628593902553619,
          0.6415982257321584,
          0.2015354490182977,
          -1.548356442725416,
          -1.3406267829342233,
          0.12433538061629701,
          0.10438446855981462,
          -0.7918327577988118,
          0.08591946213184601,
          -0.5196751201995459,
          0.03277959668170077,
          0.17575849060374304,
          -0.5448937123515428,
          1.3703223133078204,
          0.5948090323964064,
          -0.01095349495914592,
          0.5481781503304368,
          1.1309439329711009,
          0.9953916888886138,
          0.4370048645500849,
          -0.3042026110387136,
          -0.1829960665520546,
          0.7390983831236335,
          0.5755520347894694,
          0.9587671381869723,
          0.6932738470748536,
          -1.933003602247815,
          -0.8224512862251958,
          -0.7352451781317436,
          -0.03375666354073787,
          -0.7946915487457868,
          0.9563246751294677,
          0.3294478750527639,
          0.7368302903185975,
          0.39281309535645687,
          -0.50001190699738,
          -1.7141816400010976,
          0.7309172535634973,
          -1.8350595131134255,
          0.5460347180010864,
          0.5146245800601862,
          -0.5278857767215922,
          -0.514858557123887,
          2.3856619571557713,
          0.7877611468574359,
          0.13850911592377962,
          -0.1344523852512427,
          -0.5454083513081538,
          0.5472278600627126,
          -0.9419999980736631,
          0.11137577600584661,
          0.39778232805575753,
          -0.5996824818257008,
          0.6520978244423741,
          1.1554885460509121,
          -0.16556808543085325,
          -1.4633321361570817,
          -0.1829449261886268,
          0.20395591849266362,
          -0.01179855771615168,
          -0.23630364068947682,
          0.3182467287579511,
          -0.06552046871195832,
          -0.1890522146795414,
          1.0764481199036002,
          -0.8782115393636836,
          -2.2060712482011113,
          -0.7629093231430802,
          -1.8524380847162851,
          1.0289181647795635,
          -0.5598758462921676,
          1.2332397807099582,
          0.33954489263756865,
          0.03971920353211012,
          -0.1505380421412913,
          0.7954840993210783,
          0.978030518543485,
          -1.6101266561557641,
          0.9675540767829349,
          -0.9134033841074393,
          -0.24626382656866122,
          -0.7122243397990636,
          -0.8937440103054792,
          0.6647022427879509,
          0.033214793621080194,
          0.537865739135869,
          -0.6309558065665632,
          -0.4070536654934154,
          -0.41215606931130006,
          0.45000181852106586,
          -0.5746391838536122,
          -0.05346825920940008,
          -1.380064769689066,
          0.09055149212109327,
          -0.9693701391336071,
          -0.9696895525003395,
          -0.17265945847159692,
          -0.8039935198534117,
          1.4800809413033698,
          0.09609467336334568,
          -0.4991324369420635,
          -0.44881735678315454,
          -0.06940219524558996,
          0.6816756484407589,
          0.08701272951153784,
          -1.2421976440284515,
          -0.9372008483262151,
          -0.30129662155573883,
          -0.3554680470652467,
          -0.08433935475946365,
          0.009402354177720616,
          -1.1276642962640326,
          0.8850351320169155,
          0.5231961449312301,
          -1.1403492758025628,
          0.8535666598843518,
          0.8262840004395652,
          1.0215879823935825,
          0.036329238350404275,
          -0.9098838756293718,
          0.9283151524826563,
          -1.2362049214522108,
          -0.998657847541626,
          -0.6295688143057601,
          0.04273295574447619,
          0.07871766553856355,
          0.9670421764309395,
          -0.6440101640420005,
          -0.6139082380892755,
          -0.6258557939770368,
          0.25732645120510217,
          0.13272479665647932,
          -0.334756969955025,
          -1.028953381058995,
          -0.5900175436432984,
          0.37978924450411883,
          0.5412310932100606,
          -1.096154547941163,
          1.491782032750049,
          1.1589993016168605,
          1.930367144679951,
          -0.5239072737721391,
          0.012877231143929373,
          0.8508683642169679,
          0.3878522701055575,
          1.062388078341477,
          -1.3823591536606217,
          0.09704018534676365,
          -2.1994887696724663,
          0.5533035418236152,
          -0.2545727212276394,
          -0.6230914290504707,
          1.5610734786825258,
          -0.17443653586531271,
          -0.0903904108062576,
          0.6932644668725416,
          -0.49865093865975285,
          -0.3945396302909652,
          -0.1685486034863146,
          0.9859004495879152,
          0.798011233303416,
          -0.47611331043824034,
          -0.11655881877079409,
          -0.5730999457127796,
          -0.7844061569631047,
          -0.7380061301025024,
          0.8708056827445065,
          0.7204055524165885,
          -1.54770607528248,
          0.23587733446739334,
          2.180156527863691,
          1.4873918497140524,
          -0.7469759135956028,
          1.041367231253811,
          -0.4660174405975614,
          -0.6967365821258416,
          -0.39867170792199524,
          1.7940815594621158,
          1.2646561205511346,
          1.6453135867982098,
          -1.4477384821548227,
          -0.7744331177443018,
          0.415366810684632,
          0.9181422833607298,
          -0.17402081028956806,
          0.47443960339671964,
          -0.9838073777229353,
          -0.7041034806668405,
          -0.01765034051693349,
          2.4560302401838032,
          0.9695998664335904,
          -0.6372608966388283,
          0.12988462886376662,
          -0.4411728554394384,
          0.7397438255029359,
          -0.721609730274803,
          -0.3991616280165601,
          -0.4824388683173301,
          0.594818936137192,
          -0.3676836608816839,
          0.9295512895710101,
          0.4143821604603178,
          1.573221179678571,
          0.011553606633846776,
          0.5168797102280415,
          1.1068144691957424,
          0.23714436260222577,
          0.6857912938984543,
          2.1462036485693576,
          0.5950342554014165,
          0.28429623905127244,
          -0.9494132248874861,
          -1.4590603877616748,
          -1.5469868682752959,
          -0.22363357056255984,
          -1.238087910200842,
          0.6793256682278388,
          -0.49761663867747674,
          0.8058860756277731,
          1.9027113580688941,
          -0.2066325023181752,
          0.5133491017063728,
          0.18939258432317904,
          1.1362140146543607,
          -1.245771178211251,
          -0.17543964170368453,
          0.20642587784532102,
          -0.4800539031973681,
          0.8959492958485163,
          -0.32849982290367913,
          -2.1504177951215415,
          -1.5238489464038139,
          -0.7647485530848352,
          0.45998933743336257,
          -0.06308117143191272,
          0.8262900757540721,
          1.298428247427706,
          -0.14096448053878385,
          -0.9108422733594176,
          1.1390760660141948,
          -0.49829802566350656,
          0.8902097851499507,
          2.239645373524212,
          -1.4697500681775566,
          -0.07979462955978722,
          0.7135580340029579,
          0.8808067298045484,
          -1.4098101366018536,
          0.462554948481702,
          1.3526732898826892,
          -0.7630731573149883,
          0.9531372788634697,
          2.0795502042628677,
          -0.14031427698826374,
          0.7761590860496445,
          -0.2079701855633533,
          1.0329140942354076,
          1.233519421367583,
          -0.7189119284147032,
          -1.111976305182863,
          -0.24332539055010854,
          1.3584234480713813,
          1.4493422961305236,
          -0.10657849599314657,
          1.081077652651364,
          -0.8050710161768844,
          -0.6474440208977218,
          0.38306616885824185,
          -1.0151502419331648,
          0.9837421564793609,
          -0.53279807277996,
          0.11684362151566137,
          -0.8027260886840247,
          -0.21244717899469184,
          0.6992702404552662,
          -0.7532126589242792,
          0.11617525456633224,
          0.4837231400307311,
          -0.22096470536939172,
          -0.10050960357204622,
          -1.6988592854223172,
          0.7825485191406503,
          -0.5473797738507914,
          -0.3488818764894923,
          1.4282586113042466,
          0.5812475348342648,
          -0.1426297549933914,
          0.37485118302313036,
          -0.2557279414730189,
          0.6036602828553433,
          -0.9928275345484435,
          -0.17752173262814208,
          0.8253618383482386,
          0.6664832583495087,
          -1.838719349467077,
          0.7490171807216821,
          -2.031582214555322,
          -0.17902568165020535,
          1.1348986780646384,
          -0.4397894293162402,
          0.6958685665489565,
          1.590788834099304,
          0.7838830110842953,
          0.39595164850933773,
          1.4997303216672084,
          -0.6787455157761664,
          0.6362376539784428,
          -0.7429063824494162,
          0.3846751534105174,
          0.17148346666831463,
          -0.4810255537383644,
          -1.4195912023578587,
          -1.8620749185259207,
          0.5540889179680647,
          1.3190599830803533,
          0.4146577769423338,
          -0.1532081122236467,
          -0.16630852424195677,
          -0.19276798129451864,
          0.6754044576304602,
          0.04689216555658187,
          -2.4089524441914794,
          -0.7046525347864562,
          -0.48072638590409283,
          1.4885929049832238,
          1.124263768655087,
          -0.8923594122937258,
          -2.114694479103653,
          -0.5650417535653338,
          -0.4864038270770139,
          0.505793918900929,
          -1.6771109926204142,
          -1.34630346434183,
          -1.0005298245052376,
          1.0165263446300112,
          1.3758602429202795,
          -0.10942601730328361,
          -0.4553774389003557,
          0.8406026245961854,
          0.4096853569628413,
          -0.052087340114516816,
          0.7546563554718881,
          0.06156417331436327,
          -1.4001889254882154,
          -0.5498721554274738,
          -0.25407597082971883,
          0.3059975552431644,
          0.18421351696506466,
          0.8181140416295667,
          -0.11000815376321485,
          -0.28418532730677054,
          -0.22161125674173476,
          -0.9457836446632425,
          0.5708994955053962,
          -0.05972995862037068,
          -0.12523714320458315,
          0.41649337191911556,
          1.2661440617801556,
          -2.082086053155669,
          0.23087355947836075,
          -1.3645664383658953,
          1.698141542840869,
          0.46683691859329995,
          2.0389175085744484,
          -0.9299181138612763,
          -0.6124152284893897,
          1.4126960473435093,
          1.682974725617876,
          1.348117079067543,
          0.09204924305293355,
          1.6620358959783057,
          0.8543557425059807,
          -1.1783766454840015,
          0.8464193243820309,
          -1.6369365644635154,
          0.7171895839948985,
          -0.9352666802476471,
          0.42098740398910056,
          1.2832389553201011,
          0.7542482697902403,
          -0.3427611849552745,
          0.556482355106486,
          -1.512987798404596,
          -2.1002964533120942,
          -1.1212233080169045,
          0.11380562470042091,
          1.1768151388020927,
          -0.14429316719936336,
          -0.04966271977503278,
          0.009000343590794976,
          -1.0763399478720028,
          0.3132703982733391,
          -1.1633271712129374,
          1.2747323294568838,
          0.11992365137359068,
          -0.15955650892528975,
          -0.4737318145408775,
          -0.6408991487643306,
          -0.803157365805879,
          0.976277994051393,
          -1.7879118159424352,
          -0.6273073716540111,
          -0.3117104462447843,
          0.18577798693596112,
          -0.5606498781854217,
          -0.9049776933391845,
          1.7822523894391793,
          -0.810429349166135,
          -0.8786180435115172,
          0.6212887056212787,
          0.7329691842136913,
          -0.7894598514345653,
          -1.8673745810816667,
          -1.7747280871792546,
          -0.9542692293071928,
          -0.10580313596842428,
          -1.1789703576790234,
          -1.6217547788810656,
          0.8355013804113554,
          -1.8716762438688035,
          1.0868675566048835,
          0.3975138253658471,
          -0.6587879362522913,
          -0.2103700031922243,
          -0.6157263935550857,
          -0.7591634413189011,
          -1.6950791968835592,
          -1.9693110782709218,
          0.42823214850793156,
          -1.1860750364763704,
          0.18598228191481367,
          -0.14484951263431975,
          0.15772216306344092,
          -0.072948508923975,
          0.2284660771359304,
          -0.7028329840702676,
          0.4045567951976737,
          -1.0053622406805056,
          0.04600825307321438,
          1.836321617723685,
          -1.42186510595271,
          -1.5708824779041664,
          -0.05265126412883837,
          -0.9172602880145215,
          -0.030224081988804195,
          0.28877380726548985,
          0.12930901012802043,
          0.08832491853996273,
          -0.999908707637122,
          0.6986331395668895,
          0.970943963815403,
          1.0810118905750308,
          -1.2428199529548567,
          0.483877854256588,
          1.9919632755755623,
          -0.8234358351957062,
          0.6897110927946638,
          0.19889284646040115,
          -0.1929554534329273,
          -0.16991109857078002,
          -1.035026794551633,
          0.9565875355714796,
          -1.1719750847571184,
          -0.12568777239721368,
          -0.17829466810535552,
          0.6157968295168648,
          -1.169620782565036,
          -0.28334204791035195,
          -0.8063361777233973,
          0.09206408579591556,
          0.9475261094912751,
          -0.4649114290741646,
          -2.249381030009267,
          0.1285869870774425,
          -1.1755410585848605,
          -0.8364341081938867,
          0.2159593770118624,
          -1.036508482725647,
          -0.2365322506321338,
          -0.8176637255752622,
          0.5381539242862352,
          0.4454257557552922,
          0.6680929082279748,
          2.1657106313630257,
          -1.633715263500604,
          -0.9737861585103678,
          0.32309705383938114,
          2.234114273367183,
          0.708441984265726,
          -0.4484726911394833,
          -0.24852791505031574,
          -0.5876002971269375,
          -0.1244463684726089,
          2.346920114121379,
          0.5609238833911835,
          -0.3202570421262973,
          0.4535224346805599,
          -0.4226806186131832,
          -0.2315682361533765,
          -0.9838867857890052,
          -0.8222680354925215,
          0.5750175153003628,
          -1.1118627806257817,
          -1.371036233539485,
          0.49018986487002825,
          -0.8802787051370752,
          -1.9586814174809768,
          1.0366324941570408,
          1.5229049184025234,
          1.0316885348958016,
          1.627452101195429,
          0.7851577793793193,
          1.9318691669403874,
          -1.2442858774336067,
          -0.44947203446663725,
          0.08571319185168322,
          0.46928568759812433,
          -0.8287385077726392,
          0.9169996892498558,
          1.0491770767831021,
          -0.2858255791569512,
          -2.1012315520333926,
          0.5420544715193806,
          0.5688236987847681,
          0.7675798787594992,
          0.662826221759069,
          0.08209172506616996,
          -0.8974672950507065,
          -0.15797277517712208,
          0.13540526078133025,
          -0.31027874802610184,
          0.7725553379893323,
          -1.0846683031902047,
          0.6975743952170347,
          0.501735088585502,
          1.0680869752937971,
          1.3755210321555762,
          0.7912730973722494,
          1.474256730382466,
          -1.4419402442779954,
          1.9320430972413505,
          0.6728871953648186,
          0.3003090159150351,
          1.0222605139788286,
          -1.4549505661776216,
          1.1743293829153274,
          0.7712334952138141,
          -1.425018005421542,
          -1.754101837143902,
          -1.328616781578485,
          0.9811065474883162,
          -1.3480115968860105,
          -1.1827891941176973,
          1.6655542172555469,
          0.11543759184935387,
          0.25758721455127315,
          -0.43449985328746604,
          1.0758940272167186,
          -0.19910151704204446,
          0.9799503249856546,
          -0.11852690446091996,
          -0.39843501081133126,
          0.6863490917422959,
          1.0894032495937036,
          -2.210638693239578,
          -0.22220991556561787,
          -0.6236149065109061,
          1.0375802180549527,
          0.8437879858479551,
          -1.0583471079273634,
          -0.318281812921567,
          -1.923148096809939,
          -0.6101581960317363,
          -0.5929667454202655,
          -1.6197700315464711,
          -0.0009205446357079786,
          1.9689652787217167,
          -1.2534479587000864,
          1.162560188120947,
          0.7529940445255148,
          1.994018886116315,
          -1.9720245200457036,
          -0.7251765722683499,
          1.272495753655888,
          -1.0855107360584795,
          2.3286699269765876,
          0.2448766533974963,
          -0.02045307785141731,
          0.18060958967740176,
          1.6715212500278553,
          0.6953155971807822,
          1.7710844547767965,
          -0.7531447769862745,
          -0.4608575670125308,
          -2.2490726660814446,
          0.6847708895664617,
          -1.6079448007983903,
          1.2670741703498247,
          0.11122329670065537,
          -0.06776412672269608,
          0.7315155829553572,
          -0.6719374949437912,
          -0.23107963198012677,
          -1.4127274413757118,
          -0.7919446261045637,
          -0.4400357634502776,
          -0.6906455693779217,
          -0.6768247628042355,
          1.2183283531331293,
          1.364059363150085,
          -1.032520635513905,
          -0.07488015400323558,
          -0.30417900822456184,
          0.8672862620830043,
          -0.7651767241327085,
          -0.2986896527516816,
          0.21761832055918814,
          0.8379157894122252,
          -0.2762816140084442,
          -1.0622546176863865,
          0.21182649866687575,
          -0.08900229564628258,
          0.3048835582697476,
          1.181686843018788,
          -0.6784649250397646,
          1.0850994540306,
          2.789617115406187,
          -0.05031008531837636,
          -0.5202059264550075,
          1.3338362944050801,
          0.7175945392292535,
          -1.4705990864794845,
          1.0010951968994284,
          1.2236815993240153,
          -0.6291811553825242,
          1.570973939008863,
          -1.1018601616823482,
          -0.09506069715110016,
          -0.016240869773397584,
          -0.5567326971425042,
          -0.41768940747476374,
          0.8804781462054215,
          0.23043924107385808,
          -0.886943945653303,
          -0.5656711047354849,
          1.1547250399846012,
          0.8566804921106204,
          -0.7883045896554958,
          2.410460593007132,
          1.8357209366168437,
          0.4788269186693951,
          -0.1682980138755471,
          0.9125241971782475,
          0.42272158774012353,
          0.20138539062586205,
          -1.0084251683408472,
          -1.1027072167562566,
          -0.05776766127749324,
          0.07871903093779471,
          -0.4937209140317967,
          -1.5221985302994503,
          0.17467776034738983,
          -2.954628265906372,
          1.2032985598653643,
          -0.8843933778669115,
          -0.7043453143014492,
          0.5410368010618992,
          0.943276939408277,
          -1.0279831901986576,
          0.8982402369448467,
          0.6116741900803259,
          -0.053942004253356685,
          1.172115871279277,
          -2.069573749644318,
          -0.894874510585693,
          -0.032379608226106166,
          1.0373326677112844,
          -0.5054750033571205,
          0.7876395608946922,
          0.7436981495505024,
          -0.7326985983193294,
          -0.496537367228496,
          0.7929591624975195,
          -0.13686133643369955,
          0.2573451872490938,
          -0.3659413025669379,
          -1.268195805063037,
          0.47868382938473536,
          -0.3582521264319192,
          0.29861220075977646,
          0.6109652623686523,
          0.3149977488211814,
          0.11877166548718028,
          -0.6259765012303778,
          -0.2235517197251071,
          -0.47853915712675016,
          -0.4840025678219416,
          0.13085733860031992,
          0.6876137434939765,
          -0.043166735364270584,
          -0.33360863392275125,
          0.6512725038992473,
          0.523887724767445,
          0.21987515587800158,
          -0.2936474921306332,
          0.5372637582307533,
          0.7810514878964174,
          -1.620073673623846,
          0.06301689461135726,
          -0.7739566923435509,
          1.1836846836625232,
          0.187335432693369,
          1.5615126407605193,
          0.6246375399328101,
          -0.5841173530833252,
          -0.02175780991082226,
          0.21063679024081533,
          0.19678862975543876,
          0.23397132189482422,
          -0.042215256058480546,
          1.5070713185202143,
          -0.6074341017644239,
          -1.4988902093979108,
          -0.419756989829802,
          -1.4709799538422903,
          0.7815181779796732,
          0.6768048155410117,
          -1.786853877262182,
          0.4043750826361711,
          -0.7338821350298745,
          -0.3584573147164018,
          0.49196921753705136,
          1.9063989801002799,
          0.4292601150616868,
          0.22481349921490068,
          0.5258147868879234,
          2.9494549290411007,
          -0.348242821893051,
          -1.2393028955878223,
          0.36457739308665715,
          1.0736014087425831,
          0.6040033032491209,
          -1.210721158484506,
          1.2886030816455833,
          -1.1871746722754546,
          -1.357914847593114,
          0.08490967624731464,
          -1.0341743857764036,
          0.25886260733509936,
          -1.700636179866074,
          1.159507629704748,
          -0.7861658765420901,
          -0.06780514430172788,
          1.1197482666023453,
          -0.4404284013603587,
          0.19727667337664415,
          -0.434818110741909,
          -0.7801877283414914,
          -2.5841634395553608,
          0.2625791052766914,
          -0.7830766921819233,
          -1.434916250063721,
          0.9424362577311274,
          1.0275963411024356,
          -0.09166276990048214,
          0.31936221398302916,
          1.864744570525115,
          1.211883342626868,
          -1.7593134905613836,
          -1.9942762969888184,
          -2.0138487999430112,
          -0.3292985326833494,
          0.11368163227723409,
          0.7154045439262592,
          -0.813075532732262,
          0.7558587167328207,
          -0.6286428048881346,
          0.3951278377052813,
          0.5512849175385395,
          1.8277476027220154,
          1.2715273954339772,
          0.6337945622363342,
          -1.0823550332372889,
          -0.29259831527982877,
          -0.7317319280338885,
          0.39863063432172924,
          -0.2033043052851437,
          -0.039114697860266875,
          -2.3485530579426763,
          0.005892518530479062,
          -0.9848204637931861,
          -0.7881804128254407,
          -1.2654727143322788,
          -1.9269284611334703,
          -1.3854573378466795,
          1.2716340875738814,
          -0.8544137763744628,
          0.7007327252612257,
          0.20925697789683068,
          -0.8211131312966701,
          -0.747027251077763,
          -0.35779320367619954,
          -1.0637294195539901,
          1.6895234278569427,
          -0.32536334938362166,
          0.3805680033036782,
          0.22718121115959794,
          1.1842927851740899,
          0.06901364585036933,
          1.4331307013571455,
          0.02154664830551854,
          0.17723781998549237,
          0.4747376235076481,
          -0.14769867724685404,
          -0.8234170945029194,
          0.397653855582193,
          -1.1985278964507375,
          -0.4528820564737987,
          -1.767561616744976,
          -0.8558072974714286,
          0.27370711399124004,
          -0.12283950819993011,
          0.5797680958364083,
          0.6549590929578417,
          0.5033909753751126,
          -0.8205611300171384,
          -1.3981340982527324,
          -0.37733063627378843,
          0.2376152788861332,
          -0.32922909907144765,
          0.12823904906987169,
          -1.371658259374933,
          -0.4553484035888429,
          0.3745835119339298,
          -0.2351541474758681,
          0.09879841809269828,
          -0.9167196957567523,
          0.030953160290502033,
          -0.7897962257545724,
          2.60877205402445,
          -0.8606264476413175,
          -0.5732162757784229,
          -0.878551319792175,
          -0.7991286718584208,
          0.8506350495791398,
          -0.14554378488770223,
          0.8874855829905705,
          1.0160994798503793,
          -0.7393042034974725,
          -0.2266529312225744,
          0.10682890838880242,
          0.79735867618392,
          0.13968436170353818,
          -0.01681460055907346
         ]
        }
       ],
       "layout": {
        "template": {
         "data": {
          "bar": [
           {
            "error_x": {
             "color": "#2a3f5f"
            },
            "error_y": {
             "color": "#2a3f5f"
            },
            "marker": {
             "line": {
              "color": "#E5ECF6",
              "width": 0.5
             },
             "pattern": {
              "fillmode": "overlay",
              "size": 10,
              "solidity": 0.2
             }
            },
            "type": "bar"
           }
          ],
          "barpolar": [
           {
            "marker": {
             "line": {
              "color": "#E5ECF6",
              "width": 0.5
             },
             "pattern": {
              "fillmode": "overlay",
              "size": 10,
              "solidity": 0.2
             }
            },
            "type": "barpolar"
           }
          ],
          "carpet": [
           {
            "aaxis": {
             "endlinecolor": "#2a3f5f",
             "gridcolor": "white",
             "linecolor": "white",
             "minorgridcolor": "white",
             "startlinecolor": "#2a3f5f"
            },
            "baxis": {
             "endlinecolor": "#2a3f5f",
             "gridcolor": "white",
             "linecolor": "white",
             "minorgridcolor": "white",
             "startlinecolor": "#2a3f5f"
            },
            "type": "carpet"
           }
          ],
          "choropleth": [
           {
            "colorbar": {
             "outlinewidth": 0,
             "ticks": ""
            },
            "type": "choropleth"
           }
          ],
          "contour": [
           {
            "colorbar": {
             "outlinewidth": 0,
             "ticks": ""
            },
            "colorscale": [
             [
              0,
              "#0d0887"
             ],
             [
              0.1111111111111111,
              "#46039f"
             ],
             [
              0.2222222222222222,
              "#7201a8"
             ],
             [
              0.3333333333333333,
              "#9c179e"
             ],
             [
              0.4444444444444444,
              "#bd3786"
             ],
             [
              0.5555555555555556,
              "#d8576b"
             ],
             [
              0.6666666666666666,
              "#ed7953"
             ],
             [
              0.7777777777777778,
              "#fb9f3a"
             ],
             [
              0.8888888888888888,
              "#fdca26"
             ],
             [
              1,
              "#f0f921"
             ]
            ],
            "type": "contour"
           }
          ],
          "contourcarpet": [
           {
            "colorbar": {
             "outlinewidth": 0,
             "ticks": ""
            },
            "type": "contourcarpet"
           }
          ],
          "heatmap": [
           {
            "colorbar": {
             "outlinewidth": 0,
             "ticks": ""
            },
            "colorscale": [
             [
              0,
              "#0d0887"
             ],
             [
              0.1111111111111111,
              "#46039f"
             ],
             [
              0.2222222222222222,
              "#7201a8"
             ],
             [
              0.3333333333333333,
              "#9c179e"
             ],
             [
              0.4444444444444444,
              "#bd3786"
             ],
             [
              0.5555555555555556,
              "#d8576b"
             ],
             [
              0.6666666666666666,
              "#ed7953"
             ],
             [
              0.7777777777777778,
              "#fb9f3a"
             ],
             [
              0.8888888888888888,
              "#fdca26"
             ],
             [
              1,
              "#f0f921"
             ]
            ],
            "type": "heatmap"
           }
          ],
          "heatmapgl": [
           {
            "colorbar": {
             "outlinewidth": 0,
             "ticks": ""
            },
            "colorscale": [
             [
              0,
              "#0d0887"
             ],
             [
              0.1111111111111111,
              "#46039f"
             ],
             [
              0.2222222222222222,
              "#7201a8"
             ],
             [
              0.3333333333333333,
              "#9c179e"
             ],
             [
              0.4444444444444444,
              "#bd3786"
             ],
             [
              0.5555555555555556,
              "#d8576b"
             ],
             [
              0.6666666666666666,
              "#ed7953"
             ],
             [
              0.7777777777777778,
              "#fb9f3a"
             ],
             [
              0.8888888888888888,
              "#fdca26"
             ],
             [
              1,
              "#f0f921"
             ]
            ],
            "type": "heatmapgl"
           }
          ],
          "histogram": [
           {
            "marker": {
             "pattern": {
              "fillmode": "overlay",
              "size": 10,
              "solidity": 0.2
             }
            },
            "type": "histogram"
           }
          ],
          "histogram2d": [
           {
            "colorbar": {
             "outlinewidth": 0,
             "ticks": ""
            },
            "colorscale": [
             [
              0,
              "#0d0887"
             ],
             [
              0.1111111111111111,
              "#46039f"
             ],
             [
              0.2222222222222222,
              "#7201a8"
             ],
             [
              0.3333333333333333,
              "#9c179e"
             ],
             [
              0.4444444444444444,
              "#bd3786"
             ],
             [
              0.5555555555555556,
              "#d8576b"
             ],
             [
              0.6666666666666666,
              "#ed7953"
             ],
             [
              0.7777777777777778,
              "#fb9f3a"
             ],
             [
              0.8888888888888888,
              "#fdca26"
             ],
             [
              1,
              "#f0f921"
             ]
            ],
            "type": "histogram2d"
           }
          ],
          "histogram2dcontour": [
           {
            "colorbar": {
             "outlinewidth": 0,
             "ticks": ""
            },
            "colorscale": [
             [
              0,
              "#0d0887"
             ],
             [
              0.1111111111111111,
              "#46039f"
             ],
             [
              0.2222222222222222,
              "#7201a8"
             ],
             [
              0.3333333333333333,
              "#9c179e"
             ],
             [
              0.4444444444444444,
              "#bd3786"
             ],
             [
              0.5555555555555556,
              "#d8576b"
             ],
             [
              0.6666666666666666,
              "#ed7953"
             ],
             [
              0.7777777777777778,
              "#fb9f3a"
             ],
             [
              0.8888888888888888,
              "#fdca26"
             ],
             [
              1,
              "#f0f921"
             ]
            ],
            "type": "histogram2dcontour"
           }
          ],
          "mesh3d": [
           {
            "colorbar": {
             "outlinewidth": 0,
             "ticks": ""
            },
            "type": "mesh3d"
           }
          ],
          "parcoords": [
           {
            "line": {
             "colorbar": {
              "outlinewidth": 0,
              "ticks": ""
             }
            },
            "type": "parcoords"
           }
          ],
          "pie": [
           {
            "automargin": true,
            "type": "pie"
           }
          ],
          "scatter": [
           {
            "fillpattern": {
             "fillmode": "overlay",
             "size": 10,
             "solidity": 0.2
            },
            "type": "scatter"
           }
          ],
          "scatter3d": [
           {
            "line": {
             "colorbar": {
              "outlinewidth": 0,
              "ticks": ""
             }
            },
            "marker": {
             "colorbar": {
              "outlinewidth": 0,
              "ticks": ""
             }
            },
            "type": "scatter3d"
           }
          ],
          "scattercarpet": [
           {
            "marker": {
             "colorbar": {
              "outlinewidth": 0,
              "ticks": ""
             }
            },
            "type": "scattercarpet"
           }
          ],
          "scattergeo": [
           {
            "marker": {
             "colorbar": {
              "outlinewidth": 0,
              "ticks": ""
             }
            },
            "type": "scattergeo"
           }
          ],
          "scattergl": [
           {
            "marker": {
             "colorbar": {
              "outlinewidth": 0,
              "ticks": ""
             }
            },
            "type": "scattergl"
           }
          ],
          "scattermapbox": [
           {
            "marker": {
             "colorbar": {
              "outlinewidth": 0,
              "ticks": ""
             }
            },
            "type": "scattermapbox"
           }
          ],
          "scatterpolar": [
           {
            "marker": {
             "colorbar": {
              "outlinewidth": 0,
              "ticks": ""
             }
            },
            "type": "scatterpolar"
           }
          ],
          "scatterpolargl": [
           {
            "marker": {
             "colorbar": {
              "outlinewidth": 0,
              "ticks": ""
             }
            },
            "type": "scatterpolargl"
           }
          ],
          "scatterternary": [
           {
            "marker": {
             "colorbar": {
              "outlinewidth": 0,
              "ticks": ""
             }
            },
            "type": "scatterternary"
           }
          ],
          "surface": [
           {
            "colorbar": {
             "outlinewidth": 0,
             "ticks": ""
            },
            "colorscale": [
             [
              0,
              "#0d0887"
             ],
             [
              0.1111111111111111,
              "#46039f"
             ],
             [
              0.2222222222222222,
              "#7201a8"
             ],
             [
              0.3333333333333333,
              "#9c179e"
             ],
             [
              0.4444444444444444,
              "#bd3786"
             ],
             [
              0.5555555555555556,
              "#d8576b"
             ],
             [
              0.6666666666666666,
              "#ed7953"
             ],
             [
              0.7777777777777778,
              "#fb9f3a"
             ],
             [
              0.8888888888888888,
              "#fdca26"
             ],
             [
              1,
              "#f0f921"
             ]
            ],
            "type": "surface"
           }
          ],
          "table": [
           {
            "cells": {
             "fill": {
              "color": "#EBF0F8"
             },
             "line": {
              "color": "white"
             }
            },
            "header": {
             "fill": {
              "color": "#C8D4E3"
             },
             "line": {
              "color": "white"
             }
            },
            "type": "table"
           }
          ]
         },
         "layout": {
          "annotationdefaults": {
           "arrowcolor": "#2a3f5f",
           "arrowhead": 0,
           "arrowwidth": 1
          },
          "autotypenumbers": "strict",
          "coloraxis": {
           "colorbar": {
            "outlinewidth": 0,
            "ticks": ""
           }
          },
          "colorscale": {
           "diverging": [
            [
             0,
             "#8e0152"
            ],
            [
             0.1,
             "#c51b7d"
            ],
            [
             0.2,
             "#de77ae"
            ],
            [
             0.3,
             "#f1b6da"
            ],
            [
             0.4,
             "#fde0ef"
            ],
            [
             0.5,
             "#f7f7f7"
            ],
            [
             0.6,
             "#e6f5d0"
            ],
            [
             0.7,
             "#b8e186"
            ],
            [
             0.8,
             "#7fbc41"
            ],
            [
             0.9,
             "#4d9221"
            ],
            [
             1,
             "#276419"
            ]
           ],
           "sequential": [
            [
             0,
             "#0d0887"
            ],
            [
             0.1111111111111111,
             "#46039f"
            ],
            [
             0.2222222222222222,
             "#7201a8"
            ],
            [
             0.3333333333333333,
             "#9c179e"
            ],
            [
             0.4444444444444444,
             "#bd3786"
            ],
            [
             0.5555555555555556,
             "#d8576b"
            ],
            [
             0.6666666666666666,
             "#ed7953"
            ],
            [
             0.7777777777777778,
             "#fb9f3a"
            ],
            [
             0.8888888888888888,
             "#fdca26"
            ],
            [
             1,
             "#f0f921"
            ]
           ],
           "sequentialminus": [
            [
             0,
             "#0d0887"
            ],
            [
             0.1111111111111111,
             "#46039f"
            ],
            [
             0.2222222222222222,
             "#7201a8"
            ],
            [
             0.3333333333333333,
             "#9c179e"
            ],
            [
             0.4444444444444444,
             "#bd3786"
            ],
            [
             0.5555555555555556,
             "#d8576b"
            ],
            [
             0.6666666666666666,
             "#ed7953"
            ],
            [
             0.7777777777777778,
             "#fb9f3a"
            ],
            [
             0.8888888888888888,
             "#fdca26"
            ],
            [
             1,
             "#f0f921"
            ]
           ]
          },
          "colorway": [
           "#636efa",
           "#EF553B",
           "#00cc96",
           "#ab63fa",
           "#FFA15A",
           "#19d3f3",
           "#FF6692",
           "#B6E880",
           "#FF97FF",
           "#FECB52"
          ],
          "font": {
           "color": "#2a3f5f"
          },
          "geo": {
           "bgcolor": "white",
           "lakecolor": "white",
           "landcolor": "#E5ECF6",
           "showlakes": true,
           "showland": true,
           "subunitcolor": "white"
          },
          "hoverlabel": {
           "align": "left"
          },
          "hovermode": "closest",
          "mapbox": {
           "style": "light"
          },
          "paper_bgcolor": "white",
          "plot_bgcolor": "#E5ECF6",
          "polar": {
           "angularaxis": {
            "gridcolor": "white",
            "linecolor": "white",
            "ticks": ""
           },
           "bgcolor": "#E5ECF6",
           "radialaxis": {
            "gridcolor": "white",
            "linecolor": "white",
            "ticks": ""
           }
          },
          "scene": {
           "xaxis": {
            "backgroundcolor": "#E5ECF6",
            "gridcolor": "white",
            "gridwidth": 2,
            "linecolor": "white",
            "showbackground": true,
            "ticks": "",
            "zerolinecolor": "white"
           },
           "yaxis": {
            "backgroundcolor": "#E5ECF6",
            "gridcolor": "white",
            "gridwidth": 2,
            "linecolor": "white",
            "showbackground": true,
            "ticks": "",
            "zerolinecolor": "white"
           },
           "zaxis": {
            "backgroundcolor": "#E5ECF6",
            "gridcolor": "white",
            "gridwidth": 2,
            "linecolor": "white",
            "showbackground": true,
            "ticks": "",
            "zerolinecolor": "white"
           }
          },
          "shapedefaults": {
           "line": {
            "color": "#2a3f5f"
           }
          },
          "ternary": {
           "aaxis": {
            "gridcolor": "white",
            "linecolor": "white",
            "ticks": ""
           },
           "baxis": {
            "gridcolor": "white",
            "linecolor": "white",
            "ticks": ""
           },
           "bgcolor": "#E5ECF6",
           "caxis": {
            "gridcolor": "white",
            "linecolor": "white",
            "ticks": ""
           }
          },
          "title": {
           "x": 0.05
          },
          "xaxis": {
           "automargin": true,
           "gridcolor": "white",
           "linecolor": "white",
           "ticks": "",
           "title": {
            "standoff": 15
           },
           "zerolinecolor": "white",
           "zerolinewidth": 2
          },
          "yaxis": {
           "automargin": true,
           "gridcolor": "white",
           "linecolor": "white",
           "ticks": "",
           "title": {
            "standoff": 15
           },
           "zerolinecolor": "white",
           "zerolinewidth": 2
          }
         }
        },
        "title": {
         "text": "Histogram Plot"
        },
        "xaxis": {
         "title": {
          "text": "X-axis Label"
         }
        },
        "yaxis": {
         "title": {
          "text": "Frequency"
         }
        }
       }
      }
     },
     "metadata": {},
     "output_type": "display_data"
    }
   ],
   "source": [
    "import numpy as np\n",
    "data = np.random.randn(1000)\n",
    "trace =  go.Histogram(x=data, nbinsx=20, name='Histogram')\n",
    "\n",
    "layout = go.Layout(\n",
    "    title='Histogram Plot',\n",
    "    xaxis=dict(title='X-axis Label'),\n",
    "    yaxis=dict(title='Frequency'),\n",
    ")\n",
    "fig = go.Figure(data=[trace], layout=layout)\n",
    "fig.show()"
   ]
  },
  {
   "cell_type": "markdown",
   "metadata": {},
   "source": [
    "To normaloze the plot to have area =1 we use the histnorm=\"probability\""
   ]
  },
  {
   "cell_type": "code",
   "execution_count": 48,
   "metadata": {},
   "outputs": [
    {
     "data": {
      "application/vnd.plotly.v1+json": {
       "config": {
        "plotlyServerURL": "https://plot.ly"
       },
       "data": [
        {
         "histnorm": "probability",
         "name": "PDF",
         "type": "histogram",
         "x": [
          -0.13122593267491653,
          0.7045484614888008,
          -0.39132536205252094,
          -0.7033262541783463,
          0.3256352151993241,
          -0.16685711882664442,
          0.6595393136210365,
          -2.11429427723732,
          0.44544773086151257,
          0.21148729503005442,
          0.6201852113476838,
          -1.0762077298568362,
          -0.655391314876599,
          2.3652302645840306,
          0.9771419628716573,
          0.10730229288742191,
          -0.33164050311474147,
          0.2847517455037474,
          0.5192962679886698,
          0.07790471444827649,
          0.47374411303262964,
          -1.8021223394531942,
          -0.13417852775769712,
          -2.014283974802887,
          0.08377562426628378,
          1.1405309859399777,
          -0.9929021534375929,
          0.4862097222902975,
          -0.9590671049785177,
          1.0404176561249965,
          -0.37387905372637037,
          -0.0772765799086601,
          -0.2705295498637993,
          -0.9437570260833372,
          2.058078134909763,
          0.7905073839220973,
          1.2381208873012506,
          -0.1848896711389493,
          0.6051001643101444,
          0.1741101292931577,
          0.5626250991085644,
          0.5511839885946608,
          -0.48352972442922176,
          -0.07883217230636552,
          1.44557390605869,
          0.36958896972035227,
          0.14036754098196536,
          -1.3442038307491615,
          0.4889509973701534,
          -0.7594531981469862,
          0.33932257558284534,
          0.10353961390335559,
          -0.8182317227823857,
          0.9280226325389593,
          1.4977986543584356,
          -1.554550386323127,
          0.14655622835299686,
          -0.9171184817316512,
          -0.11747612561579032,
          1.5967322497994787,
          -2.438962840874883,
          -0.6576075383261039,
          0.04812128111403666,
          0.46158669429633314,
          1.149561563667437,
          0.5137882005591307,
          -1.9106105248918717,
          1.5903662758057275,
          1.3499396552816263,
          -1.0763617995318184,
          -0.5026775779900424,
          -0.12926643909786903,
          -0.3080423463731006,
          0.5803274111553741,
          1.4736248290797687,
          -0.5506311092854687,
          0.11738293397893922,
          -0.5833965129668379,
          -0.7783151728887163,
          -0.5423633081026858,
          -1.070725304971221,
          -0.3511884952551156,
          -0.7535304021259646,
          -1.1485868135572856,
          0.4525109003131883,
          1.0814317186110176,
          0.8516777292677093,
          0.10439922454671459,
          -1.3850512135999133,
          0.6180852850783333,
          0.3160242777790171,
          2.868249024681477,
          -1.010914857722984,
          -0.7736951255562912,
          1.325322582204142,
          -0.2841264003368923,
          -0.32590239864348686,
          -2.349001841448769,
          0.6566398964737615,
          -0.6067737711217914,
          0.4243061682767473,
          -0.4346681125645062,
          0.5368739400003696,
          -1.6703486772619474,
          -0.3527385476103441,
          0.13789947227414642,
          0.07836596073130606,
          0.4851216964328267,
          0.9271388261790559,
          0.061943416193896414,
          1.6214433301225997,
          -1.3277945050635425,
          -0.43568579069129726,
          0.357934817507004,
          0.4164082901384396,
          1.6056578429636927,
          0.24315928525003494,
          0.5780875529511655,
          0.274110566748005,
          -0.18759397277324016,
          1.0117165961314205,
          -1.6466573426579363,
          -1.6726141797523577,
          -0.8657445885435696,
          2.6070978412635712,
          -1.4597702596874709,
          -1.6672274625694334,
          0.16920641893824778,
          0.19087845649513024,
          -1.2972045712984803,
          -1.3452704696554905,
          0.38580307989103135,
          0.44267566767154304,
          -0.7803180909285953,
          -1.0693337953802138,
          -0.20832014199691057,
          -1.5699907137532465,
          0.39682025299236756,
          -1.0283457167446193,
          -0.7464239000347987,
          0.8487813881357101,
          0.5764007597044918,
          -0.6724162174004948,
          -1.2248160529751653,
          1.39860508716693,
          -0.08830495485388476,
          0.5859746621922943,
          -2.8477407058163275,
          0.12156342945759051,
          -0.6717824736718253,
          -1.6336479984606809,
          -0.13178964103579466,
          -1.164709026771594,
          -0.38639673443832984,
          -2.702134723035789,
          -1.1290247875204338,
          -0.04207462903694838,
          0.7543083741714016,
          0.19503734302349182,
          -0.47538771536862673,
          0.8312596086129965,
          -1.622307470343825,
          -1.662126724202773,
          0.24772188183597366,
          1.0127509661262242,
          -0.7262015812838329,
          0.5937774945330367,
          -0.8291854299879237,
          2.071117940398889,
          -1.9184384262298613,
          -0.31098066656141493,
          -0.03847814504320606,
          0.4213551667831511,
          0.7948791049689021,
          -1.0063661910844182,
          -2.156211708810909,
          0.03635991981155448,
          1.625795537728451,
          0.5821780813686199,
          0.33733302171204055,
          0.4109059347788229,
          0.4710235319247186,
          0.45357155509209174,
          0.6816342668319901,
          1.0963481304616556,
          -0.9978273737309643,
          -0.011194264161895066,
          0.6317401210020851,
          -0.6871346780963173,
          -1.370880231489712,
          0.8249044476486521,
          0.46506123852281694,
          -0.386599828924939,
          -0.6649076975053637,
          0.07007334547235339,
          -0.32397222880420373,
          2.028940448509269,
          0.47503415932851417,
          0.47582634224638437,
          -1.267450994776544,
          -0.6520113539772945,
          -1.1126729715691384,
          -0.8443046278619892,
          -1.196123903377114,
          0.4382966781660512,
          1.1101218629662966,
          0.8135518137076581,
          0.9574503931317444,
          0.6776223208290241,
          1.0387299448938239,
          -1.0959082980536692,
          -0.4887594735966505,
          0.012368008814844617,
          -1.5567435877327498,
          -0.056892753763202616,
          -0.6092903337916449,
          -1.2597856681018067,
          -0.35037268746516664,
          0.11769596660910624,
          0.42861057470831754,
          0.06821449383616647,
          -0.047385256284141974,
          0.7009648646522709,
          -1.5069010048486566,
          -0.9337801005747548,
          0.18904426161270327,
          0.6165132690524456,
          0.9970780650579723,
          1.3294416313454833,
          1.6465184909886483,
          -0.3344384712219879,
          0.021347573148828364,
          -0.36776147626377237,
          0.8167770043830055,
          -0.36396542214479766,
          -0.47433962441196925,
          -2.6880224808653015,
          -0.27773796015441277,
          0.16668597499098387,
          -0.45379755795118765,
          0.16422887455248222,
          1.165695481362323,
          -2.3410804333170985,
          -1.3366023968988017,
          -0.6053407773161629,
          -0.14982580085402716,
          0.6973001918222267,
          0.046250033704366734,
          -0.7356898410641104,
          0.5199141804983427,
          -0.829501136347516,
          0.5178006937087177,
          -0.32690549589576295,
          0.515904488718088,
          1.5990261299753241,
          0.7228047062099869,
          0.1275179594497052,
          -1.3649752203876722,
          -1.1445547823547126,
          -0.265991750261624,
          -2.557273566846788,
          0.21138770203671928,
          1.923403121608352,
          -0.7146355127224764,
          -0.1402625499634625,
          0.3064140939760612,
          -0.9850570200184936,
          -0.3733157455464173,
          -0.70934644175512,
          0.974267030390769,
          -1.5109278992632746,
          -1.4242546473816757,
          0.4087873807451387,
          0.6057934086594867,
          0.2389233930232904,
          1.8629830942305643,
          0.4639919443161243,
          -1.3450004461311558,
          -0.007055190856922275,
          0.10642436069065778,
          0.5988699335379732,
          0.2188909234617506,
          0.5618287915135097,
          0.061279232945076915,
          -0.71934959511624,
          0.7648500784744271,
          -0.07657423202250918,
          -1.3551971531646763,
          0.896567028844769,
          -0.3035856062922626,
          0.3040730684220397,
          -0.5675643604612868,
          -0.4820959567900333,
          0.2645483956339029,
          1.3945603816039862,
          0.5799201483895193,
          -0.5610389568183435,
          -0.06497748719759376,
          1.3771604962225694,
          -0.7647068609076726,
          -0.5294596436317194,
          -1.753174399799006,
          1.5980314732744172,
          -0.2831491814008401,
          2.1494555087175176,
          -1.0521263270961803,
          -0.5794812050870913,
          2.0669026214072725,
          0.722843014271276,
          0.12011820819457203,
          0.7656089255148747,
          2.007772038072174,
          1.1196299678107702,
          -1.5809316211837923,
          1.0261733733503187,
          1.1734638206539882,
          1.4939489599826132,
          -0.1371485687630591,
          0.287929267140208,
          0.9585579104242733,
          0.3041282683808815,
          0.6139756080121358,
          -0.5960429900807352,
          -0.2885320007501821,
          -3.5185327291099746,
          1.3661005406687043,
          0.8245214077222485,
          0.9873871885218691,
          -1.0027774721570302,
          -1.649599650450813,
          -0.9647182348509808,
          0.27724670620339653,
          -1.449765144839819,
          -2.300829658414265,
          -0.8160395305481835,
          1.5647238927953204,
          -1.485969457732343,
          1.1325348103589055,
          -0.3766320001884901,
          0.7864614164621456,
          -0.023649155838583867,
          0.20007869750264198,
          -0.48068961805419014,
          -0.4157073430331484,
          -0.22064758831820738,
          0.2197152572186533,
          1.0956632259807537,
          1.6676195409977173,
          -0.255670997132551,
          0.6295304741799816,
          1.1165217557449505,
          -0.7393572064323127,
          0.7227517361308393,
          0.8979863956882579,
          0.2757317540996614,
          1.5127415579633632,
          -1.6750585030776006,
          -0.12819353350927876,
          0.1918722847347121,
          2.133230822435941,
          -2.015175546241192,
          -0.1281583600023537,
          0.1129151624730239,
          0.7417012911339066,
          0.40322549722904594,
          0.9594302706405703,
          -0.16327687082454337,
          -2.115526415341807,
          -1.48987253476053,
          -1.5523024609617055,
          0.06121621828682127,
          0.6895784811113976,
          1.304355618116142,
          -1.8762449792859914,
          0.23940160897535415,
          -0.5465654019281665,
          -0.227224739996447,
          0.7263639300721764,
          0.49623497055859855,
          -1.7540199639415148,
          -1.0956861186532463,
          -0.03345696676521253,
          0.37075527461593516,
          0.018024571133227075,
          0.8206509349044814,
          1.2168755769960553,
          0.5908898379428476,
          -0.02033885921921341,
          -0.6286627264872985,
          -1.49272485614072,
          0.0667644599738087,
          0.8294298491464474,
          0.5159912304594788,
          -0.37407367225702115,
          -0.45595596618809925,
          -0.7614972388552328,
          -1.06370271138351,
          1.530664155990693,
          -0.5579041454618192,
          -0.07247125804525252,
          -2.3626085925932823,
          0.30582493731145716,
          -1.0002729651502908,
          -0.18563509406129844,
          -1.3894004770261108,
          1.8024044690839953,
          -1.9455106107429054,
          -0.25054247390722323,
          2.195366720501418,
          -0.05862858646622602,
          0.6097633564181629,
          1.0562485549440648,
          1.2077242978880771,
          -1.5182147020808892,
          0.09412793930670724,
          1.09889681466645,
          -0.41892089739660887,
          0.45559304285025326,
          -0.036839919663360234,
          0.7345226512819266,
          3.0260440913600277,
          1.096709280002481,
          0.8917999959229665,
          -1.7417129819096666,
          -2.433835354004277,
          0.3416779603429372,
          -0.9360746649449895,
          -1.7104944933638793,
          -0.13364407452767046,
          0.6120759772456302,
          -2.058501132090885,
          1.03592767254331,
          -0.21516692902377313,
          1.1991438076289374,
          -1.2106118741595355,
          -0.08664238244574496,
          -0.4613215931955426,
          -0.05433793035953216,
          -1.3819937528750081,
          -0.11950582216276649,
          -0.8876060696541607,
          2.5493404167258165,
          -0.7900681680786211,
          0.5789188110809519,
          -1.064095371604108,
          -0.38999611122037753,
          -0.2756211864556346,
          -0.5533218870384741,
          1.147278758895645,
          1.25511685982459,
          1.1289807855876022,
          0.16891570129893915,
          1.3151791884425745,
          1.318028107884624,
          0.30366116883293093,
          -0.06104126853148844,
          -0.43971679355653975,
          1.3853807834987717,
          1.017330199489178,
          0.3797594044966349,
          -1.1803937875849688,
          -0.42597791274200225,
          -0.9668305929973399,
          -0.8750618910104753,
          1.3643120412870793,
          0.8508507829377143,
          -1.524007487988051,
          -0.8529086402127325,
          0.8977126493724505,
          0.22258080732274207,
          -0.4433253835913312,
          0.4135328067744087,
          1.0735494796646488,
          0.631053389147888,
          -1.164963930739625,
          -1.4071311653942602,
          0.6659085121013094,
          0.48526934204352845,
          0.4648700172746632,
          0.75886491608675,
          -0.6444153570109511,
          0.7974564411186956,
          0.39196805538251916,
          0.3421056684127249,
          1.4310659041559246,
          0.5244906210730512,
          -0.05938190875379456,
          -0.2520220618379235,
          -0.48400582004241244,
          0.3125095334657908,
          -1.3459371765333612,
          2.2972098292897396,
          -0.9590547094452228,
          -0.29633341062682855,
          -0.5470876246380615,
          0.6250975132340238,
          0.29866758858435777,
          -0.6940035636336971,
          0.3224534399513386,
          0.9338149358557595,
          1.4335767269865,
          0.6661852297090396,
          0.4200132230634927,
          -0.15526785827931142,
          1.013181108737444,
          1.3172661374727792,
          -1.5137913419397162,
          -0.09282326453822722,
          0.14803260444388994,
          0.126830682900997,
          -0.08523045145863954,
          -0.8435235432881854,
          -0.6942195300716784,
          1.196004097486686,
          1.0277350439492245,
          -0.3480111515418831,
          -0.34622232044570667,
          -1.3942840431741816,
          1.6883166140286283,
          -1.1041085852456292,
          0.20456231704022518,
          -0.7821383138003246,
          0.7622264698604138,
          1.2977678709179923,
          0.5857850204760372,
          -0.8249851033028214,
          0.10176154292631948,
          -0.30190117494617974,
          2.0010307285580193,
          0.5752740507669463,
          1.988749225974481,
          1.4249342548342294,
          -0.6538720364829265,
          -0.07506883737822237,
          0.5998848263983075,
          1.1719584642693652,
          -1.3936005315816713,
          -0.2871492356387782,
          -0.23966603935237707,
          0.6642903553940805,
          1.0460513744870146,
          -0.2772045800906974,
          -0.883208195351205,
          0.40855279754189716,
          -0.9359696733582585,
          0.10049241403587446,
          1.0060619189123532,
          0.02388690597564398,
          -0.2211041842105492,
          -1.2253157489210866,
          -0.5549527003633121,
          -0.014551053591997922,
          -1.2757346379297083,
          -0.20710497007204157,
          1.1332285750329187,
          -1.2529228060274566,
          -0.9628130805057132,
          -2.792646345927895,
          -1.2187373249544162,
          0.0809594815309997,
          -0.9825635740259471,
          -0.8357097918489875,
          -0.25155685727487487,
          1.1356338961392585,
          -0.2603246814474497,
          0.6761877104624464,
          -0.8063530406635342,
          1.1425422370384184,
          -0.42643752743072083,
          0.4475059595393722,
          -0.3675756486028932,
          -0.7715155485007007,
          0.3281788010277713,
          -1.0685057832293545,
          0.12218260146796144,
          1.9469166593321783,
          -0.5156489388916949,
          -0.1306575904959245,
          0.7925613721951045,
          -1.3018125202168747,
          -0.5715041670585033,
          -0.17820702661256516,
          -1.9751502606957823,
          -0.3320073607337825,
          -0.8031950280786689,
          1.0487661804626607,
          0.20234115787111528,
          -0.9919722916438803,
          0.07009915299617064,
          1.1620322073518108,
          0.6087086614905088,
          0.9984580322392247,
          0.12357544480393991,
          1.0221330487149134,
          1.268121318407139,
          1.584146175017241,
          -0.5775329719937489,
          0.25473176621108706,
          -1.9611806785451527,
          -0.9447762732760194,
          1.7505265975556468,
          0.09570540716154305,
          0.4196791393303998,
          0.02396334861957704,
          0.9336580624069513,
          -0.5768232571507247,
          -0.7949054990281332,
          -0.9126363881423037,
          -0.3909809079046347,
          -0.379438307733826,
          0.21999468340075828,
          -0.4887711014209358,
          0.002868630791512944,
          -0.5784805753312388,
          1.3719680591123196,
          -0.5260582332894339,
          -1.1348270956749706,
          -0.4051650224574993,
          1.1654698884560692,
          -0.15553872239121844,
          0.5302134963828958,
          -0.10294477569562055,
          -1.6334262528098336,
          -0.6451457118722906,
          0.9201861635385351,
          -0.15302616522196394,
          -0.509935504251616,
          -0.3368392612427156,
          0.8256085683457277,
          -1.5061233882731453,
          -0.5128948336925134,
          2.2043778232663405,
          -0.9307854479783171,
          1.8809819269675108,
          2.3257504210587636,
          -1.1903596704781203,
          -0.6805772818874679,
          -1.1994746927812323,
          1.1255224504660342,
          -0.5111013643174604,
          1.3243779809031826,
          -0.48918632764296277,
          0.2680216182883906,
          -0.47742598489136406,
          -0.4039765594195528,
          -0.5556302711773642,
          0.42243465407522085,
          1.3331720656703847,
          -0.711136810886688,
          0.6996270828629726,
          -0.17038684899527168,
          -1.3577079767172813,
          0.6797392583148303,
          -0.5837775071919253,
          1.771833264764481,
          -0.13853776752489372,
          -0.2647292179042874,
          -0.3127876450018423,
          0.1376784605991389,
          0.7614508843763372,
          -2.0312282679138174,
          -0.06009601750508962,
          -0.11107465977037861,
          0.0792840632191259,
          2.235425471148696,
          1.4071603150233465,
          -1.6461857904559258,
          -2.204209443611963,
          0.5558253997745319,
          -1.5826301662925624,
          0.626138994840191,
          0.03505550303673384,
          2.188023346076104,
          0.3146049030037446,
          -1.0045061165421125,
          1.763272515441554,
          -0.3519369436424756,
          0.40796091141782376,
          0.35511197810316675,
          -0.8328191943291784,
          0.9076597430308261,
          0.6005426477075527,
          -2.746097843806058,
          0.774614212095775,
          -1.040760609074751,
          -0.48168130693329464,
          -0.9374734645967916,
          0.2963728412079425,
          0.41046156204666995,
          -0.35393941461509143,
          0.38896006141885564,
          -1.0590980502985665,
          -0.9388171122505562,
          -0.3311407472440185,
          -1.761753732569226,
          1.0933483808531517,
          -1.5239757505065763,
          1.1533496047756235,
          0.03224494131969355,
          0.6748065930332618,
          -0.3751516197958709,
          -0.6715879427623498,
          -1.7560557730768738,
          1.676121027895318,
          1.160257991299752,
          -0.44350683851490097,
          -0.5663158270613154,
          -0.2904634232493051,
          1.3766210883893095,
          -1.2278462715087894,
          -1.4106406474352078,
          0.6587341199027443,
          -1.0457004120293374,
          -0.4996421299803116,
          -0.644631603536384,
          0.03581109901239059,
          -0.48781416408251144,
          1.0599585691962823,
          -0.49641073522699247,
          1.3801094274345251,
          -1.5047391979224947,
          2.8397655442833325,
          -0.8145007015472744,
          -0.26739385748809597,
          -0.8721422292167588,
          1.1352790875706436,
          0.9671193301680721,
          1.6672702030459339,
          -1.4048084995208316,
          1.1529424807808397,
          0.06170804801165638,
          -0.0646188917817767,
          0.29210496551420323,
          -0.242600553810117,
          0.4877129921173336,
          -0.4546967760379882,
          1.4604099667546768,
          0.35147267732154824,
          -0.25367748275279417,
          -0.29862353426813676,
          -0.419848829879624,
          2.26009133733961,
          1.4545769050110484,
          -0.8237874018968674,
          0.9424007029196707,
          0.3746896630837231,
          -0.16192461981495107,
          -0.5955768619458196,
          -2.1280810435101625,
          -0.1704085110002022,
          0.8967030024151315,
          1.0035776240493688,
          -0.1885881234061713,
          1.2082008862648785,
          0.2379109250310715,
          0.11519589788014235,
          -0.13793551372830065,
          -1.4937418700538612,
          0.33763584457736334,
          1.6740122436174407,
          1.936769200089395,
          0.25169218698386303,
          -0.037219843043087,
          -1.0318084066458753,
          -0.8447206601540348,
          1.9318280653503894,
          1.5446935133351767,
          -2.0434318674579304,
          -0.590547035406772,
          0.616577326884285,
          0.6013085672930597,
          0.4437587654355368,
          0.4680633882572186,
          -0.8651878821604644,
          0.16855851611252604,
          -0.2500381397844703,
          -1.590914035032653,
          0.7892319062019745,
          0.22082832243951767,
          0.3197625286325244,
          0.012723146590191275,
          -2.308892548024097,
          -0.3637909824871905,
          0.8943420935859233,
          -0.1298793770546854,
          -0.35489710959695564,
          0.256626084876398,
          0.5665063391781915,
          0.4144157461643336,
          -1.125765573961821,
          -0.6277347638169328,
          1.2885276229976657,
          -0.4206257837788613,
          -0.5487975923013636,
          0.5414709239674041,
          -0.572354623567087,
          1.2278953789767568,
          -0.09461549487817784,
          -0.9212975155952919,
          0.7360734728709937,
          -1.8321706015199166,
          0.910297547600176,
          -1.8124539421376065,
          0.2108161873712181,
          -1.5000192243634414,
          0.9255009453986052,
          -1.774443108275915,
          0.7284083847223921,
          0.49446757516080314,
          -0.4978423877269856,
          0.21778489663851358,
          -0.12679932193618002,
          1.1541227328186747,
          -0.04966062730474355,
          2.161261793942846,
          -0.8413508191175858,
          0.09663141517647296,
          1.2466602590252742,
          -1.2077494429521356,
          -2.4261617135121067,
          -0.9783666233750313,
          -0.42827283268120425,
          -1.4213531395315648,
          0.6755834051378484,
          -3.132422647210845,
          0.5801070728909545,
          1.9227196372552988,
          1.3457435604826495,
          -0.3348842000906076,
          0.05213568794078457,
          -0.6081958871222322,
          -0.6250455917725186,
          1.936379486827098,
          -0.995447433362829,
          1.4725467230014329,
          -0.8614165797307224,
          -2.1272965320293697,
          -0.9686240451637457,
          -0.40147817277565967,
          -1.2619000722061149,
          0.8923090071059612,
          1.6309525959746527,
          -0.09781061245976468,
          -2.85552183349102,
          -0.550149258821631,
          0.6599180978774347,
          1.74268467855706,
          -0.3399744214282116,
          -0.978793782311653,
          -0.43472159951820094,
          -0.5942976463065358,
          -0.5219809951023461,
          1.2829196382524424,
          0.35481464001316365,
          -0.28577830079333494,
          0.5340654795809244,
          1.222763587026494,
          -1.1452822915803724,
          1.4447144454932301,
          -1.3576963517391807,
          -0.3004526805120667,
          0.5382047178979055,
          0.4742541499315866,
          0.789777528197131,
          1.1931619623658323,
          -0.2012566410713735,
          -1.8866400653093263,
          -1.7237774594140676,
          -1.4130407935903797,
          0.37739355349565035,
          -0.5938672826218817,
          -0.8593349168973317,
          -0.9132196714338802,
          0.13840688722629815,
          -0.7292356470794874,
          0.44247705754434247,
          -0.8363391962343248,
          0.6020668758827709,
          -0.017587133140648702,
          0.4437448060115676,
          1.1874818988047058,
          -0.09949775048568216,
          1.066499143725181,
          -1.3694234578135869,
          0.6534944181653477,
          0.19482052251628879,
          -0.17103356253738936,
          -1.9223349159521874,
          -0.07771820172093977,
          0.43972988849418543,
          0.7064487874023505,
          1.3609215297661557,
          -1.1070703512477664,
          -0.23863653360065382,
          0.19265813431987305,
          0.1754117120037995,
          0.05746534414597782,
          0.41742780971443655,
          -1.130559306125796,
          -0.5312769297853245,
          -1.7387638196849453,
          -1.9325584922114336,
          -0.13097332482182644,
          0.08632084852687762,
          0.3688752710948206,
          0.7195360673205841,
          -0.713671178100008,
          -1.7095971415706337,
          -0.0782437169291961,
          -0.8910700180102527,
          -0.03904505809006392,
          2.000926144414557,
          0.48662457357500516,
          0.2289568729734671,
          -1.1423652374001103,
          -0.3394181504918339,
          0.4803614151521909,
          0.4999486730774527,
          1.582755591388288,
          -0.5789325372746856,
          -0.573867598760764,
          0.26498640410668167,
          -0.4178871205877874,
          0.03176947974659598,
          -0.6423377702276962,
          0.4936738873168949,
          0.4169965970028165,
          1.6946377683107314,
          -0.3425728542464415,
          1.0773299979101034,
          -0.039492114981139304,
          -0.3373218313368009,
          0.6428517490519674,
          -0.30020414212568425,
          -0.37309249306703174,
          0.09482184533188763,
          -0.32266410203173956,
          0.7444388465673111,
          0.14851586622025295,
          0.6467668660960487,
          -0.9849842981376842,
          -1.61450758274442,
          0.47203158150663727,
          -0.9288405205352208,
          0.27071803693314467,
          0.11950819992011157,
          0.7418657649450594,
          0.06324698335951454,
          1.2233919992869502,
          -0.991651315487934,
          1.3724984688515829,
          -0.37378716781666854,
          0.23804160201325658,
          -1.3445889720107467,
          -0.41103674056838463,
          -0.6004053977473104,
          0.7119911001270013,
          2.4341629335377237,
          -0.8916186355621816,
          -0.01113627376908844,
          -0.8694689861026743,
          -0.18643292070591755,
          -1.0598434442625482,
          -0.8512153906513803,
          0.9467975482596634,
          0.24914488244737557,
          -0.4426207372689099,
          -0.5864263593262199,
          0.9241669401441663,
          1.4175537264368547,
          0.1760875862972538,
          1.1637582974877396,
          0.39352522569431897,
          0.15303085677988482,
          0.46796013202700387,
          1.1246806665297544,
          -0.6966273940901472,
          -0.7148303485431777,
          0.2992105503380853,
          -1.1879190757920535,
          -0.8368211894140666,
          0.07469464470023246,
          -1.7204696402249708,
          -1.2399502262320017,
          -0.31335098192501065,
          -1.6132855271077942,
          1.018762579595905,
          1.4695855666419744,
          -0.9282394776515148,
          0.8580445680309368,
          1.4582106932853405,
          0.29293240594450976,
          0.12358470210910778,
          1.0669432173421616,
          0.8701857284391143,
          0.2543035348825125,
          -0.039071196187224884,
          -1.5693143202428814,
          0.43986433420692256,
          -0.6912978212957875
         ]
        }
       ],
       "layout": {
        "template": {
         "data": {
          "bar": [
           {
            "error_x": {
             "color": "#2a3f5f"
            },
            "error_y": {
             "color": "#2a3f5f"
            },
            "marker": {
             "line": {
              "color": "#E5ECF6",
              "width": 0.5
             },
             "pattern": {
              "fillmode": "overlay",
              "size": 10,
              "solidity": 0.2
             }
            },
            "type": "bar"
           }
          ],
          "barpolar": [
           {
            "marker": {
             "line": {
              "color": "#E5ECF6",
              "width": 0.5
             },
             "pattern": {
              "fillmode": "overlay",
              "size": 10,
              "solidity": 0.2
             }
            },
            "type": "barpolar"
           }
          ],
          "carpet": [
           {
            "aaxis": {
             "endlinecolor": "#2a3f5f",
             "gridcolor": "white",
             "linecolor": "white",
             "minorgridcolor": "white",
             "startlinecolor": "#2a3f5f"
            },
            "baxis": {
             "endlinecolor": "#2a3f5f",
             "gridcolor": "white",
             "linecolor": "white",
             "minorgridcolor": "white",
             "startlinecolor": "#2a3f5f"
            },
            "type": "carpet"
           }
          ],
          "choropleth": [
           {
            "colorbar": {
             "outlinewidth": 0,
             "ticks": ""
            },
            "type": "choropleth"
           }
          ],
          "contour": [
           {
            "colorbar": {
             "outlinewidth": 0,
             "ticks": ""
            },
            "colorscale": [
             [
              0,
              "#0d0887"
             ],
             [
              0.1111111111111111,
              "#46039f"
             ],
             [
              0.2222222222222222,
              "#7201a8"
             ],
             [
              0.3333333333333333,
              "#9c179e"
             ],
             [
              0.4444444444444444,
              "#bd3786"
             ],
             [
              0.5555555555555556,
              "#d8576b"
             ],
             [
              0.6666666666666666,
              "#ed7953"
             ],
             [
              0.7777777777777778,
              "#fb9f3a"
             ],
             [
              0.8888888888888888,
              "#fdca26"
             ],
             [
              1,
              "#f0f921"
             ]
            ],
            "type": "contour"
           }
          ],
          "contourcarpet": [
           {
            "colorbar": {
             "outlinewidth": 0,
             "ticks": ""
            },
            "type": "contourcarpet"
           }
          ],
          "heatmap": [
           {
            "colorbar": {
             "outlinewidth": 0,
             "ticks": ""
            },
            "colorscale": [
             [
              0,
              "#0d0887"
             ],
             [
              0.1111111111111111,
              "#46039f"
             ],
             [
              0.2222222222222222,
              "#7201a8"
             ],
             [
              0.3333333333333333,
              "#9c179e"
             ],
             [
              0.4444444444444444,
              "#bd3786"
             ],
             [
              0.5555555555555556,
              "#d8576b"
             ],
             [
              0.6666666666666666,
              "#ed7953"
             ],
             [
              0.7777777777777778,
              "#fb9f3a"
             ],
             [
              0.8888888888888888,
              "#fdca26"
             ],
             [
              1,
              "#f0f921"
             ]
            ],
            "type": "heatmap"
           }
          ],
          "heatmapgl": [
           {
            "colorbar": {
             "outlinewidth": 0,
             "ticks": ""
            },
            "colorscale": [
             [
              0,
              "#0d0887"
             ],
             [
              0.1111111111111111,
              "#46039f"
             ],
             [
              0.2222222222222222,
              "#7201a8"
             ],
             [
              0.3333333333333333,
              "#9c179e"
             ],
             [
              0.4444444444444444,
              "#bd3786"
             ],
             [
              0.5555555555555556,
              "#d8576b"
             ],
             [
              0.6666666666666666,
              "#ed7953"
             ],
             [
              0.7777777777777778,
              "#fb9f3a"
             ],
             [
              0.8888888888888888,
              "#fdca26"
             ],
             [
              1,
              "#f0f921"
             ]
            ],
            "type": "heatmapgl"
           }
          ],
          "histogram": [
           {
            "marker": {
             "pattern": {
              "fillmode": "overlay",
              "size": 10,
              "solidity": 0.2
             }
            },
            "type": "histogram"
           }
          ],
          "histogram2d": [
           {
            "colorbar": {
             "outlinewidth": 0,
             "ticks": ""
            },
            "colorscale": [
             [
              0,
              "#0d0887"
             ],
             [
              0.1111111111111111,
              "#46039f"
             ],
             [
              0.2222222222222222,
              "#7201a8"
             ],
             [
              0.3333333333333333,
              "#9c179e"
             ],
             [
              0.4444444444444444,
              "#bd3786"
             ],
             [
              0.5555555555555556,
              "#d8576b"
             ],
             [
              0.6666666666666666,
              "#ed7953"
             ],
             [
              0.7777777777777778,
              "#fb9f3a"
             ],
             [
              0.8888888888888888,
              "#fdca26"
             ],
             [
              1,
              "#f0f921"
             ]
            ],
            "type": "histogram2d"
           }
          ],
          "histogram2dcontour": [
           {
            "colorbar": {
             "outlinewidth": 0,
             "ticks": ""
            },
            "colorscale": [
             [
              0,
              "#0d0887"
             ],
             [
              0.1111111111111111,
              "#46039f"
             ],
             [
              0.2222222222222222,
              "#7201a8"
             ],
             [
              0.3333333333333333,
              "#9c179e"
             ],
             [
              0.4444444444444444,
              "#bd3786"
             ],
             [
              0.5555555555555556,
              "#d8576b"
             ],
             [
              0.6666666666666666,
              "#ed7953"
             ],
             [
              0.7777777777777778,
              "#fb9f3a"
             ],
             [
              0.8888888888888888,
              "#fdca26"
             ],
             [
              1,
              "#f0f921"
             ]
            ],
            "type": "histogram2dcontour"
           }
          ],
          "mesh3d": [
           {
            "colorbar": {
             "outlinewidth": 0,
             "ticks": ""
            },
            "type": "mesh3d"
           }
          ],
          "parcoords": [
           {
            "line": {
             "colorbar": {
              "outlinewidth": 0,
              "ticks": ""
             }
            },
            "type": "parcoords"
           }
          ],
          "pie": [
           {
            "automargin": true,
            "type": "pie"
           }
          ],
          "scatter": [
           {
            "fillpattern": {
             "fillmode": "overlay",
             "size": 10,
             "solidity": 0.2
            },
            "type": "scatter"
           }
          ],
          "scatter3d": [
           {
            "line": {
             "colorbar": {
              "outlinewidth": 0,
              "ticks": ""
             }
            },
            "marker": {
             "colorbar": {
              "outlinewidth": 0,
              "ticks": ""
             }
            },
            "type": "scatter3d"
           }
          ],
          "scattercarpet": [
           {
            "marker": {
             "colorbar": {
              "outlinewidth": 0,
              "ticks": ""
             }
            },
            "type": "scattercarpet"
           }
          ],
          "scattergeo": [
           {
            "marker": {
             "colorbar": {
              "outlinewidth": 0,
              "ticks": ""
             }
            },
            "type": "scattergeo"
           }
          ],
          "scattergl": [
           {
            "marker": {
             "colorbar": {
              "outlinewidth": 0,
              "ticks": ""
             }
            },
            "type": "scattergl"
           }
          ],
          "scattermapbox": [
           {
            "marker": {
             "colorbar": {
              "outlinewidth": 0,
              "ticks": ""
             }
            },
            "type": "scattermapbox"
           }
          ],
          "scatterpolar": [
           {
            "marker": {
             "colorbar": {
              "outlinewidth": 0,
              "ticks": ""
             }
            },
            "type": "scatterpolar"
           }
          ],
          "scatterpolargl": [
           {
            "marker": {
             "colorbar": {
              "outlinewidth": 0,
              "ticks": ""
             }
            },
            "type": "scatterpolargl"
           }
          ],
          "scatterternary": [
           {
            "marker": {
             "colorbar": {
              "outlinewidth": 0,
              "ticks": ""
             }
            },
            "type": "scatterternary"
           }
          ],
          "surface": [
           {
            "colorbar": {
             "outlinewidth": 0,
             "ticks": ""
            },
            "colorscale": [
             [
              0,
              "#0d0887"
             ],
             [
              0.1111111111111111,
              "#46039f"
             ],
             [
              0.2222222222222222,
              "#7201a8"
             ],
             [
              0.3333333333333333,
              "#9c179e"
             ],
             [
              0.4444444444444444,
              "#bd3786"
             ],
             [
              0.5555555555555556,
              "#d8576b"
             ],
             [
              0.6666666666666666,
              "#ed7953"
             ],
             [
              0.7777777777777778,
              "#fb9f3a"
             ],
             [
              0.8888888888888888,
              "#fdca26"
             ],
             [
              1,
              "#f0f921"
             ]
            ],
            "type": "surface"
           }
          ],
          "table": [
           {
            "cells": {
             "fill": {
              "color": "#EBF0F8"
             },
             "line": {
              "color": "white"
             }
            },
            "header": {
             "fill": {
              "color": "#C8D4E3"
             },
             "line": {
              "color": "white"
             }
            },
            "type": "table"
           }
          ]
         },
         "layout": {
          "annotationdefaults": {
           "arrowcolor": "#2a3f5f",
           "arrowhead": 0,
           "arrowwidth": 1
          },
          "autotypenumbers": "strict",
          "coloraxis": {
           "colorbar": {
            "outlinewidth": 0,
            "ticks": ""
           }
          },
          "colorscale": {
           "diverging": [
            [
             0,
             "#8e0152"
            ],
            [
             0.1,
             "#c51b7d"
            ],
            [
             0.2,
             "#de77ae"
            ],
            [
             0.3,
             "#f1b6da"
            ],
            [
             0.4,
             "#fde0ef"
            ],
            [
             0.5,
             "#f7f7f7"
            ],
            [
             0.6,
             "#e6f5d0"
            ],
            [
             0.7,
             "#b8e186"
            ],
            [
             0.8,
             "#7fbc41"
            ],
            [
             0.9,
             "#4d9221"
            ],
            [
             1,
             "#276419"
            ]
           ],
           "sequential": [
            [
             0,
             "#0d0887"
            ],
            [
             0.1111111111111111,
             "#46039f"
            ],
            [
             0.2222222222222222,
             "#7201a8"
            ],
            [
             0.3333333333333333,
             "#9c179e"
            ],
            [
             0.4444444444444444,
             "#bd3786"
            ],
            [
             0.5555555555555556,
             "#d8576b"
            ],
            [
             0.6666666666666666,
             "#ed7953"
            ],
            [
             0.7777777777777778,
             "#fb9f3a"
            ],
            [
             0.8888888888888888,
             "#fdca26"
            ],
            [
             1,
             "#f0f921"
            ]
           ],
           "sequentialminus": [
            [
             0,
             "#0d0887"
            ],
            [
             0.1111111111111111,
             "#46039f"
            ],
            [
             0.2222222222222222,
             "#7201a8"
            ],
            [
             0.3333333333333333,
             "#9c179e"
            ],
            [
             0.4444444444444444,
             "#bd3786"
            ],
            [
             0.5555555555555556,
             "#d8576b"
            ],
            [
             0.6666666666666666,
             "#ed7953"
            ],
            [
             0.7777777777777778,
             "#fb9f3a"
            ],
            [
             0.8888888888888888,
             "#fdca26"
            ],
            [
             1,
             "#f0f921"
            ]
           ]
          },
          "colorway": [
           "#636efa",
           "#EF553B",
           "#00cc96",
           "#ab63fa",
           "#FFA15A",
           "#19d3f3",
           "#FF6692",
           "#B6E880",
           "#FF97FF",
           "#FECB52"
          ],
          "font": {
           "color": "#2a3f5f"
          },
          "geo": {
           "bgcolor": "white",
           "lakecolor": "white",
           "landcolor": "#E5ECF6",
           "showlakes": true,
           "showland": true,
           "subunitcolor": "white"
          },
          "hoverlabel": {
           "align": "left"
          },
          "hovermode": "closest",
          "mapbox": {
           "style": "light"
          },
          "paper_bgcolor": "white",
          "plot_bgcolor": "#E5ECF6",
          "polar": {
           "angularaxis": {
            "gridcolor": "white",
            "linecolor": "white",
            "ticks": ""
           },
           "bgcolor": "#E5ECF6",
           "radialaxis": {
            "gridcolor": "white",
            "linecolor": "white",
            "ticks": ""
           }
          },
          "scene": {
           "xaxis": {
            "backgroundcolor": "#E5ECF6",
            "gridcolor": "white",
            "gridwidth": 2,
            "linecolor": "white",
            "showbackground": true,
            "ticks": "",
            "zerolinecolor": "white"
           },
           "yaxis": {
            "backgroundcolor": "#E5ECF6",
            "gridcolor": "white",
            "gridwidth": 2,
            "linecolor": "white",
            "showbackground": true,
            "ticks": "",
            "zerolinecolor": "white"
           },
           "zaxis": {
            "backgroundcolor": "#E5ECF6",
            "gridcolor": "white",
            "gridwidth": 2,
            "linecolor": "white",
            "showbackground": true,
            "ticks": "",
            "zerolinecolor": "white"
           }
          },
          "shapedefaults": {
           "line": {
            "color": "#2a3f5f"
           }
          },
          "ternary": {
           "aaxis": {
            "gridcolor": "white",
            "linecolor": "white",
            "ticks": ""
           },
           "baxis": {
            "gridcolor": "white",
            "linecolor": "white",
            "ticks": ""
           },
           "bgcolor": "#E5ECF6",
           "caxis": {
            "gridcolor": "white",
            "linecolor": "white",
            "ticks": ""
           }
          },
          "title": {
           "x": 0.05
          },
          "xaxis": {
           "automargin": true,
           "gridcolor": "white",
           "linecolor": "white",
           "ticks": "",
           "title": {
            "standoff": 15
           },
           "zerolinecolor": "white",
           "zerolinewidth": 2
          },
          "yaxis": {
           "automargin": true,
           "gridcolor": "white",
           "linecolor": "white",
           "ticks": "",
           "title": {
            "standoff": 15
           },
           "zerolinecolor": "white",
           "zerolinewidth": 2
          }
         }
        },
        "title": {
         "text": "Histogram Plot"
        },
        "xaxis": {
         "title": {
          "text": "X-axis Label"
         }
        },
        "yaxis": {
         "title": {
          "text": "Frequency"
         }
        }
       }
      }
     },
     "metadata": {},
     "output_type": "display_data"
    }
   ],
   "source": [
    "import numpy as np\n",
    "trace = go.Histogram(x=data, histnorm=\"probability\", name='PDF')\n",
    "\n",
    "layout = go.Layout(\n",
    "    title='Histogram Plot',\n",
    "    xaxis=dict(title='X-axis Label'),\n",
    "    yaxis=dict(title='Frequency'),\n",
    ")\n",
    "fig = go.Figure(data=[trace], layout=layout)\n",
    "fig.show()"
   ]
  },
  {
   "cell_type": "code",
   "execution_count": null,
   "metadata": {},
   "outputs": [],
   "source": [
    "Box plot"
   ]
  },
  {
   "cell_type": "code",
   "execution_count": 27,
   "metadata": {},
   "outputs": [
    {
     "data": {
      "application/vnd.plotly.v1+json": {
       "config": {
        "plotlyServerURL": "https://plot.ly"
       },
       "data": [
        {
         "name": "Group 1",
         "type": "box",
         "y": [
          -1.0074514034839563,
          0.8533953974007498,
          1.9261691948355257,
          1.9203490437946904,
          -0.5061349385493187,
          -0.2503305888656988,
          -0.6024381366931293,
          1.5975449807670725,
          -0.020409032514066217,
          0.7872447129669771,
          0.15775912303901826,
          -0.9142348793887686,
          -0.4558130335826863,
          -0.704581091898494,
          -0.4496449680085707,
          1.171019152904288,
          0.45643811302654025,
          -1.1648184615821022,
          0.5941607170751284,
          0.5531586364230969,
          0.18103804766602855,
          -0.41970433187041567,
          0.025703130285792287,
          -1.1413686766071247,
          1.684124795685671,
          -0.27461819602584947,
          0.5673113393071186,
          -0.49929999072547765,
          1.9259575432726508,
          0.5651536804270724,
          0.4875142440754206,
          0.801732677879774,
          -2.904475818622425,
          0.2818129423791627,
          1.5461602535480499,
          -0.3566991521895851,
          -0.25007569407233426,
          0.14769436803223346,
          -0.9263503190815789,
          -0.6452494377443357,
          0.3399737682760153,
          -0.40614937125677225,
          -1.0305615857838177,
          -0.10386283455314306,
          -0.6301920080816019,
          -0.8193141034860152,
          -1.4213295561297,
          -0.14851539332575756,
          -1.0194130635378387,
          -0.30220256333619216,
          1.7989143101550886,
          1.9240484735353116,
          -0.5444982415959133,
          1.2657577700432132,
          0.8243416603623096,
          1.0515156241959904,
          -2.2672406279619977,
          0.10323551743654398,
          0.6996814964183485,
          -0.8406599021227216,
          -0.16458830767636043,
          1.009526112457753,
          0.43604216069786395,
          -0.2769356843329323,
          0.1735791888803848,
          -1.5937815567507416,
          1.2210776197553415,
          -0.36375714605841125,
          0.3296996525933539,
          0.34642915345769265,
          0.5561912562414894,
          0.8448913923526941,
          1.3924293657239595,
          -1.2148333331959067,
          -1.7473584136602807,
          1.0330276329905932,
          1.624977632276391,
          1.310138304565617,
          0.6754079742924036,
          -1.4185881725706349,
          -1.5564099922346675,
          0.40659308695550245,
          1.2141224825486856,
          0.14185604987024344,
          -0.6028522802247542,
          0.5246461437524466,
          0.2064883219330992,
          -0.5465794425137049,
          -0.9193977964267234,
          0.5578738816598007,
          0.42492354027412077,
          -0.3220991903594358,
          0.47617737418463396,
          1.0955587417932313,
          -1.608851452467492,
          1.7731308378948896,
          -1.4375130025480962,
          1.0355302790546879,
          0.4069631195200092,
          0.7819891060466423
         ]
        },
        {
         "name": "Group 2",
         "type": "box",
         "y": [
          0.7790553056694185,
          1.1060651359688027,
          2.9012874504879376,
          -0.01147642106843394,
          3.174267493103314,
          1.135606017321173,
          2.0700925679446835,
          2.538586295824957,
          2.84138272230874,
          2.77142702435484,
          3.4862394647721877,
          2.0615159141457298,
          2.0239480899995317,
          2.7657473879907926,
          2.4306701147362615,
          1.9736301224934474,
          1.8134769988331145,
          2.7524425886700055,
          2.484895509675438,
          1.5491371154754563,
          1.440570822888983,
          1.0713874794112102,
          1.049028509642198,
          0.35739596787062133,
          2.109022111575228,
          2.2491045769571008,
          2.8813978957796054,
          1.4732853205810097,
          3.681376983897096,
          0.2766427535335716,
          1.0973485508635736,
          2.506154152507474,
          2.3260647763366005,
          1.790160498550934,
          1.6777445307673842,
          1.3213638519912545,
          0.9701636889920084,
          3.3606016598617225,
          1.48408590949386,
          3.5196768223424355,
          2.869352962278718,
          1.4676623018903672,
          1.8087433966099769,
          0.956962334542395,
          1.682850262008249,
          1.0241410897024081,
          0.6932330116081677,
          2.4055428944052757,
          0.3102274580770339,
          2.7171972572198673,
          1.755928033388672,
          2.253519325554374,
          0.2737390686066612,
          1.6031286193576566,
          2.4977806782175156,
          3.705020130745856,
          2.7795339230793203,
          1.2343383378664265,
          2.0119314108705995,
          0.3305644661964815,
          1.4737123502697946,
          4.0432692962582975,
          2.5382540269550473,
          2.805326314369203,
          0.713574889145401,
          2.421580598291917,
          1.9255029207405119,
          2.139267864023493,
          3.2733823264745614,
          3.563081449455863,
          2.1106858657928806,
          4.568789048752725,
          3.0147507502407365,
          1.5979897008113948,
          1.0988983256666844,
          1.9609782470382524,
          2.816087273802279,
          2.866008341598548,
          2.954537678706579,
          4.431025090154998,
          2.685780748011374,
          2.6179400050899893,
          0.867854236927103,
          2.2505611520710853,
          1.2373892188124682,
          1.4117963089320527,
          2.0643210384289348,
          2.105328865947608,
          2.6593153538135295,
          1.0467725863370059,
          1.0121058190264114,
          0.3817119555234818,
          2.410296000703314,
          2.7594275099782712,
          2.193396064395207,
          2.4819310659209393,
          1.0371108187783533,
          2.368196626165831,
          1.5126619729686281,
          3.3119980693065845
         ]
        }
       ],
       "layout": {
        "template": {
         "data": {
          "bar": [
           {
            "error_x": {
             "color": "#2a3f5f"
            },
            "error_y": {
             "color": "#2a3f5f"
            },
            "marker": {
             "line": {
              "color": "#E5ECF6",
              "width": 0.5
             },
             "pattern": {
              "fillmode": "overlay",
              "size": 10,
              "solidity": 0.2
             }
            },
            "type": "bar"
           }
          ],
          "barpolar": [
           {
            "marker": {
             "line": {
              "color": "#E5ECF6",
              "width": 0.5
             },
             "pattern": {
              "fillmode": "overlay",
              "size": 10,
              "solidity": 0.2
             }
            },
            "type": "barpolar"
           }
          ],
          "carpet": [
           {
            "aaxis": {
             "endlinecolor": "#2a3f5f",
             "gridcolor": "white",
             "linecolor": "white",
             "minorgridcolor": "white",
             "startlinecolor": "#2a3f5f"
            },
            "baxis": {
             "endlinecolor": "#2a3f5f",
             "gridcolor": "white",
             "linecolor": "white",
             "minorgridcolor": "white",
             "startlinecolor": "#2a3f5f"
            },
            "type": "carpet"
           }
          ],
          "choropleth": [
           {
            "colorbar": {
             "outlinewidth": 0,
             "ticks": ""
            },
            "type": "choropleth"
           }
          ],
          "contour": [
           {
            "colorbar": {
             "outlinewidth": 0,
             "ticks": ""
            },
            "colorscale": [
             [
              0,
              "#0d0887"
             ],
             [
              0.1111111111111111,
              "#46039f"
             ],
             [
              0.2222222222222222,
              "#7201a8"
             ],
             [
              0.3333333333333333,
              "#9c179e"
             ],
             [
              0.4444444444444444,
              "#bd3786"
             ],
             [
              0.5555555555555556,
              "#d8576b"
             ],
             [
              0.6666666666666666,
              "#ed7953"
             ],
             [
              0.7777777777777778,
              "#fb9f3a"
             ],
             [
              0.8888888888888888,
              "#fdca26"
             ],
             [
              1,
              "#f0f921"
             ]
            ],
            "type": "contour"
           }
          ],
          "contourcarpet": [
           {
            "colorbar": {
             "outlinewidth": 0,
             "ticks": ""
            },
            "type": "contourcarpet"
           }
          ],
          "heatmap": [
           {
            "colorbar": {
             "outlinewidth": 0,
             "ticks": ""
            },
            "colorscale": [
             [
              0,
              "#0d0887"
             ],
             [
              0.1111111111111111,
              "#46039f"
             ],
             [
              0.2222222222222222,
              "#7201a8"
             ],
             [
              0.3333333333333333,
              "#9c179e"
             ],
             [
              0.4444444444444444,
              "#bd3786"
             ],
             [
              0.5555555555555556,
              "#d8576b"
             ],
             [
              0.6666666666666666,
              "#ed7953"
             ],
             [
              0.7777777777777778,
              "#fb9f3a"
             ],
             [
              0.8888888888888888,
              "#fdca26"
             ],
             [
              1,
              "#f0f921"
             ]
            ],
            "type": "heatmap"
           }
          ],
          "heatmapgl": [
           {
            "colorbar": {
             "outlinewidth": 0,
             "ticks": ""
            },
            "colorscale": [
             [
              0,
              "#0d0887"
             ],
             [
              0.1111111111111111,
              "#46039f"
             ],
             [
              0.2222222222222222,
              "#7201a8"
             ],
             [
              0.3333333333333333,
              "#9c179e"
             ],
             [
              0.4444444444444444,
              "#bd3786"
             ],
             [
              0.5555555555555556,
              "#d8576b"
             ],
             [
              0.6666666666666666,
              "#ed7953"
             ],
             [
              0.7777777777777778,
              "#fb9f3a"
             ],
             [
              0.8888888888888888,
              "#fdca26"
             ],
             [
              1,
              "#f0f921"
             ]
            ],
            "type": "heatmapgl"
           }
          ],
          "histogram": [
           {
            "marker": {
             "pattern": {
              "fillmode": "overlay",
              "size": 10,
              "solidity": 0.2
             }
            },
            "type": "histogram"
           }
          ],
          "histogram2d": [
           {
            "colorbar": {
             "outlinewidth": 0,
             "ticks": ""
            },
            "colorscale": [
             [
              0,
              "#0d0887"
             ],
             [
              0.1111111111111111,
              "#46039f"
             ],
             [
              0.2222222222222222,
              "#7201a8"
             ],
             [
              0.3333333333333333,
              "#9c179e"
             ],
             [
              0.4444444444444444,
              "#bd3786"
             ],
             [
              0.5555555555555556,
              "#d8576b"
             ],
             [
              0.6666666666666666,
              "#ed7953"
             ],
             [
              0.7777777777777778,
              "#fb9f3a"
             ],
             [
              0.8888888888888888,
              "#fdca26"
             ],
             [
              1,
              "#f0f921"
             ]
            ],
            "type": "histogram2d"
           }
          ],
          "histogram2dcontour": [
           {
            "colorbar": {
             "outlinewidth": 0,
             "ticks": ""
            },
            "colorscale": [
             [
              0,
              "#0d0887"
             ],
             [
              0.1111111111111111,
              "#46039f"
             ],
             [
              0.2222222222222222,
              "#7201a8"
             ],
             [
              0.3333333333333333,
              "#9c179e"
             ],
             [
              0.4444444444444444,
              "#bd3786"
             ],
             [
              0.5555555555555556,
              "#d8576b"
             ],
             [
              0.6666666666666666,
              "#ed7953"
             ],
             [
              0.7777777777777778,
              "#fb9f3a"
             ],
             [
              0.8888888888888888,
              "#fdca26"
             ],
             [
              1,
              "#f0f921"
             ]
            ],
            "type": "histogram2dcontour"
           }
          ],
          "mesh3d": [
           {
            "colorbar": {
             "outlinewidth": 0,
             "ticks": ""
            },
            "type": "mesh3d"
           }
          ],
          "parcoords": [
           {
            "line": {
             "colorbar": {
              "outlinewidth": 0,
              "ticks": ""
             }
            },
            "type": "parcoords"
           }
          ],
          "pie": [
           {
            "automargin": true,
            "type": "pie"
           }
          ],
          "scatter": [
           {
            "fillpattern": {
             "fillmode": "overlay",
             "size": 10,
             "solidity": 0.2
            },
            "type": "scatter"
           }
          ],
          "scatter3d": [
           {
            "line": {
             "colorbar": {
              "outlinewidth": 0,
              "ticks": ""
             }
            },
            "marker": {
             "colorbar": {
              "outlinewidth": 0,
              "ticks": ""
             }
            },
            "type": "scatter3d"
           }
          ],
          "scattercarpet": [
           {
            "marker": {
             "colorbar": {
              "outlinewidth": 0,
              "ticks": ""
             }
            },
            "type": "scattercarpet"
           }
          ],
          "scattergeo": [
           {
            "marker": {
             "colorbar": {
              "outlinewidth": 0,
              "ticks": ""
             }
            },
            "type": "scattergeo"
           }
          ],
          "scattergl": [
           {
            "marker": {
             "colorbar": {
              "outlinewidth": 0,
              "ticks": ""
             }
            },
            "type": "scattergl"
           }
          ],
          "scattermapbox": [
           {
            "marker": {
             "colorbar": {
              "outlinewidth": 0,
              "ticks": ""
             }
            },
            "type": "scattermapbox"
           }
          ],
          "scatterpolar": [
           {
            "marker": {
             "colorbar": {
              "outlinewidth": 0,
              "ticks": ""
             }
            },
            "type": "scatterpolar"
           }
          ],
          "scatterpolargl": [
           {
            "marker": {
             "colorbar": {
              "outlinewidth": 0,
              "ticks": ""
             }
            },
            "type": "scatterpolargl"
           }
          ],
          "scatterternary": [
           {
            "marker": {
             "colorbar": {
              "outlinewidth": 0,
              "ticks": ""
             }
            },
            "type": "scatterternary"
           }
          ],
          "surface": [
           {
            "colorbar": {
             "outlinewidth": 0,
             "ticks": ""
            },
            "colorscale": [
             [
              0,
              "#0d0887"
             ],
             [
              0.1111111111111111,
              "#46039f"
             ],
             [
              0.2222222222222222,
              "#7201a8"
             ],
             [
              0.3333333333333333,
              "#9c179e"
             ],
             [
              0.4444444444444444,
              "#bd3786"
             ],
             [
              0.5555555555555556,
              "#d8576b"
             ],
             [
              0.6666666666666666,
              "#ed7953"
             ],
             [
              0.7777777777777778,
              "#fb9f3a"
             ],
             [
              0.8888888888888888,
              "#fdca26"
             ],
             [
              1,
              "#f0f921"
             ]
            ],
            "type": "surface"
           }
          ],
          "table": [
           {
            "cells": {
             "fill": {
              "color": "#EBF0F8"
             },
             "line": {
              "color": "white"
             }
            },
            "header": {
             "fill": {
              "color": "#C8D4E3"
             },
             "line": {
              "color": "white"
             }
            },
            "type": "table"
           }
          ]
         },
         "layout": {
          "annotationdefaults": {
           "arrowcolor": "#2a3f5f",
           "arrowhead": 0,
           "arrowwidth": 1
          },
          "autotypenumbers": "strict",
          "coloraxis": {
           "colorbar": {
            "outlinewidth": 0,
            "ticks": ""
           }
          },
          "colorscale": {
           "diverging": [
            [
             0,
             "#8e0152"
            ],
            [
             0.1,
             "#c51b7d"
            ],
            [
             0.2,
             "#de77ae"
            ],
            [
             0.3,
             "#f1b6da"
            ],
            [
             0.4,
             "#fde0ef"
            ],
            [
             0.5,
             "#f7f7f7"
            ],
            [
             0.6,
             "#e6f5d0"
            ],
            [
             0.7,
             "#b8e186"
            ],
            [
             0.8,
             "#7fbc41"
            ],
            [
             0.9,
             "#4d9221"
            ],
            [
             1,
             "#276419"
            ]
           ],
           "sequential": [
            [
             0,
             "#0d0887"
            ],
            [
             0.1111111111111111,
             "#46039f"
            ],
            [
             0.2222222222222222,
             "#7201a8"
            ],
            [
             0.3333333333333333,
             "#9c179e"
            ],
            [
             0.4444444444444444,
             "#bd3786"
            ],
            [
             0.5555555555555556,
             "#d8576b"
            ],
            [
             0.6666666666666666,
             "#ed7953"
            ],
            [
             0.7777777777777778,
             "#fb9f3a"
            ],
            [
             0.8888888888888888,
             "#fdca26"
            ],
            [
             1,
             "#f0f921"
            ]
           ],
           "sequentialminus": [
            [
             0,
             "#0d0887"
            ],
            [
             0.1111111111111111,
             "#46039f"
            ],
            [
             0.2222222222222222,
             "#7201a8"
            ],
            [
             0.3333333333333333,
             "#9c179e"
            ],
            [
             0.4444444444444444,
             "#bd3786"
            ],
            [
             0.5555555555555556,
             "#d8576b"
            ],
            [
             0.6666666666666666,
             "#ed7953"
            ],
            [
             0.7777777777777778,
             "#fb9f3a"
            ],
            [
             0.8888888888888888,
             "#fdca26"
            ],
            [
             1,
             "#f0f921"
            ]
           ]
          },
          "colorway": [
           "#636efa",
           "#EF553B",
           "#00cc96",
           "#ab63fa",
           "#FFA15A",
           "#19d3f3",
           "#FF6692",
           "#B6E880",
           "#FF97FF",
           "#FECB52"
          ],
          "font": {
           "color": "#2a3f5f"
          },
          "geo": {
           "bgcolor": "white",
           "lakecolor": "white",
           "landcolor": "#E5ECF6",
           "showlakes": true,
           "showland": true,
           "subunitcolor": "white"
          },
          "hoverlabel": {
           "align": "left"
          },
          "hovermode": "closest",
          "mapbox": {
           "style": "light"
          },
          "paper_bgcolor": "white",
          "plot_bgcolor": "#E5ECF6",
          "polar": {
           "angularaxis": {
            "gridcolor": "white",
            "linecolor": "white",
            "ticks": ""
           },
           "bgcolor": "#E5ECF6",
           "radialaxis": {
            "gridcolor": "white",
            "linecolor": "white",
            "ticks": ""
           }
          },
          "scene": {
           "xaxis": {
            "backgroundcolor": "#E5ECF6",
            "gridcolor": "white",
            "gridwidth": 2,
            "linecolor": "white",
            "showbackground": true,
            "ticks": "",
            "zerolinecolor": "white"
           },
           "yaxis": {
            "backgroundcolor": "#E5ECF6",
            "gridcolor": "white",
            "gridwidth": 2,
            "linecolor": "white",
            "showbackground": true,
            "ticks": "",
            "zerolinecolor": "white"
           },
           "zaxis": {
            "backgroundcolor": "#E5ECF6",
            "gridcolor": "white",
            "gridwidth": 2,
            "linecolor": "white",
            "showbackground": true,
            "ticks": "",
            "zerolinecolor": "white"
           }
          },
          "shapedefaults": {
           "line": {
            "color": "#2a3f5f"
           }
          },
          "ternary": {
           "aaxis": {
            "gridcolor": "white",
            "linecolor": "white",
            "ticks": ""
           },
           "baxis": {
            "gridcolor": "white",
            "linecolor": "white",
            "ticks": ""
           },
           "bgcolor": "#E5ECF6",
           "caxis": {
            "gridcolor": "white",
            "linecolor": "white",
            "ticks": ""
           }
          },
          "title": {
           "x": 0.05
          },
          "xaxis": {
           "automargin": true,
           "gridcolor": "white",
           "linecolor": "white",
           "ticks": "",
           "title": {
            "standoff": 15
           },
           "zerolinecolor": "white",
           "zerolinewidth": 2
          },
          "yaxis": {
           "automargin": true,
           "gridcolor": "white",
           "linecolor": "white",
           "ticks": "",
           "title": {
            "standoff": 15
           },
           "zerolinecolor": "white",
           "zerolinewidth": 2
          }
         }
        },
        "title": {
         "text": "Box Plot"
        },
        "yaxis": {
         "title": {
          "text": "Values"
         }
        }
       }
      }
     },
     "metadata": {},
     "output_type": "display_data"
    }
   ],
   "source": [
    "# Generating random data for demonstration in two groups\n",
    "group1_data = np.random.randn(100)\n",
    "group2_data = np.random.randn(100) + 2\n",
    "\n",
    "box_trace1 = go.Box(y=group1_data, name='Group 1')\n",
    "box_trace2 = go.Box(y=group2_data, name='Group 2')\n",
    "\n",
    "layout = go.Layout(\n",
    "    title='Box Plot',\n",
    "    yaxis=dict(title='Values'),)\n",
    "fig = go.Figure(data=[box_trace1, box_trace2], layout=layout)\n",
    "fig.show()"
   ]
  },
  {
   "cell_type": "code",
   "execution_count": 2,
   "metadata": {},
   "outputs": [
    {
     "data": {
      "application/vnd.plotly.v1+json": {
       "config": {
        "plotlyServerURL": "https://plot.ly"
       },
       "data": [
        {
         "marker": {
          "color": "red"
         },
         "name": "A",
         "text": [
          "A",
          "A",
          "A",
          "A"
         ],
         "type": "box",
         "x": [
          0.3927221545025664,
          0.5528237176238243,
          0.9522713261728896,
          0.00631587629552921
         ]
        },
        {
         "marker": {
          "color": "blue"
         },
         "name": "B",
         "text": [
          "B",
          "B",
          "B"
         ],
         "type": "box",
         "x": [
          0.12027638404114571,
          0.24086581489012415,
          0.059083256923612826
         ]
        },
        {
         "marker": {
          "color": "green"
         },
         "name": "C",
         "text": [
          "C",
          "C",
          "C"
         ],
         "type": "box",
         "x": [
          0.8577864346608667,
          0.7706151589715848,
          0.1856615443140185
         ]
        }
       ],
       "layout": {
        "template": {
         "data": {
          "bar": [
           {
            "error_x": {
             "color": "#2a3f5f"
            },
            "error_y": {
             "color": "#2a3f5f"
            },
            "marker": {
             "line": {
              "color": "#E5ECF6",
              "width": 0.5
             },
             "pattern": {
              "fillmode": "overlay",
              "size": 10,
              "solidity": 0.2
             }
            },
            "type": "bar"
           }
          ],
          "barpolar": [
           {
            "marker": {
             "line": {
              "color": "#E5ECF6",
              "width": 0.5
             },
             "pattern": {
              "fillmode": "overlay",
              "size": 10,
              "solidity": 0.2
             }
            },
            "type": "barpolar"
           }
          ],
          "carpet": [
           {
            "aaxis": {
             "endlinecolor": "#2a3f5f",
             "gridcolor": "white",
             "linecolor": "white",
             "minorgridcolor": "white",
             "startlinecolor": "#2a3f5f"
            },
            "baxis": {
             "endlinecolor": "#2a3f5f",
             "gridcolor": "white",
             "linecolor": "white",
             "minorgridcolor": "white",
             "startlinecolor": "#2a3f5f"
            },
            "type": "carpet"
           }
          ],
          "choropleth": [
           {
            "colorbar": {
             "outlinewidth": 0,
             "ticks": ""
            },
            "type": "choropleth"
           }
          ],
          "contour": [
           {
            "colorbar": {
             "outlinewidth": 0,
             "ticks": ""
            },
            "colorscale": [
             [
              0,
              "#0d0887"
             ],
             [
              0.1111111111111111,
              "#46039f"
             ],
             [
              0.2222222222222222,
              "#7201a8"
             ],
             [
              0.3333333333333333,
              "#9c179e"
             ],
             [
              0.4444444444444444,
              "#bd3786"
             ],
             [
              0.5555555555555556,
              "#d8576b"
             ],
             [
              0.6666666666666666,
              "#ed7953"
             ],
             [
              0.7777777777777778,
              "#fb9f3a"
             ],
             [
              0.8888888888888888,
              "#fdca26"
             ],
             [
              1,
              "#f0f921"
             ]
            ],
            "type": "contour"
           }
          ],
          "contourcarpet": [
           {
            "colorbar": {
             "outlinewidth": 0,
             "ticks": ""
            },
            "type": "contourcarpet"
           }
          ],
          "heatmap": [
           {
            "colorbar": {
             "outlinewidth": 0,
             "ticks": ""
            },
            "colorscale": [
             [
              0,
              "#0d0887"
             ],
             [
              0.1111111111111111,
              "#46039f"
             ],
             [
              0.2222222222222222,
              "#7201a8"
             ],
             [
              0.3333333333333333,
              "#9c179e"
             ],
             [
              0.4444444444444444,
              "#bd3786"
             ],
             [
              0.5555555555555556,
              "#d8576b"
             ],
             [
              0.6666666666666666,
              "#ed7953"
             ],
             [
              0.7777777777777778,
              "#fb9f3a"
             ],
             [
              0.8888888888888888,
              "#fdca26"
             ],
             [
              1,
              "#f0f921"
             ]
            ],
            "type": "heatmap"
           }
          ],
          "heatmapgl": [
           {
            "colorbar": {
             "outlinewidth": 0,
             "ticks": ""
            },
            "colorscale": [
             [
              0,
              "#0d0887"
             ],
             [
              0.1111111111111111,
              "#46039f"
             ],
             [
              0.2222222222222222,
              "#7201a8"
             ],
             [
              0.3333333333333333,
              "#9c179e"
             ],
             [
              0.4444444444444444,
              "#bd3786"
             ],
             [
              0.5555555555555556,
              "#d8576b"
             ],
             [
              0.6666666666666666,
              "#ed7953"
             ],
             [
              0.7777777777777778,
              "#fb9f3a"
             ],
             [
              0.8888888888888888,
              "#fdca26"
             ],
             [
              1,
              "#f0f921"
             ]
            ],
            "type": "heatmapgl"
           }
          ],
          "histogram": [
           {
            "marker": {
             "pattern": {
              "fillmode": "overlay",
              "size": 10,
              "solidity": 0.2
             }
            },
            "type": "histogram"
           }
          ],
          "histogram2d": [
           {
            "colorbar": {
             "outlinewidth": 0,
             "ticks": ""
            },
            "colorscale": [
             [
              0,
              "#0d0887"
             ],
             [
              0.1111111111111111,
              "#46039f"
             ],
             [
              0.2222222222222222,
              "#7201a8"
             ],
             [
              0.3333333333333333,
              "#9c179e"
             ],
             [
              0.4444444444444444,
              "#bd3786"
             ],
             [
              0.5555555555555556,
              "#d8576b"
             ],
             [
              0.6666666666666666,
              "#ed7953"
             ],
             [
              0.7777777777777778,
              "#fb9f3a"
             ],
             [
              0.8888888888888888,
              "#fdca26"
             ],
             [
              1,
              "#f0f921"
             ]
            ],
            "type": "histogram2d"
           }
          ],
          "histogram2dcontour": [
           {
            "colorbar": {
             "outlinewidth": 0,
             "ticks": ""
            },
            "colorscale": [
             [
              0,
              "#0d0887"
             ],
             [
              0.1111111111111111,
              "#46039f"
             ],
             [
              0.2222222222222222,
              "#7201a8"
             ],
             [
              0.3333333333333333,
              "#9c179e"
             ],
             [
              0.4444444444444444,
              "#bd3786"
             ],
             [
              0.5555555555555556,
              "#d8576b"
             ],
             [
              0.6666666666666666,
              "#ed7953"
             ],
             [
              0.7777777777777778,
              "#fb9f3a"
             ],
             [
              0.8888888888888888,
              "#fdca26"
             ],
             [
              1,
              "#f0f921"
             ]
            ],
            "type": "histogram2dcontour"
           }
          ],
          "mesh3d": [
           {
            "colorbar": {
             "outlinewidth": 0,
             "ticks": ""
            },
            "type": "mesh3d"
           }
          ],
          "parcoords": [
           {
            "line": {
             "colorbar": {
              "outlinewidth": 0,
              "ticks": ""
             }
            },
            "type": "parcoords"
           }
          ],
          "pie": [
           {
            "automargin": true,
            "type": "pie"
           }
          ],
          "scatter": [
           {
            "fillpattern": {
             "fillmode": "overlay",
             "size": 10,
             "solidity": 0.2
            },
            "type": "scatter"
           }
          ],
          "scatter3d": [
           {
            "line": {
             "colorbar": {
              "outlinewidth": 0,
              "ticks": ""
             }
            },
            "marker": {
             "colorbar": {
              "outlinewidth": 0,
              "ticks": ""
             }
            },
            "type": "scatter3d"
           }
          ],
          "scattercarpet": [
           {
            "marker": {
             "colorbar": {
              "outlinewidth": 0,
              "ticks": ""
             }
            },
            "type": "scattercarpet"
           }
          ],
          "scattergeo": [
           {
            "marker": {
             "colorbar": {
              "outlinewidth": 0,
              "ticks": ""
             }
            },
            "type": "scattergeo"
           }
          ],
          "scattergl": [
           {
            "marker": {
             "colorbar": {
              "outlinewidth": 0,
              "ticks": ""
             }
            },
            "type": "scattergl"
           }
          ],
          "scattermapbox": [
           {
            "marker": {
             "colorbar": {
              "outlinewidth": 0,
              "ticks": ""
             }
            },
            "type": "scattermapbox"
           }
          ],
          "scatterpolar": [
           {
            "marker": {
             "colorbar": {
              "outlinewidth": 0,
              "ticks": ""
             }
            },
            "type": "scatterpolar"
           }
          ],
          "scatterpolargl": [
           {
            "marker": {
             "colorbar": {
              "outlinewidth": 0,
              "ticks": ""
             }
            },
            "type": "scatterpolargl"
           }
          ],
          "scatterternary": [
           {
            "marker": {
             "colorbar": {
              "outlinewidth": 0,
              "ticks": ""
             }
            },
            "type": "scatterternary"
           }
          ],
          "surface": [
           {
            "colorbar": {
             "outlinewidth": 0,
             "ticks": ""
            },
            "colorscale": [
             [
              0,
              "#0d0887"
             ],
             [
              0.1111111111111111,
              "#46039f"
             ],
             [
              0.2222222222222222,
              "#7201a8"
             ],
             [
              0.3333333333333333,
              "#9c179e"
             ],
             [
              0.4444444444444444,
              "#bd3786"
             ],
             [
              0.5555555555555556,
              "#d8576b"
             ],
             [
              0.6666666666666666,
              "#ed7953"
             ],
             [
              0.7777777777777778,
              "#fb9f3a"
             ],
             [
              0.8888888888888888,
              "#fdca26"
             ],
             [
              1,
              "#f0f921"
             ]
            ],
            "type": "surface"
           }
          ],
          "table": [
           {
            "cells": {
             "fill": {
              "color": "#EBF0F8"
             },
             "line": {
              "color": "white"
             }
            },
            "header": {
             "fill": {
              "color": "#C8D4E3"
             },
             "line": {
              "color": "white"
             }
            },
            "type": "table"
           }
          ]
         },
         "layout": {
          "annotationdefaults": {
           "arrowcolor": "#2a3f5f",
           "arrowhead": 0,
           "arrowwidth": 1
          },
          "autotypenumbers": "strict",
          "coloraxis": {
           "colorbar": {
            "outlinewidth": 0,
            "ticks": ""
           }
          },
          "colorscale": {
           "diverging": [
            [
             0,
             "#8e0152"
            ],
            [
             0.1,
             "#c51b7d"
            ],
            [
             0.2,
             "#de77ae"
            ],
            [
             0.3,
             "#f1b6da"
            ],
            [
             0.4,
             "#fde0ef"
            ],
            [
             0.5,
             "#f7f7f7"
            ],
            [
             0.6,
             "#e6f5d0"
            ],
            [
             0.7,
             "#b8e186"
            ],
            [
             0.8,
             "#7fbc41"
            ],
            [
             0.9,
             "#4d9221"
            ],
            [
             1,
             "#276419"
            ]
           ],
           "sequential": [
            [
             0,
             "#0d0887"
            ],
            [
             0.1111111111111111,
             "#46039f"
            ],
            [
             0.2222222222222222,
             "#7201a8"
            ],
            [
             0.3333333333333333,
             "#9c179e"
            ],
            [
             0.4444444444444444,
             "#bd3786"
            ],
            [
             0.5555555555555556,
             "#d8576b"
            ],
            [
             0.6666666666666666,
             "#ed7953"
            ],
            [
             0.7777777777777778,
             "#fb9f3a"
            ],
            [
             0.8888888888888888,
             "#fdca26"
            ],
            [
             1,
             "#f0f921"
            ]
           ],
           "sequentialminus": [
            [
             0,
             "#0d0887"
            ],
            [
             0.1111111111111111,
             "#46039f"
            ],
            [
             0.2222222222222222,
             "#7201a8"
            ],
            [
             0.3333333333333333,
             "#9c179e"
            ],
            [
             0.4444444444444444,
             "#bd3786"
            ],
            [
             0.5555555555555556,
             "#d8576b"
            ],
            [
             0.6666666666666666,
             "#ed7953"
            ],
            [
             0.7777777777777778,
             "#fb9f3a"
            ],
            [
             0.8888888888888888,
             "#fdca26"
            ],
            [
             1,
             "#f0f921"
            ]
           ]
          },
          "colorway": [
           "#636efa",
           "#EF553B",
           "#00cc96",
           "#ab63fa",
           "#FFA15A",
           "#19d3f3",
           "#FF6692",
           "#B6E880",
           "#FF97FF",
           "#FECB52"
          ],
          "font": {
           "color": "#2a3f5f"
          },
          "geo": {
           "bgcolor": "white",
           "lakecolor": "white",
           "landcolor": "#E5ECF6",
           "showlakes": true,
           "showland": true,
           "subunitcolor": "white"
          },
          "hoverlabel": {
           "align": "left"
          },
          "hovermode": "closest",
          "mapbox": {
           "style": "light"
          },
          "paper_bgcolor": "white",
          "plot_bgcolor": "#E5ECF6",
          "polar": {
           "angularaxis": {
            "gridcolor": "white",
            "linecolor": "white",
            "ticks": ""
           },
           "bgcolor": "#E5ECF6",
           "radialaxis": {
            "gridcolor": "white",
            "linecolor": "white",
            "ticks": ""
           }
          },
          "scene": {
           "xaxis": {
            "backgroundcolor": "#E5ECF6",
            "gridcolor": "white",
            "gridwidth": 2,
            "linecolor": "white",
            "showbackground": true,
            "ticks": "",
            "zerolinecolor": "white"
           },
           "yaxis": {
            "backgroundcolor": "#E5ECF6",
            "gridcolor": "white",
            "gridwidth": 2,
            "linecolor": "white",
            "showbackground": true,
            "ticks": "",
            "zerolinecolor": "white"
           },
           "zaxis": {
            "backgroundcolor": "#E5ECF6",
            "gridcolor": "white",
            "gridwidth": 2,
            "linecolor": "white",
            "showbackground": true,
            "ticks": "",
            "zerolinecolor": "white"
           }
          },
          "shapedefaults": {
           "line": {
            "color": "#2a3f5f"
           }
          },
          "ternary": {
           "aaxis": {
            "gridcolor": "white",
            "linecolor": "white",
            "ticks": ""
           },
           "baxis": {
            "gridcolor": "white",
            "linecolor": "white",
            "ticks": ""
           },
           "bgcolor": "#E5ECF6",
           "caxis": {
            "gridcolor": "white",
            "linecolor": "white",
            "ticks": ""
           }
          },
          "title": {
           "x": 0.05
          },
          "xaxis": {
           "automargin": true,
           "gridcolor": "white",
           "linecolor": "white",
           "ticks": "",
           "title": {
            "standoff": 15
           },
           "zerolinecolor": "white",
           "zerolinewidth": 2
          },
          "yaxis": {
           "automargin": true,
           "gridcolor": "white",
           "linecolor": "white",
           "ticks": "",
           "title": {
            "standoff": 15
           },
           "zerolinecolor": "white",
           "zerolinewidth": 2
          }
         }
        },
        "title": {
         "text": "Bivariate Plot with Hue"
        }
       }
      }
     },
     "metadata": {},
     "output_type": "display_data"
    }
   ],
   "source": [
    "import plotly.graph_objects as go\n",
    "import pandas as pd\n",
    "import numpy as np\n",
    "# Sample data\n",
    "data = pd.DataFrame({\n",
    "    'X': np.random.rand(10),\n",
    "    'Category': ['A', 'B', 'A', 'B', 'A', 'C', 'C',\"A\",\"B\",\"C\"]\n",
    "})\n",
    "\n",
    "# Create a bivariate scatter plot with hue using go.Scatter\n",
    "traces = []\n",
    "\n",
    "# Define colors for each category\n",
    "category_colors = {'A': 'red', 'B': 'blue', 'C': 'green'}\n",
    "\n",
    "for category, color in category_colors.items():\n",
    "    subset = data[data['Category'] == category]\n",
    "    trace = go.Box(x=subset['X'],\n",
    "                       name=category, marker=dict(color=color),\n",
    "                       text=subset['Category'])\n",
    "    traces.append(trace)\n",
    "\n",
    "# Create the layout\n",
    "layout = go.Layout(title='Multiple Box Plot with Hue')\n",
    "\n",
    "# Create the figure\n",
    "fig = go.Figure(data=traces, layout=layout)\n",
    "\n",
    "# Show the plot\n",
    "fig.show()"
   ]
  },
  {
   "cell_type": "code",
   "execution_count": 10,
   "metadata": {},
   "outputs": [
    {
     "data": {
      "text/html": [
       "<div>\n",
       "<style scoped>\n",
       "    .dataframe tbody tr th:only-of-type {\n",
       "        vertical-align: middle;\n",
       "    }\n",
       "\n",
       "    .dataframe tbody tr th {\n",
       "        vertical-align: top;\n",
       "    }\n",
       "\n",
       "    .dataframe thead th {\n",
       "        text-align: right;\n",
       "    }\n",
       "</style>\n",
       "<table border=\"1\" class=\"dataframe\">\n",
       "  <thead>\n",
       "    <tr style=\"text-align: right;\">\n",
       "      <th></th>\n",
       "      <th>day</th>\n",
       "      <th>total_bill</th>\n",
       "      <th>smoker</th>\n",
       "    </tr>\n",
       "  </thead>\n",
       "  <tbody>\n",
       "    <tr>\n",
       "      <th>0</th>\n",
       "      <td>Sun</td>\n",
       "      <td>16.99</td>\n",
       "      <td>No</td>\n",
       "    </tr>\n",
       "    <tr>\n",
       "      <th>1</th>\n",
       "      <td>Sun</td>\n",
       "      <td>10.34</td>\n",
       "      <td>No</td>\n",
       "    </tr>\n",
       "    <tr>\n",
       "      <th>2</th>\n",
       "      <td>Sun</td>\n",
       "      <td>21.01</td>\n",
       "      <td>No</td>\n",
       "    </tr>\n",
       "    <tr>\n",
       "      <th>3</th>\n",
       "      <td>Sun</td>\n",
       "      <td>23.68</td>\n",
       "      <td>No</td>\n",
       "    </tr>\n",
       "    <tr>\n",
       "      <th>4</th>\n",
       "      <td>Sun</td>\n",
       "      <td>24.59</td>\n",
       "      <td>No</td>\n",
       "    </tr>\n",
       "  </tbody>\n",
       "</table>\n",
       "</div>"
      ],
      "text/plain": [
       "   day  total_bill smoker\n",
       "0  Sun       16.99     No\n",
       "1  Sun       10.34     No\n",
       "2  Sun       21.01     No\n",
       "3  Sun       23.68     No\n",
       "4  Sun       24.59     No"
      ]
     },
     "metadata": {},
     "output_type": "display_data"
    },
    {
     "data": {
      "application/vnd.plotly.v1+json": {
       "config": {
        "plotlyServerURL": "https://plot.ly"
       },
       "data": [
        {
         "alignmentgroup": "True",
         "hovertemplate": "smoker=No<br>day=%{x}<br>total_bill=%{y}<extra></extra>",
         "legendgroup": "No",
         "marker": {
          "color": "#636efa"
         },
         "name": "No",
         "notched": false,
         "offsetgroup": "No",
         "orientation": "v",
         "showlegend": true,
         "type": "box",
         "x": [
          "Sun",
          "Sun",
          "Sun",
          "Sun",
          "Sun",
          "Sun",
          "Sun",
          "Sun",
          "Sun",
          "Sun",
          "Sun",
          "Sun",
          "Sun",
          "Sun",
          "Sun",
          "Sun",
          "Sun",
          "Sun",
          "Sun",
          "Sat",
          "Sat",
          "Sat",
          "Sat",
          "Sat",
          "Sat",
          "Sat",
          "Sat",
          "Sat",
          "Sat",
          "Sat",
          "Sat",
          "Sat",
          "Sat",
          "Sat",
          "Sat",
          "Sat",
          "Sat",
          "Sat",
          "Sat",
          "Sat",
          "Sat",
          "Sun",
          "Sun",
          "Sun",
          "Sun",
          "Sun",
          "Sun",
          "Sun",
          "Sun",
          "Sun",
          "Sun",
          "Sun",
          "Sun",
          "Sun",
          "Sun",
          "Sun",
          "Sat",
          "Sat",
          "Sat",
          "Sat",
          "Sat",
          "Sat",
          "Sat",
          "Sat",
          "Sat",
          "Sat",
          "Thur",
          "Thur",
          "Thur",
          "Thur",
          "Thur",
          "Thur",
          "Thur",
          "Thur",
          "Thur",
          "Thur",
          "Thur",
          "Fri",
          "Fri",
          "Fri",
          "Sat",
          "Sat",
          "Sat",
          "Sat",
          "Sun",
          "Sun",
          "Sun",
          "Sun",
          "Sun",
          "Thur",
          "Thur",
          "Thur",
          "Thur",
          "Thur",
          "Thur",
          "Thur",
          "Thur",
          "Thur",
          "Thur",
          "Thur",
          "Thur",
          "Thur",
          "Thur",
          "Thur",
          "Thur",
          "Thur",
          "Thur",
          "Thur",
          "Thur",
          "Thur",
          "Thur",
          "Thur",
          "Thur",
          "Thur",
          "Thur",
          "Thur",
          "Thur",
          "Thur",
          "Thur",
          "Thur",
          "Thur",
          "Sun",
          "Sun",
          "Sun",
          "Sun",
          "Sun",
          "Sun",
          "Sun",
          "Sun",
          "Sun",
          "Sun",
          "Sun",
          "Sun",
          "Sun",
          "Sun",
          "Sun",
          "Sun",
          "Sun",
          "Sun",
          "Thur",
          "Sat",
          "Fri",
          "Sat",
          "Sat",
          "Sat",
          "Sat",
          "Sat",
          "Sat",
          "Sat",
          "Sat",
          "Thur"
         ],
         "x0": " ",
         "xaxis": "x",
         "y": [
          16.99,
          10.34,
          21.01,
          23.68,
          24.59,
          25.29,
          8.77,
          26.88,
          15.04,
          14.78,
          10.27,
          35.26,
          15.42,
          18.43,
          14.83,
          21.58,
          10.33,
          16.29,
          16.97,
          20.65,
          17.92,
          20.29,
          15.77,
          39.42,
          19.82,
          17.81,
          13.37,
          12.69,
          21.7,
          19.65,
          9.55,
          18.35,
          15.06,
          20.69,
          17.78,
          24.06,
          16.31,
          16.93,
          18.69,
          31.27,
          16.04,
          17.46,
          13.94,
          9.68,
          30.4,
          18.29,
          22.23,
          32.4,
          28.55,
          18.04,
          12.54,
          10.29,
          34.81,
          9.94,
          25.56,
          19.49,
          26.41,
          48.27,
          17.59,
          20.08,
          16.45,
          20.23,
          12.02,
          17.07,
          14.73,
          10.51,
          27.2,
          22.76,
          17.29,
          16.66,
          10.07,
          15.98,
          34.83,
          13.03,
          18.28,
          24.71,
          21.16,
          22.49,
          22.75,
          12.46,
          20.92,
          18.24,
          14,
          7.25,
          38.07,
          23.95,
          25.71,
          17.31,
          29.93,
          10.65,
          12.43,
          24.08,
          11.69,
          13.42,
          14.26,
          15.95,
          12.48,
          29.8,
          8.52,
          14.52,
          11.38,
          22.82,
          19.08,
          20.27,
          11.17,
          12.26,
          18.26,
          8.51,
          10.33,
          14.15,
          13.16,
          17.47,
          34.3,
          41.19,
          27.05,
          16.43,
          8.35,
          18.64,
          11.87,
          9.78,
          7.51,
          14.07,
          13.13,
          17.26,
          24.55,
          19.77,
          29.85,
          48.17,
          25,
          13.39,
          16.49,
          21.5,
          12.66,
          16.21,
          13.81,
          24.52,
          20.76,
          31.71,
          20.69,
          7.56,
          48.33,
          15.98,
          20.45,
          13.28,
          11.61,
          10.77,
          10.07,
          35.83,
          29.03,
          17.82,
          18.78
         ],
         "y0": " ",
         "yaxis": "y"
        },
        {
         "alignmentgroup": "True",
         "hovertemplate": "smoker=Yes<br>day=%{x}<br>total_bill=%{y}<extra></extra>",
         "legendgroup": "Yes",
         "marker": {
          "color": "#EF553B"
         },
         "name": "Yes",
         "notched": false,
         "offsetgroup": "Yes",
         "orientation": "v",
         "showlegend": true,
         "type": "box",
         "x": [
          "Sat",
          "Sat",
          "Sat",
          "Sat",
          "Sat",
          "Sat",
          "Sat",
          "Sat",
          "Sat",
          "Sat",
          "Sat",
          "Thur",
          "Thur",
          "Fri",
          "Fri",
          "Fri",
          "Fri",
          "Fri",
          "Fri",
          "Fri",
          "Fri",
          "Fri",
          "Sat",
          "Sat",
          "Sat",
          "Sat",
          "Sat",
          "Sat",
          "Thur",
          "Sun",
          "Sat",
          "Sat",
          "Sat",
          "Sat",
          "Sun",
          "Sun",
          "Sun",
          "Sun",
          "Sun",
          "Sun",
          "Sun",
          "Sun",
          "Sun",
          "Sun",
          "Sun",
          "Sun",
          "Sun",
          "Sun",
          "Sun",
          "Sun",
          "Sun",
          "Sun",
          "Thur",
          "Thur",
          "Thur",
          "Thur",
          "Thur",
          "Thur",
          "Thur",
          "Thur",
          "Thur",
          "Thur",
          "Thur",
          "Thur",
          "Thur",
          "Thur",
          "Sat",
          "Sat",
          "Sat",
          "Sat",
          "Sat",
          "Sat",
          "Sat",
          "Sat",
          "Sat",
          "Sat",
          "Sat",
          "Sat",
          "Sat",
          "Fri",
          "Fri",
          "Fri",
          "Fri",
          "Fri",
          "Fri",
          "Sat",
          "Sat",
          "Sat",
          "Sat",
          "Sat",
          "Sat",
          "Sat",
          "Sat"
         ],
         "x0": " ",
         "xaxis": "x",
         "y": [
          38.01,
          11.24,
          20.29,
          13.81,
          11.02,
          18.29,
          3.07,
          15.01,
          26.86,
          25.28,
          17.92,
          19.44,
          32.68,
          28.97,
          5.75,
          16.32,
          40.17,
          27.28,
          12.03,
          21.01,
          11.35,
          15.38,
          44.3,
          22.42,
          15.36,
          20.49,
          25.21,
          14.31,
          16,
          17.51,
          10.59,
          10.63,
          50.81,
          15.81,
          7.25,
          31.85,
          16.82,
          32.9,
          17.89,
          14.48,
          9.6,
          34.63,
          34.65,
          23.33,
          45.35,
          23.17,
          40.55,
          20.9,
          30.46,
          18.15,
          23.1,
          15.69,
          19.81,
          28.44,
          15.48,
          16.58,
          10.34,
          43.11,
          13,
          13.51,
          18.71,
          12.74,
          13,
          16.4,
          20.53,
          16.47,
          26.59,
          38.73,
          24.27,
          12.76,
          30.06,
          25.89,
          13.27,
          28.17,
          12.9,
          28.15,
          11.59,
          7.74,
          30.14,
          12.16,
          13.42,
          8.58,
          13.42,
          16.27,
          10.09,
          22.12,
          24.01,
          15.69,
          15.53,
          12.6,
          32.83,
          27.18,
          22.67
         ],
         "y0": " ",
         "yaxis": "y"
        }
       ],
       "layout": {
        "boxmode": "group",
        "legend": {
         "title": {
          "text": "smoker"
         },
         "tracegroupgap": 0
        },
        "margin": {
         "t": 60
        },
        "template": {
         "data": {
          "bar": [
           {
            "error_x": {
             "color": "#2a3f5f"
            },
            "error_y": {
             "color": "#2a3f5f"
            },
            "marker": {
             "line": {
              "color": "#E5ECF6",
              "width": 0.5
             },
             "pattern": {
              "fillmode": "overlay",
              "size": 10,
              "solidity": 0.2
             }
            },
            "type": "bar"
           }
          ],
          "barpolar": [
           {
            "marker": {
             "line": {
              "color": "#E5ECF6",
              "width": 0.5
             },
             "pattern": {
              "fillmode": "overlay",
              "size": 10,
              "solidity": 0.2
             }
            },
            "type": "barpolar"
           }
          ],
          "carpet": [
           {
            "aaxis": {
             "endlinecolor": "#2a3f5f",
             "gridcolor": "white",
             "linecolor": "white",
             "minorgridcolor": "white",
             "startlinecolor": "#2a3f5f"
            },
            "baxis": {
             "endlinecolor": "#2a3f5f",
             "gridcolor": "white",
             "linecolor": "white",
             "minorgridcolor": "white",
             "startlinecolor": "#2a3f5f"
            },
            "type": "carpet"
           }
          ],
          "choropleth": [
           {
            "colorbar": {
             "outlinewidth": 0,
             "ticks": ""
            },
            "type": "choropleth"
           }
          ],
          "contour": [
           {
            "colorbar": {
             "outlinewidth": 0,
             "ticks": ""
            },
            "colorscale": [
             [
              0,
              "#0d0887"
             ],
             [
              0.1111111111111111,
              "#46039f"
             ],
             [
              0.2222222222222222,
              "#7201a8"
             ],
             [
              0.3333333333333333,
              "#9c179e"
             ],
             [
              0.4444444444444444,
              "#bd3786"
             ],
             [
              0.5555555555555556,
              "#d8576b"
             ],
             [
              0.6666666666666666,
              "#ed7953"
             ],
             [
              0.7777777777777778,
              "#fb9f3a"
             ],
             [
              0.8888888888888888,
              "#fdca26"
             ],
             [
              1,
              "#f0f921"
             ]
            ],
            "type": "contour"
           }
          ],
          "contourcarpet": [
           {
            "colorbar": {
             "outlinewidth": 0,
             "ticks": ""
            },
            "type": "contourcarpet"
           }
          ],
          "heatmap": [
           {
            "colorbar": {
             "outlinewidth": 0,
             "ticks": ""
            },
            "colorscale": [
             [
              0,
              "#0d0887"
             ],
             [
              0.1111111111111111,
              "#46039f"
             ],
             [
              0.2222222222222222,
              "#7201a8"
             ],
             [
              0.3333333333333333,
              "#9c179e"
             ],
             [
              0.4444444444444444,
              "#bd3786"
             ],
             [
              0.5555555555555556,
              "#d8576b"
             ],
             [
              0.6666666666666666,
              "#ed7953"
             ],
             [
              0.7777777777777778,
              "#fb9f3a"
             ],
             [
              0.8888888888888888,
              "#fdca26"
             ],
             [
              1,
              "#f0f921"
             ]
            ],
            "type": "heatmap"
           }
          ],
          "heatmapgl": [
           {
            "colorbar": {
             "outlinewidth": 0,
             "ticks": ""
            },
            "colorscale": [
             [
              0,
              "#0d0887"
             ],
             [
              0.1111111111111111,
              "#46039f"
             ],
             [
              0.2222222222222222,
              "#7201a8"
             ],
             [
              0.3333333333333333,
              "#9c179e"
             ],
             [
              0.4444444444444444,
              "#bd3786"
             ],
             [
              0.5555555555555556,
              "#d8576b"
             ],
             [
              0.6666666666666666,
              "#ed7953"
             ],
             [
              0.7777777777777778,
              "#fb9f3a"
             ],
             [
              0.8888888888888888,
              "#fdca26"
             ],
             [
              1,
              "#f0f921"
             ]
            ],
            "type": "heatmapgl"
           }
          ],
          "histogram": [
           {
            "marker": {
             "pattern": {
              "fillmode": "overlay",
              "size": 10,
              "solidity": 0.2
             }
            },
            "type": "histogram"
           }
          ],
          "histogram2d": [
           {
            "colorbar": {
             "outlinewidth": 0,
             "ticks": ""
            },
            "colorscale": [
             [
              0,
              "#0d0887"
             ],
             [
              0.1111111111111111,
              "#46039f"
             ],
             [
              0.2222222222222222,
              "#7201a8"
             ],
             [
              0.3333333333333333,
              "#9c179e"
             ],
             [
              0.4444444444444444,
              "#bd3786"
             ],
             [
              0.5555555555555556,
              "#d8576b"
             ],
             [
              0.6666666666666666,
              "#ed7953"
             ],
             [
              0.7777777777777778,
              "#fb9f3a"
             ],
             [
              0.8888888888888888,
              "#fdca26"
             ],
             [
              1,
              "#f0f921"
             ]
            ],
            "type": "histogram2d"
           }
          ],
          "histogram2dcontour": [
           {
            "colorbar": {
             "outlinewidth": 0,
             "ticks": ""
            },
            "colorscale": [
             [
              0,
              "#0d0887"
             ],
             [
              0.1111111111111111,
              "#46039f"
             ],
             [
              0.2222222222222222,
              "#7201a8"
             ],
             [
              0.3333333333333333,
              "#9c179e"
             ],
             [
              0.4444444444444444,
              "#bd3786"
             ],
             [
              0.5555555555555556,
              "#d8576b"
             ],
             [
              0.6666666666666666,
              "#ed7953"
             ],
             [
              0.7777777777777778,
              "#fb9f3a"
             ],
             [
              0.8888888888888888,
              "#fdca26"
             ],
             [
              1,
              "#f0f921"
             ]
            ],
            "type": "histogram2dcontour"
           }
          ],
          "mesh3d": [
           {
            "colorbar": {
             "outlinewidth": 0,
             "ticks": ""
            },
            "type": "mesh3d"
           }
          ],
          "parcoords": [
           {
            "line": {
             "colorbar": {
              "outlinewidth": 0,
              "ticks": ""
             }
            },
            "type": "parcoords"
           }
          ],
          "pie": [
           {
            "automargin": true,
            "type": "pie"
           }
          ],
          "scatter": [
           {
            "fillpattern": {
             "fillmode": "overlay",
             "size": 10,
             "solidity": 0.2
            },
            "type": "scatter"
           }
          ],
          "scatter3d": [
           {
            "line": {
             "colorbar": {
              "outlinewidth": 0,
              "ticks": ""
             }
            },
            "marker": {
             "colorbar": {
              "outlinewidth": 0,
              "ticks": ""
             }
            },
            "type": "scatter3d"
           }
          ],
          "scattercarpet": [
           {
            "marker": {
             "colorbar": {
              "outlinewidth": 0,
              "ticks": ""
             }
            },
            "type": "scattercarpet"
           }
          ],
          "scattergeo": [
           {
            "marker": {
             "colorbar": {
              "outlinewidth": 0,
              "ticks": ""
             }
            },
            "type": "scattergeo"
           }
          ],
          "scattergl": [
           {
            "marker": {
             "colorbar": {
              "outlinewidth": 0,
              "ticks": ""
             }
            },
            "type": "scattergl"
           }
          ],
          "scattermapbox": [
           {
            "marker": {
             "colorbar": {
              "outlinewidth": 0,
              "ticks": ""
             }
            },
            "type": "scattermapbox"
           }
          ],
          "scatterpolar": [
           {
            "marker": {
             "colorbar": {
              "outlinewidth": 0,
              "ticks": ""
             }
            },
            "type": "scatterpolar"
           }
          ],
          "scatterpolargl": [
           {
            "marker": {
             "colorbar": {
              "outlinewidth": 0,
              "ticks": ""
             }
            },
            "type": "scatterpolargl"
           }
          ],
          "scatterternary": [
           {
            "marker": {
             "colorbar": {
              "outlinewidth": 0,
              "ticks": ""
             }
            },
            "type": "scatterternary"
           }
          ],
          "surface": [
           {
            "colorbar": {
             "outlinewidth": 0,
             "ticks": ""
            },
            "colorscale": [
             [
              0,
              "#0d0887"
             ],
             [
              0.1111111111111111,
              "#46039f"
             ],
             [
              0.2222222222222222,
              "#7201a8"
             ],
             [
              0.3333333333333333,
              "#9c179e"
             ],
             [
              0.4444444444444444,
              "#bd3786"
             ],
             [
              0.5555555555555556,
              "#d8576b"
             ],
             [
              0.6666666666666666,
              "#ed7953"
             ],
             [
              0.7777777777777778,
              "#fb9f3a"
             ],
             [
              0.8888888888888888,
              "#fdca26"
             ],
             [
              1,
              "#f0f921"
             ]
            ],
            "type": "surface"
           }
          ],
          "table": [
           {
            "cells": {
             "fill": {
              "color": "#EBF0F8"
             },
             "line": {
              "color": "white"
             }
            },
            "header": {
             "fill": {
              "color": "#C8D4E3"
             },
             "line": {
              "color": "white"
             }
            },
            "type": "table"
           }
          ]
         },
         "layout": {
          "annotationdefaults": {
           "arrowcolor": "#2a3f5f",
           "arrowhead": 0,
           "arrowwidth": 1
          },
          "autotypenumbers": "strict",
          "coloraxis": {
           "colorbar": {
            "outlinewidth": 0,
            "ticks": ""
           }
          },
          "colorscale": {
           "diverging": [
            [
             0,
             "#8e0152"
            ],
            [
             0.1,
             "#c51b7d"
            ],
            [
             0.2,
             "#de77ae"
            ],
            [
             0.3,
             "#f1b6da"
            ],
            [
             0.4,
             "#fde0ef"
            ],
            [
             0.5,
             "#f7f7f7"
            ],
            [
             0.6,
             "#e6f5d0"
            ],
            [
             0.7,
             "#b8e186"
            ],
            [
             0.8,
             "#7fbc41"
            ],
            [
             0.9,
             "#4d9221"
            ],
            [
             1,
             "#276419"
            ]
           ],
           "sequential": [
            [
             0,
             "#0d0887"
            ],
            [
             0.1111111111111111,
             "#46039f"
            ],
            [
             0.2222222222222222,
             "#7201a8"
            ],
            [
             0.3333333333333333,
             "#9c179e"
            ],
            [
             0.4444444444444444,
             "#bd3786"
            ],
            [
             0.5555555555555556,
             "#d8576b"
            ],
            [
             0.6666666666666666,
             "#ed7953"
            ],
            [
             0.7777777777777778,
             "#fb9f3a"
            ],
            [
             0.8888888888888888,
             "#fdca26"
            ],
            [
             1,
             "#f0f921"
            ]
           ],
           "sequentialminus": [
            [
             0,
             "#0d0887"
            ],
            [
             0.1111111111111111,
             "#46039f"
            ],
            [
             0.2222222222222222,
             "#7201a8"
            ],
            [
             0.3333333333333333,
             "#9c179e"
            ],
            [
             0.4444444444444444,
             "#bd3786"
            ],
            [
             0.5555555555555556,
             "#d8576b"
            ],
            [
             0.6666666666666666,
             "#ed7953"
            ],
            [
             0.7777777777777778,
             "#fb9f3a"
            ],
            [
             0.8888888888888888,
             "#fdca26"
            ],
            [
             1,
             "#f0f921"
            ]
           ]
          },
          "colorway": [
           "#636efa",
           "#EF553B",
           "#00cc96",
           "#ab63fa",
           "#FFA15A",
           "#19d3f3",
           "#FF6692",
           "#B6E880",
           "#FF97FF",
           "#FECB52"
          ],
          "font": {
           "color": "#2a3f5f"
          },
          "geo": {
           "bgcolor": "white",
           "lakecolor": "white",
           "landcolor": "#E5ECF6",
           "showlakes": true,
           "showland": true,
           "subunitcolor": "white"
          },
          "hoverlabel": {
           "align": "left"
          },
          "hovermode": "closest",
          "mapbox": {
           "style": "light"
          },
          "paper_bgcolor": "white",
          "plot_bgcolor": "#E5ECF6",
          "polar": {
           "angularaxis": {
            "gridcolor": "white",
            "linecolor": "white",
            "ticks": ""
           },
           "bgcolor": "#E5ECF6",
           "radialaxis": {
            "gridcolor": "white",
            "linecolor": "white",
            "ticks": ""
           }
          },
          "scene": {
           "xaxis": {
            "backgroundcolor": "#E5ECF6",
            "gridcolor": "white",
            "gridwidth": 2,
            "linecolor": "white",
            "showbackground": true,
            "ticks": "",
            "zerolinecolor": "white"
           },
           "yaxis": {
            "backgroundcolor": "#E5ECF6",
            "gridcolor": "white",
            "gridwidth": 2,
            "linecolor": "white",
            "showbackground": true,
            "ticks": "",
            "zerolinecolor": "white"
           },
           "zaxis": {
            "backgroundcolor": "#E5ECF6",
            "gridcolor": "white",
            "gridwidth": 2,
            "linecolor": "white",
            "showbackground": true,
            "ticks": "",
            "zerolinecolor": "white"
           }
          },
          "shapedefaults": {
           "line": {
            "color": "#2a3f5f"
           }
          },
          "ternary": {
           "aaxis": {
            "gridcolor": "white",
            "linecolor": "white",
            "ticks": ""
           },
           "baxis": {
            "gridcolor": "white",
            "linecolor": "white",
            "ticks": ""
           },
           "bgcolor": "#E5ECF6",
           "caxis": {
            "gridcolor": "white",
            "linecolor": "white",
            "ticks": ""
           }
          },
          "title": {
           "x": 0.05
          },
          "xaxis": {
           "automargin": true,
           "gridcolor": "white",
           "linecolor": "white",
           "ticks": "",
           "title": {
            "standoff": 15
           },
           "zerolinecolor": "white",
           "zerolinewidth": 2
          },
          "yaxis": {
           "automargin": true,
           "gridcolor": "white",
           "linecolor": "white",
           "ticks": "",
           "title": {
            "standoff": 15
           },
           "zerolinecolor": "white",
           "zerolinewidth": 2
          }
         }
        },
        "xaxis": {
         "anchor": "y",
         "domain": [
          0,
          1
         ],
         "title": {
          "text": "day"
         }
        },
        "yaxis": {
         "anchor": "x",
         "domain": [
          0,
          1
         ],
         "title": {
          "text": "total_bill"
         }
        }
       }
      }
     },
     "metadata": {},
     "output_type": "display_data"
    }
   ],
   "source": [
    "import plotly.express as px\n",
    "\n",
    "df = px.data.tips()\n",
    "display(df[[\"day\",\"total_bill\",\"smoker\"]].head())\n",
    "fig = px.box(df, x=\"day\", y=\"total_bill\", color=\"smoker\")\n",
    "fig.update_traces() # or \"inclusive\", or \"linear\" by default\n",
    "fig.show()"
   ]
  },
  {
   "cell_type": "code",
   "execution_count": 44,
   "metadata": {},
   "outputs": [
    {
     "data": {
      "application/vnd.plotly.v1+json": {
       "config": {
        "plotlyServerURL": "https://plot.ly"
       },
       "data": [
        {
         "mode": "markers",
         "name": "PDF",
         "type": "scatter",
         "x": [
          -4,
          -3.991991991991992,
          -3.983983983983984,
          -3.975975975975976,
          -3.967967967967968,
          -3.95995995995996,
          -3.951951951951952,
          -3.943943943943944,
          -3.935935935935936,
          -3.9279279279279278,
          -3.91991991991992,
          -3.911911911911912,
          -3.903903903903904,
          -3.895895895895896,
          -3.8878878878878878,
          -3.87987987987988,
          -3.871871871871872,
          -3.863863863863864,
          -3.855855855855856,
          -3.8478478478478477,
          -3.83983983983984,
          -3.831831831831832,
          -3.823823823823824,
          -3.815815815815816,
          -3.8078078078078077,
          -3.7997997997998,
          -3.7917917917917916,
          -3.7837837837837838,
          -3.775775775775776,
          -3.7677677677677677,
          -3.75975975975976,
          -3.7517517517517516,
          -3.7437437437437437,
          -3.735735735735736,
          -3.7277277277277276,
          -3.71971971971972,
          -3.7117117117117115,
          -3.7037037037037037,
          -3.6956956956956954,
          -3.6876876876876876,
          -3.67967967967968,
          -3.6716716716716715,
          -3.6636636636636637,
          -3.6556556556556554,
          -3.6476476476476476,
          -3.6396396396396398,
          -3.6316316316316315,
          -3.6236236236236237,
          -3.6156156156156154,
          -3.6076076076076076,
          -3.5995995995995997,
          -3.5915915915915915,
          -3.5835835835835836,
          -3.5755755755755754,
          -3.5675675675675675,
          -3.5595595595595597,
          -3.5515515515515514,
          -3.5435435435435436,
          -3.5355355355355353,
          -3.5275275275275275,
          -3.5195195195195197,
          -3.5115115115115114,
          -3.5035035035035036,
          -3.4954954954954953,
          -3.4874874874874875,
          -3.4794794794794797,
          -3.4714714714714714,
          -3.4634634634634636,
          -3.4554554554554553,
          -3.4474474474474475,
          -3.4394394394394396,
          -3.4314314314314314,
          -3.4234234234234235,
          -3.4154154154154153,
          -3.4074074074074074,
          -3.3993993993993996,
          -3.3913913913913913,
          -3.3833833833833835,
          -3.3753753753753752,
          -3.3673673673673674,
          -3.3593593593593596,
          -3.3513513513513513,
          -3.3433433433433435,
          -3.335335335335335,
          -3.3273273273273274,
          -3.3193193193193196,
          -3.3113113113113113,
          -3.3033033033033035,
          -3.295295295295295,
          -3.2872872872872874,
          -3.2792792792792795,
          -3.2712712712712713,
          -3.263263263263263,
          -3.255255255255255,
          -3.2472472472472473,
          -3.2392392392392395,
          -3.2312312312312312,
          -3.223223223223223,
          -3.215215215215215,
          -3.2072072072072073,
          -3.1991991991991995,
          -3.191191191191191,
          -3.183183183183183,
          -3.175175175175175,
          -3.1671671671671673,
          -3.159159159159159,
          -3.151151151151151,
          -3.143143143143143,
          -3.135135135135135,
          -3.1271271271271273,
          -3.119119119119119,
          -3.111111111111111,
          -3.103103103103103,
          -3.095095095095095,
          -3.0870870870870872,
          -3.079079079079079,
          -3.071071071071071,
          -3.063063063063063,
          -3.055055055055055,
          -3.047047047047047,
          -3.039039039039039,
          -3.031031031031031,
          -3.023023023023023,
          -3.015015015015015,
          -3.007007007007007,
          -2.998998998998999,
          -2.990990990990991,
          -2.982982982982983,
          -2.974974974974975,
          -2.966966966966967,
          -2.958958958958959,
          -2.950950950950951,
          -2.942942942942943,
          -2.934934934934935,
          -2.926926926926927,
          -2.918918918918919,
          -2.910910910910911,
          -2.9029029029029028,
          -2.894894894894895,
          -2.886886886886887,
          -2.878878878878879,
          -2.8708708708708706,
          -2.8628628628628627,
          -2.854854854854855,
          -2.846846846846847,
          -2.838838838838839,
          -2.8308308308308305,
          -2.8228228228228227,
          -2.814814814814815,
          -2.806806806806807,
          -2.798798798798799,
          -2.7907907907907905,
          -2.7827827827827827,
          -2.774774774774775,
          -2.766766766766767,
          -2.7587587587587588,
          -2.7507507507507505,
          -2.7427427427427427,
          -2.734734734734735,
          -2.726726726726727,
          -2.7187187187187187,
          -2.7107107107107105,
          -2.7027027027027026,
          -2.694694694694695,
          -2.686686686686687,
          -2.6786786786786787,
          -2.6706706706706704,
          -2.6626626626626626,
          -2.6546546546546548,
          -2.646646646646647,
          -2.6386386386386387,
          -2.6306306306306304,
          -2.6226226226226226,
          -2.6146146146146148,
          -2.606606606606607,
          -2.5985985985985987,
          -2.5905905905905904,
          -2.5825825825825826,
          -2.5745745745745747,
          -2.566566566566567,
          -2.5585585585585586,
          -2.5505505505505504,
          -2.5425425425425425,
          -2.5345345345345347,
          -2.5265265265265264,
          -2.5185185185185186,
          -2.5105105105105103,
          -2.5025025025025025,
          -2.4944944944944947,
          -2.4864864864864864,
          -2.4784784784784786,
          -2.4704704704704703,
          -2.4624624624624625,
          -2.4544544544544546,
          -2.4464464464464464,
          -2.4384384384384385,
          -2.4304304304304303,
          -2.4224224224224224,
          -2.4144144144144146,
          -2.4064064064064064,
          -2.3983983983983985,
          -2.3903903903903903,
          -2.3823823823823824,
          -2.3743743743743746,
          -2.3663663663663663,
          -2.358358358358358,
          -2.3503503503503502,
          -2.3423423423423424,
          -2.3343343343343346,
          -2.3263263263263263,
          -2.318318318318318,
          -2.31031031031031,
          -2.3023023023023024,
          -2.2942942942942945,
          -2.2862862862862863,
          -2.278278278278278,
          -2.27027027027027,
          -2.2622622622622623,
          -2.2542542542542545,
          -2.2462462462462462,
          -2.238238238238238,
          -2.23023023023023,
          -2.2222222222222223,
          -2.2142142142142145,
          -2.206206206206206,
          -2.198198198198198,
          -2.19019019019019,
          -2.1821821821821823,
          -2.1741741741741745,
          -2.166166166166166,
          -2.158158158158158,
          -2.15015015015015,
          -2.1421421421421423,
          -2.1341341341341344,
          -2.126126126126126,
          -2.118118118118118,
          -2.11011011011011,
          -2.1021021021021022,
          -2.0940940940940944,
          -2.086086086086086,
          -2.078078078078078,
          -2.07007007007007,
          -2.062062062062062,
          -2.0540540540540544,
          -2.046046046046046,
          -2.038038038038038,
          -2.03003003003003,
          -2.022022022022022,
          -2.014014014014014,
          -2.006006006006006,
          -1.9979979979979978,
          -1.98998998998999,
          -1.9819819819819822,
          -1.973973973973974,
          -1.965965965965966,
          -1.9579579579579578,
          -1.94994994994995,
          -1.9419419419419421,
          -1.9339339339339339,
          -1.925925925925926,
          -1.9179179179179178,
          -1.90990990990991,
          -1.9019019019019021,
          -1.8938938938938938,
          -1.885885885885886,
          -1.8778778778778777,
          -1.86986986986987,
          -1.861861861861862,
          -1.8538538538538538,
          -1.845845845845846,
          -1.8378378378378377,
          -1.82982982982983,
          -1.821821821821822,
          -1.8138138138138138,
          -1.805805805805806,
          -1.7977977977977977,
          -1.7897897897897899,
          -1.7817817817817816,
          -1.7737737737737738,
          -1.765765765765766,
          -1.7577577577577577,
          -1.7497497497497498,
          -1.7417417417417416,
          -1.7337337337337337,
          -1.725725725725726,
          -1.7177177177177176,
          -1.7097097097097098,
          -1.7017017017017015,
          -1.6936936936936937,
          -1.6856856856856859,
          -1.6776776776776776,
          -1.6696696696696698,
          -1.6616616616616615,
          -1.6536536536536537,
          -1.6456456456456459,
          -1.6376376376376376,
          -1.6296296296296298,
          -1.6216216216216215,
          -1.6136136136136137,
          -1.6056056056056058,
          -1.5975975975975976,
          -1.5895895895895897,
          -1.5815815815815815,
          -1.5735735735735736,
          -1.5655655655655654,
          -1.5575575575575575,
          -1.5495495495495497,
          -1.5415415415415414,
          -1.5335335335335336,
          -1.5255255255255253,
          -1.5175175175175175,
          -1.5095095095095097,
          -1.5015015015015014,
          -1.4934934934934936,
          -1.4854854854854853,
          -1.4774774774774775,
          -1.4694694694694697,
          -1.4614614614614614,
          -1.4534534534534536,
          -1.4454454454454453,
          -1.4374374374374375,
          -1.4294294294294296,
          -1.4214214214214214,
          -1.4134134134134135,
          -1.4054054054054053,
          -1.3973973973973974,
          -1.3893893893893896,
          -1.3813813813813813,
          -1.3733733733733735,
          -1.3653653653653652,
          -1.3573573573573574,
          -1.3493493493493496,
          -1.3413413413413413,
          -1.3333333333333335,
          -1.3253253253253252,
          -1.3173173173173174,
          -1.3093093093093096,
          -1.3013013013013013,
          -1.2932932932932935,
          -1.2852852852852852,
          -1.2772772772772774,
          -1.269269269269269,
          -1.2612612612612613,
          -1.2532532532532534,
          -1.2452452452452452,
          -1.2372372372372373,
          -1.229229229229229,
          -1.2212212212212212,
          -1.2132132132132134,
          -1.2052052052052051,
          -1.1971971971971973,
          -1.189189189189189,
          -1.1811811811811812,
          -1.1731731731731734,
          -1.165165165165165,
          -1.1571571571571573,
          -1.149149149149149,
          -1.1411411411411412,
          -1.1331331331331334,
          -1.125125125125125,
          -1.1171171171171173,
          -1.109109109109109,
          -1.1011011011011012,
          -1.0930930930930933,
          -1.085085085085085,
          -1.0770770770770772,
          -1.069069069069069,
          -1.0610610610610611,
          -1.0530530530530529,
          -1.045045045045045,
          -1.0370370370370372,
          -1.029029029029029,
          -1.021021021021021,
          -1.0130130130130128,
          -1.005005005005005,
          -0.9969969969969972,
          -0.9889889889889889,
          -0.9809809809809811,
          -0.9729729729729728,
          -0.964964964964965,
          -0.9569569569569571,
          -0.9489489489489489,
          -0.940940940940941,
          -0.9329329329329328,
          -0.924924924924925,
          -0.9169169169169171,
          -0.9089089089089089,
          -0.900900900900901,
          -0.8928928928928928,
          -0.8848848848848849,
          -0.8768768768768771,
          -0.8688688688688688,
          -0.860860860860861,
          -0.8528528528528527,
          -0.8448448448448449,
          -0.8368368368368371,
          -0.8288288288288288,
          -0.820820820820821,
          -0.8128128128128127,
          -0.8048048048048049,
          -0.796796796796797,
          -0.7887887887887888,
          -0.780780780780781,
          -0.7727727727727727,
          -0.7647647647647648,
          -0.7567567567567566,
          -0.7487487487487487,
          -0.7407407407407409,
          -0.7327327327327327,
          -0.7247247247247248,
          -0.7167167167167166,
          -0.7087087087087087,
          -0.7007007007007009,
          -0.6926926926926926,
          -0.6846846846846848,
          -0.6766766766766765,
          -0.6686686686686687,
          -0.6606606606606609,
          -0.6526526526526526,
          -0.6446446446446448,
          -0.6366366366366365,
          -0.6286286286286287,
          -0.6206206206206208,
          -0.6126126126126126,
          -0.6046046046046047,
          -0.5965965965965965,
          -0.5885885885885886,
          -0.5805805805805808,
          -0.5725725725725725,
          -0.5645645645645647,
          -0.5565565565565564,
          -0.5485485485485486,
          -0.5405405405405403,
          -0.5325325325325325,
          -0.5245245245245247,
          -0.5165165165165164,
          -0.5085085085085086,
          -0.5005005005005003,
          -0.4924924924924925,
          -0.48448448448448467,
          -0.4764764764764764,
          -0.46846846846846857,
          -0.4604604604604603,
          -0.45245245245245247,
          -0.44444444444444464,
          -0.43643643643643637,
          -0.42842842842842854,
          -0.42042042042042027,
          -0.41241241241241244,
          -0.4044044044044046,
          -0.39639639639639634,
          -0.3883883883883885,
          -0.38038038038038025,
          -0.3723723723723724,
          -0.3643643643643646,
          -0.3563563563563563,
          -0.3483483483483485,
          -0.3403403403403402,
          -0.3323323323323324,
          -0.32432432432432456,
          -0.3163163163163163,
          -0.30830830830830847,
          -0.3003003003003002,
          -0.29229229229229237,
          -0.28428428428428454,
          -0.27627627627627627,
          -0.26826826826826844,
          -0.26026026026026017,
          -0.25225225225225234,
          -0.24424424424424407,
          -0.23623623623623624,
          -0.2282282282282284,
          -0.22022022022022014,
          -0.21221221221221231,
          -0.20420420420420404,
          -0.19619619619619622,
          -0.1881881881881884,
          -0.18018018018018012,
          -0.1721721721721723,
          -0.16416416416416402,
          -0.1561561561561562,
          -0.14814814814814836,
          -0.1401401401401401,
          -0.13213213213213226,
          -0.12412412412412399,
          -0.11611611611611616,
          -0.10810810810810834,
          -0.10010010010010006,
          -0.09209209209209224,
          -0.08408408408408397,
          -0.07607607607607614,
          -0.06806806806806831,
          -0.06006006006006004,
          -0.05205205205205221,
          -0.04404404404404394,
          -0.03603603603603611,
          -0.02802802802802784,
          -0.020020020020020013,
          -0.012012012012012185,
          -0.004004004004003914,
          0.004004004004004358,
          0.012012012012012185,
          0.020020020020020013,
          0.02802802802802784,
          0.03603603603603567,
          0.044044044044044384,
          0.05205205205205221,
          0.06006006006006004,
          0.06806806806806787,
          0.0760760760760757,
          0.08408408408408441,
          0.09209209209209224,
          0.10010010010010006,
          0.10810810810810789,
          0.11611611611611572,
          0.12412412412412444,
          0.13213213213213226,
          0.1401401401401401,
          0.14814814814814792,
          0.15615615615615575,
          0.16416416416416446,
          0.1721721721721723,
          0.18018018018018012,
          0.18818818818818794,
          0.19619619619619577,
          0.2042042042042045,
          0.21221221221221231,
          0.22022022022022014,
          0.22822822822822797,
          0.2362362362362358,
          0.2442442442442445,
          0.25225225225225234,
          0.26026026026026017,
          0.268268268268268,
          0.2762762762762758,
          0.28428428428428454,
          0.29229229229229237,
          0.3003003003003002,
          0.308308308308308,
          0.31631631631631585,
          0.32432432432432456,
          0.3323323323323324,
          0.3403403403403402,
          0.34834834834834805,
          0.3563563563563559,
          0.3643643643643646,
          0.3723723723723724,
          0.38038038038038025,
          0.3883883883883881,
          0.3963963963963968,
          0.4044044044044046,
          0.41241241241241244,
          0.42042042042042027,
          0.4284284284284281,
          0.4364364364364368,
          0.44444444444444464,
          0.45245245245245247,
          0.4604604604604603,
          0.4684684684684681,
          0.47647647647647684,
          0.48448448448448467,
          0.4924924924924925,
          0.5005005005005003,
          0.5085085085085082,
          0.5165165165165169,
          0.5245245245245247,
          0.5325325325325325,
          0.5405405405405403,
          0.5485485485485482,
          0.5565565565565569,
          0.5645645645645647,
          0.5725725725725725,
          0.5805805805805804,
          0.5885885885885882,
          0.5965965965965969,
          0.6046046046046047,
          0.6126126126126126,
          0.6206206206206204,
          0.6286286286286282,
          0.6366366366366369,
          0.6446446446446448,
          0.6526526526526526,
          0.6606606606606604,
          0.6686686686686683,
          0.676676676676677,
          0.6846846846846848,
          0.6926926926926926,
          0.7007007007007005,
          0.7087087087087083,
          0.716716716716717,
          0.7247247247247248,
          0.7327327327327327,
          0.7407407407407405,
          0.7487487487487483,
          0.756756756756757,
          0.7647647647647648,
          0.7727727727727727,
          0.7807807807807805,
          0.7887887887887883,
          0.796796796796797,
          0.8048048048048049,
          0.8128128128128127,
          0.8208208208208205,
          0.8288288288288284,
          0.8368368368368371,
          0.8448448448448449,
          0.8528528528528527,
          0.8608608608608606,
          0.8688688688688693,
          0.8768768768768771,
          0.8848848848848849,
          0.8928928928928928,
          0.9009009009009006,
          0.9089089089089093,
          0.9169169169169171,
          0.924924924924925,
          0.9329329329329328,
          0.9409409409409406,
          0.9489489489489493,
          0.9569569569569571,
          0.964964964964965,
          0.9729729729729728,
          0.9809809809809806,
          0.9889889889889893,
          0.9969969969969972,
          1.005005005005005,
          1.0130130130130128,
          1.0210210210210207,
          1.0290290290290294,
          1.0370370370370372,
          1.045045045045045,
          1.0530530530530529,
          1.0610610610610607,
          1.0690690690690694,
          1.0770770770770772,
          1.085085085085085,
          1.0930930930930929,
          1.1011011011011007,
          1.1091091091091094,
          1.1171171171171173,
          1.125125125125125,
          1.133133133133133,
          1.1411411411411407,
          1.1491491491491495,
          1.1571571571571573,
          1.165165165165165,
          1.173173173173173,
          1.1811811811811808,
          1.1891891891891895,
          1.1971971971971973,
          1.2052052052052051,
          1.213213213213213,
          1.2212212212212208,
          1.2292292292292295,
          1.2372372372372373,
          1.2452452452452452,
          1.253253253253253,
          1.2612612612612608,
          1.2692692692692695,
          1.2772772772772774,
          1.2852852852852852,
          1.293293293293293,
          1.3013013013013008,
          1.3093093093093096,
          1.3173173173173174,
          1.3253253253253252,
          1.333333333333333,
          1.3413413413413409,
          1.3493493493493496,
          1.3573573573573574,
          1.3653653653653652,
          1.373373373373373,
          1.381381381381381,
          1.3893893893893896,
          1.3973973973973974,
          1.4054054054054053,
          1.413413413413413,
          1.4214214214214218,
          1.4294294294294296,
          1.4374374374374375,
          1.4454454454454453,
          1.4534534534534531,
          1.4614614614614618,
          1.4694694694694697,
          1.4774774774774775,
          1.4854854854854853,
          1.4934934934934931,
          1.5015015015015019,
          1.5095095095095097,
          1.5175175175175175,
          1.5255255255255253,
          1.5335335335335332,
          1.5415415415415419,
          1.5495495495495497,
          1.5575575575575575,
          1.5655655655655654,
          1.5735735735735732,
          1.581581581581582,
          1.5895895895895897,
          1.5975975975975976,
          1.6056056056056054,
          1.6136136136136132,
          1.621621621621622,
          1.6296296296296298,
          1.6376376376376376,
          1.6456456456456454,
          1.6536536536536532,
          1.661661661661662,
          1.6696696696696698,
          1.6776776776776776,
          1.6856856856856854,
          1.6936936936936933,
          1.701701701701702,
          1.7097097097097098,
          1.7177177177177176,
          1.7257257257257255,
          1.7337337337337333,
          1.741741741741742,
          1.7497497497497498,
          1.7577577577577577,
          1.7657657657657655,
          1.7737737737737733,
          1.781781781781782,
          1.7897897897897899,
          1.7977977977977977,
          1.8058058058058055,
          1.8138138138138133,
          1.821821821821822,
          1.82982982982983,
          1.8378378378378377,
          1.8458458458458455,
          1.8538538538538534,
          1.861861861861862,
          1.86986986986987,
          1.8778778778778777,
          1.8858858858858856,
          1.8938938938938943,
          1.9019019019019021,
          1.90990990990991,
          1.9179179179179178,
          1.9259259259259256,
          1.9339339339339343,
          1.9419419419419421,
          1.94994994994995,
          1.9579579579579578,
          1.9659659659659656,
          1.9739739739739743,
          1.9819819819819822,
          1.98998998998999,
          1.9979979979979978,
          2.0060060060060056,
          2.0140140140140144,
          2.022022022022022,
          2.03003003003003,
          2.038038038038038,
          2.0460460460460457,
          2.0540540540540544,
          2.062062062062062,
          2.07007007007007,
          2.078078078078078,
          2.0860860860860857,
          2.0940940940940944,
          2.1021021021021022,
          2.11011011011011,
          2.118118118118118,
          2.1261261261261257,
          2.1341341341341344,
          2.1421421421421423,
          2.15015015015015,
          2.158158158158158,
          2.1661661661661658,
          2.1741741741741745,
          2.1821821821821823,
          2.19019019019019,
          2.198198198198198,
          2.2062062062062058,
          2.2142142142142145,
          2.2222222222222223,
          2.23023023023023,
          2.238238238238238,
          2.246246246246246,
          2.2542542542542545,
          2.2622622622622623,
          2.27027027027027,
          2.278278278278278,
          2.286286286286286,
          2.2942942942942945,
          2.3023023023023024,
          2.31031031031031,
          2.318318318318318,
          2.326326326326326,
          2.3343343343343346,
          2.3423423423423424,
          2.3503503503503502,
          2.358358358358358,
          2.366366366366366,
          2.3743743743743746,
          2.3823823823823824,
          2.3903903903903903,
          2.398398398398398,
          2.406406406406406,
          2.4144144144144146,
          2.4224224224224224,
          2.4304304304304303,
          2.438438438438438,
          2.446446446446447,
          2.4544544544544546,
          2.4624624624624625,
          2.4704704704704703,
          2.478478478478478,
          2.486486486486487,
          2.4944944944944947,
          2.5025025025025025,
          2.5105105105105103,
          2.518518518518518,
          2.526526526526527,
          2.5345345345345347,
          2.5425425425425425,
          2.5505505505505504,
          2.558558558558558,
          2.566566566566567,
          2.5745745745745747,
          2.5825825825825826,
          2.5905905905905904,
          2.598598598598598,
          2.606606606606607,
          2.6146146146146148,
          2.6226226226226226,
          2.6306306306306304,
          2.6386386386386382,
          2.646646646646647,
          2.6546546546546548,
          2.6626626626626626,
          2.6706706706706704,
          2.6786786786786783,
          2.686686686686687,
          2.694694694694695,
          2.7027027027027026,
          2.7107107107107105,
          2.7187187187187183,
          2.726726726726727,
          2.734734734734735,
          2.7427427427427427,
          2.7507507507507505,
          2.7587587587587583,
          2.766766766766767,
          2.774774774774775,
          2.7827827827827827,
          2.7907907907907905,
          2.7987987987987983,
          2.806806806806807,
          2.814814814814815,
          2.8228228228228227,
          2.8308308308308305,
          2.8388388388388384,
          2.846846846846847,
          2.854854854854855,
          2.8628628628628627,
          2.8708708708708706,
          2.8788788788788784,
          2.886886886886887,
          2.894894894894895,
          2.9029029029029028,
          2.9109109109109106,
          2.9189189189189193,
          2.926926926926927,
          2.934934934934935,
          2.942942942942943,
          2.9509509509509506,
          2.9589589589589593,
          2.966966966966967,
          2.974974974974975,
          2.982982982982983,
          2.9909909909909906,
          2.9989989989989994,
          3.007007007007007,
          3.015015015015015,
          3.023023023023023,
          3.0310310310310307,
          3.0390390390390394,
          3.047047047047047,
          3.055055055055055,
          3.063063063063063,
          3.0710710710710707,
          3.0790790790790794,
          3.0870870870870872,
          3.095095095095095,
          3.103103103103103,
          3.1111111111111107,
          3.1191191191191194,
          3.1271271271271273,
          3.135135135135135,
          3.143143143143143,
          3.1511511511511507,
          3.1591591591591595,
          3.1671671671671673,
          3.175175175175175,
          3.183183183183183,
          3.1911911911911908,
          3.1991991991991995,
          3.2072072072072073,
          3.215215215215215,
          3.223223223223223,
          3.231231231231231,
          3.2392392392392395,
          3.2472472472472473,
          3.255255255255255,
          3.263263263263263,
          3.271271271271271,
          3.2792792792792795,
          3.2872872872872874,
          3.295295295295295,
          3.303303303303303,
          3.311311311311311,
          3.3193193193193196,
          3.3273273273273274,
          3.335335335335335,
          3.343343343343343,
          3.351351351351351,
          3.3593593593593596,
          3.3673673673673674,
          3.3753753753753752,
          3.383383383383383,
          3.391391391391391,
          3.3993993993993996,
          3.4074074074074074,
          3.4154154154154153,
          3.423423423423423,
          3.431431431431431,
          3.4394394394394396,
          3.4474474474474475,
          3.4554554554554553,
          3.463463463463463,
          3.471471471471472,
          3.4794794794794797,
          3.4874874874874875,
          3.4954954954954953,
          3.503503503503503,
          3.511511511511512,
          3.5195195195195197,
          3.5275275275275275,
          3.5355355355355353,
          3.543543543543543,
          3.551551551551552,
          3.5595595595595597,
          3.5675675675675675,
          3.5755755755755754,
          3.583583583583583,
          3.591591591591592,
          3.5995995995995997,
          3.6076076076076076,
          3.6156156156156154,
          3.6236236236236232,
          3.631631631631632,
          3.6396396396396398,
          3.6476476476476476,
          3.6556556556556554,
          3.6636636636636633,
          3.671671671671672,
          3.67967967967968,
          3.6876876876876876,
          3.6956956956956954,
          3.7037037037037033,
          3.711711711711712,
          3.71971971971972,
          3.7277277277277276,
          3.7357357357357355,
          3.7437437437437433,
          3.751751751751752,
          3.75975975975976,
          3.7677677677677677,
          3.7757757757757755,
          3.7837837837837833,
          3.791791791791792,
          3.7997997997998,
          3.8078078078078077,
          3.8158158158158155,
          3.8238238238238234,
          3.831831831831832,
          3.83983983983984,
          3.8478478478478477,
          3.8558558558558556,
          3.8638638638638634,
          3.871871871871872,
          3.87987987987988,
          3.8878878878878878,
          3.8958958958958956,
          3.9039039039039034,
          3.911911911911912,
          3.91991991991992,
          3.9279279279279278,
          3.9359359359359356,
          3.9439439439439443,
          3.951951951951952,
          3.95995995995996,
          3.967967967967968,
          3.9759759759759756,
          3.9839839839839843,
          3.991991991991992,
          4
         ],
         "y": [
          0.00013383022576488537,
          0.0001381820464104976,
          0.0001426662280423074,
          0.0001472864815032544,
          0.00015204661133382119,
          0.0001569505178147822,
          0.00016200219904484992,
          0.00016720575305353023,
          0.00017256537994949638,
          0.00017808538410479,
          0.00018377017637513806,
          0.0001896242763566838,
          0.00019565231467940776,
          0.00020185903533751658,
          0.00020824929805706861,
          0.00021482808070108828,
          0.00022160048171242648,
          0.0002285717225946002,
          0.00023574715043084504,
          0.00024313224044160314,
          0.00025073259858064884,
          0.0002585539641700594,
          0.00026660221257421334,
          0.00027488335791298686,
          0.0002834035558143255,
          0.00029216910620632244,
          0.00030118645614895666,
          0.00031046220270559993,
          0.00032000309585441465,
          0.0003298160414397229,
          0.0003399081041634312,
          0.00035028651061657994,
          0.00036095865235104664,
          0.0003719320889914511,
          0.0003832145513872607,
          0.00039481394480509277,
          0.0004067383521611968,
          0.0004189960372940584,
          0.0004315954482770799,
          0.00044454522077122966,
          0.00045785418141758614,
          0.00047153135126962387,
          0.00048558594926510307,
          0.0005000273957374089,
          0.0005148653159661124,
          0.000530109543766577,
          0.0005457701251183356,
          0.000561857321831991,
          0.0005783816152543497,
          0.0005953537100114529,
          0.0006127845377891921,
          0.0006306852611511047,
          0.0006490672773929725,
          0.0006679422224337958,
          0.0006873219747426652,
          0.0007072186593010809,
          0.0007276446516001658,
          0.0007486125816722454,
          0.0007701353381562253,
          0.0007922260723961207,
          0.0008148982025721397,
          0.0008381654178636029,
          0.0008620416826430069,
          0.000886541240700502,
          0.0009116786194979598,
          0.0009374686344518663,
          0.0009639263932441494,
          0.0009910673001600591,
          0.0010189070604522017,
          0.0010474616847297089,
          0.0010767474933715976,
          0.0011067811209632345,
          0.0011375795207548304,
          0.0011691599691408692,
          0.0012015400701592624,
          0.0012347377600090662,
          0.0012687713115854871,
          0.001303659339030883,
          0.0013394208023004641,
          0.0013760750117412627,
          0.001413641632683005,
          0.0014521406900393772,
          0.0014915925729181976,
          0.001532018039238954,
          0.0015734382203560601,
          0.0016158746256862426,
          0.0016593491473383148,
          0.0017038840647436216,
          0.0017495020492853824,
          0.0017962261689250466,
          0.0018440798928238502,
          0.0018930870959575723,
          0.0019432720637225455,
          0.001994659496530914,
          0.0020472745143930086,
          0.0021011426614847566,
          0.0021562899106979143,
          0.0022127426681709333,
          0.00227052777779815,
          0.0023296725257150068,
          0.002390204644756889,
          0.0024521523188891833,
          0.0025155441876060537,
          0.002580409350295453,
          0.0026467773705677444,
          0.0027146782805453373,
          0.002784142585110614,
          0.00285520126610952,
          0.002927885786507907,
          0.0030022280944979273,
          0.0030782606275515127,
          0.0031560163164180443,
          0.003235528589063281,
          0.0033168313745464274,
          0.003399959106832382,
          0.003484946728535948,
          0.0035718296945948893,
          0.003660643975868637,
          0.0037514260626593196,
          0.003844212968151889,
          0.0039390422317699125,
          0.004035951922443679,
          0.004134980641787195,
          0.004236167527180521,
          0.004339552254753986,
          0.004445175042270676,
          0.004553076651903554,
          0.004663298392903681,
          0.004775882124155638,
          0.004890870256616671,
          0.00500830575563558,
          0.005128232143147633,
          0.005250693499741717,
          0.00537573446659573,
          0.00550340024727644,
          0.005633736609399753,
          0.0057667898861475005,
          0.005902606977636736,
          0.006041235352137465,
          0.006182723047134838,
          0.006327118670231636,
          0.006474471399887032,
          0.006624830985987414,
          0.006778247750245298,
          0.006934772586421903,
          0.007094456960369461,
          0.007257352909888934,
          0.007423513044398934,
          0.00759299054441176,
          0.007765839160812103,
          0.007942113213934373,
          0.008121867592434317,
          0.00830515775195071,
          0.00849203971355293,
          0.008682570061970006,
          0.008876805943597117,
          0.009074805064275111,
          0.009276625686838978,
          0.009482326628430989,
          0.009691967257574223,
          0.009905607491002465,
          0.010123307790242102,
          0.01034512915794207,
          0.010571133133947601,
          0.010801381791113642,
          0.011035937730853977,
          0.0112748640784219,
          0.011518224477918514,
          0.011766083087024698,
          0.012018504571452648,
          0.012275554099113305,
          0.012537297333995624,
          0.01280380042975411,
          0.013075130023000684,
          0.013351353226297257,
          0.01363253762084536,
          0.013918751248869248,
          0.014210062605689022,
          0.014506540631480273,
          0.014808254702716826,
          0.015115274623293382,
          0.015427670615324716,
          0.015745513309618375,
          0.016068873735817838,
          0.016397823312212994,
          0.016732433835215128,
          0.01707277746849385,
          0.01741892673177269,
          0.01777095448928153,
          0.018128933937862666,
          0.018492938594728423,
          0.01886304228486824,
          0.019239319128102502,
          0.019621843525781713,
          0.020010690147128515,
          0.02040593391522103,
          0.02080764999261595,
          0.021215913766609334,
          0.021630800834134413,
          0.022052386986294355,
          0.022480748192529352,
          0.022915960584417003,
          0.0233581004391047,
          0.02380724416237397,
          0.02426346827133567,
          0.024726849376755778,
          0.02519746416501184,
          0.025675389379679607,
          0.02616070180275011,
          0.02665347823547754,
          0.027153795478858073,
          0.027661730313740668,
          0.028177359480570326,
          0.028700759658764778,
          0.02923200744572589,
          0.029771179335487005,
          0.030318351696997918,
          0.030873600752049094,
          0.031437002552836886,
          0.03200863295917234,
          0.03258856761533513,
          0.03317688192657614,
          0.033773651035270635,
          0.03437894979672511,
          0.03499285275464128,
          0.035615434116240054,
          0.036246767727049725,
          0.03688692704536149,
          0.0375359851163567,
          0.03819401454590996,
          0.03886108747407236,
          0.03953727554823996,
          0.04022264989601193,
          0.04091728109774369,
          0.04162123915880031,
          0.0423345934815158,
          0.04305741283686412,
          0.043789765335848045,
          0.04453171840061165,
          0.04528333873528367,
          0.046044692296557665,
          0.04681584426401662,
          0.047596859010209054,
          0.0483878000704834,
          0.049188730112589375,
          0.049999710906053325,
          0.05082080329133613,
          0.051652067148782344,
          0.0524935613673682,
          0.05334534381325804,
          0.05420747129817849,
          0.0550799995476186,
          0.05596298316886676,
          0.056856475618893065,
          0.0577605291720876,
          0.05867519488786512,
          0.05960052257814575,
          0.06053656077472321,
          0.06148335669653095,
          0.062440956216817015,
          0.06340940383024005,
          0.06438874261989633,
          0.06537901422429118,
          0.0663802588042656,
          0.06739251500989027,
          0.06841581994734047,
          0.06945020914576254,
          0.0704957165241465,
          0.07155237435821646,
          0.0726202132473521,
          0.07369926208155571,
          0.07478954800847619,
          0.07589109640050568,
          0.07700393082196144,
          0.0781280729963669,
          0.07926354277384734,
          0.08041035809865252,
          0.0815685349768227,
          0.08273808744401089,
          0.08391902753347769,
          0.08511136524427226,
          0.08631510850961498,
          0.08753026316549749,
          0.0887568329195139,
          0.08999481931994045,
          0.09124422172507722,
          0.09250503727286848,
          0.09377726085081765,
          0.09506088506621117,
          0.09635590021666912,
          0.09766229426103645,
          0.09898005279063206,
          0.10030915900087167,
          0.10164959366327955,
          0.10300133509790668,
          0.10436435914617026,
          0.10573863914413087,
          0.10712414589622467,
          0.10852084764946465,
          0.10992871006812961,
          0.11134769620895497,
          0.11277776649684232,
          0.11421887870110481,
          0.11567098791226238,
          0.11713404651940532,
          0.11860800418813967,
          0.12009280783913319,
          0.12158840162727487,
          0.12309472692146589,
          0.12461172228505747,
          0.12613932345694964,
          0.12767746333336905,
          0.12922607195033883,
          0.13078507646685686,
          0.13235440114879818,
          0.1339339673535549,
          0.13552369351543045,
          0.13712349513180105,
          0.13873328475005986,
          0.14035297195535862,
          0.1419824633591593,
          0.14362166258861178,
          0.14527047027676968,
          0.146928784053658,
          0.1485964985382077,
          0.1502735053310671,
          0.15195969300830636,
          0.15365494711602484,
          0.15535915016587468,
          0.15707218163151385,
          0.1587939179459973,
          0.1605242325001215,
          0.16226299564173016,
          0.1640100746759936,
          0.16576533386667283,
          0.16752863443837612,
          0.16929983457982128,
          0.1710787894481097,
          0.17286535117402363,
          0.17465936886835493,
          0.17646068862927264,
          0.1782691535507391,
          0.1800846037319805,
          0.18190687628802057,
          0.1837358053612833,
          0.18557122213427082,
          0.18741295484332424,
          0.18926082879347014,
          0.19111466637436092,
          0.19297428707731104,
          0.19483950751343473,
          0.1967101414328897,
          0.1985859997452274,
          0.20046689054085629,
          0.20235261911361765,
          0.20424298798447663,
          0.20613779692633133,
          0.20803684298993794,
          0.20993992053095598,
          0.21184682123811008,
          0.21375733416246984,
          0.21567124574784685,
          0.21758833986230475,
          0.21950839783078424,
          0.22143119846883638,
          0.22335651811746327,
          0.22528413067906253,
          0.22721380765446972,
          0.229145318181096,
          0.23107842907215367,
          0.23301290485696585,
          0.23494850782235188,
          0.23688499805508315,
          0.2388221334854012,
          0.2407596699315897,
          0.2426973611455934,
          0.24463495885967249,
          0.24657221283408468,
          0.24850887090578502,
          0.2504446790381305,
          0.25237938137158134,
          0.25431272027538454,
          0.25624443640022837,
          0.2581742687318562,
          0.2601019546456235,
          0.2620272299619873,
          0.2639498290029111,
          0.26586948464917154,
          0.26778592839855175,
          0.26969889042490386,
          0.27160809963806626,
          0.27351328374461664,
          0.2754141693094443,
          0.2773104818181246,
          0.2792019457400746,
          0.2810882845924742,
          0.2829692210049305,
          0.2848444767848667,
          0.2867137729836161,
          0.28857682996319817,
          0.29043336746375803,
          0.2922831046716453,
          0.2941257602881114,
          0.2959610525986035,
          0.2977886995426301,
          0.29960841878417693,
          0.3014199277826479,
          0.30322294386430826,
          0.30501718429420455,
          0.3068023663485363,
          0.3085782073874558,
          0.3103444249282679,
          0.31210073671900673,
          0.31384686081236074,
          0.31558251563992046,
          0.3173074200867234,
          0.31902129356606623,
          0.32072385609455945,
          0.32241482836739593,
          0.3240939318338044,
          0.3257608887726624,
          0.32741542236823695,
          0.3290572567860276,
          0.3306861172486813,
          0.33230173011194963,
          0.33390382294066223,
          0.335492124584683,
          0.3370663652548239,
          0.33862627659868366,
          0.34017159177638295,
          0.3417020455361677,
          0.34321737428984783,
          0.34471731618804485,
          0.34620161119521503,
          0.34767000116442187,
          0.34912222991182473,
          0.3505580432908556,
          0.35197718926605354,
          0.3533794179865264,
          0.35476448185901127,
          0.3561321356205025,
          0.3574821364104176,
          0.3588142438422734,
          0.36012822007483947,
          0.3614238298827435,
          0.36270084072649544,
          0.36395902282190373,
          0.36519814920885496,
          0.36641799581942547,
          0.3676183415452998,
          0.36879896830446507,
          0.36995966110715417,
          0.3711002081210102,
          0.37222040073544366,
          0.3733200336251559,
          0.3743989048128014,
          0.37545681573076145,
          0.3764935712820047,
          0.3775089799000065,
          0.3785028536077019,
          0.37947500807544804,
          0.38042526267796883,
          0.38135344055025955,
          0.3822593686424251,
          0.38314287777343004,
          0.38400380268373535,
          0.38484198208680004,
          0.38565725871942497,
          0.38644947939091645,
          0.38721849503104894,
          0.3879641607368045,
          0.3886863358178705,
          0.38938488384087316,
          0.39005967267232927,
          0.39071057452029684,
          0.3913374659747055,
          0.39194022804634965,
          0.3925187462045269,
          0.393072910413305,
          0.3936026151664009,
          0.3941077595206576,
          0.3945882471281024,
          0.39504398626657344,
          0.39547488986890045,
          0.3958808755506264,
          0.39626186563625865,
          0.3966177871840368,
          0.3969485720092071,
          0.39725415670579195,
          0.3975344826668462,
          0.39778949610319,
          0.3980191480606099,
          0.39822339443552157,
          0.3984021959890858,
          0.39855551835977193,
          0.398683332074364,
          0.39878561255740275,
          0.3988623401390612,
          0.3989135000614489,
          0.3989390824833429,
          0.3989390824833429,
          0.3989135000614489,
          0.3988623401390612,
          0.39878561255740275,
          0.398683332074364,
          0.39855551835977193,
          0.3984021959890858,
          0.39822339443552157,
          0.3980191480606099,
          0.39778949610319,
          0.3975344826668462,
          0.39725415670579195,
          0.3969485720092071,
          0.3966177871840368,
          0.39626186563625865,
          0.3958808755506264,
          0.39547488986890045,
          0.39504398626657344,
          0.3945882471281024,
          0.3941077595206576,
          0.3936026151664009,
          0.393072910413305,
          0.3925187462045269,
          0.3919402280463497,
          0.3913374659747055,
          0.3907105745202968,
          0.39005967267232927,
          0.38938488384087316,
          0.38868633581787054,
          0.38796416073680456,
          0.3872184950310489,
          0.38644947939091645,
          0.38565725871942497,
          0.3848419820868001,
          0.3840038026837354,
          0.38314287777343004,
          0.3822593686424251,
          0.38135344055025955,
          0.38042526267796883,
          0.3794750080754481,
          0.3785028536077019,
          0.3775089799000065,
          0.3764935712820047,
          0.3754568157307615,
          0.37439890481280147,
          0.3733200336251559,
          0.37222040073544366,
          0.3711002081210102,
          0.3699596611071542,
          0.368798968304465,
          0.3676183415452998,
          0.36641799581942547,
          0.36519814920885496,
          0.3639590228219038,
          0.36270084072649533,
          0.3614238298827435,
          0.36012822007483947,
          0.3588142438422734,
          0.35748213641041765,
          0.35613213562050244,
          0.35476448185901127,
          0.3533794179865264,
          0.35197718926605354,
          0.35055804329085566,
          0.3491222299118247,
          0.34767000116442187,
          0.34620161119521503,
          0.34471731618804485,
          0.34321737428984794,
          0.3417020455361676,
          0.34017159177638295,
          0.33862627659868366,
          0.33706636525482403,
          0.33549212458468314,
          0.3339038229406621,
          0.33230173011194963,
          0.3306861172486813,
          0.3290572567860277,
          0.327415422368237,
          0.32576088877266235,
          0.3240939318338044,
          0.32241482836739593,
          0.3207238560945595,
          0.3190212935660663,
          0.31730742008672336,
          0.31558251563992046,
          0.31384686081236074,
          0.31210073671900684,
          0.31034442492826797,
          0.3085782073874557,
          0.3068023663485363,
          0.30501718429420455,
          0.3032229438643083,
          0.301419927782648,
          0.2996084187841769,
          0.2977886995426301,
          0.2959610525986035,
          0.29412576028811144,
          0.29228310467164537,
          0.29043336746375803,
          0.28857682996319817,
          0.2867137729836161,
          0.2848444767848668,
          0.28296922100493066,
          0.2810882845924742,
          0.2792019457400746,
          0.2773104818181246,
          0.27541416930944446,
          0.27351328374461653,
          0.27160809963806626,
          0.26969889042490386,
          0.26778592839855175,
          0.2658694846491716,
          0.26394982900291103,
          0.2620272299619873,
          0.2601019546456235,
          0.2581742687318562,
          0.2562444364002285,
          0.25431272027538443,
          0.25237938137158134,
          0.2504446790381305,
          0.24850887090578502,
          0.2465722128340848,
          0.2446349588596724,
          0.2426973611455934,
          0.2407596699315897,
          0.2388221334854012,
          0.23688499805508323,
          0.2349485078223518,
          0.23301290485696585,
          0.23107842907215367,
          0.229145318181096,
          0.22721380765446983,
          0.22528413067906244,
          0.22335651811746327,
          0.22143119846883638,
          0.21950839783078432,
          0.21758833986230489,
          0.21567124574784677,
          0.21375733416246984,
          0.21184682123811008,
          0.20993992053095606,
          0.20803684298993805,
          0.20613779692633125,
          0.20424298798447663,
          0.20235261911361765,
          0.20046689054085637,
          0.1985859997452275,
          0.1967101414328896,
          0.19483950751343473,
          0.19297428707731104,
          0.19111466637436103,
          0.18926082879347025,
          0.18741295484332415,
          0.18557122213427082,
          0.1837358053612833,
          0.18190687628802069,
          0.18008460373198062,
          0.17826915355073902,
          0.17646068862927264,
          0.17465936886835493,
          0.1728653511740237,
          0.1710787894481098,
          0.16929983457982128,
          0.16752863443837612,
          0.16576533386667283,
          0.1640100746759937,
          0.16226299564173025,
          0.1605242325001215,
          0.1587939179459973,
          0.15707218163151385,
          0.1553591501658748,
          0.15365494711602493,
          0.15195969300830636,
          0.1502735053310671,
          0.1485964985382077,
          0.14692878405365808,
          0.1452704702767696,
          0.14362166258861178,
          0.1419824633591593,
          0.14035297195535862,
          0.13873328475005994,
          0.13712349513180097,
          0.13552369351543045,
          0.1339339673535549,
          0.13235440114879818,
          0.13078507646685694,
          0.12922607195033875,
          0.12767746333336905,
          0.12613932345694964,
          0.12461172228505747,
          0.12309472692146597,
          0.12158840162727479,
          0.12009280783913319,
          0.11860800418813967,
          0.11713404651940532,
          0.11567098791226245,
          0.11421887870110475,
          0.11277776649684232,
          0.11134769620895497,
          0.10992871006812968,
          0.10852084764946472,
          0.10712414589622457,
          0.10573863914413087,
          0.10436435914617026,
          0.10300133509790675,
          0.10164959366327961,
          0.1003091590008716,
          0.09898005279063206,
          0.09766229426103645,
          0.09635590021666918,
          0.09506088506621124,
          0.09377726085081757,
          0.09250503727286848,
          0.09124422172507722,
          0.08999481931994051,
          0.08875683291951396,
          0.0875302631654974,
          0.08631510850961498,
          0.08511136524427226,
          0.08391902753347777,
          0.08273808744401095,
          0.08156853497682262,
          0.08041035809865252,
          0.07926354277384734,
          0.07812807299636694,
          0.07700393082196148,
          0.07589109640050568,
          0.07478954800847619,
          0.07369926208155571,
          0.07262021324735216,
          0.07155237435821651,
          0.0704957165241465,
          0.06945020914576254,
          0.06841581994734047,
          0.06739251500989032,
          0.06638025880426554,
          0.06537901422429118,
          0.06438874261989633,
          0.06340940383024005,
          0.06244095621681707,
          0.06148335669653089,
          0.06053656077472321,
          0.05960052257814575,
          0.05867519488786512,
          0.05776052917208764,
          0.056856475618893024,
          0.05596298316886676,
          0.0550799995476186,
          0.05420747129817849,
          0.05334534381325809,
          0.052493561367368144,
          0.051652067148782344,
          0.05082080329133613,
          0.049999710906053325,
          0.049188730112589424,
          0.0483878000704834,
          0.047596859010209054,
          0.04681584426401662,
          0.046044692296557665,
          0.04528333873528372,
          0.04453171840061165,
          0.043789765335848045,
          0.04305741283686412,
          0.0423345934815158,
          0.04162123915880035,
          0.04091728109774369,
          0.04022264989601193,
          0.03953727554823996,
          0.03886108747407236,
          0.03819401454590999,
          0.0375359851163567,
          0.03688692704536149,
          0.036246767727049725,
          0.035615434116240054,
          0.034992852754641306,
          0.03437894979672511,
          0.033773651035270635,
          0.03317688192657614,
          0.03258856761533513,
          0.03200863295917237,
          0.031437002552836886,
          0.030873600752049094,
          0.030318351696997918,
          0.029771179335487005,
          0.029232007445725912,
          0.028700759658764778,
          0.028177359480570326,
          0.027661730313740668,
          0.027153795478858073,
          0.02665347823547757,
          0.02616070180275011,
          0.025675389379679607,
          0.02519746416501184,
          0.024726849376755778,
          0.02426346827133569,
          0.02380724416237397,
          0.0233581004391047,
          0.022915960584417003,
          0.022480748192529383,
          0.022052386986294387,
          0.021630800834134413,
          0.021215913766609334,
          0.02080764999261595,
          0.020405933915221046,
          0.020010690147128488,
          0.019621843525781713,
          0.019239319128102502,
          0.01886304228486824,
          0.01849293859472844,
          0.01812893393786264,
          0.01777095448928153,
          0.01741892673177269,
          0.01707277746849385,
          0.016732433835215152,
          0.016397823312212973,
          0.016068873735817838,
          0.015745513309618375,
          0.015427670615324716,
          0.015115274623293401,
          0.014808254702716826,
          0.014506540631480273,
          0.014210062605689022,
          0.013918751248869248,
          0.013632537620845375,
          0.013351353226297257,
          0.013075130023000684,
          0.01280380042975411,
          0.012537297333995624,
          0.012275554099113318,
          0.012018504571452648,
          0.011766083087024698,
          0.011518224477918514,
          0.0112748640784219,
          0.011035937730853991,
          0.010801381791113642,
          0.010571133133947601,
          0.01034512915794207,
          0.010123307790242102,
          0.009905607491002473,
          0.009691967257574223,
          0.009482326628430989,
          0.009276625686838978,
          0.009074805064275111,
          0.008876805943597124,
          0.008682570061970006,
          0.00849203971355293,
          0.00830515775195071,
          0.008121867592434317,
          0.007942113213934385,
          0.007765839160812103,
          0.00759299054441176,
          0.007423513044398934,
          0.007257352909888934,
          0.007094456960369473,
          0.006934772586421903,
          0.006778247750245298,
          0.006624830985987414,
          0.006474471399887032,
          0.006327118670231648,
          0.006182723047134838,
          0.006041235352137465,
          0.005902606977636736,
          0.005766789886147505,
          0.005633736609399748,
          0.00550340024727644,
          0.00537573446659573,
          0.005250693499741717,
          0.005128232143147639,
          0.005008305755635575,
          0.004890870256616671,
          0.004775882124155638,
          0.004663298392903681,
          0.004553076651903562,
          0.004445175042270671,
          0.004339552254753986,
          0.004236167527180521,
          0.004134980641787195,
          0.0040359519224436825,
          0.003939042231769909,
          0.003844212968151889,
          0.0037514260626593196,
          0.003660643975868637,
          0.0035718296945948928,
          0.0034849467285359447,
          0.003399959106832382,
          0.0033168313745464274,
          0.003235528589063281,
          0.0031560163164180495,
          0.003078260627551507,
          0.0030022280944979273,
          0.002927885786507907,
          0.00285520126610952,
          0.002784142585110619,
          0.0027146782805453347,
          0.0026467773705677444,
          0.002580409350295453,
          0.0025155441876060537,
          0.0024521523188891854,
          0.002390204644756889,
          0.0023296725257150068,
          0.00227052777779815,
          0.0022127426681709333,
          0.002156289910697916,
          0.0021011426614847566,
          0.0020472745143930086,
          0.001994659496530914,
          0.0019432720637225455,
          0.001893087095957574,
          0.0018440798928238502,
          0.0017962261689250466,
          0.0017495020492853824,
          0.0017038840647436249,
          0.0016593491473383163,
          0.0016158746256862426,
          0.0015734382203560601,
          0.001532018039238954,
          0.001491592572918199,
          0.0014521406900393785,
          0.001413641632683005,
          0.0013760750117412627,
          0.0013394208023004641,
          0.0013036593390308852,
          0.0012687713115854895,
          0.0012347377600090662,
          0.0012015400701592624,
          0.0011691599691408692,
          0.0011375795207548324,
          0.0011067811209632366,
          0.0010767474933715976,
          0.0010474616847297089,
          0.0010189070604522017,
          0.0009910673001600609,
          0.0009639263932441477,
          0.0009374686344518663,
          0.0009116786194979598,
          0.000886541240700502,
          0.0008620416826430083,
          0.0008381654178636015,
          0.0008148982025721397,
          0.0007922260723961207,
          0.0007701353381562253,
          0.0007486125816722467,
          0.0007276446516001645,
          0.0007072186593010809,
          0.0006873219747426652,
          0.0006679422224337958,
          0.0006490672773929736,
          0.0006306852611511035,
          0.0006127845377891921,
          0.0005953537100114529,
          0.0005783816152543497,
          0.000561857321831992,
          0.0005457701251183346,
          0.000530109543766577,
          0.0005148653159661124,
          0.0005000273957374089,
          0.00048558594926510393,
          0.000471531351269623,
          0.00045785418141758614,
          0.00044454522077122966,
          0.0004315954482770799,
          0.0004189960372940592,
          0.0004067383521611961,
          0.00039481394480509277,
          0.0003832145513872607,
          0.00037193208899145174,
          0.0003609586523510473,
          0.00035028651061657935,
          0.0003399081041634312,
          0.0003298160414397229,
          0.00032000309585441524,
          0.00031046220270560047,
          0.0003011864561489561,
          0.00029216910620632244,
          0.0002834035558143255,
          0.0002748833579129874,
          0.0002666022125742138,
          0.0002585539641700594,
          0.00025073259858064884,
          0.00024313224044160314,
          0.00023574715043084548,
          0.00022857172259460061,
          0.00022160048171242648,
          0.00021482808070108828,
          0.00020824929805706861,
          0.00020185903533751694,
          0.00019565231467940812,
          0.0001896242763566838,
          0.00018377017637513806,
          0.00017808538410479,
          0.00017256537994949668,
          0.00016720575305352993,
          0.00016200219904484992,
          0.0001569505178147822,
          0.00015204661133382119,
          0.00014728648150325464,
          0.00014266622804230716,
          0.0001381820464104976,
          0.00013383022576488537
         ]
        }
       ],
       "layout": {
        "template": {
         "data": {
          "bar": [
           {
            "error_x": {
             "color": "#2a3f5f"
            },
            "error_y": {
             "color": "#2a3f5f"
            },
            "marker": {
             "line": {
              "color": "#E5ECF6",
              "width": 0.5
             },
             "pattern": {
              "fillmode": "overlay",
              "size": 10,
              "solidity": 0.2
             }
            },
            "type": "bar"
           }
          ],
          "barpolar": [
           {
            "marker": {
             "line": {
              "color": "#E5ECF6",
              "width": 0.5
             },
             "pattern": {
              "fillmode": "overlay",
              "size": 10,
              "solidity": 0.2
             }
            },
            "type": "barpolar"
           }
          ],
          "carpet": [
           {
            "aaxis": {
             "endlinecolor": "#2a3f5f",
             "gridcolor": "white",
             "linecolor": "white",
             "minorgridcolor": "white",
             "startlinecolor": "#2a3f5f"
            },
            "baxis": {
             "endlinecolor": "#2a3f5f",
             "gridcolor": "white",
             "linecolor": "white",
             "minorgridcolor": "white",
             "startlinecolor": "#2a3f5f"
            },
            "type": "carpet"
           }
          ],
          "choropleth": [
           {
            "colorbar": {
             "outlinewidth": 0,
             "ticks": ""
            },
            "type": "choropleth"
           }
          ],
          "contour": [
           {
            "colorbar": {
             "outlinewidth": 0,
             "ticks": ""
            },
            "colorscale": [
             [
              0,
              "#0d0887"
             ],
             [
              0.1111111111111111,
              "#46039f"
             ],
             [
              0.2222222222222222,
              "#7201a8"
             ],
             [
              0.3333333333333333,
              "#9c179e"
             ],
             [
              0.4444444444444444,
              "#bd3786"
             ],
             [
              0.5555555555555556,
              "#d8576b"
             ],
             [
              0.6666666666666666,
              "#ed7953"
             ],
             [
              0.7777777777777778,
              "#fb9f3a"
             ],
             [
              0.8888888888888888,
              "#fdca26"
             ],
             [
              1,
              "#f0f921"
             ]
            ],
            "type": "contour"
           }
          ],
          "contourcarpet": [
           {
            "colorbar": {
             "outlinewidth": 0,
             "ticks": ""
            },
            "type": "contourcarpet"
           }
          ],
          "heatmap": [
           {
            "colorbar": {
             "outlinewidth": 0,
             "ticks": ""
            },
            "colorscale": [
             [
              0,
              "#0d0887"
             ],
             [
              0.1111111111111111,
              "#46039f"
             ],
             [
              0.2222222222222222,
              "#7201a8"
             ],
             [
              0.3333333333333333,
              "#9c179e"
             ],
             [
              0.4444444444444444,
              "#bd3786"
             ],
             [
              0.5555555555555556,
              "#d8576b"
             ],
             [
              0.6666666666666666,
              "#ed7953"
             ],
             [
              0.7777777777777778,
              "#fb9f3a"
             ],
             [
              0.8888888888888888,
              "#fdca26"
             ],
             [
              1,
              "#f0f921"
             ]
            ],
            "type": "heatmap"
           }
          ],
          "heatmapgl": [
           {
            "colorbar": {
             "outlinewidth": 0,
             "ticks": ""
            },
            "colorscale": [
             [
              0,
              "#0d0887"
             ],
             [
              0.1111111111111111,
              "#46039f"
             ],
             [
              0.2222222222222222,
              "#7201a8"
             ],
             [
              0.3333333333333333,
              "#9c179e"
             ],
             [
              0.4444444444444444,
              "#bd3786"
             ],
             [
              0.5555555555555556,
              "#d8576b"
             ],
             [
              0.6666666666666666,
              "#ed7953"
             ],
             [
              0.7777777777777778,
              "#fb9f3a"
             ],
             [
              0.8888888888888888,
              "#fdca26"
             ],
             [
              1,
              "#f0f921"
             ]
            ],
            "type": "heatmapgl"
           }
          ],
          "histogram": [
           {
            "marker": {
             "pattern": {
              "fillmode": "overlay",
              "size": 10,
              "solidity": 0.2
             }
            },
            "type": "histogram"
           }
          ],
          "histogram2d": [
           {
            "colorbar": {
             "outlinewidth": 0,
             "ticks": ""
            },
            "colorscale": [
             [
              0,
              "#0d0887"
             ],
             [
              0.1111111111111111,
              "#46039f"
             ],
             [
              0.2222222222222222,
              "#7201a8"
             ],
             [
              0.3333333333333333,
              "#9c179e"
             ],
             [
              0.4444444444444444,
              "#bd3786"
             ],
             [
              0.5555555555555556,
              "#d8576b"
             ],
             [
              0.6666666666666666,
              "#ed7953"
             ],
             [
              0.7777777777777778,
              "#fb9f3a"
             ],
             [
              0.8888888888888888,
              "#fdca26"
             ],
             [
              1,
              "#f0f921"
             ]
            ],
            "type": "histogram2d"
           }
          ],
          "histogram2dcontour": [
           {
            "colorbar": {
             "outlinewidth": 0,
             "ticks": ""
            },
            "colorscale": [
             [
              0,
              "#0d0887"
             ],
             [
              0.1111111111111111,
              "#46039f"
             ],
             [
              0.2222222222222222,
              "#7201a8"
             ],
             [
              0.3333333333333333,
              "#9c179e"
             ],
             [
              0.4444444444444444,
              "#bd3786"
             ],
             [
              0.5555555555555556,
              "#d8576b"
             ],
             [
              0.6666666666666666,
              "#ed7953"
             ],
             [
              0.7777777777777778,
              "#fb9f3a"
             ],
             [
              0.8888888888888888,
              "#fdca26"
             ],
             [
              1,
              "#f0f921"
             ]
            ],
            "type": "histogram2dcontour"
           }
          ],
          "mesh3d": [
           {
            "colorbar": {
             "outlinewidth": 0,
             "ticks": ""
            },
            "type": "mesh3d"
           }
          ],
          "parcoords": [
           {
            "line": {
             "colorbar": {
              "outlinewidth": 0,
              "ticks": ""
             }
            },
            "type": "parcoords"
           }
          ],
          "pie": [
           {
            "automargin": true,
            "type": "pie"
           }
          ],
          "scatter": [
           {
            "fillpattern": {
             "fillmode": "overlay",
             "size": 10,
             "solidity": 0.2
            },
            "type": "scatter"
           }
          ],
          "scatter3d": [
           {
            "line": {
             "colorbar": {
              "outlinewidth": 0,
              "ticks": ""
             }
            },
            "marker": {
             "colorbar": {
              "outlinewidth": 0,
              "ticks": ""
             }
            },
            "type": "scatter3d"
           }
          ],
          "scattercarpet": [
           {
            "marker": {
             "colorbar": {
              "outlinewidth": 0,
              "ticks": ""
             }
            },
            "type": "scattercarpet"
           }
          ],
          "scattergeo": [
           {
            "marker": {
             "colorbar": {
              "outlinewidth": 0,
              "ticks": ""
             }
            },
            "type": "scattergeo"
           }
          ],
          "scattergl": [
           {
            "marker": {
             "colorbar": {
              "outlinewidth": 0,
              "ticks": ""
             }
            },
            "type": "scattergl"
           }
          ],
          "scattermapbox": [
           {
            "marker": {
             "colorbar": {
              "outlinewidth": 0,
              "ticks": ""
             }
            },
            "type": "scattermapbox"
           }
          ],
          "scatterpolar": [
           {
            "marker": {
             "colorbar": {
              "outlinewidth": 0,
              "ticks": ""
             }
            },
            "type": "scatterpolar"
           }
          ],
          "scatterpolargl": [
           {
            "marker": {
             "colorbar": {
              "outlinewidth": 0,
              "ticks": ""
             }
            },
            "type": "scatterpolargl"
           }
          ],
          "scatterternary": [
           {
            "marker": {
             "colorbar": {
              "outlinewidth": 0,
              "ticks": ""
             }
            },
            "type": "scatterternary"
           }
          ],
          "surface": [
           {
            "colorbar": {
             "outlinewidth": 0,
             "ticks": ""
            },
            "colorscale": [
             [
              0,
              "#0d0887"
             ],
             [
              0.1111111111111111,
              "#46039f"
             ],
             [
              0.2222222222222222,
              "#7201a8"
             ],
             [
              0.3333333333333333,
              "#9c179e"
             ],
             [
              0.4444444444444444,
              "#bd3786"
             ],
             [
              0.5555555555555556,
              "#d8576b"
             ],
             [
              0.6666666666666666,
              "#ed7953"
             ],
             [
              0.7777777777777778,
              "#fb9f3a"
             ],
             [
              0.8888888888888888,
              "#fdca26"
             ],
             [
              1,
              "#f0f921"
             ]
            ],
            "type": "surface"
           }
          ],
          "table": [
           {
            "cells": {
             "fill": {
              "color": "#EBF0F8"
             },
             "line": {
              "color": "white"
             }
            },
            "header": {
             "fill": {
              "color": "#C8D4E3"
             },
             "line": {
              "color": "white"
             }
            },
            "type": "table"
           }
          ]
         },
         "layout": {
          "annotationdefaults": {
           "arrowcolor": "#2a3f5f",
           "arrowhead": 0,
           "arrowwidth": 1
          },
          "autotypenumbers": "strict",
          "coloraxis": {
           "colorbar": {
            "outlinewidth": 0,
            "ticks": ""
           }
          },
          "colorscale": {
           "diverging": [
            [
             0,
             "#8e0152"
            ],
            [
             0.1,
             "#c51b7d"
            ],
            [
             0.2,
             "#de77ae"
            ],
            [
             0.3,
             "#f1b6da"
            ],
            [
             0.4,
             "#fde0ef"
            ],
            [
             0.5,
             "#f7f7f7"
            ],
            [
             0.6,
             "#e6f5d0"
            ],
            [
             0.7,
             "#b8e186"
            ],
            [
             0.8,
             "#7fbc41"
            ],
            [
             0.9,
             "#4d9221"
            ],
            [
             1,
             "#276419"
            ]
           ],
           "sequential": [
            [
             0,
             "#0d0887"
            ],
            [
             0.1111111111111111,
             "#46039f"
            ],
            [
             0.2222222222222222,
             "#7201a8"
            ],
            [
             0.3333333333333333,
             "#9c179e"
            ],
            [
             0.4444444444444444,
             "#bd3786"
            ],
            [
             0.5555555555555556,
             "#d8576b"
            ],
            [
             0.6666666666666666,
             "#ed7953"
            ],
            [
             0.7777777777777778,
             "#fb9f3a"
            ],
            [
             0.8888888888888888,
             "#fdca26"
            ],
            [
             1,
             "#f0f921"
            ]
           ],
           "sequentialminus": [
            [
             0,
             "#0d0887"
            ],
            [
             0.1111111111111111,
             "#46039f"
            ],
            [
             0.2222222222222222,
             "#7201a8"
            ],
            [
             0.3333333333333333,
             "#9c179e"
            ],
            [
             0.4444444444444444,
             "#bd3786"
            ],
            [
             0.5555555555555556,
             "#d8576b"
            ],
            [
             0.6666666666666666,
             "#ed7953"
            ],
            [
             0.7777777777777778,
             "#fb9f3a"
            ],
            [
             0.8888888888888888,
             "#fdca26"
            ],
            [
             1,
             "#f0f921"
            ]
           ]
          },
          "colorway": [
           "#636efa",
           "#EF553B",
           "#00cc96",
           "#ab63fa",
           "#FFA15A",
           "#19d3f3",
           "#FF6692",
           "#B6E880",
           "#FF97FF",
           "#FECB52"
          ],
          "font": {
           "color": "#2a3f5f"
          },
          "geo": {
           "bgcolor": "white",
           "lakecolor": "white",
           "landcolor": "#E5ECF6",
           "showlakes": true,
           "showland": true,
           "subunitcolor": "white"
          },
          "hoverlabel": {
           "align": "left"
          },
          "hovermode": "closest",
          "mapbox": {
           "style": "light"
          },
          "paper_bgcolor": "white",
          "plot_bgcolor": "#E5ECF6",
          "polar": {
           "angularaxis": {
            "gridcolor": "white",
            "linecolor": "white",
            "ticks": ""
           },
           "bgcolor": "#E5ECF6",
           "radialaxis": {
            "gridcolor": "white",
            "linecolor": "white",
            "ticks": ""
           }
          },
          "scene": {
           "xaxis": {
            "backgroundcolor": "#E5ECF6",
            "gridcolor": "white",
            "gridwidth": 2,
            "linecolor": "white",
            "showbackground": true,
            "ticks": "",
            "zerolinecolor": "white"
           },
           "yaxis": {
            "backgroundcolor": "#E5ECF6",
            "gridcolor": "white",
            "gridwidth": 2,
            "linecolor": "white",
            "showbackground": true,
            "ticks": "",
            "zerolinecolor": "white"
           },
           "zaxis": {
            "backgroundcolor": "#E5ECF6",
            "gridcolor": "white",
            "gridwidth": 2,
            "linecolor": "white",
            "showbackground": true,
            "ticks": "",
            "zerolinecolor": "white"
           }
          },
          "shapedefaults": {
           "line": {
            "color": "#2a3f5f"
           }
          },
          "ternary": {
           "aaxis": {
            "gridcolor": "white",
            "linecolor": "white",
            "ticks": ""
           },
           "baxis": {
            "gridcolor": "white",
            "linecolor": "white",
            "ticks": ""
           },
           "bgcolor": "#E5ECF6",
           "caxis": {
            "gridcolor": "white",
            "linecolor": "white",
            "ticks": ""
           }
          },
          "title": {
           "x": 0.05
          },
          "xaxis": {
           "automargin": true,
           "gridcolor": "white",
           "linecolor": "white",
           "ticks": "",
           "title": {
            "standoff": 15
           },
           "zerolinecolor": "white",
           "zerolinewidth": 2
          },
          "yaxis": {
           "automargin": true,
           "gridcolor": "white",
           "linecolor": "white",
           "ticks": "",
           "title": {
            "standoff": 15
           },
           "zerolinecolor": "white",
           "zerolinewidth": 2
          }
         }
        },
        "title": {
         "text": "Normal Distribution PDF"
        },
        "xaxis": {
         "title": {
          "text": "X"
         }
        },
        "yaxis": {
         "title": {
          "text": "PDF"
         }
        }
       }
      }
     },
     "metadata": {},
     "output_type": "display_data"
    }
   ],
   "source": [
    "import plotly.graph_objects as go\n",
    "import numpy as np\n",
    "import scipy.stats as stats\n",
    "\n",
    "# Define the parameters of the distribution (mean and standard deviation for a normal distribution)\n",
    "mean = 0\n",
    "std_dev = 1\n",
    "\n",
    "# Generate x-values (data points) for the plot\n",
    "x = np.linspace(-4, 4, 1000)  # Adjust the range and number of points as needed\n",
    "\n",
    "# Calculate the PDF values for the normal distribution\n",
    "pdf_values = stats.norm.pdf(x, loc=mean, scale=std_dev)\n",
    "\n",
    "# Create a Plotly figure\n",
    "fig = go.Figure()\n",
    "\n",
    "# Add a trace for the PDF\n",
    "fig.add_trace(go.Scatter(x=x, y=pdf_values, mode='markers', name='PDF'))\n",
    "\n",
    "# Customize the layout (optional)\n",
    "fig.update_layout(\n",
    "    title='Normal Distribution PDF',\n",
    "    xaxis_title='X',\n",
    "    yaxis_title='PDF',\n",
    ")\n",
    "\n",
    "# Show the plot (in Jupyter Notebook, use fig.show() directly)\n",
    "fig.show()"
   ]
  },
  {
   "cell_type": "markdown",
   "metadata": {},
   "source": [
    "### KDE plot"
   ]
  },
  {
   "cell_type": "code",
   "execution_count": 65,
   "metadata": {},
   "outputs": [
    {
     "data": {
      "application/vnd.plotly.v1+json": {
       "config": {
        "plotlyServerURL": "https://plot.ly"
       },
       "data": [
        {
         "autobinx": false,
         "histnorm": "probability density",
         "legendgroup": "KDE Plot",
         "marker": {
          "color": "rgb(31, 119, 180)"
         },
         "name": "KDE Plot",
         "opacity": 0.7,
         "type": "histogram",
         "x": [
          -0.7515839856025859,
          0.12814913401049294,
          0.9114540206886954,
          -2.2428156369520797,
          0.052832943312428875,
          -0.896533596998961,
          0.5832711956986748,
          0.11343094549348938,
          -0.05883491806994993,
          -1.465244032645943,
          0.6607412473386166,
          -0.8178930910423382,
          0.7328834697220393,
          -0.1002256249912997,
          -0.18478700785421637,
          0.9980290581840179,
          -1.2017152728278513,
          0.31143271537438894,
          0.6748421557810776,
          -0.6280918260067968,
          -0.48326427530674365,
          -1.8278006823397008,
          -0.12092714333514469,
          -0.32448952290960537,
          0.019984115074716785,
          -0.7816963031971824,
          -0.12604844649142197,
          -0.28684027432486814,
          0.7629963966999551,
          -0.9464504105168019,
          -0.04388588825024711,
          -0.3888917847458373,
          -1.2250655758583056,
          -0.1260301880090151,
          -0.9983803517108701,
          0.2423955976136059,
          0.08416120500381225,
          -0.6636287485887407,
          1.5161563754166851,
          -3.103480031944006,
          0.2885476749656036,
          1.7681816873414715,
          0.13790977207023622,
          0.9933107003862325,
          -0.5884859102345793,
          1.0052471735328157,
          1.493959927663599,
          -1.5002972009461335,
          1.5262591276570217,
          -1.493995966159682,
          0.7993599906784942,
          -1.176807631256165,
          -0.3155832005814096,
          -1.329862883151834,
          -0.33788471579695856,
          0.06823878910117287,
          1.2344705614703857,
          -1.7742064256520422,
          -0.10664426421870689,
          -0.2814951073576434,
          -0.31996530681943747,
          -0.1831550854075147,
          -1.5117753455810345,
          0.5629142929423161,
          0.06300990233789659,
          -0.14930544041405955,
          0.7457948838329493,
          -0.34006093570348883,
          -0.6125797198931003,
          1.1608737494894228,
          -0.5082716764970224,
          0.17089804285228472,
          1.3266222621177093,
          0.21480664367471217,
          0.7622995080934098,
          -0.24763436362902694,
          0.4959455768700602,
          1.8471607461300423,
          0.5398764070216732,
          -0.148571281134275,
          -1.226766576755922,
          -0.06763553776075035,
          1.7299541317823561,
          0.5235974747595339,
          -0.5071597653999879,
          0.6000710220228112,
          -0.44622703961946575,
          1.043774752230626,
          0.7022643141735345,
          0.14318221552541963,
          -0.09159619972422452,
          0.31583786106227063,
          -2.474550443883275,
          -0.53554969204647,
          1.0250334013069766,
          0.7933763266649011,
          1.241370621936719,
          0.2980310815015664,
          -0.44128870364645684,
          0.11179568104689905,
          1.250209717927806,
          0.5933407958081757,
          0.08103139281975161,
          -0.8424195743809961,
          -1.3790324557348161,
          -0.5108233610164048,
          0.20844276024595618,
          -0.8787231866629197,
          -1.5886699042463057,
          -0.6614645544465066,
          0.9063956390159769,
          -1.9600889748221968,
          -0.5965092359225314,
          -0.9264833660679833,
          0.8877731300493773,
          0.7405298026975071,
          0.749740156854074,
          2.2911211324882976,
          -0.44658026768090214,
          0.2361770619838804,
          -0.6829490155992547,
          0.9855033014620347,
          -0.6381716558279023,
          0.16470829079362698,
          0.3825968032333263,
          2.979440041227358,
          -0.7950162214548245,
          1.7240318417666958,
          0.5799839432442635,
          0.5807474245013763,
          1.4671621349703774,
          -1.8092230383761119,
          -1.534827494690858,
          0.9302011800342852,
          0.5971067649193107,
          0.7047385207537546,
          -1.565383806400087,
          -0.7395168860924018,
          -1.8185567388409822,
          -0.40220064797074484,
          -2.2221341659834617,
          1.0406025114174458,
          0.3941710955421134,
          0.6982278098320527,
          -0.5694547018568297,
          -0.6156712967613039,
          -1.4680423176754576,
          -0.49228366807887897,
          -0.5433890386348044,
          1.8518159750142362,
          0.12495497658174687,
          -0.21252945832742243,
          0.6263671914691,
          2.264005570598743,
          -0.37867981531413497,
          -1.406450860461696,
          -0.10512546547811699,
          -2.5960720794282097,
          0.2286485590135552,
          0.9723614580220538,
          -0.5304561993855106,
          1.1921857039298085,
          -0.13001871677178473,
          -0.1308518141597403,
          -0.8583205475578671,
          -1.5174792196811937,
          -0.6486523071351886,
          -0.21164526643611772,
          -1.1585552423504386,
          -2.1526405005201807,
          1.1703425659415474,
          -1.0956204749049256,
          1.1042021148800139,
          0.1609171222261468,
          -1.8851538488860664,
          0.6495979206206984,
          -1.0624631687662571,
          1.1170928900207755,
          0.2348457173557437,
          -1.2717914457117467,
          0.5159528926671703,
          -0.9928268682234542,
          0.31735995771428044,
          -0.9247553723589537,
          0.43219238218067335,
          -0.24232245311781914,
          -1.0555853618261606,
          1.7026842141061873,
          -0.8571845312301161,
          2.041601609796793,
          1.0055176776906505,
          -0.8973052286428961,
          -3.306722109896509,
          1.4753428779325888,
          -1.719034267123092,
          0.6539420556764608,
          -0.16969635784931963,
          2.7030449905757985,
          -0.6133862077417332,
          0.2713121490565003,
          -0.45470343492217513,
          0.37060650766888714,
          0.19881863922692244,
          1.0673272952114714,
          -0.9235199129935012,
          -0.4235668887483789,
          0.22309982429482933,
          -0.9642115200420399,
          -0.28168461180291177,
          -1.036884266472644,
          -1.056779264698282,
          -0.8578705129550473,
          0.4703148378381293,
          -0.09184149534925136,
          0.1277438264227911,
          -0.7700115943758816,
          -1.0149350374853146,
          0.7203463510734242,
          0.9964232672490653,
          0.20978064763440904,
          0.40385990094263685,
          -0.24267809165452675,
          0.42502157458483675,
          -1.4245447176508905,
          0.0956430287346672,
          0.9267284012101774,
          1.0212080839456263,
          -0.2484753512707637,
          0.07781011309123387,
          1.4426896489700107,
          -1.33723995646011,
          1.9116337562789063,
          1.1052557392316247,
          -1.526828590527236,
          0.6856044944620489,
          0.6957796282505992,
          1.004388262498641,
          0.12266204409825548,
          0.7185224495979544,
          -1.1378196043517563,
          0.22449483870041465,
          0.814734917679946,
          -1.0492434211998591,
          -0.1288945010485071,
          -1.5708909138541354,
          -0.3148203414551492,
          0.1822356320001906,
          -0.3562766627831856,
          1.8914228422939778,
          0.5674247901035344,
          1.249439144686972,
          -0.9776384126443927,
          0.23360747578622737,
          0.5641128292634715,
          -0.05004240737121812,
          -0.9673104941044244,
          -1.3157155915746015,
          1.1244306133170816,
          0.8260595620294995,
          -1.0899790118646209,
          -0.1319008715388484,
          0.9757949993505374,
          -0.04687989763922254,
          -0.20254455804360336,
          0.38481062762588364,
          -1.577673071909063,
          -0.3300970936284212,
          1.7702146547718685,
          -0.658840086960861,
          0.39931214317687863,
          0.30808528641836547,
          0.13298016222971748,
          -1.0373421734583965,
          -2.154630217689058,
          1.6885873748010043,
          -0.6134567619898776,
          -1.2947684707564948,
          0.08920621393529778,
          -0.9817947445808202,
          -3.034319474156476,
          2.3716173115881434,
          0.967196647467048,
          -0.772754526634137,
          -0.1192605405422086,
          0.22078500116771263,
          -2.2540533599307144,
          0.1318362688913172,
          -1.1423545619272373,
          0.12834786910521495,
          -0.948370566688818,
          -0.8375412180194056,
          -0.27149760304994475,
          -0.3821010681049564,
          0.5277227925277981,
          0.558927452168024,
          1.0790624850720407,
          0.19312736339915604,
          0.21215482341425512,
          -0.11667889789012846,
          0.23821228240762587,
          -1.3256656927069372,
          -0.32322736711221467,
          1.5163093093483866,
          1.021036337395972,
          -1.0835935177573384,
          0.38465592549712085,
          -0.9907364921541245,
          -0.23751265195785476,
          1.314533241685808,
          -0.3097058033597728,
          0.47965128446285826,
          -1.4275226955807985,
          0.73236360498091,
          -0.10023343153703104,
          0.8278634046603217,
          -0.05387135993510914,
          0.5619270634525072,
          -0.19198515417646855,
          -0.975833852302733,
          1.0008528198240734,
          -0.538949377685589,
          -2.1328062786193347,
          0.4466801613036003,
          1.9544387662011133,
          1.5465463372448736,
          0.0653474770389854,
          0.7538631792790834,
          0.6365051895403327,
          -0.19750308946860523,
          -0.28223124869049615,
          0.9972851681957676,
          -0.3130838587480838,
          0.5283272260686284,
          -1.0485279808099244,
          1.1362653366394102,
          -0.8403770474046381,
          0.7249387004532502,
          0.6519113203931409,
          0.29769411805298096,
          0.8666390434760985,
          -0.7625523996002908,
          0.9812143642098403,
          1.5004849135057108,
          -1.28737037146091,
          -0.5834268327974126,
          0.5194066115587533,
          1.0364371520541127,
          0.6265278740267891,
          -0.2717195381343281,
          1.5179464120494124,
          -0.834336538571588,
          0.39683474515344414,
          0.6294277467940118,
          -0.07658375490010587,
          -0.2387237896980843,
          0.34652914613747177,
          1.1138326635648312,
          -0.9644832214308217,
          -1.15455515108352,
          0.052995912077468864,
          -0.33834690188605265,
          0.1805711710267685,
          2.5726766572062147,
          0.8178235927323763,
          -1.6442300770654898,
          0.6221259110626373,
          1.4549716053677368,
          1.4791823217987055,
          -0.9593443977981903,
          0.692851256336851,
          -1.0935333719385378,
          1.0449174275592021,
          -0.7189643910193466,
          0.764073320976972,
          -3.9615600585459054,
          -0.7302588662992608,
          -0.7559347829763347,
          -0.9720952255867438,
          -0.2877234546957895,
          1.6135735637355713,
          -0.38710040148900493,
          -0.9385739218626933,
          -0.1847184650511263,
          0.31648001014425825,
          2.292536871204057,
          3.240352934700151,
          0.27625293996567557,
          1.6101981475090736,
          -1.2992225314890609,
          2.0970251373955437,
          0.5925239080552683,
          -0.5094661565628013,
          0.44885434730076756,
          -0.4049788308785062,
          0.1627149207604431,
          -0.3261859857116598,
          0.47951876725774545,
          -0.9782134412597958,
          -0.52140227677817,
          -0.8836311721244356,
          0.295996093884872,
          0.562202496511469,
          0.23979658933373624,
          -1.14139774611686,
          0.7487346966619735,
          -0.1694986753938727,
          0.5759409120703849,
          -0.38882766128665064,
          -1.1189963455691032,
          -1.0967962145709569,
          -0.7465893086489532,
          -1.0992436183492214,
          -0.9321895056026273,
          -1.1423208830824119,
          0.7741173002460224,
          1.4819468769190918,
          0.6740528426119877,
          -1.2421681137385143,
          0.7702351602536458,
          0.23517903633703885,
          0.4819090314305866,
          -0.5584562993115526,
          0.1724696340212649,
          -0.6390432215048905,
          0.15766144632909732,
          -0.8546603423394656,
          0.8278967000358696,
          -0.6661214193983765,
          1.118542889600468,
          -1.1283789286166344,
          -0.9895224292020611,
          -1.1635422046212267,
          0.6160092851923569,
          3.6051570372545796,
          -0.20498621144607865,
          -0.27372571417162883,
          -0.7075250956559008,
          0.028820253001275123,
          0.49748557744421007,
          -0.9545827584618556,
          -1.1902268687312858,
          1.4303500332088306,
          0.6335921516768283,
          -1.1414077058564995,
          -0.3421306786420379,
          -0.9658235336320199,
          -1.6126479667465108,
          -0.34523854489884875,
          0.33466476909572973,
          -1.911419060043433,
          0.16436592324819108,
          -0.6389668208002992,
          1.1536855360285148,
          -1.3461990871764533,
          1.9140370555883623,
          -1.5034787529877331,
          -0.12258748011724954,
          0.6755368390837129,
          -0.8831670933713778,
          0.5155612023622392,
          0.8164585917896395,
          -1.207104211400625,
          -0.4646698499795966,
          -2.008000108803488,
          -0.013789790124819035,
          -0.40639262582155833,
          0.930332525628318,
          1.8172259141261535,
          -0.44464304340528665,
          -0.8527025861351264,
          -0.8617675853187593,
          -0.6365614907393017,
          0.6731443762985886,
          -0.7815339175521645,
          -0.891889382497764,
          0.004962736338657031,
          -1.7746035292950424,
          -1.2384330988417567,
          -0.9010395360442942,
          -0.7763077479038161,
          1.349893213733946,
          0.24222462870221514,
          -0.3598859352893256,
          0.4777327480995493,
          1.3731450730393833,
          1.0847455815518967,
          0.4533814797333113,
          0.7657311821125607,
          0.7323204139106043,
          -1.6280177912357974,
          0.09303860642231732,
          -1.2207959898037999,
          -0.016280492316579635,
          0.30690340956478235,
          -1.8577347531087827,
          0.949192592040141,
          -0.03777939375221733,
          -0.6832779273082725,
          0.4334012129396072,
          -2.2020756590158377,
          -1.6292250663081895,
          0.6624720815685311,
          0.7920230912865385,
          -0.525374139667638,
          2.8244942799782264,
          0.9082846398463785,
          -1.6759547010049052,
          0.41700680587661676,
          0.488708226115813,
          -0.2884229614579768,
          -0.6732191999185337,
          -0.18628661477461345,
          -0.49991436182644494,
          0.623228390035922,
          -0.8567191890718048,
          -0.46854494416868603,
          2.0110173062246632,
          -0.876619454016422,
          0.2958634309170692,
          1.7041083092329707,
          -0.41011685041711743,
          -0.23616164644329002,
          -1.5014935356029655,
          1.1134602973823882,
          -0.07235109944545176,
          0.39708302768657433,
          0.7470679969295837,
          1.7724854785324988,
          -0.13952897639200293,
          -1.7616077485427482,
          -2.532537315862015,
          -0.3341155535356169,
          -1.3839727404278437,
          -1.1119149965732935,
          0.5449071241221825,
          0.5178941026736166,
          1.1617033684153881,
          1.5637976607371438,
          0.5931378731453616,
          -0.931081711103374,
          -0.04467108711237803,
          -0.9660436368338641,
          1.6319142196677503,
          0.15708669941938969,
          -0.44855838347599225,
          1.366695627192743,
          -0.4629313322709413,
          -1.1062627674647327,
          -0.9912592939519622,
          -0.31632149095521994,
          -0.08833817638049121,
          -0.12176513873863194,
          0.013925190754320632,
          1.031767703781133,
          -1.1912238157852006,
          0.9057910011930649,
          -0.8048893975420319,
          0.0861542111798172,
          -1.0074683116778735,
          -0.16367848009603522,
          1.2261388511182088,
          0.8047540197225649,
          1.2601773673896004,
          0.9567105434585009,
          -0.18711093277705687,
          -2.5013633139816673,
          0.8224520784724754,
          -1.608990833765605,
          -1.4270345754931621,
          0.7403971132228524,
          2.6744587080582862,
          0.3998781654286003,
          0.4096527472708215,
          0.1526155106662341,
          0.4096997873343949,
          -0.4094480235968122,
          -0.2527087749525696,
          -0.09911592560740608,
          -0.8587867708905474,
          -1.3252119798246569,
          -1.7033842242903232,
          -0.8528336667648463,
          0.47306504070446503,
          -0.0897526762869833,
          0.04851501223725426,
          -0.6857662456650565,
          0.30446980028784454,
          0.5191197954893433,
          -0.20763108251038254,
          0.8461600094624621,
          -0.5505604970632068,
          1.2399999183894295,
          0.1632424626782231,
          0.402502882719719,
          1.0628941114351125,
          -0.32480405011129604,
          -0.30586694885462923,
          -0.8147987338030812,
          0.7751433812256241,
          1.229417228923013,
          -0.7846139609500586,
          -0.6887161032751428,
          -0.10440015592087812,
          -2.023508306473574,
          -0.19655523130847474,
          -0.08462219354535461,
          1.1982877628950275,
          1.0145181989706282,
          0.6752911530187816,
          -1.0082511530444107,
          -1.4188233688060017,
          2.022570505668098,
          -0.27742000351036555,
          -1.541941955742678,
          -1.0848965458674389,
          0.4394466157172395,
          -1.1435263609226385,
          0.6355246418615447,
          0.047930942867652475,
          -1.5220454310733114,
          -0.5334861235391479,
          0.21678714890813547,
          0.38797424602899483,
          2.0954716727605,
          2.534553375986383,
          0.8296422981263673,
          1.8696745672462471,
          -0.8355700478929603,
          -0.21180756669751338,
          1.229412991155583,
          -0.1332278311298302,
          -2.211222957752022,
          -1.8012957751794532,
          -0.46238012958486874,
          0.49254657294194926,
          1.355183470117882,
          0.0804327113242314,
          0.653370097805786,
          0.4704138438643996,
          -0.3381868650810289,
          -0.7267386501323252,
          0.31783759684818197,
          -0.40033219097406114,
          -0.24975347744222973,
          0.13849323429280658,
          -2.2216369981771633,
          0.21602466928036407,
          -0.17359698069884227,
          0.6016804090332313,
          1.2040888190831533,
          -0.45697497963080785,
          -0.300790106315526,
          -1.1082941692506754,
          1.0714377223695668,
          -0.8792848997753736,
          -0.09029703052466594,
          -0.9300872577868037,
          -0.5731398741037941,
          -0.19740181732681014,
          0.3708389522248377,
          0.0401266206022671,
          0.0848636087867176,
          0.5599270866820303,
          1.6457904283672444,
          -1.0956073140416789,
          0.4102588584099056,
          -1.1557003535859547,
          1.2112419488335264,
          -1.3744138052804742,
          -0.1706866778728808,
          0.47238702063388643,
          -1.2491853214231188,
          0.3037709840855773,
          1.4140979180752913,
          -1.8923698289519881,
          -2.1653127939288717,
          -0.7642780873142369,
          0.48139191678311566,
          -0.42208859058876813,
          -0.3435631166684641,
          -0.3702505512892883,
          0.2091031563873801,
          0.3468643269750931,
          0.38281145339132644,
          0.9884762531279263,
          -0.5743905535261611,
          0.06293663748985091,
          -1.4925727040811123,
          -1.3983416324144384,
          0.7040211541117469,
          -0.1277071292413952,
          0.11034004226452651,
          -1.7304723677597207,
          1.7972821893215685,
          -1.0037436127313595,
          -0.5143049115853943,
          0.736557841427612,
          0.9399716215096152,
          1.0766458501829999,
          0.9053348868667425,
          -0.9416064364033802,
          0.07434427309061958,
          0.78977867346328,
          0.7363710791032553,
          0.37412487136185935,
          -0.3067452726784669,
          -0.32852874073194005,
          0.41963554453958246,
          -0.7997557281117365,
          1.0994729071090759,
          -0.06131422511871507,
          0.4614862833416731,
          0.4035882803199114,
          -0.01700323877059018,
          0.10605163427908627,
          0.5076030938623318,
          -0.020828890117651756,
          -0.16701873993171404,
          -0.22979638371434596,
          0.4337964715270621,
          -1.6067378392511689,
          -0.36982546967792534,
          -0.13095221911287147,
          1.4928985339818175,
          -0.57968466601516,
          -0.19204234328589243,
          0.42910855678621546,
          0.5814988172702114,
          0.47702124804565343,
          -0.22394894928351247,
          -0.18785375744041138,
          0.7793500702746227,
          -1.5192445342612568,
          -0.5978746228136447,
          -0.30058394357584445,
          -0.5524547768819865,
          1.4823032351275394,
          -0.63182760012222,
          -1.1206642432969187,
          -0.0812926039287238,
          0.10594174067550272,
          0.8572282265983494,
          -1.115316229904432,
          -0.3558427932937919,
          0.34315066354255097,
          -1.0591486670615788,
          -1.6289083982075632,
          1.459314813341351,
          -1.721695910162112,
          -0.012092962972699248,
          -0.17776605750989083,
          -1.1388300595497713,
          0.17709617558113888,
          0.7836567086236244,
          -1.5640028905476837,
          -0.4701419952053006,
          -0.405576369545139,
          -1.8373318523295767,
          -0.495186739777926,
          0.4409074027641657,
          -0.2784783928763774,
          1.5652252453372573,
          -0.6192672541282173,
          -0.04406933436955809,
          0.6268830620322814,
          0.3453764504812839,
          -1.0613243842166322,
          0.5670509754807938,
          -1.7680664578631318,
          -0.6451113833617429,
          1.3131862723659424,
          -0.2148557945946556,
          -1.274095178729629,
          1.3870601683057158,
          1.5830294050303655,
          -0.6365175940065946,
          1.5471033244323273,
          0.9440267602913833,
          1.2284388353986198,
          2.0777327449403753,
          -1.1859347133497773,
          0.04164758467922625,
          -0.6334644566573854,
          1.0522187836621875,
          -0.25137642816869094,
          -0.15130476018607367,
          -0.22871442449827936,
          1.7041330385020586,
          -0.08292918759939116,
          -1.245286154795451,
          0.1846328742222757,
          0.5634107453526893,
          0.6691640640314502,
          1.0863778777677306,
          -0.1879330057500876,
          -1.9881267724158675,
          0.12382338909679194,
          0.7149307171301718,
          -0.915502187310192,
          -0.35571446623940917,
          -1.143285712331413,
          -1.217328502841508,
          -0.44487748603795385,
          1.3196362689458896,
          -0.9990095674942634,
          -0.33530227083834246,
          1.1516350200124998,
          -0.9301117410136942,
          -0.16125060328725402,
          -1.6827593145533881,
          -1.5374348480757218,
          0.4963665528965005,
          -0.39973305603783327,
          -0.2740533322548707,
          -1.110033102154551,
          1.152124766738961,
          -0.24179356354643777,
          -0.3856097157551473,
          -0.7613068002623471,
          0.6177577148024709,
          0.2655844723248144,
          2.014572631831174,
          -2.09313627216269,
          -0.16206693151373094,
          1.105950484584887,
          1.4772318017937716,
          0.06438179046935386,
          -0.4668341060663005,
          0.25719461288020584,
          0.44748880570086097,
          -0.7091465815792919,
          -2.0292786376912515,
          -0.7452022113972517,
          -0.20861925551196478,
          -0.28359053315528177,
          -0.09637681863472275,
          -0.4413241198335764,
          0.40347233269980914,
          0.8151788666552624,
          -2.165098356227809,
          -0.8897754770356454,
          -0.3823804736457823,
          0.07822733337382777,
          -0.33310026217024447,
          0.667131207519951,
          -1.1517356698715429,
          -1.3406947252149488,
          -0.8597251055753429,
          0.17740940976568162,
          2.307494260703432,
          -0.579332822637786,
          0.5207686197673744,
          1.9830272667610767,
          -0.11843306822960464,
          -1.763552379573479,
          -0.4466494421014263,
          0.39977463814547237,
          0.3597094970565289,
          0.44324623029552396,
          0.7610212142588266,
          0.06839343889136007,
          -0.06373625626729609,
          -2.8928270980390565,
          -1.1746760744596159,
          -0.11906730012960492,
          -1.193842620930593,
          0.2838163235164681,
          -0.3282854274290695,
          2.9372659159197263,
          -0.7256169285683897,
          0.4161292365749353,
          -0.5232680864037297,
          0.14534400198494987,
          0.9497853292463613,
          1.1142887050210228,
          -0.1749996407286401,
          1.0180375003253026,
          -0.5474277996786145,
          0.9651603469362705,
          0.5636648686833033,
          0.669020355097932,
          0.8350052090998156,
          -0.5881944326829529,
          0.5512497582969532,
          -0.9973746823529539,
          -0.007238025579307329,
          0.9702458453162202,
          -0.3740763247144873,
          0.1408741946873347,
          -0.3095505546792905,
          0.9866906975755125,
          -0.000845996341268212,
          -0.0944513398618079,
          -0.13792774789847442,
          0.39603243044115893,
          -0.41203541771275853,
          1.4702103785944016,
          -0.1687899771434182,
          -0.7910530283480084,
          -1.004873152304782,
          0.18100987860063236,
          0.41426217151410794,
          -0.4036365319246837,
          0.12861539837416566,
          0.9555466288143117,
          0.5056076928849278,
          -0.1455316138705385,
          -0.45935236284511405,
          1.4286417437455334,
          -0.6534228294240242,
          0.45428418104131507,
          0.5141807785213472,
          -1.7064566083298858,
          1.8067402407840039,
          -1.1680701060229535,
          -0.7689072631942826,
          -0.24598292240896932,
          -1.6899352837396995,
          -0.5041240708459757,
          -1.4757637849462033,
          -0.9173067096260249,
          0.4736564076373497,
          -0.9694534310472632,
          0.4670813225660961,
          0.9625283100986305,
          -1.217763575482923,
          -0.9395592046524545,
          0.5500156766818025,
          0.9383954405304394,
          1.060257590335735,
          -0.1396241682333874,
          1.1463978228208578,
          0.38413589681085464,
          0.028935268470393096,
          -1.1227006249404563,
          -0.3987941903604161,
          -0.034419009987380705,
          -0.7283100582303476,
          1.0059619158149562,
          0.5144980601638762,
          0.8708210963229809,
          1.3142077956985498,
          1.1167680854572957,
          1.716126348269595,
          0.27269068717194916,
          -1.123133191953127,
          0.11489263529809371,
          -1.515726746792823,
          -0.2533046116452342,
          0.38174226282489876,
          -0.6918755653249667,
          0.4211237475069968,
          0.039936129494028416,
          -0.3662173277059165,
          -0.6970703019752248,
          0.3091728653276005,
          0.1502914980541256,
          -0.5577766851408767,
          -1.7511502610924077,
          -0.7163206875860475,
          1.047657513914813,
          0.3883329568072108,
          -0.42411657728660174,
          -0.2507047303788764,
          -0.7537538738841209,
          -0.6247417447001831,
          -0.1958376499484654,
          -0.2606607115666104,
          -1.1715652358063346,
          0.7907066851346701,
          0.3385777058915901,
          0.21053206365543622,
          0.36805157066480987,
          0.8175537422617929,
          1.4564806735445663,
          0.6446493692541274,
          -0.16256250110708628,
          -1.7130841765775853,
          -0.3143602619016569,
          -0.14863488061466404,
          1.794786216592394,
          -0.019388101555179706,
          0.7680788970442075,
          -0.0530699989174349,
          0.6831838224813972,
          0.6544804140907626,
          -1.776525721341922,
          0.10270918877901951,
          -0.073852516230118,
          -0.4154661661179218,
          -0.8165909316026739,
          -0.9313450096507835,
          0.8203574330875344,
          -0.5801874846838255,
          0.16895430784434634,
          -0.40568459779265026,
          -0.22022516979027215,
          0.8281064118796616,
          0.15181750444594808,
          -1.061375275931542
         ],
         "xaxis": "x",
         "xbins": {
          "end": 3.6051570372545796,
          "size": 1,
          "start": -3.9615600585459054
         },
         "yaxis": "y"
        },
        {
         "legendgroup": "KDE Plot",
         "marker": {
          "color": "rgb(31, 119, 180)"
         },
         "mode": "lines",
         "name": "KDE Plot",
         "showlegend": false,
         "type": "scatter",
         "x": [
          -3.9615600585459054,
          -3.9464266243543045,
          -3.9312931901627035,
          -3.9161597559711026,
          -3.9010263217795016,
          -3.8858928875879006,
          -3.8707594533962997,
          -3.8556260192046987,
          -3.8404925850130978,
          -3.825359150821497,
          -3.810225716629896,
          -3.795092282438295,
          -3.779958848246694,
          -3.764825414055093,
          -3.749691979863492,
          -3.734558545671891,
          -3.71942511148029,
          -3.704291677288689,
          -3.689158243097088,
          -3.6740248089054868,
          -3.6588913747138863,
          -3.643757940522285,
          -3.6286245063306843,
          -3.613491072139083,
          -3.598357637947482,
          -3.583224203755881,
          -3.56809076956428,
          -3.552957335372679,
          -3.537823901181078,
          -3.522690466989477,
          -3.5075570327978762,
          -3.4924235986062753,
          -3.4772901644146743,
          -3.4621567302230734,
          -3.4470232960314724,
          -3.4318898618398714,
          -3.4167564276482705,
          -3.4016229934566695,
          -3.3864895592650686,
          -3.3713561250734676,
          -3.3562226908818666,
          -3.3410892566902657,
          -3.3259558224986647,
          -3.3108223883070638,
          -3.295688954115463,
          -3.280555519923862,
          -3.265422085732261,
          -3.25028865154066,
          -3.235155217349059,
          -3.220021783157458,
          -3.204888348965857,
          -3.189754914774256,
          -3.174621480582655,
          -3.159488046391054,
          -3.144354612199453,
          -3.1292211780078523,
          -3.1140877438162513,
          -3.0989543096246503,
          -3.0838208754330494,
          -3.0686874412414484,
          -3.053554007049847,
          -3.0384205728582465,
          -3.023287138666645,
          -3.0081537044750446,
          -2.993020270283443,
          -2.9778868360918427,
          -2.9627534019002413,
          -2.9476199677086408,
          -2.9324865335170394,
          -2.917353099325439,
          -2.9022196651338374,
          -2.887086230942237,
          -2.8719527967506355,
          -2.8568193625590346,
          -2.8416859283674336,
          -2.8265524941758327,
          -2.8114190599842317,
          -2.7962856257926307,
          -2.7811521916010298,
          -2.7660187574094293,
          -2.750885323217828,
          -2.735751889026227,
          -2.720618454834626,
          -2.705485020643025,
          -2.690351586451424,
          -2.675218152259823,
          -2.660084718068222,
          -2.644951283876621,
          -2.62981784968502,
          -2.614684415493419,
          -2.5995509813018183,
          -2.5844175471102173,
          -2.5692841129186164,
          -2.5541506787270154,
          -2.5390172445354144,
          -2.5238838103438135,
          -2.5087503761522125,
          -2.493616941960611,
          -2.4784835077690106,
          -2.463350073577409,
          -2.4482166393858087,
          -2.4330832051942073,
          -2.4179497710026068,
          -2.4028163368110054,
          -2.387682902619405,
          -2.3725494684278035,
          -2.357416034236203,
          -2.3422826000446015,
          -2.3271491658530006,
          -2.3120157316613996,
          -2.2968822974697987,
          -2.2817488632781977,
          -2.266615429086597,
          -2.251481994894996,
          -2.2363485607033953,
          -2.221215126511794,
          -2.2060816923201934,
          -2.190948258128592,
          -2.175814823936991,
          -2.16068138974539,
          -2.145547955553789,
          -2.130414521362188,
          -2.115281087170587,
          -2.100147652978986,
          -2.0850142187873852,
          -2.0698807845957843,
          -2.0547473504041833,
          -2.0396139162125824,
          -2.0244804820209814,
          -2.0093470478293805,
          -1.9942136136377795,
          -1.9790801794461785,
          -1.9639467452545776,
          -1.9488133110629766,
          -1.9336798768713757,
          -1.9185464426797747,
          -1.9034130084881737,
          -1.8882795742965728,
          -1.8731461401049718,
          -1.8580127059133709,
          -1.8428792717217695,
          -1.827745837530169,
          -1.812612403338568,
          -1.7974789691469666,
          -1.782345534955366,
          -1.7672121007637651,
          -1.7520786665721637,
          -1.7369452323805628,
          -1.7218117981889622,
          -1.7066783639973608,
          -1.6915449298057599,
          -1.6764114956141594,
          -1.661278061422558,
          -1.646144627230957,
          -1.631011193039356,
          -1.6158777588477555,
          -1.6007443246561541,
          -1.5856108904645532,
          -1.5704774562729527,
          -1.5553440220813513,
          -1.5402105878897503,
          -1.5250771536981493,
          -1.5099437195065484,
          -1.4948102853149474,
          -1.4796768511233465,
          -1.4645434169317455,
          -1.4494099827401445,
          -1.4342765485485436,
          -1.4191431143569426,
          -1.4040096801653417,
          -1.3888762459737407,
          -1.3737428117821397,
          -1.3586093775905388,
          -1.3434759433989378,
          -1.3283425092073369,
          -1.3132090750157355,
          -1.298075640824135,
          -1.282942206632534,
          -1.2678087724409326,
          -1.252675338249332,
          -1.2375419040577311,
          -1.2224084698661297,
          -1.2072750356745292,
          -1.1921416014829282,
          -1.1770081672913268,
          -1.1618747330997259,
          -1.1467412989081254,
          -1.1316078647165244,
          -1.116474430524923,
          -1.1013409963333225,
          -1.0862075621417215,
          -1.0710741279501201,
          -1.0559406937585192,
          -1.0408072595669187,
          -1.0256738253753173,
          -1.0105403911837163,
          -0.9954069569921158,
          -0.9802735228005144,
          -0.9651400886089134,
          -0.9500066544173125,
          -0.934873220225712,
          -0.9197397860341106,
          -0.9046063518425096,
          -0.8894729176509091,
          -0.8743394834593077,
          -0.8592060492677067,
          -0.8440726150761058,
          -0.8289391808845048,
          -0.8138057466929038,
          -0.7986723125013029,
          -0.7835388783097019,
          -0.768405444118101,
          -0.7532720099265,
          -0.7381385757348986,
          -0.7230051415432981,
          -0.7078717073516971,
          -0.6927382731600957,
          -0.6776048389684952,
          -0.6624714047768943,
          -0.6473379705852933,
          -0.6322045363936919,
          -0.6170711022020914,
          -0.6019376680104904,
          -0.586804233818889,
          -0.5716707996272885,
          -0.5565373654356875,
          -0.5414039312440861,
          -0.5262704970524852,
          -0.5111370628608847,
          -0.49600362866928327,
          -0.4808701944776823,
          -0.4657367602860818,
          -0.45060332609448084,
          -0.43546989190287944,
          -0.4203364577112789,
          -0.40520302351967796,
          -0.39006958932807656,
          -0.3749361551364756,
          -0.3598027209448751,
          -0.3446692867532737,
          -0.3295358525616727,
          -0.3144024183700722,
          -0.2992689841784708,
          -0.28413554998686985,
          -0.2690021157952689,
          -0.25386868160366793,
          -0.23873524741206698,
          -0.22360181322046602,
          -0.20846837902886506,
          -0.1933349448372641,
          -0.17820151064566314,
          -0.16306807645406218,
          -0.14793464226246122,
          -0.13280120807086027,
          -0.11766777387925931,
          -0.10253433968765835,
          -0.08740090549605739,
          -0.07226747130445643,
          -0.05713403711285503,
          -0.042000602921254515,
          -0.026867168729653557,
          -0.011733734538052154,
          0.0033996996535483603,
          0.01853313384514932,
          0.03366656803675028,
          0.04880000222835168,
          0.0639334364199522,
          0.07906687061155271,
          0.09420030480315411,
          0.10933373899475551,
          0.12446717318635603,
          0.13960060737795654,
          0.15473404156955795,
          0.16986747576115935,
          0.18500090995275986,
          0.20013434414436126,
          0.21526777833596178,
          0.23040121252756318,
          0.2455346467191637,
          0.2606680809107651,
          0.2758015151023665,
          0.290934949293967,
          0.30606838348556753,
          0.32120181767716893,
          0.33633525186876945,
          0.35146868606037085,
          0.36660212025197225,
          0.38173555444357277,
          0.3968689886351733,
          0.4120024228267747,
          0.4271358570183752,
          0.4422692912099766,
          0.457402725401578,
          0.4725361595931785,
          0.4876695937847799,
          0.5028030279763804,
          0.517936462167981,
          0.5330698963595824,
          0.5482033305511838,
          0.5633367647427843,
          0.5784701989343857,
          0.5936036331259862,
          0.6087370673175867,
          0.6238705015091881,
          0.6390039357007895,
          0.6541373698923909,
          0.6692708040839914,
          0.6844042382755919,
          0.6995376724671933,
          0.7146711066587939,
          0.7298045408503944,
          0.7449379750419967,
          0.7600714092335972,
          0.7752048434251977,
          0.7903382776167991,
          0.8054717118083996,
          0.8206051460000001,
          0.8357385801916024,
          0.8508720143832029,
          0.8660054485748034,
          0.8811388827664048,
          0.8962723169580054,
          0.9114057511496068,
          0.9265391853412073,
          0.9416726195328087,
          0.9568060537244101,
          0.9719394879160106,
          0.9870729221076111,
          1.0022063562992125,
          1.017339790490813,
          1.0324732246824144,
          1.0476066588740158,
          1.0627400930656163,
          1.0778735272572169,
          1.0930069614488183,
          1.1081403956404188,
          1.1232738298320202,
          1.1384072640236216,
          1.153540698215222,
          1.1686741324068235,
          1.183807566598424,
          1.1989410007900245,
          1.214074434981626,
          1.2292078691732273,
          1.2443413033648278,
          1.2594747375564292,
          1.2746081717480298,
          1.2897416059396303,
          1.3048750401312317,
          1.320008474322833,
          1.3351419085144345,
          1.350275342706035,
          1.3654087768976355,
          1.380542211089237,
          1.3956756452808374,
          1.410809079472438,
          1.4259425136640402,
          1.4410759478556407,
          1.4562093820472413,
          1.4713428162388427,
          1.4864762504304432,
          1.5016096846220437,
          1.516743118813646,
          1.5318765530052465,
          1.547009987196847,
          1.5621434213884484,
          1.577276855580049,
          1.5924102897716503,
          1.6075437239632517,
          1.6226771581548523,
          1.6378105923464537,
          1.6529440265380542,
          1.6680774607296547,
          1.683210894921256,
          1.6983443291128566,
          1.713477763304458,
          1.7286111974960594,
          1.74374463168766,
          1.7588780658792604,
          1.7740115000708618,
          1.7891449342624623,
          1.8042783684540646,
          1.8194118026456652,
          1.8345452368372657,
          1.849678671028867,
          1.8648121052204676,
          1.879945539412068,
          1.8950789736036695,
          1.910212407795271,
          1.9253458419868714,
          1.9404792761784728,
          1.9556127103700733,
          1.9707461445616739,
          1.9858795787532753,
          2.0010130129448767,
          2.016146447136478,
          2.0312798813280786,
          2.046413315519679,
          2.0615467497112805,
          2.076680183902881,
          2.0918136180944815,
          2.106947052286084,
          2.1220804864776843,
          2.137213920669285,
          2.1523473548608862,
          2.1674807890524868,
          2.1826142232440873,
          2.1977476574356896,
          2.21288109162729,
          2.2280145258188915,
          2.243147960010492,
          2.2582813942020925,
          2.273414828393694,
          2.2885482625852953,
          2.303681696776896,
          2.3188151309684972,
          2.3339485651600977,
          2.3490819993516983,
          2.3642154335432997,
          2.3793488677349,
          2.3944823019265016,
          2.409615736118103,
          2.4247491703097035,
          2.439882604501304,
          2.4550160386929054,
          2.470149472884506,
          2.485282907076108,
          2.5004163412677087,
          2.5155497754593092,
          2.5306832096509106,
          2.545816643842511,
          2.5609500780341117,
          2.576083512225714,
          2.5912169464173145,
          2.606350380608915,
          2.6214838148005164,
          2.636617248992117,
          2.6517506831837174,
          2.666884117375319,
          2.6820175515669202,
          2.6971509857585216,
          2.712284419950122,
          2.7274178541417227,
          2.742551288333324,
          2.7576847225249246,
          2.772818156716526,
          2.7879515909081274,
          2.803085025099728,
          2.8182184592913284,
          2.83335189348293,
          2.8484853276745303,
          2.863618761866131,
          2.878752196057733,
          2.8938856302493337,
          2.909019064440935,
          2.9241524986325356,
          2.939285932824136,
          2.9544193670157375,
          2.969552801207339,
          2.9846862353989394,
          2.999819669590541,
          3.0149531037821413,
          3.030086537973742,
          3.0452199721653432,
          3.0603534063569438,
          3.075486840548545,
          3.0906202747401466,
          3.105753708931747,
          3.1208871431233476,
          3.136020577314949,
          3.1511540115065495,
          3.166287445698152,
          3.1814208798897523,
          3.196554314081353,
          3.2116877482729542,
          3.2268211824645547,
          3.2419546166561553,
          3.2570880508477575,
          3.272221485039358,
          3.2873549192309586,
          3.30248835342256,
          3.3176217876141605,
          3.332755221805761,
          3.3478886559973624,
          3.363022090188964,
          3.378155524380565,
          3.3932889585721657,
          3.4084223927637662,
          3.4235558269553676,
          3.438689261146968,
          3.4538226953385696,
          3.468956129530171,
          3.4840895637217715,
          3.499222997913372,
          3.5143564321049734,
          3.529489866296574,
          3.5446233004881753,
          3.5597567346797767,
          3.5748901688713772,
          3.5900236030629786
         ],
         "xaxis": "x",
         "y": [
          0.001650250678719553,
          0.001657718228769453,
          0.0016609760901285596,
          0.0016603009025005758,
          0.0016560433121309407,
          0.0016486248169406688,
          0.001638533356470589,
          0.0016263177222722758,
          0.0016125808893304272,
          0.0015979723910715168,
          0.001583179878952587,
          0.0015689200221151855,
          0.0015559289128625094,
          0.001544952149653166,
          0.0015367347709321485,
          0.0015320112106086017,
          0.0015314954396386717,
          0.0015358714483880477,
          0.0015457842117296407,
          0.0015618312637405954,
          0.0015845549920039282,
          0.001614435743516224,
          0.0016518858156697395,
          0.001697244387303734,
          0.00175077342694675,
          0.0018126545985766727,
          0.0018829871699091233,
          0.0019617869147005255,
          0.0020489859890403324,
          0.002144433752230063,
          0.002247898495631512,
          0.0023590700377446976,
          0.0024775631405918766,
          0.0026029217010011116,
          0.0027346236702967402,
          0.002872086656853552,
          0.0030146741675549414,
          0.0031617024459873358,
          0.00331244786677227,
          0.003466154846366959,
          0.003622044230570243,
          0.003779322117524876,
          0.003937189071952274,
          0.00409484968152775,
          0.004251522399643298,
          0.004406449610370041,
          0.0045589078414074525,
          0.004708218039502296,
          0.0048537558106721695,
          0.0049949615151240944,
          0.0051313500946624305,
          0.005262520499349587,
          0.005388164570978388,
          0.005508075234304596,
          0.005622153843711881,
          0.005730416533704293,
          0.005832999426897786,
          0.0059301625634120975,
          0.00602229243095694,
          0.006109902995454677,
          0.006193635157495025,
          0.006274254589776925,
          0.006352647944208394,
          0.00642981745352156,
          0.006506873989925853,
          0.006585028681108153,
          0.00666558322032464,
          0.0067499190408957166,
          0.006839485554617144,
          0.006935787677042387,
          0.0070403728790567645,
          0.0071548180126889595,
          0.007280716159047906,
          0.007419663737364134,
          0.007573248096505222,
          0.00774303578460906,
          0.007930561659657954,
          0.008137318965330998,
          0.008364750454114478,
          0.008614240595499398,
          0.008887108863425041,
          0.009184604056294303,
          0.009507899567204178,
          0.009858089493641552,
          0.010236185456628518,
          0.01064311399056578,
          0.011079714367690388,
          0.011546736735379572,
          0.012044840470064405,
          0.012574592687130126,
          0.013136466890053603,
          0.013730841791713097,
          0.014358000393315536,
          0.015018129458341908,
          0.015711319566688316,
          0.016437565974120574,
          0.017196770530761765,
          0.01798874492646712,
          0.018813215528059663,
          0.01966983005172331,
          0.020558166272505025,
          0.02147774291204734,
          0.022428032766617628,
          0.023408478042619335,
          0.024418507759489783,
          0.025457556964623075,
          0.026525087386858444,
          0.02762060903990222,
          0.028743702180828553,
          0.02989403893759274,
          0.031071403849043604,
          0.03227571251639941,
          0.03350702755083264,
          0.03476557102081856,
          0.036051732657031633,
          0.03736607316209233,
          0.03870932209608111,
          0.0400823699635504,
          0.04148625430935759,
          0.04292213983323046,
          0.04439129274958173,
          0.04589504984185798,
          0.04743478288119367,
          0.049011859288651455,
          0.050627600110318575,
          0.05228323653690983,
          0.0539798663270634,
          0.055718411580063736,
          0.05749957934456859,
          0.05932382654187115,
          0.061191330623864316,
          0.06310196727749058,
          0.06505529633114124,
          0.06705055681796178,
          0.06908667191159344,
          0.07116226417817319,
          0.07327568129212542,
          0.07542503205097205,
          0.07760823220516563,
          0.07982305930216826,
          0.08206721543898936,
          0.08433839653321336,
          0.08663436646767417,
          0.08895303424611259,
          0.09129253212320214,
          0.09365129254790659,
          0.09602812168877921,
          0.09842226729665439,
          0.10083347870608544,
          0.1032620568822301,
          0.10570889258372361,
          0.10817549093199184,
          0.11066398094971544,
          0.11317710895065487,
          0.11571821502347784,
          0.118291192246052,
          0.12090042868537147,
          0.12355073267233632,
          0.12624724227983655,
          0.12899532036618994,
          0.13180043696286012,
          0.13466804117440137,
          0.13760342510876156,
          0.14061158265705515,
          0.14369706618409836,
          0.14686384436596375,
          0.1501151645116559,
          0.15345342272744975,
          0.15688004522136081,
          0.1603953839004959,
          0.16399862918703192,
          0.16768774267284545,
          0.17145941185444621,
          0.17530902874695342,
          0.17923069367873545,
          0.18321724502894915,
          0.18726031510200009,
          0.19135041175033513,
          0.19547702477491438,
          0.19962875556628776,
          0.2037934679130719,
          0.20795845741254063,
          0.212110636482554,
          0.21623673160589243,
          0.22032348914603192,
          0.22435788586404745,
          0.2283273401437414,
          0.23221991989796265,
          0.23602454318256932,
          0.2397311676825445,
          0.24333096545203473,
          0.2468164795795468,
          0.2501817598023546,
          0.2534224745005688,
          0.2565359969503779,
          0.25952146419659644,
          0.2623798074054164,
          0.26511375306808393,
          0.2677277949345707,
          0.27022813705341625,
          0.2726226087710487,
          0.27492055299347756,
          0.2771326894289502,
          0.27927095490695386,
          0.28134832320306224,
          0.28337860708797247,
          0.2853762455612135,
          0.2873560794249151,
          0.28933311850096083,
          0.291322303896749,
          0.29333826878197683,
          0.29539510115299833,
          0.29750611203408367,
          0.2996836124981146,
          0.30193870278447055,
          0.3042810766504638,
          0.30671884391603466,
          0.3092583739502306,
          0.31190416260340614,
          0.3146587248115153,
          0.3175225147892952,
          0.3204938753883422,
          0.3235690178253831,
          0.3267420325870979,
          0.3300049318931663,
          0.33334772365192433,
          0.3367585163773225,
          0.3402236540570827,
          0.3437278794763038,
          0.3472545240158082,
          0.3507857214687326,
          0.3543026429616815,
          0.357785749638402,
          0.36121505937504506,
          0.36457042345747426,
          0.3678318088734652,
          0.3709795816660066,
          0.37399478666733804,
          0.37685941889446545,
          0.37955668194133296,
          0.3820712288543414,
          0.384389381227308,
          0.38649932259765685,
          0.38839126266297375,
          0.3900575693584672,
          0.3914928664310671,
          0.3926940948017691,
          0.3936605367092496,
          0.39439380235751653,
          0.3948977795299971,
          0.39517854736298996,
          0.3952442561734387,
          0.39510497589123517,
          0.39477251623735904,
          0.3942602223010082,
          0.39358274958870076,
          0.392755822936481,
          0.39179598388647463,
          0.3907203312283035,
          0.38954625939507953,
          0.3882911992871108,
          0.386972365881678,
          0.3856065166844957,
          0.38420972470063325,
          0.3827971691641541,
          0.38138294678201634,
          0.3799799057350077,
          0.3785995041522637,
          0.3772516942511711,
          0.37594483282465246,
          0.374685618274495,
          0.3734790539420102,
          0.3723284370829148,
          0.37123537247641625,
          0.370199809351514,
          0.36922010005635736,
          0.3682930786875475,
          0.3674141577321309,
          0.36657744065143844,
          0.36577584824786424,
          0.3650012565980211,
          0.36424464430339654,
          0.3634962467983901,
          0.36274571546164547,
          0.3619822792974683,
          0.3611949069881338,
          0.36037246716475996,
          0.35950388480455,
          0.3585782917370666,
          0.3575851693337304,
          0.35651448156523774,
          0.3553567967435585,
          0.3541033964205677,
          0.35274637009602267,
          0.35127869459423006,
          0.3496942972013422,
          0.34798810191252066,
          0.34615605841784997,
          0.3441951537540156,
          0.34210340686077206,
          0.3398798466007722,
          0.3375244741216735,
          0.3350382107526468,
          0.3324228329251899,
          0.32968089588194804,
          0.32681564817836106,
          0.3238309391822805,
          0.3207311219285045,
          0.3175209537819153,
          0.314205497399172,
          0.31079002445082404,
          0.30727992447139646,
          0.30368062104414933,
          0.2999974973021092,
          0.29623583244172536,
          0.29240075060657894,
          0.2884971831145691,
          0.28452984458327424,
          0.28050322306706116,
          0.2764215838692627,
          0.27228898624801723,
          0.2681093118097783,
          0.26388630299492244,
          0.25962360971934806,
          0.2553248419572174,
          0.25099362584418183,
          0.24663366075609466,
          0.24224877478149545,
          0.23784297605970403,
          0.2334204975999024,
          0.22898583342609885,
          0.22454376420119934,
          0.220099370860101,
          0.21565803521360433,
          0.21122542695636443,
          0.2068074770059084,
          0.20241033759743207,
          0.19804033004214955,
          0.19370388150709816,
          0.18940745257467237,
          0.1851574576756977,
          0.1809601807482486,
          0.17682168864636336,
          0.17274774490257533,
          0.16874372643376095,
          0.1648145456730132,
          0.16096458041653125,
          0.15719761340281244,
          0.1535167833036478,
          0.14992454841680644,
          0.1464226639250261,
          0.14301217314207387,
          0.1396934127216095,
          0.13646603137534974,
          0.13332902124924662,
          0.13028076075400055,
          0.12731906735071452,
          0.1244412585625361,
          0.1216442193244339,
          0.11892447369820248,
          0.11627825896772498,
          0.11370160018674226,
          0.11119038337153742,
          0.10874042570541168,
          0.10634754134023959,
          0.10400760163118294,
          0.10171658891160089,
          0.09947064319411905,
          0.09726610145902251,
          0.09509952945187986,
          0.09296774614938573,
          0.09086784125827585,
          0.08879718628128425,
          0.08675343981302978,
          0.0847345478160448,
          0.0827387396734838,
          0.08076452082280075,
          0.07881066274778908,
          0.07687619105000588,
          0.07496037224082396,
          0.07306269979871458,
          0.07118287992960752,
          0.06932081735782587,
          0.06747660136721563,
          0.06565049221200056,
          0.06384290792897017,
          0.0620544115101676,
          0.06028569834047051,
          0.058537583768375714,
          0.0568109906608541,
          0.055106936793288305,
          0.05342652194133176,
          0.05177091457045717,
          0.050141338057933395,
          0.04853905642761582,
          0.04696535962682836,
          0.04542154842340668,
          0.04390891904658701,
          0.04242874773519818,
          0.040982275388387175,
          0.039570692536322664,
          0.038195124860047586,
          0.036856619490574845,
          0.03555613230776357,
          0.03429451644031848,
          0.03307251214073079,
          0.03189073817482117,
          0.030749684826669118,
          0.029649708578189275,
          0.028591028480517876,
          0.027573724193685412,
          0.026597735633551216,
          0.02566286413218032,
          0.02476877499090631,
          0.023915001285036246,
          0.023100948765904444,
          0.022325901699759176,
          0.021589029483404854,
          0.020889393882934933,
          0.020225956753319965,
          0.019597588111936064,
          0.019003074457072833,
          0.018441127241770192,
          0.01791039143275878,
          0.017409454102681014,
          0.016936853020185008,
          0.016491085216140854,
          0.01607061551460172,
          0.015673885023926283,
          0.015299319586653974,
          0.01494533818644653,
          0.014610361307051763,
          0.014292819232326993,
          0.013991160268513011,
          0.013703858860870704,
          0.01342942356719896,
          0.01316640484132917,
          0.01291340257107424,
          0.012669073307835349,
          0.012432137119569031,
          0.01220138399539843,
          0.011975679729002752,
          0.011753971209097816,
          0.011535291048787429,
          0.011318761491179831,
          0.011103597536210099,
          0.010889109242822208,
          0.010674703171231502,
          0.010459882941586465,
          0.010244248897643455,
          0.010027496876734519,
          0.00980941610003517,
          0.009589886209636153,
          0.009368873490922597,
          0.009146426330024281,
          0.008922669966406357,
          0.008697800609829023,
          0.00847207899875759,
          0.00824582348371426,
          0.008019402723930895,
          0.007793228088919853,
          0.007567745858202028,
          0.007343429312431705,
          0.007120770807602193,
          0.006900273921010711,
          0.006682445753363856,
          0.006467789466014071,
          0.006256797126065459,
          0.006049942925234136,
          0.005847676831164402,
          0.00565041872265451,
          0.0054585530531843585,
          0.00527242408047442,
          0.00509233169370228,
          0.004918527864560867,
          0.00475121374358638,
          0.004590537419066819,
          0.004436592352242383,
          0.004289416499236041,
          0.004148992126966175,
          0.004015246326915306,
          0.003888052226767874,
          0.0037672308953072293,
          0.0036525539303348294,
          0.0035437467125604147,
          0.0034404923003136475,
          0.003342435930546389,
          0.0032491900810434496,
          0.003160340037266981,
          0.003075449895164984,
          0.002994068919017158,
          0.0029157381614913565,
          0.002839997242114996,
          0.002766391170926773,
          0.002694477096752238,
          0.0026238308548844963,
          0.0025540531874117542,
          0.002484775511367888,
          0.0024156651155066476,
          0.002346429675875143
         ],
         "yaxis": "y"
        },
        {
         "legendgroup": "KDE Plot",
         "marker": {
          "color": "rgb(31, 119, 180)",
          "symbol": "line-ns-open"
         },
         "mode": "markers",
         "name": "KDE Plot",
         "showlegend": false,
         "type": "scatter",
         "x": [
          -0.7515839856025859,
          0.12814913401049294,
          0.9114540206886954,
          -2.2428156369520797,
          0.052832943312428875,
          -0.896533596998961,
          0.5832711956986748,
          0.11343094549348938,
          -0.05883491806994993,
          -1.465244032645943,
          0.6607412473386166,
          -0.8178930910423382,
          0.7328834697220393,
          -0.1002256249912997,
          -0.18478700785421637,
          0.9980290581840179,
          -1.2017152728278513,
          0.31143271537438894,
          0.6748421557810776,
          -0.6280918260067968,
          -0.48326427530674365,
          -1.8278006823397008,
          -0.12092714333514469,
          -0.32448952290960537,
          0.019984115074716785,
          -0.7816963031971824,
          -0.12604844649142197,
          -0.28684027432486814,
          0.7629963966999551,
          -0.9464504105168019,
          -0.04388588825024711,
          -0.3888917847458373,
          -1.2250655758583056,
          -0.1260301880090151,
          -0.9983803517108701,
          0.2423955976136059,
          0.08416120500381225,
          -0.6636287485887407,
          1.5161563754166851,
          -3.103480031944006,
          0.2885476749656036,
          1.7681816873414715,
          0.13790977207023622,
          0.9933107003862325,
          -0.5884859102345793,
          1.0052471735328157,
          1.493959927663599,
          -1.5002972009461335,
          1.5262591276570217,
          -1.493995966159682,
          0.7993599906784942,
          -1.176807631256165,
          -0.3155832005814096,
          -1.329862883151834,
          -0.33788471579695856,
          0.06823878910117287,
          1.2344705614703857,
          -1.7742064256520422,
          -0.10664426421870689,
          -0.2814951073576434,
          -0.31996530681943747,
          -0.1831550854075147,
          -1.5117753455810345,
          0.5629142929423161,
          0.06300990233789659,
          -0.14930544041405955,
          0.7457948838329493,
          -0.34006093570348883,
          -0.6125797198931003,
          1.1608737494894228,
          -0.5082716764970224,
          0.17089804285228472,
          1.3266222621177093,
          0.21480664367471217,
          0.7622995080934098,
          -0.24763436362902694,
          0.4959455768700602,
          1.8471607461300423,
          0.5398764070216732,
          -0.148571281134275,
          -1.226766576755922,
          -0.06763553776075035,
          1.7299541317823561,
          0.5235974747595339,
          -0.5071597653999879,
          0.6000710220228112,
          -0.44622703961946575,
          1.043774752230626,
          0.7022643141735345,
          0.14318221552541963,
          -0.09159619972422452,
          0.31583786106227063,
          -2.474550443883275,
          -0.53554969204647,
          1.0250334013069766,
          0.7933763266649011,
          1.241370621936719,
          0.2980310815015664,
          -0.44128870364645684,
          0.11179568104689905,
          1.250209717927806,
          0.5933407958081757,
          0.08103139281975161,
          -0.8424195743809961,
          -1.3790324557348161,
          -0.5108233610164048,
          0.20844276024595618,
          -0.8787231866629197,
          -1.5886699042463057,
          -0.6614645544465066,
          0.9063956390159769,
          -1.9600889748221968,
          -0.5965092359225314,
          -0.9264833660679833,
          0.8877731300493773,
          0.7405298026975071,
          0.749740156854074,
          2.2911211324882976,
          -0.44658026768090214,
          0.2361770619838804,
          -0.6829490155992547,
          0.9855033014620347,
          -0.6381716558279023,
          0.16470829079362698,
          0.3825968032333263,
          2.979440041227358,
          -0.7950162214548245,
          1.7240318417666958,
          0.5799839432442635,
          0.5807474245013763,
          1.4671621349703774,
          -1.8092230383761119,
          -1.534827494690858,
          0.9302011800342852,
          0.5971067649193107,
          0.7047385207537546,
          -1.565383806400087,
          -0.7395168860924018,
          -1.8185567388409822,
          -0.40220064797074484,
          -2.2221341659834617,
          1.0406025114174458,
          0.3941710955421134,
          0.6982278098320527,
          -0.5694547018568297,
          -0.6156712967613039,
          -1.4680423176754576,
          -0.49228366807887897,
          -0.5433890386348044,
          1.8518159750142362,
          0.12495497658174687,
          -0.21252945832742243,
          0.6263671914691,
          2.264005570598743,
          -0.37867981531413497,
          -1.406450860461696,
          -0.10512546547811699,
          -2.5960720794282097,
          0.2286485590135552,
          0.9723614580220538,
          -0.5304561993855106,
          1.1921857039298085,
          -0.13001871677178473,
          -0.1308518141597403,
          -0.8583205475578671,
          -1.5174792196811937,
          -0.6486523071351886,
          -0.21164526643611772,
          -1.1585552423504386,
          -2.1526405005201807,
          1.1703425659415474,
          -1.0956204749049256,
          1.1042021148800139,
          0.1609171222261468,
          -1.8851538488860664,
          0.6495979206206984,
          -1.0624631687662571,
          1.1170928900207755,
          0.2348457173557437,
          -1.2717914457117467,
          0.5159528926671703,
          -0.9928268682234542,
          0.31735995771428044,
          -0.9247553723589537,
          0.43219238218067335,
          -0.24232245311781914,
          -1.0555853618261606,
          1.7026842141061873,
          -0.8571845312301161,
          2.041601609796793,
          1.0055176776906505,
          -0.8973052286428961,
          -3.306722109896509,
          1.4753428779325888,
          -1.719034267123092,
          0.6539420556764608,
          -0.16969635784931963,
          2.7030449905757985,
          -0.6133862077417332,
          0.2713121490565003,
          -0.45470343492217513,
          0.37060650766888714,
          0.19881863922692244,
          1.0673272952114714,
          -0.9235199129935012,
          -0.4235668887483789,
          0.22309982429482933,
          -0.9642115200420399,
          -0.28168461180291177,
          -1.036884266472644,
          -1.056779264698282,
          -0.8578705129550473,
          0.4703148378381293,
          -0.09184149534925136,
          0.1277438264227911,
          -0.7700115943758816,
          -1.0149350374853146,
          0.7203463510734242,
          0.9964232672490653,
          0.20978064763440904,
          0.40385990094263685,
          -0.24267809165452675,
          0.42502157458483675,
          -1.4245447176508905,
          0.0956430287346672,
          0.9267284012101774,
          1.0212080839456263,
          -0.2484753512707637,
          0.07781011309123387,
          1.4426896489700107,
          -1.33723995646011,
          1.9116337562789063,
          1.1052557392316247,
          -1.526828590527236,
          0.6856044944620489,
          0.6957796282505992,
          1.004388262498641,
          0.12266204409825548,
          0.7185224495979544,
          -1.1378196043517563,
          0.22449483870041465,
          0.814734917679946,
          -1.0492434211998591,
          -0.1288945010485071,
          -1.5708909138541354,
          -0.3148203414551492,
          0.1822356320001906,
          -0.3562766627831856,
          1.8914228422939778,
          0.5674247901035344,
          1.249439144686972,
          -0.9776384126443927,
          0.23360747578622737,
          0.5641128292634715,
          -0.05004240737121812,
          -0.9673104941044244,
          -1.3157155915746015,
          1.1244306133170816,
          0.8260595620294995,
          -1.0899790118646209,
          -0.1319008715388484,
          0.9757949993505374,
          -0.04687989763922254,
          -0.20254455804360336,
          0.38481062762588364,
          -1.577673071909063,
          -0.3300970936284212,
          1.7702146547718685,
          -0.658840086960861,
          0.39931214317687863,
          0.30808528641836547,
          0.13298016222971748,
          -1.0373421734583965,
          -2.154630217689058,
          1.6885873748010043,
          -0.6134567619898776,
          -1.2947684707564948,
          0.08920621393529778,
          -0.9817947445808202,
          -3.034319474156476,
          2.3716173115881434,
          0.967196647467048,
          -0.772754526634137,
          -0.1192605405422086,
          0.22078500116771263,
          -2.2540533599307144,
          0.1318362688913172,
          -1.1423545619272373,
          0.12834786910521495,
          -0.948370566688818,
          -0.8375412180194056,
          -0.27149760304994475,
          -0.3821010681049564,
          0.5277227925277981,
          0.558927452168024,
          1.0790624850720407,
          0.19312736339915604,
          0.21215482341425512,
          -0.11667889789012846,
          0.23821228240762587,
          -1.3256656927069372,
          -0.32322736711221467,
          1.5163093093483866,
          1.021036337395972,
          -1.0835935177573384,
          0.38465592549712085,
          -0.9907364921541245,
          -0.23751265195785476,
          1.314533241685808,
          -0.3097058033597728,
          0.47965128446285826,
          -1.4275226955807985,
          0.73236360498091,
          -0.10023343153703104,
          0.8278634046603217,
          -0.05387135993510914,
          0.5619270634525072,
          -0.19198515417646855,
          -0.975833852302733,
          1.0008528198240734,
          -0.538949377685589,
          -2.1328062786193347,
          0.4466801613036003,
          1.9544387662011133,
          1.5465463372448736,
          0.0653474770389854,
          0.7538631792790834,
          0.6365051895403327,
          -0.19750308946860523,
          -0.28223124869049615,
          0.9972851681957676,
          -0.3130838587480838,
          0.5283272260686284,
          -1.0485279808099244,
          1.1362653366394102,
          -0.8403770474046381,
          0.7249387004532502,
          0.6519113203931409,
          0.29769411805298096,
          0.8666390434760985,
          -0.7625523996002908,
          0.9812143642098403,
          1.5004849135057108,
          -1.28737037146091,
          -0.5834268327974126,
          0.5194066115587533,
          1.0364371520541127,
          0.6265278740267891,
          -0.2717195381343281,
          1.5179464120494124,
          -0.834336538571588,
          0.39683474515344414,
          0.6294277467940118,
          -0.07658375490010587,
          -0.2387237896980843,
          0.34652914613747177,
          1.1138326635648312,
          -0.9644832214308217,
          -1.15455515108352,
          0.052995912077468864,
          -0.33834690188605265,
          0.1805711710267685,
          2.5726766572062147,
          0.8178235927323763,
          -1.6442300770654898,
          0.6221259110626373,
          1.4549716053677368,
          1.4791823217987055,
          -0.9593443977981903,
          0.692851256336851,
          -1.0935333719385378,
          1.0449174275592021,
          -0.7189643910193466,
          0.764073320976972,
          -3.9615600585459054,
          -0.7302588662992608,
          -0.7559347829763347,
          -0.9720952255867438,
          -0.2877234546957895,
          1.6135735637355713,
          -0.38710040148900493,
          -0.9385739218626933,
          -0.1847184650511263,
          0.31648001014425825,
          2.292536871204057,
          3.240352934700151,
          0.27625293996567557,
          1.6101981475090736,
          -1.2992225314890609,
          2.0970251373955437,
          0.5925239080552683,
          -0.5094661565628013,
          0.44885434730076756,
          -0.4049788308785062,
          0.1627149207604431,
          -0.3261859857116598,
          0.47951876725774545,
          -0.9782134412597958,
          -0.52140227677817,
          -0.8836311721244356,
          0.295996093884872,
          0.562202496511469,
          0.23979658933373624,
          -1.14139774611686,
          0.7487346966619735,
          -0.1694986753938727,
          0.5759409120703849,
          -0.38882766128665064,
          -1.1189963455691032,
          -1.0967962145709569,
          -0.7465893086489532,
          -1.0992436183492214,
          -0.9321895056026273,
          -1.1423208830824119,
          0.7741173002460224,
          1.4819468769190918,
          0.6740528426119877,
          -1.2421681137385143,
          0.7702351602536458,
          0.23517903633703885,
          0.4819090314305866,
          -0.5584562993115526,
          0.1724696340212649,
          -0.6390432215048905,
          0.15766144632909732,
          -0.8546603423394656,
          0.8278967000358696,
          -0.6661214193983765,
          1.118542889600468,
          -1.1283789286166344,
          -0.9895224292020611,
          -1.1635422046212267,
          0.6160092851923569,
          3.6051570372545796,
          -0.20498621144607865,
          -0.27372571417162883,
          -0.7075250956559008,
          0.028820253001275123,
          0.49748557744421007,
          -0.9545827584618556,
          -1.1902268687312858,
          1.4303500332088306,
          0.6335921516768283,
          -1.1414077058564995,
          -0.3421306786420379,
          -0.9658235336320199,
          -1.6126479667465108,
          -0.34523854489884875,
          0.33466476909572973,
          -1.911419060043433,
          0.16436592324819108,
          -0.6389668208002992,
          1.1536855360285148,
          -1.3461990871764533,
          1.9140370555883623,
          -1.5034787529877331,
          -0.12258748011724954,
          0.6755368390837129,
          -0.8831670933713778,
          0.5155612023622392,
          0.8164585917896395,
          -1.207104211400625,
          -0.4646698499795966,
          -2.008000108803488,
          -0.013789790124819035,
          -0.40639262582155833,
          0.930332525628318,
          1.8172259141261535,
          -0.44464304340528665,
          -0.8527025861351264,
          -0.8617675853187593,
          -0.6365614907393017,
          0.6731443762985886,
          -0.7815339175521645,
          -0.891889382497764,
          0.004962736338657031,
          -1.7746035292950424,
          -1.2384330988417567,
          -0.9010395360442942,
          -0.7763077479038161,
          1.349893213733946,
          0.24222462870221514,
          -0.3598859352893256,
          0.4777327480995493,
          1.3731450730393833,
          1.0847455815518967,
          0.4533814797333113,
          0.7657311821125607,
          0.7323204139106043,
          -1.6280177912357974,
          0.09303860642231732,
          -1.2207959898037999,
          -0.016280492316579635,
          0.30690340956478235,
          -1.8577347531087827,
          0.949192592040141,
          -0.03777939375221733,
          -0.6832779273082725,
          0.4334012129396072,
          -2.2020756590158377,
          -1.6292250663081895,
          0.6624720815685311,
          0.7920230912865385,
          -0.525374139667638,
          2.8244942799782264,
          0.9082846398463785,
          -1.6759547010049052,
          0.41700680587661676,
          0.488708226115813,
          -0.2884229614579768,
          -0.6732191999185337,
          -0.18628661477461345,
          -0.49991436182644494,
          0.623228390035922,
          -0.8567191890718048,
          -0.46854494416868603,
          2.0110173062246632,
          -0.876619454016422,
          0.2958634309170692,
          1.7041083092329707,
          -0.41011685041711743,
          -0.23616164644329002,
          -1.5014935356029655,
          1.1134602973823882,
          -0.07235109944545176,
          0.39708302768657433,
          0.7470679969295837,
          1.7724854785324988,
          -0.13952897639200293,
          -1.7616077485427482,
          -2.532537315862015,
          -0.3341155535356169,
          -1.3839727404278437,
          -1.1119149965732935,
          0.5449071241221825,
          0.5178941026736166,
          1.1617033684153881,
          1.5637976607371438,
          0.5931378731453616,
          -0.931081711103374,
          -0.04467108711237803,
          -0.9660436368338641,
          1.6319142196677503,
          0.15708669941938969,
          -0.44855838347599225,
          1.366695627192743,
          -0.4629313322709413,
          -1.1062627674647327,
          -0.9912592939519622,
          -0.31632149095521994,
          -0.08833817638049121,
          -0.12176513873863194,
          0.013925190754320632,
          1.031767703781133,
          -1.1912238157852006,
          0.9057910011930649,
          -0.8048893975420319,
          0.0861542111798172,
          -1.0074683116778735,
          -0.16367848009603522,
          1.2261388511182088,
          0.8047540197225649,
          1.2601773673896004,
          0.9567105434585009,
          -0.18711093277705687,
          -2.5013633139816673,
          0.8224520784724754,
          -1.608990833765605,
          -1.4270345754931621,
          0.7403971132228524,
          2.6744587080582862,
          0.3998781654286003,
          0.4096527472708215,
          0.1526155106662341,
          0.4096997873343949,
          -0.4094480235968122,
          -0.2527087749525696,
          -0.09911592560740608,
          -0.8587867708905474,
          -1.3252119798246569,
          -1.7033842242903232,
          -0.8528336667648463,
          0.47306504070446503,
          -0.0897526762869833,
          0.04851501223725426,
          -0.6857662456650565,
          0.30446980028784454,
          0.5191197954893433,
          -0.20763108251038254,
          0.8461600094624621,
          -0.5505604970632068,
          1.2399999183894295,
          0.1632424626782231,
          0.402502882719719,
          1.0628941114351125,
          -0.32480405011129604,
          -0.30586694885462923,
          -0.8147987338030812,
          0.7751433812256241,
          1.229417228923013,
          -0.7846139609500586,
          -0.6887161032751428,
          -0.10440015592087812,
          -2.023508306473574,
          -0.19655523130847474,
          -0.08462219354535461,
          1.1982877628950275,
          1.0145181989706282,
          0.6752911530187816,
          -1.0082511530444107,
          -1.4188233688060017,
          2.022570505668098,
          -0.27742000351036555,
          -1.541941955742678,
          -1.0848965458674389,
          0.4394466157172395,
          -1.1435263609226385,
          0.6355246418615447,
          0.047930942867652475,
          -1.5220454310733114,
          -0.5334861235391479,
          0.21678714890813547,
          0.38797424602899483,
          2.0954716727605,
          2.534553375986383,
          0.8296422981263673,
          1.8696745672462471,
          -0.8355700478929603,
          -0.21180756669751338,
          1.229412991155583,
          -0.1332278311298302,
          -2.211222957752022,
          -1.8012957751794532,
          -0.46238012958486874,
          0.49254657294194926,
          1.355183470117882,
          0.0804327113242314,
          0.653370097805786,
          0.4704138438643996,
          -0.3381868650810289,
          -0.7267386501323252,
          0.31783759684818197,
          -0.40033219097406114,
          -0.24975347744222973,
          0.13849323429280658,
          -2.2216369981771633,
          0.21602466928036407,
          -0.17359698069884227,
          0.6016804090332313,
          1.2040888190831533,
          -0.45697497963080785,
          -0.300790106315526,
          -1.1082941692506754,
          1.0714377223695668,
          -0.8792848997753736,
          -0.09029703052466594,
          -0.9300872577868037,
          -0.5731398741037941,
          -0.19740181732681014,
          0.3708389522248377,
          0.0401266206022671,
          0.0848636087867176,
          0.5599270866820303,
          1.6457904283672444,
          -1.0956073140416789,
          0.4102588584099056,
          -1.1557003535859547,
          1.2112419488335264,
          -1.3744138052804742,
          -0.1706866778728808,
          0.47238702063388643,
          -1.2491853214231188,
          0.3037709840855773,
          1.4140979180752913,
          -1.8923698289519881,
          -2.1653127939288717,
          -0.7642780873142369,
          0.48139191678311566,
          -0.42208859058876813,
          -0.3435631166684641,
          -0.3702505512892883,
          0.2091031563873801,
          0.3468643269750931,
          0.38281145339132644,
          0.9884762531279263,
          -0.5743905535261611,
          0.06293663748985091,
          -1.4925727040811123,
          -1.3983416324144384,
          0.7040211541117469,
          -0.1277071292413952,
          0.11034004226452651,
          -1.7304723677597207,
          1.7972821893215685,
          -1.0037436127313595,
          -0.5143049115853943,
          0.736557841427612,
          0.9399716215096152,
          1.0766458501829999,
          0.9053348868667425,
          -0.9416064364033802,
          0.07434427309061958,
          0.78977867346328,
          0.7363710791032553,
          0.37412487136185935,
          -0.3067452726784669,
          -0.32852874073194005,
          0.41963554453958246,
          -0.7997557281117365,
          1.0994729071090759,
          -0.06131422511871507,
          0.4614862833416731,
          0.4035882803199114,
          -0.01700323877059018,
          0.10605163427908627,
          0.5076030938623318,
          -0.020828890117651756,
          -0.16701873993171404,
          -0.22979638371434596,
          0.4337964715270621,
          -1.6067378392511689,
          -0.36982546967792534,
          -0.13095221911287147,
          1.4928985339818175,
          -0.57968466601516,
          -0.19204234328589243,
          0.42910855678621546,
          0.5814988172702114,
          0.47702124804565343,
          -0.22394894928351247,
          -0.18785375744041138,
          0.7793500702746227,
          -1.5192445342612568,
          -0.5978746228136447,
          -0.30058394357584445,
          -0.5524547768819865,
          1.4823032351275394,
          -0.63182760012222,
          -1.1206642432969187,
          -0.0812926039287238,
          0.10594174067550272,
          0.8572282265983494,
          -1.115316229904432,
          -0.3558427932937919,
          0.34315066354255097,
          -1.0591486670615788,
          -1.6289083982075632,
          1.459314813341351,
          -1.721695910162112,
          -0.012092962972699248,
          -0.17776605750989083,
          -1.1388300595497713,
          0.17709617558113888,
          0.7836567086236244,
          -1.5640028905476837,
          -0.4701419952053006,
          -0.405576369545139,
          -1.8373318523295767,
          -0.495186739777926,
          0.4409074027641657,
          -0.2784783928763774,
          1.5652252453372573,
          -0.6192672541282173,
          -0.04406933436955809,
          0.6268830620322814,
          0.3453764504812839,
          -1.0613243842166322,
          0.5670509754807938,
          -1.7680664578631318,
          -0.6451113833617429,
          1.3131862723659424,
          -0.2148557945946556,
          -1.274095178729629,
          1.3870601683057158,
          1.5830294050303655,
          -0.6365175940065946,
          1.5471033244323273,
          0.9440267602913833,
          1.2284388353986198,
          2.0777327449403753,
          -1.1859347133497773,
          0.04164758467922625,
          -0.6334644566573854,
          1.0522187836621875,
          -0.25137642816869094,
          -0.15130476018607367,
          -0.22871442449827936,
          1.7041330385020586,
          -0.08292918759939116,
          -1.245286154795451,
          0.1846328742222757,
          0.5634107453526893,
          0.6691640640314502,
          1.0863778777677306,
          -0.1879330057500876,
          -1.9881267724158675,
          0.12382338909679194,
          0.7149307171301718,
          -0.915502187310192,
          -0.35571446623940917,
          -1.143285712331413,
          -1.217328502841508,
          -0.44487748603795385,
          1.3196362689458896,
          -0.9990095674942634,
          -0.33530227083834246,
          1.1516350200124998,
          -0.9301117410136942,
          -0.16125060328725402,
          -1.6827593145533881,
          -1.5374348480757218,
          0.4963665528965005,
          -0.39973305603783327,
          -0.2740533322548707,
          -1.110033102154551,
          1.152124766738961,
          -0.24179356354643777,
          -0.3856097157551473,
          -0.7613068002623471,
          0.6177577148024709,
          0.2655844723248144,
          2.014572631831174,
          -2.09313627216269,
          -0.16206693151373094,
          1.105950484584887,
          1.4772318017937716,
          0.06438179046935386,
          -0.4668341060663005,
          0.25719461288020584,
          0.44748880570086097,
          -0.7091465815792919,
          -2.0292786376912515,
          -0.7452022113972517,
          -0.20861925551196478,
          -0.28359053315528177,
          -0.09637681863472275,
          -0.4413241198335764,
          0.40347233269980914,
          0.8151788666552624,
          -2.165098356227809,
          -0.8897754770356454,
          -0.3823804736457823,
          0.07822733337382777,
          -0.33310026217024447,
          0.667131207519951,
          -1.1517356698715429,
          -1.3406947252149488,
          -0.8597251055753429,
          0.17740940976568162,
          2.307494260703432,
          -0.579332822637786,
          0.5207686197673744,
          1.9830272667610767,
          -0.11843306822960464,
          -1.763552379573479,
          -0.4466494421014263,
          0.39977463814547237,
          0.3597094970565289,
          0.44324623029552396,
          0.7610212142588266,
          0.06839343889136007,
          -0.06373625626729609,
          -2.8928270980390565,
          -1.1746760744596159,
          -0.11906730012960492,
          -1.193842620930593,
          0.2838163235164681,
          -0.3282854274290695,
          2.9372659159197263,
          -0.7256169285683897,
          0.4161292365749353,
          -0.5232680864037297,
          0.14534400198494987,
          0.9497853292463613,
          1.1142887050210228,
          -0.1749996407286401,
          1.0180375003253026,
          -0.5474277996786145,
          0.9651603469362705,
          0.5636648686833033,
          0.669020355097932,
          0.8350052090998156,
          -0.5881944326829529,
          0.5512497582969532,
          -0.9973746823529539,
          -0.007238025579307329,
          0.9702458453162202,
          -0.3740763247144873,
          0.1408741946873347,
          -0.3095505546792905,
          0.9866906975755125,
          -0.000845996341268212,
          -0.0944513398618079,
          -0.13792774789847442,
          0.39603243044115893,
          -0.41203541771275853,
          1.4702103785944016,
          -0.1687899771434182,
          -0.7910530283480084,
          -1.004873152304782,
          0.18100987860063236,
          0.41426217151410794,
          -0.4036365319246837,
          0.12861539837416566,
          0.9555466288143117,
          0.5056076928849278,
          -0.1455316138705385,
          -0.45935236284511405,
          1.4286417437455334,
          -0.6534228294240242,
          0.45428418104131507,
          0.5141807785213472,
          -1.7064566083298858,
          1.8067402407840039,
          -1.1680701060229535,
          -0.7689072631942826,
          -0.24598292240896932,
          -1.6899352837396995,
          -0.5041240708459757,
          -1.4757637849462033,
          -0.9173067096260249,
          0.4736564076373497,
          -0.9694534310472632,
          0.4670813225660961,
          0.9625283100986305,
          -1.217763575482923,
          -0.9395592046524545,
          0.5500156766818025,
          0.9383954405304394,
          1.060257590335735,
          -0.1396241682333874,
          1.1463978228208578,
          0.38413589681085464,
          0.028935268470393096,
          -1.1227006249404563,
          -0.3987941903604161,
          -0.034419009987380705,
          -0.7283100582303476,
          1.0059619158149562,
          0.5144980601638762,
          0.8708210963229809,
          1.3142077956985498,
          1.1167680854572957,
          1.716126348269595,
          0.27269068717194916,
          -1.123133191953127,
          0.11489263529809371,
          -1.515726746792823,
          -0.2533046116452342,
          0.38174226282489876,
          -0.6918755653249667,
          0.4211237475069968,
          0.039936129494028416,
          -0.3662173277059165,
          -0.6970703019752248,
          0.3091728653276005,
          0.1502914980541256,
          -0.5577766851408767,
          -1.7511502610924077,
          -0.7163206875860475,
          1.047657513914813,
          0.3883329568072108,
          -0.42411657728660174,
          -0.2507047303788764,
          -0.7537538738841209,
          -0.6247417447001831,
          -0.1958376499484654,
          -0.2606607115666104,
          -1.1715652358063346,
          0.7907066851346701,
          0.3385777058915901,
          0.21053206365543622,
          0.36805157066480987,
          0.8175537422617929,
          1.4564806735445663,
          0.6446493692541274,
          -0.16256250110708628,
          -1.7130841765775853,
          -0.3143602619016569,
          -0.14863488061466404,
          1.794786216592394,
          -0.019388101555179706,
          0.7680788970442075,
          -0.0530699989174349,
          0.6831838224813972,
          0.6544804140907626,
          -1.776525721341922,
          0.10270918877901951,
          -0.073852516230118,
          -0.4154661661179218,
          -0.8165909316026739,
          -0.9313450096507835,
          0.8203574330875344,
          -0.5801874846838255,
          0.16895430784434634,
          -0.40568459779265026,
          -0.22022516979027215,
          0.8281064118796616,
          0.15181750444594808,
          -1.061375275931542
         ],
         "xaxis": "x",
         "y": [
          "KDE Plot",
          "KDE Plot",
          "KDE Plot",
          "KDE Plot",
          "KDE Plot",
          "KDE Plot",
          "KDE Plot",
          "KDE Plot",
          "KDE Plot",
          "KDE Plot",
          "KDE Plot",
          "KDE Plot",
          "KDE Plot",
          "KDE Plot",
          "KDE Plot",
          "KDE Plot",
          "KDE Plot",
          "KDE Plot",
          "KDE Plot",
          "KDE Plot",
          "KDE Plot",
          "KDE Plot",
          "KDE Plot",
          "KDE Plot",
          "KDE Plot",
          "KDE Plot",
          "KDE Plot",
          "KDE Plot",
          "KDE Plot",
          "KDE Plot",
          "KDE Plot",
          "KDE Plot",
          "KDE Plot",
          "KDE Plot",
          "KDE Plot",
          "KDE Plot",
          "KDE Plot",
          "KDE Plot",
          "KDE Plot",
          "KDE Plot",
          "KDE Plot",
          "KDE Plot",
          "KDE Plot",
          "KDE Plot",
          "KDE Plot",
          "KDE Plot",
          "KDE Plot",
          "KDE Plot",
          "KDE Plot",
          "KDE Plot",
          "KDE Plot",
          "KDE Plot",
          "KDE Plot",
          "KDE Plot",
          "KDE Plot",
          "KDE Plot",
          "KDE Plot",
          "KDE Plot",
          "KDE Plot",
          "KDE Plot",
          "KDE Plot",
          "KDE Plot",
          "KDE Plot",
          "KDE Plot",
          "KDE Plot",
          "KDE Plot",
          "KDE Plot",
          "KDE Plot",
          "KDE Plot",
          "KDE Plot",
          "KDE Plot",
          "KDE Plot",
          "KDE Plot",
          "KDE Plot",
          "KDE Plot",
          "KDE Plot",
          "KDE Plot",
          "KDE Plot",
          "KDE Plot",
          "KDE Plot",
          "KDE Plot",
          "KDE Plot",
          "KDE Plot",
          "KDE Plot",
          "KDE Plot",
          "KDE Plot",
          "KDE Plot",
          "KDE Plot",
          "KDE Plot",
          "KDE Plot",
          "KDE Plot",
          "KDE Plot",
          "KDE Plot",
          "KDE Plot",
          "KDE Plot",
          "KDE Plot",
          "KDE Plot",
          "KDE Plot",
          "KDE Plot",
          "KDE Plot",
          "KDE Plot",
          "KDE Plot",
          "KDE Plot",
          "KDE Plot",
          "KDE Plot",
          "KDE Plot",
          "KDE Plot",
          "KDE Plot",
          "KDE Plot",
          "KDE Plot",
          "KDE Plot",
          "KDE Plot",
          "KDE Plot",
          "KDE Plot",
          "KDE Plot",
          "KDE Plot",
          "KDE Plot",
          "KDE Plot",
          "KDE Plot",
          "KDE Plot",
          "KDE Plot",
          "KDE Plot",
          "KDE Plot",
          "KDE Plot",
          "KDE Plot",
          "KDE Plot",
          "KDE Plot",
          "KDE Plot",
          "KDE Plot",
          "KDE Plot",
          "KDE Plot",
          "KDE Plot",
          "KDE Plot",
          "KDE Plot",
          "KDE Plot",
          "KDE Plot",
          "KDE Plot",
          "KDE Plot",
          "KDE Plot",
          "KDE Plot",
          "KDE Plot",
          "KDE Plot",
          "KDE Plot",
          "KDE Plot",
          "KDE Plot",
          "KDE Plot",
          "KDE Plot",
          "KDE Plot",
          "KDE Plot",
          "KDE Plot",
          "KDE Plot",
          "KDE Plot",
          "KDE Plot",
          "KDE Plot",
          "KDE Plot",
          "KDE Plot",
          "KDE Plot",
          "KDE Plot",
          "KDE Plot",
          "KDE Plot",
          "KDE Plot",
          "KDE Plot",
          "KDE Plot",
          "KDE Plot",
          "KDE Plot",
          "KDE Plot",
          "KDE Plot",
          "KDE Plot",
          "KDE Plot",
          "KDE Plot",
          "KDE Plot",
          "KDE Plot",
          "KDE Plot",
          "KDE Plot",
          "KDE Plot",
          "KDE Plot",
          "KDE Plot",
          "KDE Plot",
          "KDE Plot",
          "KDE Plot",
          "KDE Plot",
          "KDE Plot",
          "KDE Plot",
          "KDE Plot",
          "KDE Plot",
          "KDE Plot",
          "KDE Plot",
          "KDE Plot",
          "KDE Plot",
          "KDE Plot",
          "KDE Plot",
          "KDE Plot",
          "KDE Plot",
          "KDE Plot",
          "KDE Plot",
          "KDE Plot",
          "KDE Plot",
          "KDE Plot",
          "KDE Plot",
          "KDE Plot",
          "KDE Plot",
          "KDE Plot",
          "KDE Plot",
          "KDE Plot",
          "KDE Plot",
          "KDE Plot",
          "KDE Plot",
          "KDE Plot",
          "KDE Plot",
          "KDE Plot",
          "KDE Plot",
          "KDE Plot",
          "KDE Plot",
          "KDE Plot",
          "KDE Plot",
          "KDE Plot",
          "KDE Plot",
          "KDE Plot",
          "KDE Plot",
          "KDE Plot",
          "KDE Plot",
          "KDE Plot",
          "KDE Plot",
          "KDE Plot",
          "KDE Plot",
          "KDE Plot",
          "KDE Plot",
          "KDE Plot",
          "KDE Plot",
          "KDE Plot",
          "KDE Plot",
          "KDE Plot",
          "KDE Plot",
          "KDE Plot",
          "KDE Plot",
          "KDE Plot",
          "KDE Plot",
          "KDE Plot",
          "KDE Plot",
          "KDE Plot",
          "KDE Plot",
          "KDE Plot",
          "KDE Plot",
          "KDE Plot",
          "KDE Plot",
          "KDE Plot",
          "KDE Plot",
          "KDE Plot",
          "KDE Plot",
          "KDE Plot",
          "KDE Plot",
          "KDE Plot",
          "KDE Plot",
          "KDE Plot",
          "KDE Plot",
          "KDE Plot",
          "KDE Plot",
          "KDE Plot",
          "KDE Plot",
          "KDE Plot",
          "KDE Plot",
          "KDE Plot",
          "KDE Plot",
          "KDE Plot",
          "KDE Plot",
          "KDE Plot",
          "KDE Plot",
          "KDE Plot",
          "KDE Plot",
          "KDE Plot",
          "KDE Plot",
          "KDE Plot",
          "KDE Plot",
          "KDE Plot",
          "KDE Plot",
          "KDE Plot",
          "KDE Plot",
          "KDE Plot",
          "KDE Plot",
          "KDE Plot",
          "KDE Plot",
          "KDE Plot",
          "KDE Plot",
          "KDE Plot",
          "KDE Plot",
          "KDE Plot",
          "KDE Plot",
          "KDE Plot",
          "KDE Plot",
          "KDE Plot",
          "KDE Plot",
          "KDE Plot",
          "KDE Plot",
          "KDE Plot",
          "KDE Plot",
          "KDE Plot",
          "KDE Plot",
          "KDE Plot",
          "KDE Plot",
          "KDE Plot",
          "KDE Plot",
          "KDE Plot",
          "KDE Plot",
          "KDE Plot",
          "KDE Plot",
          "KDE Plot",
          "KDE Plot",
          "KDE Plot",
          "KDE Plot",
          "KDE Plot",
          "KDE Plot",
          "KDE Plot",
          "KDE Plot",
          "KDE Plot",
          "KDE Plot",
          "KDE Plot",
          "KDE Plot",
          "KDE Plot",
          "KDE Plot",
          "KDE Plot",
          "KDE Plot",
          "KDE Plot",
          "KDE Plot",
          "KDE Plot",
          "KDE Plot",
          "KDE Plot",
          "KDE Plot",
          "KDE Plot",
          "KDE Plot",
          "KDE Plot",
          "KDE Plot",
          "KDE Plot",
          "KDE Plot",
          "KDE Plot",
          "KDE Plot",
          "KDE Plot",
          "KDE Plot",
          "KDE Plot",
          "KDE Plot",
          "KDE Plot",
          "KDE Plot",
          "KDE Plot",
          "KDE Plot",
          "KDE Plot",
          "KDE Plot",
          "KDE Plot",
          "KDE Plot",
          "KDE Plot",
          "KDE Plot",
          "KDE Plot",
          "KDE Plot",
          "KDE Plot",
          "KDE Plot",
          "KDE Plot",
          "KDE Plot",
          "KDE Plot",
          "KDE Plot",
          "KDE Plot",
          "KDE Plot",
          "KDE Plot",
          "KDE Plot",
          "KDE Plot",
          "KDE Plot",
          "KDE Plot",
          "KDE Plot",
          "KDE Plot",
          "KDE Plot",
          "KDE Plot",
          "KDE Plot",
          "KDE Plot",
          "KDE Plot",
          "KDE Plot",
          "KDE Plot",
          "KDE Plot",
          "KDE Plot",
          "KDE Plot",
          "KDE Plot",
          "KDE Plot",
          "KDE Plot",
          "KDE Plot",
          "KDE Plot",
          "KDE Plot",
          "KDE Plot",
          "KDE Plot",
          "KDE Plot",
          "KDE Plot",
          "KDE Plot",
          "KDE Plot",
          "KDE Plot",
          "KDE Plot",
          "KDE Plot",
          "KDE Plot",
          "KDE Plot",
          "KDE Plot",
          "KDE Plot",
          "KDE Plot",
          "KDE Plot",
          "KDE Plot",
          "KDE Plot",
          "KDE Plot",
          "KDE Plot",
          "KDE Plot",
          "KDE Plot",
          "KDE Plot",
          "KDE Plot",
          "KDE Plot",
          "KDE Plot",
          "KDE Plot",
          "KDE Plot",
          "KDE Plot",
          "KDE Plot",
          "KDE Plot",
          "KDE Plot",
          "KDE Plot",
          "KDE Plot",
          "KDE Plot",
          "KDE Plot",
          "KDE Plot",
          "KDE Plot",
          "KDE Plot",
          "KDE Plot",
          "KDE Plot",
          "KDE Plot",
          "KDE Plot",
          "KDE Plot",
          "KDE Plot",
          "KDE Plot",
          "KDE Plot",
          "KDE Plot",
          "KDE Plot",
          "KDE Plot",
          "KDE Plot",
          "KDE Plot",
          "KDE Plot",
          "KDE Plot",
          "KDE Plot",
          "KDE Plot",
          "KDE Plot",
          "KDE Plot",
          "KDE Plot",
          "KDE Plot",
          "KDE Plot",
          "KDE Plot",
          "KDE Plot",
          "KDE Plot",
          "KDE Plot",
          "KDE Plot",
          "KDE Plot",
          "KDE Plot",
          "KDE Plot",
          "KDE Plot",
          "KDE Plot",
          "KDE Plot",
          "KDE Plot",
          "KDE Plot",
          "KDE Plot",
          "KDE Plot",
          "KDE Plot",
          "KDE Plot",
          "KDE Plot",
          "KDE Plot",
          "KDE Plot",
          "KDE Plot",
          "KDE Plot",
          "KDE Plot",
          "KDE Plot",
          "KDE Plot",
          "KDE Plot",
          "KDE Plot",
          "KDE Plot",
          "KDE Plot",
          "KDE Plot",
          "KDE Plot",
          "KDE Plot",
          "KDE Plot",
          "KDE Plot",
          "KDE Plot",
          "KDE Plot",
          "KDE Plot",
          "KDE Plot",
          "KDE Plot",
          "KDE Plot",
          "KDE Plot",
          "KDE Plot",
          "KDE Plot",
          "KDE Plot",
          "KDE Plot",
          "KDE Plot",
          "KDE Plot",
          "KDE Plot",
          "KDE Plot",
          "KDE Plot",
          "KDE Plot",
          "KDE Plot",
          "KDE Plot",
          "KDE Plot",
          "KDE Plot",
          "KDE Plot",
          "KDE Plot",
          "KDE Plot",
          "KDE Plot",
          "KDE Plot",
          "KDE Plot",
          "KDE Plot",
          "KDE Plot",
          "KDE Plot",
          "KDE Plot",
          "KDE Plot",
          "KDE Plot",
          "KDE Plot",
          "KDE Plot",
          "KDE Plot",
          "KDE Plot",
          "KDE Plot",
          "KDE Plot",
          "KDE Plot",
          "KDE Plot",
          "KDE Plot",
          "KDE Plot",
          "KDE Plot",
          "KDE Plot",
          "KDE Plot",
          "KDE Plot",
          "KDE Plot",
          "KDE Plot",
          "KDE Plot",
          "KDE Plot",
          "KDE Plot",
          "KDE Plot",
          "KDE Plot",
          "KDE Plot",
          "KDE Plot",
          "KDE Plot",
          "KDE Plot",
          "KDE Plot",
          "KDE Plot",
          "KDE Plot",
          "KDE Plot",
          "KDE Plot",
          "KDE Plot",
          "KDE Plot",
          "KDE Plot",
          "KDE Plot",
          "KDE Plot",
          "KDE Plot",
          "KDE Plot",
          "KDE Plot",
          "KDE Plot",
          "KDE Plot",
          "KDE Plot",
          "KDE Plot",
          "KDE Plot",
          "KDE Plot",
          "KDE Plot",
          "KDE Plot",
          "KDE Plot",
          "KDE Plot",
          "KDE Plot",
          "KDE Plot",
          "KDE Plot",
          "KDE Plot",
          "KDE Plot",
          "KDE Plot",
          "KDE Plot",
          "KDE Plot",
          "KDE Plot",
          "KDE Plot",
          "KDE Plot",
          "KDE Plot",
          "KDE Plot",
          "KDE Plot",
          "KDE Plot",
          "KDE Plot",
          "KDE Plot",
          "KDE Plot",
          "KDE Plot",
          "KDE Plot",
          "KDE Plot",
          "KDE Plot",
          "KDE Plot",
          "KDE Plot",
          "KDE Plot",
          "KDE Plot",
          "KDE Plot",
          "KDE Plot",
          "KDE Plot",
          "KDE Plot",
          "KDE Plot",
          "KDE Plot",
          "KDE Plot",
          "KDE Plot",
          "KDE Plot",
          "KDE Plot",
          "KDE Plot",
          "KDE Plot",
          "KDE Plot",
          "KDE Plot",
          "KDE Plot",
          "KDE Plot",
          "KDE Plot",
          "KDE Plot",
          "KDE Plot",
          "KDE Plot",
          "KDE Plot",
          "KDE Plot",
          "KDE Plot",
          "KDE Plot",
          "KDE Plot",
          "KDE Plot",
          "KDE Plot",
          "KDE Plot",
          "KDE Plot",
          "KDE Plot",
          "KDE Plot",
          "KDE Plot",
          "KDE Plot",
          "KDE Plot",
          "KDE Plot",
          "KDE Plot",
          "KDE Plot",
          "KDE Plot",
          "KDE Plot",
          "KDE Plot",
          "KDE Plot",
          "KDE Plot",
          "KDE Plot",
          "KDE Plot",
          "KDE Plot",
          "KDE Plot",
          "KDE Plot",
          "KDE Plot",
          "KDE Plot",
          "KDE Plot",
          "KDE Plot",
          "KDE Plot",
          "KDE Plot",
          "KDE Plot",
          "KDE Plot",
          "KDE Plot",
          "KDE Plot",
          "KDE Plot",
          "KDE Plot",
          "KDE Plot",
          "KDE Plot",
          "KDE Plot",
          "KDE Plot",
          "KDE Plot",
          "KDE Plot",
          "KDE Plot",
          "KDE Plot",
          "KDE Plot",
          "KDE Plot",
          "KDE Plot",
          "KDE Plot",
          "KDE Plot",
          "KDE Plot",
          "KDE Plot",
          "KDE Plot",
          "KDE Plot",
          "KDE Plot",
          "KDE Plot",
          "KDE Plot",
          "KDE Plot",
          "KDE Plot",
          "KDE Plot",
          "KDE Plot",
          "KDE Plot",
          "KDE Plot",
          "KDE Plot",
          "KDE Plot",
          "KDE Plot",
          "KDE Plot",
          "KDE Plot",
          "KDE Plot",
          "KDE Plot",
          "KDE Plot",
          "KDE Plot",
          "KDE Plot",
          "KDE Plot",
          "KDE Plot",
          "KDE Plot",
          "KDE Plot",
          "KDE Plot",
          "KDE Plot",
          "KDE Plot",
          "KDE Plot",
          "KDE Plot",
          "KDE Plot",
          "KDE Plot",
          "KDE Plot",
          "KDE Plot",
          "KDE Plot",
          "KDE Plot",
          "KDE Plot",
          "KDE Plot",
          "KDE Plot",
          "KDE Plot",
          "KDE Plot",
          "KDE Plot",
          "KDE Plot",
          "KDE Plot",
          "KDE Plot",
          "KDE Plot",
          "KDE Plot",
          "KDE Plot",
          "KDE Plot",
          "KDE Plot",
          "KDE Plot",
          "KDE Plot",
          "KDE Plot",
          "KDE Plot",
          "KDE Plot",
          "KDE Plot",
          "KDE Plot",
          "KDE Plot",
          "KDE Plot",
          "KDE Plot",
          "KDE Plot",
          "KDE Plot",
          "KDE Plot",
          "KDE Plot",
          "KDE Plot",
          "KDE Plot",
          "KDE Plot",
          "KDE Plot",
          "KDE Plot",
          "KDE Plot",
          "KDE Plot",
          "KDE Plot",
          "KDE Plot",
          "KDE Plot",
          "KDE Plot",
          "KDE Plot",
          "KDE Plot",
          "KDE Plot",
          "KDE Plot",
          "KDE Plot",
          "KDE Plot",
          "KDE Plot",
          "KDE Plot",
          "KDE Plot",
          "KDE Plot",
          "KDE Plot",
          "KDE Plot",
          "KDE Plot",
          "KDE Plot",
          "KDE Plot",
          "KDE Plot",
          "KDE Plot",
          "KDE Plot",
          "KDE Plot",
          "KDE Plot",
          "KDE Plot",
          "KDE Plot",
          "KDE Plot",
          "KDE Plot",
          "KDE Plot",
          "KDE Plot",
          "KDE Plot",
          "KDE Plot",
          "KDE Plot",
          "KDE Plot",
          "KDE Plot",
          "KDE Plot",
          "KDE Plot",
          "KDE Plot",
          "KDE Plot",
          "KDE Plot",
          "KDE Plot",
          "KDE Plot",
          "KDE Plot",
          "KDE Plot",
          "KDE Plot",
          "KDE Plot",
          "KDE Plot",
          "KDE Plot",
          "KDE Plot",
          "KDE Plot",
          "KDE Plot",
          "KDE Plot",
          "KDE Plot",
          "KDE Plot",
          "KDE Plot",
          "KDE Plot",
          "KDE Plot",
          "KDE Plot",
          "KDE Plot",
          "KDE Plot",
          "KDE Plot",
          "KDE Plot",
          "KDE Plot",
          "KDE Plot",
          "KDE Plot",
          "KDE Plot",
          "KDE Plot",
          "KDE Plot",
          "KDE Plot",
          "KDE Plot",
          "KDE Plot",
          "KDE Plot",
          "KDE Plot",
          "KDE Plot",
          "KDE Plot",
          "KDE Plot",
          "KDE Plot",
          "KDE Plot",
          "KDE Plot",
          "KDE Plot",
          "KDE Plot",
          "KDE Plot",
          "KDE Plot",
          "KDE Plot",
          "KDE Plot",
          "KDE Plot",
          "KDE Plot",
          "KDE Plot",
          "KDE Plot",
          "KDE Plot",
          "KDE Plot",
          "KDE Plot",
          "KDE Plot",
          "KDE Plot",
          "KDE Plot",
          "KDE Plot",
          "KDE Plot",
          "KDE Plot",
          "KDE Plot",
          "KDE Plot",
          "KDE Plot",
          "KDE Plot",
          "KDE Plot",
          "KDE Plot",
          "KDE Plot",
          "KDE Plot",
          "KDE Plot",
          "KDE Plot",
          "KDE Plot",
          "KDE Plot",
          "KDE Plot",
          "KDE Plot",
          "KDE Plot",
          "KDE Plot",
          "KDE Plot",
          "KDE Plot",
          "KDE Plot",
          "KDE Plot",
          "KDE Plot",
          "KDE Plot",
          "KDE Plot",
          "KDE Plot",
          "KDE Plot",
          "KDE Plot",
          "KDE Plot",
          "KDE Plot",
          "KDE Plot",
          "KDE Plot",
          "KDE Plot",
          "KDE Plot",
          "KDE Plot",
          "KDE Plot",
          "KDE Plot",
          "KDE Plot",
          "KDE Plot",
          "KDE Plot",
          "KDE Plot",
          "KDE Plot",
          "KDE Plot",
          "KDE Plot",
          "KDE Plot",
          "KDE Plot",
          "KDE Plot",
          "KDE Plot",
          "KDE Plot",
          "KDE Plot",
          "KDE Plot",
          "KDE Plot",
          "KDE Plot",
          "KDE Plot",
          "KDE Plot",
          "KDE Plot",
          "KDE Plot",
          "KDE Plot",
          "KDE Plot",
          "KDE Plot",
          "KDE Plot",
          "KDE Plot",
          "KDE Plot",
          "KDE Plot",
          "KDE Plot",
          "KDE Plot",
          "KDE Plot",
          "KDE Plot",
          "KDE Plot",
          "KDE Plot",
          "KDE Plot",
          "KDE Plot",
          "KDE Plot",
          "KDE Plot",
          "KDE Plot",
          "KDE Plot",
          "KDE Plot",
          "KDE Plot",
          "KDE Plot",
          "KDE Plot",
          "KDE Plot",
          "KDE Plot",
          "KDE Plot",
          "KDE Plot",
          "KDE Plot",
          "KDE Plot",
          "KDE Plot",
          "KDE Plot",
          "KDE Plot",
          "KDE Plot",
          "KDE Plot",
          "KDE Plot",
          "KDE Plot",
          "KDE Plot",
          "KDE Plot",
          "KDE Plot",
          "KDE Plot",
          "KDE Plot",
          "KDE Plot",
          "KDE Plot",
          "KDE Plot",
          "KDE Plot",
          "KDE Plot",
          "KDE Plot",
          "KDE Plot",
          "KDE Plot",
          "KDE Plot",
          "KDE Plot",
          "KDE Plot",
          "KDE Plot",
          "KDE Plot",
          "KDE Plot",
          "KDE Plot",
          "KDE Plot",
          "KDE Plot",
          "KDE Plot",
          "KDE Plot",
          "KDE Plot",
          "KDE Plot",
          "KDE Plot",
          "KDE Plot",
          "KDE Plot",
          "KDE Plot",
          "KDE Plot",
          "KDE Plot",
          "KDE Plot",
          "KDE Plot",
          "KDE Plot",
          "KDE Plot",
          "KDE Plot",
          "KDE Plot",
          "KDE Plot",
          "KDE Plot",
          "KDE Plot",
          "KDE Plot",
          "KDE Plot",
          "KDE Plot",
          "KDE Plot",
          "KDE Plot",
          "KDE Plot",
          "KDE Plot",
          "KDE Plot",
          "KDE Plot",
          "KDE Plot",
          "KDE Plot",
          "KDE Plot",
          "KDE Plot",
          "KDE Plot",
          "KDE Plot",
          "KDE Plot",
          "KDE Plot",
          "KDE Plot",
          "KDE Plot",
          "KDE Plot",
          "KDE Plot",
          "KDE Plot",
          "KDE Plot",
          "KDE Plot",
          "KDE Plot",
          "KDE Plot",
          "KDE Plot",
          "KDE Plot",
          "KDE Plot",
          "KDE Plot",
          "KDE Plot",
          "KDE Plot",
          "KDE Plot",
          "KDE Plot",
          "KDE Plot",
          "KDE Plot",
          "KDE Plot",
          "KDE Plot",
          "KDE Plot",
          "KDE Plot",
          "KDE Plot",
          "KDE Plot"
         ],
         "yaxis": "y2"
        }
       ],
       "layout": {
        "barmode": "overlay",
        "hovermode": "closest",
        "legend": {
         "traceorder": "reversed"
        },
        "showlegend": false,
        "template": {
         "data": {
          "bar": [
           {
            "error_x": {
             "color": "#2a3f5f"
            },
            "error_y": {
             "color": "#2a3f5f"
            },
            "marker": {
             "line": {
              "color": "#E5ECF6",
              "width": 0.5
             },
             "pattern": {
              "fillmode": "overlay",
              "size": 10,
              "solidity": 0.2
             }
            },
            "type": "bar"
           }
          ],
          "barpolar": [
           {
            "marker": {
             "line": {
              "color": "#E5ECF6",
              "width": 0.5
             },
             "pattern": {
              "fillmode": "overlay",
              "size": 10,
              "solidity": 0.2
             }
            },
            "type": "barpolar"
           }
          ],
          "carpet": [
           {
            "aaxis": {
             "endlinecolor": "#2a3f5f",
             "gridcolor": "white",
             "linecolor": "white",
             "minorgridcolor": "white",
             "startlinecolor": "#2a3f5f"
            },
            "baxis": {
             "endlinecolor": "#2a3f5f",
             "gridcolor": "white",
             "linecolor": "white",
             "minorgridcolor": "white",
             "startlinecolor": "#2a3f5f"
            },
            "type": "carpet"
           }
          ],
          "choropleth": [
           {
            "colorbar": {
             "outlinewidth": 0,
             "ticks": ""
            },
            "type": "choropleth"
           }
          ],
          "contour": [
           {
            "colorbar": {
             "outlinewidth": 0,
             "ticks": ""
            },
            "colorscale": [
             [
              0,
              "#0d0887"
             ],
             [
              0.1111111111111111,
              "#46039f"
             ],
             [
              0.2222222222222222,
              "#7201a8"
             ],
             [
              0.3333333333333333,
              "#9c179e"
             ],
             [
              0.4444444444444444,
              "#bd3786"
             ],
             [
              0.5555555555555556,
              "#d8576b"
             ],
             [
              0.6666666666666666,
              "#ed7953"
             ],
             [
              0.7777777777777778,
              "#fb9f3a"
             ],
             [
              0.8888888888888888,
              "#fdca26"
             ],
             [
              1,
              "#f0f921"
             ]
            ],
            "type": "contour"
           }
          ],
          "contourcarpet": [
           {
            "colorbar": {
             "outlinewidth": 0,
             "ticks": ""
            },
            "type": "contourcarpet"
           }
          ],
          "heatmap": [
           {
            "colorbar": {
             "outlinewidth": 0,
             "ticks": ""
            },
            "colorscale": [
             [
              0,
              "#0d0887"
             ],
             [
              0.1111111111111111,
              "#46039f"
             ],
             [
              0.2222222222222222,
              "#7201a8"
             ],
             [
              0.3333333333333333,
              "#9c179e"
             ],
             [
              0.4444444444444444,
              "#bd3786"
             ],
             [
              0.5555555555555556,
              "#d8576b"
             ],
             [
              0.6666666666666666,
              "#ed7953"
             ],
             [
              0.7777777777777778,
              "#fb9f3a"
             ],
             [
              0.8888888888888888,
              "#fdca26"
             ],
             [
              1,
              "#f0f921"
             ]
            ],
            "type": "heatmap"
           }
          ],
          "heatmapgl": [
           {
            "colorbar": {
             "outlinewidth": 0,
             "ticks": ""
            },
            "colorscale": [
             [
              0,
              "#0d0887"
             ],
             [
              0.1111111111111111,
              "#46039f"
             ],
             [
              0.2222222222222222,
              "#7201a8"
             ],
             [
              0.3333333333333333,
              "#9c179e"
             ],
             [
              0.4444444444444444,
              "#bd3786"
             ],
             [
              0.5555555555555556,
              "#d8576b"
             ],
             [
              0.6666666666666666,
              "#ed7953"
             ],
             [
              0.7777777777777778,
              "#fb9f3a"
             ],
             [
              0.8888888888888888,
              "#fdca26"
             ],
             [
              1,
              "#f0f921"
             ]
            ],
            "type": "heatmapgl"
           }
          ],
          "histogram": [
           {
            "marker": {
             "pattern": {
              "fillmode": "overlay",
              "size": 10,
              "solidity": 0.2
             }
            },
            "type": "histogram"
           }
          ],
          "histogram2d": [
           {
            "colorbar": {
             "outlinewidth": 0,
             "ticks": ""
            },
            "colorscale": [
             [
              0,
              "#0d0887"
             ],
             [
              0.1111111111111111,
              "#46039f"
             ],
             [
              0.2222222222222222,
              "#7201a8"
             ],
             [
              0.3333333333333333,
              "#9c179e"
             ],
             [
              0.4444444444444444,
              "#bd3786"
             ],
             [
              0.5555555555555556,
              "#d8576b"
             ],
             [
              0.6666666666666666,
              "#ed7953"
             ],
             [
              0.7777777777777778,
              "#fb9f3a"
             ],
             [
              0.8888888888888888,
              "#fdca26"
             ],
             [
              1,
              "#f0f921"
             ]
            ],
            "type": "histogram2d"
           }
          ],
          "histogram2dcontour": [
           {
            "colorbar": {
             "outlinewidth": 0,
             "ticks": ""
            },
            "colorscale": [
             [
              0,
              "#0d0887"
             ],
             [
              0.1111111111111111,
              "#46039f"
             ],
             [
              0.2222222222222222,
              "#7201a8"
             ],
             [
              0.3333333333333333,
              "#9c179e"
             ],
             [
              0.4444444444444444,
              "#bd3786"
             ],
             [
              0.5555555555555556,
              "#d8576b"
             ],
             [
              0.6666666666666666,
              "#ed7953"
             ],
             [
              0.7777777777777778,
              "#fb9f3a"
             ],
             [
              0.8888888888888888,
              "#fdca26"
             ],
             [
              1,
              "#f0f921"
             ]
            ],
            "type": "histogram2dcontour"
           }
          ],
          "mesh3d": [
           {
            "colorbar": {
             "outlinewidth": 0,
             "ticks": ""
            },
            "type": "mesh3d"
           }
          ],
          "parcoords": [
           {
            "line": {
             "colorbar": {
              "outlinewidth": 0,
              "ticks": ""
             }
            },
            "type": "parcoords"
           }
          ],
          "pie": [
           {
            "automargin": true,
            "type": "pie"
           }
          ],
          "scatter": [
           {
            "fillpattern": {
             "fillmode": "overlay",
             "size": 10,
             "solidity": 0.2
            },
            "type": "scatter"
           }
          ],
          "scatter3d": [
           {
            "line": {
             "colorbar": {
              "outlinewidth": 0,
              "ticks": ""
             }
            },
            "marker": {
             "colorbar": {
              "outlinewidth": 0,
              "ticks": ""
             }
            },
            "type": "scatter3d"
           }
          ],
          "scattercarpet": [
           {
            "marker": {
             "colorbar": {
              "outlinewidth": 0,
              "ticks": ""
             }
            },
            "type": "scattercarpet"
           }
          ],
          "scattergeo": [
           {
            "marker": {
             "colorbar": {
              "outlinewidth": 0,
              "ticks": ""
             }
            },
            "type": "scattergeo"
           }
          ],
          "scattergl": [
           {
            "marker": {
             "colorbar": {
              "outlinewidth": 0,
              "ticks": ""
             }
            },
            "type": "scattergl"
           }
          ],
          "scattermapbox": [
           {
            "marker": {
             "colorbar": {
              "outlinewidth": 0,
              "ticks": ""
             }
            },
            "type": "scattermapbox"
           }
          ],
          "scatterpolar": [
           {
            "marker": {
             "colorbar": {
              "outlinewidth": 0,
              "ticks": ""
             }
            },
            "type": "scatterpolar"
           }
          ],
          "scatterpolargl": [
           {
            "marker": {
             "colorbar": {
              "outlinewidth": 0,
              "ticks": ""
             }
            },
            "type": "scatterpolargl"
           }
          ],
          "scatterternary": [
           {
            "marker": {
             "colorbar": {
              "outlinewidth": 0,
              "ticks": ""
             }
            },
            "type": "scatterternary"
           }
          ],
          "surface": [
           {
            "colorbar": {
             "outlinewidth": 0,
             "ticks": ""
            },
            "colorscale": [
             [
              0,
              "#0d0887"
             ],
             [
              0.1111111111111111,
              "#46039f"
             ],
             [
              0.2222222222222222,
              "#7201a8"
             ],
             [
              0.3333333333333333,
              "#9c179e"
             ],
             [
              0.4444444444444444,
              "#bd3786"
             ],
             [
              0.5555555555555556,
              "#d8576b"
             ],
             [
              0.6666666666666666,
              "#ed7953"
             ],
             [
              0.7777777777777778,
              "#fb9f3a"
             ],
             [
              0.8888888888888888,
              "#fdca26"
             ],
             [
              1,
              "#f0f921"
             ]
            ],
            "type": "surface"
           }
          ],
          "table": [
           {
            "cells": {
             "fill": {
              "color": "#EBF0F8"
             },
             "line": {
              "color": "white"
             }
            },
            "header": {
             "fill": {
              "color": "#C8D4E3"
             },
             "line": {
              "color": "white"
             }
            },
            "type": "table"
           }
          ]
         },
         "layout": {
          "annotationdefaults": {
           "arrowcolor": "#2a3f5f",
           "arrowhead": 0,
           "arrowwidth": 1
          },
          "autotypenumbers": "strict",
          "coloraxis": {
           "colorbar": {
            "outlinewidth": 0,
            "ticks": ""
           }
          },
          "colorscale": {
           "diverging": [
            [
             0,
             "#8e0152"
            ],
            [
             0.1,
             "#c51b7d"
            ],
            [
             0.2,
             "#de77ae"
            ],
            [
             0.3,
             "#f1b6da"
            ],
            [
             0.4,
             "#fde0ef"
            ],
            [
             0.5,
             "#f7f7f7"
            ],
            [
             0.6,
             "#e6f5d0"
            ],
            [
             0.7,
             "#b8e186"
            ],
            [
             0.8,
             "#7fbc41"
            ],
            [
             0.9,
             "#4d9221"
            ],
            [
             1,
             "#276419"
            ]
           ],
           "sequential": [
            [
             0,
             "#0d0887"
            ],
            [
             0.1111111111111111,
             "#46039f"
            ],
            [
             0.2222222222222222,
             "#7201a8"
            ],
            [
             0.3333333333333333,
             "#9c179e"
            ],
            [
             0.4444444444444444,
             "#bd3786"
            ],
            [
             0.5555555555555556,
             "#d8576b"
            ],
            [
             0.6666666666666666,
             "#ed7953"
            ],
            [
             0.7777777777777778,
             "#fb9f3a"
            ],
            [
             0.8888888888888888,
             "#fdca26"
            ],
            [
             1,
             "#f0f921"
            ]
           ],
           "sequentialminus": [
            [
             0,
             "#0d0887"
            ],
            [
             0.1111111111111111,
             "#46039f"
            ],
            [
             0.2222222222222222,
             "#7201a8"
            ],
            [
             0.3333333333333333,
             "#9c179e"
            ],
            [
             0.4444444444444444,
             "#bd3786"
            ],
            [
             0.5555555555555556,
             "#d8576b"
            ],
            [
             0.6666666666666666,
             "#ed7953"
            ],
            [
             0.7777777777777778,
             "#fb9f3a"
            ],
            [
             0.8888888888888888,
             "#fdca26"
            ],
            [
             1,
             "#f0f921"
            ]
           ]
          },
          "colorway": [
           "#636efa",
           "#EF553B",
           "#00cc96",
           "#ab63fa",
           "#FFA15A",
           "#19d3f3",
           "#FF6692",
           "#B6E880",
           "#FF97FF",
           "#FECB52"
          ],
          "font": {
           "color": "#2a3f5f"
          },
          "geo": {
           "bgcolor": "white",
           "lakecolor": "white",
           "landcolor": "#E5ECF6",
           "showlakes": true,
           "showland": true,
           "subunitcolor": "white"
          },
          "hoverlabel": {
           "align": "left"
          },
          "hovermode": "closest",
          "mapbox": {
           "style": "light"
          },
          "paper_bgcolor": "white",
          "plot_bgcolor": "#E5ECF6",
          "polar": {
           "angularaxis": {
            "gridcolor": "white",
            "linecolor": "white",
            "ticks": ""
           },
           "bgcolor": "#E5ECF6",
           "radialaxis": {
            "gridcolor": "white",
            "linecolor": "white",
            "ticks": ""
           }
          },
          "scene": {
           "xaxis": {
            "backgroundcolor": "#E5ECF6",
            "gridcolor": "white",
            "gridwidth": 2,
            "linecolor": "white",
            "showbackground": true,
            "ticks": "",
            "zerolinecolor": "white"
           },
           "yaxis": {
            "backgroundcolor": "#E5ECF6",
            "gridcolor": "white",
            "gridwidth": 2,
            "linecolor": "white",
            "showbackground": true,
            "ticks": "",
            "zerolinecolor": "white"
           },
           "zaxis": {
            "backgroundcolor": "#E5ECF6",
            "gridcolor": "white",
            "gridwidth": 2,
            "linecolor": "white",
            "showbackground": true,
            "ticks": "",
            "zerolinecolor": "white"
           }
          },
          "shapedefaults": {
           "line": {
            "color": "#2a3f5f"
           }
          },
          "ternary": {
           "aaxis": {
            "gridcolor": "white",
            "linecolor": "white",
            "ticks": ""
           },
           "baxis": {
            "gridcolor": "white",
            "linecolor": "white",
            "ticks": ""
           },
           "bgcolor": "#E5ECF6",
           "caxis": {
            "gridcolor": "white",
            "linecolor": "white",
            "ticks": ""
           }
          },
          "title": {
           "x": 0.05
          },
          "xaxis": {
           "automargin": true,
           "gridcolor": "white",
           "linecolor": "white",
           "ticks": "",
           "title": {
            "standoff": 15
           },
           "zerolinecolor": "white",
           "zerolinewidth": 2
          },
          "yaxis": {
           "automargin": true,
           "gridcolor": "white",
           "linecolor": "white",
           "ticks": "",
           "title": {
            "standoff": 15
           },
           "zerolinecolor": "white",
           "zerolinewidth": 2
          }
         }
        },
        "title": {
         "text": "KDE Plot"
        },
        "xaxis": {
         "anchor": "y2",
         "domain": [
          0,
          1
         ],
         "title": {
          "text": "Value"
         },
         "zeroline": false
        },
        "yaxis": {
         "anchor": "free",
         "domain": [
          0.35,
          1
         ],
         "position": 0,
         "title": {
          "text": "Density"
         }
        },
        "yaxis2": {
         "anchor": "x",
         "domain": [
          0,
          0.25
         ],
         "dtick": 1,
         "showticklabels": false
        }
       }
      }
     },
     "metadata": {},
     "output_type": "display_data"
    }
   ],
   "source": [
    "import plotly.figure_factory as ff\n",
    "import numpy as np\n",
    "\n",
    "# Sample data\n",
    "data = np.random.randn(1000)  # Replace with your own data\n",
    "\n",
    "# Create a KDE plot\n",
    "fig = ff.create_distplot([data], group_labels=['KDE Plot'], curve_type='kde')\n",
    "\n",
    "# Customize the layout\n",
    "fig.update_layout(\n",
    "    title=\"KDE Plot\",\n",
    "    xaxis_title=\"Value\",\n",
    "    yaxis_title=\"Density\",\n",
    "    showlegend=False  # You can remove the legend if you want\n",
    ")\n",
    "\n",
    "# Show the plot\n",
    "fig.show()"
   ]
  }
 ],
 "metadata": {
  "kernelspec": {
   "display_name": "python3_8",
   "language": "python",
   "name": "python3"
  },
  "language_info": {
   "codemirror_mode": {
    "name": "ipython",
    "version": 3
   },
   "file_extension": ".py",
   "mimetype": "text/x-python",
   "name": "python",
   "nbconvert_exporter": "python",
   "pygments_lexer": "ipython3",
   "version": "3.8.16"
  },
  "orig_nbformat": 4
 },
 "nbformat": 4,
 "nbformat_minor": 2
}

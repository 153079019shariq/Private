{
 "cells": [
  {
   "cell_type": "code",
   "execution_count": 5,
   "metadata": {},
   "outputs": [
    {
     "data": {
      "text/html": [
       "<div>\n",
       "<style scoped>\n",
       "    .dataframe tbody tr th:only-of-type {\n",
       "        vertical-align: middle;\n",
       "    }\n",
       "\n",
       "    .dataframe tbody tr th {\n",
       "        vertical-align: top;\n",
       "    }\n",
       "\n",
       "    .dataframe thead th {\n",
       "        text-align: right;\n",
       "    }\n",
       "</style>\n",
       "<table border=\"1\" class=\"dataframe\">\n",
       "  <thead>\n",
       "    <tr style=\"text-align: right;\">\n",
       "      <th></th>\n",
       "      <th>Pprob</th>\n",
       "      <th>Act_Response</th>\n",
       "      <th>Neg_Prob</th>\n",
       "    </tr>\n",
       "  </thead>\n",
       "  <tbody>\n",
       "    <tr>\n",
       "      <th>0</th>\n",
       "      <td>0.88</td>\n",
       "      <td>1</td>\n",
       "      <td>0.12</td>\n",
       "    </tr>\n",
       "    <tr>\n",
       "      <th>1</th>\n",
       "      <td>0.87</td>\n",
       "      <td>0</td>\n",
       "      <td>0.13</td>\n",
       "    </tr>\n",
       "    <tr>\n",
       "      <th>2</th>\n",
       "      <td>0.81</td>\n",
       "      <td>1</td>\n",
       "      <td>0.19</td>\n",
       "    </tr>\n",
       "    <tr>\n",
       "      <th>3</th>\n",
       "      <td>0.80</td>\n",
       "      <td>1</td>\n",
       "      <td>0.20</td>\n",
       "    </tr>\n",
       "    <tr>\n",
       "      <th>4</th>\n",
       "      <td>0.79</td>\n",
       "      <td>1</td>\n",
       "      <td>0.21</td>\n",
       "    </tr>\n",
       "  </tbody>\n",
       "</table>\n",
       "</div>"
      ],
      "text/plain": [
       "   Pprob  Act_Response  Neg_Prob\n",
       "0   0.88             1      0.12\n",
       "1   0.87             0      0.13\n",
       "2   0.81             1      0.19\n",
       "3   0.80             1      0.20\n",
       "4   0.79             1      0.21"
      ]
     },
     "execution_count": 5,
     "metadata": {},
     "output_type": "execute_result"
    }
   ],
   "source": [
    "import pandas as pd\n",
    "import scikitplot as skplt\n",
    "import matplotlib.pyplot as plt\n",
    "\n",
    "df = pd.DataFrame(\n",
    "   {\"Pprob\" : [88,87,81,80,79,77,76,75,74,71,70,69,65,61,58,52,49,45,35,24,],\n",
    "    \"Act_Response\": [1,0,1,1,1,0,1,0,1,1,1,0,1,0,0,0,0,0,1,0,]\n",
    "   })\n",
    "\n",
    "df[\"Pprob\"] =  df[\"Pprob\"]/100\n",
    "df[\"Neg_Prob\"] = 1- df[\"Pprob\"]\n",
    "df.head()\n",
    "\n"
   ]
  },
  {
   "cell_type": "code",
   "execution_count": 17,
   "metadata": {},
   "outputs": [],
   "source": [
    "import numpy as np\n",
    "\n",
    "\n",
    "def cumulative_gain_curve(y_true, y_score, pos_label=None):\n",
    "\n",
    "    y_true, y_score = np.asarray(y_true), np.asarray(y_score)\n",
    "\n",
    "    # ensure binary classification if pos_label is not specified\n",
    "    classes = np.unique(y_true)\n",
    "    if (pos_label is None and\n",
    "        not (np.array_equal(classes, [0, 1]) or\n",
    "             np.array_equal(classes, [-1, 1]) or\n",
    "             np.array_equal(classes, [0]) or\n",
    "             np.array_equal(classes, [-1]) or\n",
    "             np.array_equal(classes, [1]))):\n",
    "        raise ValueError(\"Data is not binary and pos_label is not specified\")\n",
    "    elif pos_label is None:\n",
    "        pos_label = 1.\n",
    "\n",
    "    # make y_true a boolean vector\n",
    "    y_true = (y_true == pos_label)\n",
    "    #1.Sort the y_true  w.r.t y_score in decreasing order of probability.\n",
    "    sorted_indices = np.argsort(y_score)[::-1]\n",
    "    y_true = y_true[sorted_indices]\n",
    "    #2. Find the cumulative sum.\n",
    "    gains = np.cumsum(y_true)\n",
    "    percentages = np.arange(start=1, stop=len(y_true) + 1)\n",
    "    #3.Normalize it so that min value is 0 and max value is 1.\n",
    "    gains = gains / float(np.sum(y_true))\n",
    "    #4.Find the percentage of sample.\n",
    "    percentages = percentages / float(len(y_true))\n",
    "\n",
    "    gains = np.insert(gains, 0, [0])\n",
    "    percentages = np.insert(percentages, 0, [0])\n",
    "    return percentages, gains\n",
    "\n",
    "\n",
    "def plot_lift_curve(y_true, y_probas, title='Lift Curve',\n",
    "                    ax=None, figsize=None, title_fontsize=\"large\",\n",
    "                    text_fontsize=\"medium\"):\n",
    "    \"\"\"Generates the Lift Curve from labels and scores/probabilities\n",
    "    http://www2.cs.uregina.ca/~dbd/cs831/notes/lift_chart/lift_chart.html.\n",
    "    The implementation here works only for binary classification.\n",
    "    \"\"\"\n",
    "    y_true = np.array(y_true)\n",
    "    y_probas = np.array(y_probas)\n",
    "\n",
    "    classes = np.unique(y_true)\n",
    "    if len(classes) != 2:\n",
    "        raise ValueError('Cannot calculate Lift Curve for data with '\n",
    "                         '{} category/ies'.format(len(classes)))\n",
    "\n",
    "    # Compute Cumulative Gain Curves\n",
    "    #percentages, gains1 = cumulative_gain_curve(y_true, y_probas[:, 0]classes[0])\n",
    "    percentages, gains2 = cumulative_gain_curve(y_true, y_probas[:, 1],\n",
    "                                                classes[1])\n",
    "\n",
    "    percentages = percentages[1:]\n",
    "    #gains1 = gains1[1:]\n",
    "    gains2 = gains2[1:]\n",
    "    #gains1 = gains1 / percentages\n",
    "    print(\"Display_Gain \",gains2)\n",
    "    print(\"Display_percentages\",percentages)\n",
    "    gains2 = gains2 / percentages\n",
    "    print(\"Display_lift \",gains2)\n",
    "\n",
    "    if ax is None:\n",
    "        fig, ax = plt.subplots(1, 1, figsize=figsize)\n",
    "\n",
    "    ax.set_title(title, fontsize=title_fontsize)\n",
    "    ax.plot(percentages, gains2, lw=3, label='Class {}'.format(classes[1]))\n",
    "    ax.plot([0, 1], [1, 1], 'k--', lw=2, label='Baseline')\n",
    "    ax.set_xlabel('Percentage of sample', fontsize=text_fontsize)\n",
    "    ax.set_ylabel('Lift', fontsize=text_fontsize)\n",
    "    ax.tick_params(labelsize=text_fontsize)\n",
    "    ax.grid('on')\n",
    "    ax.legend(loc='lower right', fontsize=text_fontsize)\n",
    "\n",
    "    return ax"
   ]
  },
  {
   "cell_type": "code",
   "execution_count": 15,
   "metadata": {},
   "outputs": [
    {
     "name": "stdout",
     "output_type": "stream",
     "text": [
      "(21,)\n",
      "(21,)\n",
      "[0.   0.05 0.1  0.15 0.2  0.25 0.3  0.35 0.4  0.45 0.5  0.55 0.6  0.65\n",
      " 0.7  0.75 0.8  0.85 0.9  0.95 1.  ]\n",
      "[0.1 0.1 0.2 0.3 0.4 0.4 0.5 0.5 0.6 0.7 0.8 0.8 0.9 0.9 0.9 0.9 0.9 0.9\n",
      " 1.  1. ]\n",
      "[1 0 1 1 1 0 1 0 1 1 1 0 1 0 0 0 0 0 1 0]\n"
     ]
    }
   ],
   "source": [
    "percentages, gains2 = cumulative_gain_curve( df[\"Act_Response\"].values, df[[\"Neg_Prob\",\"Pprob\"]].values[:, 1],1)\n",
    "\n"
   ]
  },
  {
   "cell_type": "code",
   "execution_count": 18,
   "metadata": {},
   "outputs": [
    {
     "name": "stdout",
     "output_type": "stream",
     "text": [
      "Display_Gain  [0.1 0.1 0.2 0.3 0.4 0.4 0.5 0.5 0.6 0.7 0.8 0.8 0.9 0.9 0.9 0.9 0.9 0.9\n",
      " 1.  1. ]\n",
      "Display_percentages [0.05 0.1  0.15 0.2  0.25 0.3  0.35 0.4  0.45 0.5  0.55 0.6  0.65 0.7\n",
      " 0.75 0.8  0.85 0.9  0.95 1.  ]\n",
      "Display_lift  [2.         1.         1.33333333 1.5        1.6        1.33333333\n",
      " 1.42857143 1.25       1.33333333 1.4        1.45454545 1.33333333\n",
      " 1.38461538 1.28571429 1.2        1.125      1.05882353 1.\n",
      " 1.05263158 1.        ]\n"
     ]
    },
    {
     "data": {
      "text/plain": [
       "<AxesSubplot: title={'center': 'Lift Curve'}, xlabel='Percentage of sample', ylabel='Lift'>"
      ]
     },
     "execution_count": 18,
     "metadata": {},
     "output_type": "execute_result"
    },
    {
     "data": {
      "image/png": "[encoded data removed]",
      "text/plain": [
       "<Figure size 640x480 with 1 Axes>"
      ]
     },
     "metadata": {},
     "output_type": "display_data"
    }
   ],
   "source": [
    "plot_lift_curve(y_true =df[\"Act_Response\"].values, y_probas = df[[\"Neg_Prob\",\"Pprob\"]].values)\n"
   ]
  },
  {
   "cell_type": "code",
   "execution_count": null,
   "metadata": {},
   "outputs": [],
   "source": []
  }
 ],
 "metadata": {
  "kernelspec": {
   "display_name": "r_env",
   "language": "python",
   "name": "python3"
  },
  "language_info": {
   "codemirror_mode": {
    "name": "ipython",
    "version": 3
   },
   "file_extension": ".py",
   "mimetype": "text/x-python",
   "name": "python",
   "nbconvert_exporter": "python",
   "pygments_lexer": "ipython3",
   "version": "3.8.13"
  },
  "orig_nbformat": 4
 },
 "nbformat": 4,
 "nbformat_minor": 2
}
